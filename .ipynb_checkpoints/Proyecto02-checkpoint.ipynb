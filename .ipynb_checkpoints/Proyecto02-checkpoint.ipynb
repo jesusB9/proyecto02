{
 "cells": [
  {
   "cell_type": "markdown",
   "id": "4d8c9b0c",
   "metadata": {},
   "source": [
    "                                               PROTECTO 02"
   ]
  },
  {
   "cell_type": "code",
   "execution_count": 1,
   "id": "76d04d1f",
   "metadata": {},
   "outputs": [],
   "source": [
    "# Para iniciar siempre importamos las librerias que vamos a usar.\n",
    "import re\n",
    "from re import sub\n",
    "import pandas as pd\n",
    "import numpy as np\n",
    "import requests\n",
    "from bs4 import BeautifulSoup\n",
    "from html.parser import HTMLParser"
   ]
  },
  {
   "cell_type": "code",
   "execution_count": 2,
   "id": "fd4f7f0c",
   "metadata": {},
   "outputs": [],
   "source": [
    "# Copiamos nuetro URL y la almacenamos en una variable-\n",
    "url = 'https://www.argenprop.com/inmuebles-venta-pais-argentina'\n",
    "\n",
    "# Hacemos un request.get ala variable para que nos deje extraer su contenido total.\n",
    "resp = requests.get(url)"
   ]
  },
  {
   "cell_type": "code",
   "execution_count": 3,
   "id": "64472446",
   "metadata": {},
   "outputs": [
    {
     "data": {
      "text/plain": [
       "True"
      ]
     },
     "execution_count": 3,
     "metadata": {},
     "output_type": "execute_result"
    }
   ],
   "source": [
    "# Con el .ok se lo hacemos ala variable donde guardamos la URL ya con el request, para verificar que la pagina funciona bien.\n",
    "resp.ok"
   ]
  },
  {
   "cell_type": "code",
   "execution_count": 4,
   "id": "1c58097d",
   "metadata": {},
   "outputs": [
    {
     "data": {
      "text/plain": [
       "200"
      ]
     },
     "execution_count": 4,
     "metadata": {},
     "output_type": "execute_result"
    }
   ],
   "source": [
    "# Otra forma de verificar que la pagina esta funcionanco bien y podemios extraer informacion.\n",
    "resp.status_code"
   ]
  },
  {
   "cell_type": "code",
   "execution_count": 5,
   "id": "ebb2b46d",
   "metadata": {},
   "outputs": [],
   "source": [
    "urlListadoPlantilla = \"https://www.argenprop.com/inmuebles-venta-pais-argentina-pagina-1\""
   ]
  },
  {
   "cell_type": "code",
   "execution_count": 6,
   "id": "12d6b634",
   "metadata": {
    "scrolled": true
   },
   "outputs": [
    {
     "name": "stdout",
     "output_type": "stream",
     "text": [
      "https://www.argenprop.com/inmuebles-venta-pais-argentina-pagina-1\n",
      "https://www.argenprop.com/inmuebles-venta-pais-argentina-pagina-2\n",
      "https://www.argenprop.com/inmuebles-venta-pais-argentina-pagina-3\n",
      "https://www.argenprop.com/inmuebles-venta-pais-argentina-pagina-4\n",
      "https://www.argenprop.com/inmuebles-venta-pais-argentina-pagina-5\n",
      "https://www.argenprop.com/inmuebles-venta-pais-argentina-pagina-6\n",
      "https://www.argenprop.com/inmuebles-venta-pais-argentina-pagina-7\n",
      "https://www.argenprop.com/inmuebles-venta-pais-argentina-pagina-8\n",
      "https://www.argenprop.com/inmuebles-venta-pais-argentina-pagina-9\n",
      "https://www.argenprop.com/inmuebles-venta-pais-argentina-pagina-10\n"
     ]
    }
   ],
   "source": [
    "#Hacemos un ciclo FOR de las 10 primeras paginas paara que nos las devuleva.\n",
    "#la almacenamos en una variable nuestras paginas\n",
    "listaPaginas = []\n",
    "for i in [1,2,3,4,5,6,7,8,9,10]:\n",
    "    urlListado = urlListadoPlantilla.replace(\"1\", str(i))\n",
    "    listaPaginas.append(urlListado)\n",
    "    print(urlListado)"
   ]
  },
  {
   "cell_type": "code",
   "execution_count": 130,
   "id": "c423c871",
   "metadata": {},
   "outputs": [
    {
     "data": {
      "text/plain": [
       "['https://www.argenprop.com/inmuebles-venta-pais-argentina-pagina-1',\n",
       " 'https://www.argenprop.com/inmuebles-venta-pais-argentina-pagina-2',\n",
       " 'https://www.argenprop.com/inmuebles-venta-pais-argentina-pagina-3',\n",
       " 'https://www.argenprop.com/inmuebles-venta-pais-argentina-pagina-4',\n",
       " 'https://www.argenprop.com/inmuebles-venta-pais-argentina-pagina-5',\n",
       " 'https://www.argenprop.com/inmuebles-venta-pais-argentina-pagina-6',\n",
       " 'https://www.argenprop.com/inmuebles-venta-pais-argentina-pagina-7',\n",
       " 'https://www.argenprop.com/inmuebles-venta-pais-argentina-pagina-8',\n",
       " 'https://www.argenprop.com/inmuebles-venta-pais-argentina-pagina-9',\n",
       " 'https://www.argenprop.com/inmuebles-venta-pais-argentina-pagina-10']"
      ]
     },
     "execution_count": 130,
     "metadata": {},
     "output_type": "execute_result"
    }
   ],
   "source": [
    "listaPaginas"
   ]
  },
  {
   "cell_type": "code",
   "execution_count": 8,
   "id": "f273a373",
   "metadata": {},
   "outputs": [],
   "source": [
    "# PRIMERO creamos una funcion que de las 10 primeras paginas de la inmobiliaria que pedimos, nos extraiga todas las urls de los \n",
    "#  nos extraiga todas las urls de los  inmuebles\n",
    "def conjuntoPaginas(listaPaginas):\n",
    "    \n",
    "    urls = []\n",
    "    for url in listaPaginas:\n",
    "        #print(\"pidiendo abrir url: \", url)\n",
    "        # hacemos un requests.get al url1(pagina1) para poder extraer todos los url de los inmuebles.\n",
    "        resp = requests.get(url)\n",
    "        \n",
    "        # usando BeautifulSoup ala resp1 para ver su contenido en html \n",
    "        soup = BeautifulSoup(resp.content, 'html.parser')\n",
    "        \n",
    "        # hacemos un find.all a la variable SOUP1 y le pedimos la etiqueta \"A\", que es la que tiene los url que nos interesan.\n",
    "        links = soup.find_all('a')\n",
    "        \n",
    "        # hacemo un FOR pidiendole que nos de los URLS de solamente los inmuebles y nos los guarde en una variable.\n",
    "        \n",
    "        for link in links:\n",
    "            if link.get('href')[0:5]==\"/depa\" or link.get('href')[0:5]==\"/casa\":\n",
    "                #print(\"añadiendo enlace: \", link.get('href'))\n",
    "                urls.append(\"https://www.argenprop.com\" + link.get(\"href\"))\n",
    "      \n",
    "    \n",
    "    return urls\n",
    "        "
   ]
  },
  {
   "cell_type": "code",
   "execution_count": 9,
   "id": "f79ae0c7",
   "metadata": {},
   "outputs": [],
   "source": [
    "# llamamos nuestra funcion y la guardamos en una variable\n",
    "totalPaginas = conjuntoPaginas(listaPaginas)"
   ]
  },
  {
   "cell_type": "code",
   "execution_count": 10,
   "id": "6fa6be4e",
   "metadata": {},
   "outputs": [
    {
     "name": "stdout",
     "output_type": "stream",
     "text": [
      "200\n"
     ]
    }
   ],
   "source": [
    "# hacemos un PRINT ( LEN ) de la variable donde guardamos la funcion para saber cuantos url de inmuebles hay\n",
    "print(len(totalPaginas))"
   ]
  },
  {
   "cell_type": "markdown",
   "id": "2dd7b957",
   "metadata": {},
   "source": [
    "AHORA EMPEZAREMOS CON LA CREACION DE FUNCIONES PARA EXTRAER TODOS LOS INMUBELES Y EXTRAER LOS VALORES DE ELLOS QUE NECESITAMOS"
   ]
  },
  {
   "cell_type": "code",
   "execution_count": 57,
   "id": "2d9da2f2",
   "metadata": {},
   "outputs": [],
   "source": [
    "# creamos una funcion para extraer el numero especifico de ciertos campos que necesitamos.\n",
    "# le pedimos ala funcion que al pasarle los dos parametros de la ExpRegular que le pedimos y la variable donde esta el text,\n",
    "# si hace lo que le pedimos nos de su valor, de lo contrario si nos devuelva un 0\n",
    "def valorNumerico(regEx, text):\n",
    "    listaResultados = re.findall(regEx, text)\n",
    "    if len(listaResultados) == 1:\n",
    "        resultado = listaResultados[0]\n",
    "    else:\n",
    "        resultado = 0\n",
    "    \n",
    "    return resultado"
   ]
  },
  {
   "cell_type": "code",
   "execution_count": 125,
   "id": "a860c524",
   "metadata": {},
   "outputs": [],
   "source": [
    "# creamos una funcion que nos estraiga los valores \n",
    "\n",
    "def extraccion(url):\n",
    "    print(\"url: \", url)\n",
    "    respDes = requests.get(url)\n",
    "    soupDes = BeautifulSoup(respDes.content, 'html.parser')\n",
    "    datosInmueble = soupDes.findAll('p', {'class':'strong'})\n",
    "    precio = soupDes.find('p', {'class':'titlebar__price'})\n",
    "    barrio = soupDes.find('h2', {'class':'titlebar__title'})\n",
    "    \n",
    "    # Hacemos un for de dato ala variable datosInmuebles y hacemos un appened a una variable vacia para que nos los asigne. \n",
    "    matches = []\n",
    "    for dato in datosInmueble:\n",
    "        matches.append(dato.text)\n",
    "    # verificacion de longitud de datos para evitar error en inmuebles con pocos datos   \n",
    "    if len(matches) < 7:\n",
    "        print(\"Numero de datos encontrados, distintos a los que esperamos: \", len(matches))\n",
    "        return[0, 0, 0, 0, 0]\n",
    "        \n",
    "   \n",
    "    # Hacemos un re.findall para extraer los METROS CUBIERTOS del inmueble, en la variable matches.    \n",
    "    metrosCubiertos = valorNumerico(\"([0-9]+)\\s\", matches[0])\n",
    " \n",
    "    # Hacemos un re.findall para extraer los DORMITORIOS del inmueble, en la variable matches.\n",
    "    dormitorios = valorNumerico(\"(.?)\\s*d\",matches[3]) \n",
    "    \n",
    "    # Hacemos un re.findall para extraer los AÑOS DE ANTIGUDAD del inmubele, en la variable matches.\n",
    "    antiguedad = valorNumerico(\"([0-9]+?)\\s\",matches[4])\n",
    "    \n",
    "    # Hacemos un re.findall para extraer los BAÑOS que tiene el inmubele, en la variable matches.\n",
    "    toilets = valorNumerico(\"([0-9])\\s\",matches[7])\n",
    "   \n",
    "    \n",
    "    # Hacemos un .text en la variable precio para que nos de solamente el texto que contiene y nos elimine las eiquetas.    \n",
    "    precio = precio.text\n",
    "    # Hacemos un re.findall ala variable price para que nos eliomine los caracteeres innecesarios. \n",
    "    number = re.findall(\"([0-9].+?)\\n\", precio)\n",
    "    if len(number) == 1:\n",
    "        price = number[0]\n",
    "        #hacemos un RE.SUB en el valor que nos da, para remplazar que nos quite el (.)\n",
    "        price = re.sub(\"\\.\" , \"\" , price)\n",
    "    \n",
    "    else: \n",
    "        price = 0\n",
    "    \n",
    "    # Pedimos un return de nuestra funcion de las variables que queremos ver.     \n",
    "    return [int(price), int(metrosCubiertos), int(dormitorios), int(antiguedad), int(toilets)]\n",
    "    \n"
   ]
  },
  {
   "cell_type": "code",
   "execution_count": 121,
   "id": "65ba2291",
   "metadata": {},
   "outputs": [
    {
     "name": "stdout",
     "output_type": "stream",
     "text": [
      "url:  https://www.argenprop.com/departamento-en-venta-en-palermo--5115544\n",
      "[135000, 36, 1, 1, 0]\n"
     ]
    }
   ],
   "source": [
    "# Hacemos un llamado de prueba de la funcion.\n",
    "url = \"https://www.argenprop.com/departamento-en-venta-en-palermo--5115544\"\n",
    "print(extraccion(url))"
   ]
  },
  {
   "cell_type": "code",
   "execution_count": 128,
   "id": "4dbb9518",
   "metadata": {},
   "outputs": [
    {
     "name": "stdout",
     "output_type": "stream",
     "text": [
      "url:  https://www.argenprop.com/departamento-en-venta-en-palermo-chico-2-ambientes--8279587\n",
      "url:  https://www.argenprop.com/departamento-en-venta-en-palermo-soho-3-ambientes--11548671\n",
      "url:  https://www.argenprop.com/departamento-en-venta-en-palermo-chico-4-ambientes--11662646\n",
      "url:  https://www.argenprop.com/departamento-en-venta-en-botanico-5-ambientes--11676949\n",
      "url:  https://www.argenprop.com/departamento-en-venta-en-palermo-chico-3-ambientes--11969211\n",
      "url:  https://www.argenprop.com/departamento-en-venta-en-palermo-hollywood-4-ambientes--12071698\n",
      "url:  https://www.argenprop.com/departamento-en-venta-en-palermo-3-ambientes--12102462\n",
      "url:  https://www.argenprop.com/departamento-en-venta-en-botanico-1-ambiente--11841548\n",
      "url:  https://www.argenprop.com/departamento-en-venta-en-palermo-hollywood-3-ambientes--11417278\n",
      "url:  https://www.argenprop.com/departamento-en-venta-en-palermo-hollywood-2-ambientes--8169397\n",
      "url:  https://www.argenprop.com/departamento-en-venta-en-palermo-4-ambientes--7655101\n",
      "url:  https://www.argenprop.com/departamento-en-venta-en-palermo-1-ambiente--11949658\n",
      "url:  https://www.argenprop.com/departamento-en-venta-en-botanico-2-ambientes--12015759\n",
      "url:  https://www.argenprop.com/departamento-en-venta-en-belgrano-c-3-ambientes--9774306\n",
      "url:  https://www.argenprop.com/departamento-en-venta-en-belgrano-4-ambientes--11726608\n",
      "url:  https://www.argenprop.com/departamento-en-venta-en-belgrano-2-ambientes--9047196\n",
      "url:  https://www.argenprop.com/departamento-en-venta-en-botanico-2-ambientes--11445121\n",
      "url:  https://www.argenprop.com/departamento-en-venta-en-palermo-4-ambientes--12019296\n",
      "url:  https://www.argenprop.com/departamento-en-venta-en-palermo-nuevo-4-ambientes--12122966\n",
      "url:  https://www.argenprop.com/departamento-en-venta-en-palermo-chico-3-ambientes--12124269\n",
      "url:  https://www.argenprop.com/departamento-en-venta-en-belgrano-3-ambientes--8990909\n",
      "url:  https://www.argenprop.com/departamento-en-venta-en-botanico-5-ambientes--11957659\n",
      "url:  https://www.argenprop.com/departamento-en-venta-en-palermo-chico-5-ambientes--7621570\n",
      "url:  https://www.argenprop.com/departamento-en-venta-en-recoleta-5-ambientes--9875493\n",
      "url:  https://www.argenprop.com/departamento-en-venta-en-recoleta-3-ambientes--9053055\n",
      "url:  https://www.argenprop.com/departamento-en-venta-en-recoleta-2-ambientes--11647271\n",
      "url:  https://www.argenprop.com/departamento-en-venta-en-recoleta-3-ambientes--11561627\n",
      "url:  https://www.argenprop.com/departamento-en-venta-en-recoleta-3-ambientes--11528192\n",
      "url:  https://www.argenprop.com/departamento-en-venta-en-recoleta-3-ambientes--11927770\n",
      "url:  https://www.argenprop.com/departamento-en-venta-en-parque-las-heras-4-ambientes--11754880\n",
      "url:  https://www.argenprop.com/departamento-en-venta-en-recoleta-3-ambientes--8041453\n",
      "url:  https://www.argenprop.com/departamento-en-venta-en-recoleta-4-ambientes--12016174\n",
      "url:  https://www.argenprop.com/departamento-en-venta-en-botanico-4-ambientes--11952358\n",
      "url:  https://www.argenprop.com/departamento-en-venta-en-palermo-hollywood-1-ambiente--11687423\n",
      "url:  https://www.argenprop.com/departamento-en-venta-en-recoleta-4-ambientes--11912042\n",
      "url:  https://www.argenprop.com/departamento-en-venta-en-belgrano-3-ambientes--12096686\n",
      "url:  https://www.argenprop.com/departamento-en-venta-en-recoleta-3-ambientes--9166101\n",
      "url:  https://www.argenprop.com/departamento-en-venta-en-palermo-hollywood-1-ambiente--11771703\n",
      "url:  https://www.argenprop.com/departamento-en-venta-en-botanico-2-ambientes--6734548\n",
      "url:  https://www.argenprop.com/departamento-en-venta-en-palermo-2-ambientes--11356874\n",
      "url:  https://www.argenprop.com/departamento-en-venta-en-recoleta-2-ambientes--11912110\n",
      "url:  https://www.argenprop.com/departamento-en-venta-en-palermo-2-ambientes--10871877\n",
      "url:  https://www.argenprop.com/departamento-en-venta-en-belgrano-barrancas-5-ambientes--12116049\n",
      "url:  https://www.argenprop.com/departamento-en-venta-en-belgrano-1-ambiente--11356330\n",
      "Numero de datos encontrados, distintos a los que esperamos:  6\n",
      "url:  https://www.argenprop.com/departamento-en-venta-en-villa-del-parque-4-ambientes--11724851\n",
      "url:  https://www.argenprop.com/departamento-en-venta-en-villa-del-parque-3-ambientes--12034043\n",
      "url:  https://www.argenprop.com/departamento-en-venta-en-belgrano-c-1-ambiente--11924101\n",
      "url:  https://www.argenprop.com/departamento-en-venta-en-caballito-3-ambientes--11674897\n",
      "url:  https://www.argenprop.com/departamento-en-venta-en-caballito-3-ambientes--12113273\n",
      "url:  https://www.argenprop.com/departamento-en-venta-en-parque-rivadavia-4-ambientes--11646510\n",
      "url:  https://www.argenprop.com/departamento-en-venta-en-caballito-2-ambientes--12052905\n",
      "url:  https://www.argenprop.com/departamento-en-venta-en-caballito-4-ambientes--12130194\n",
      "url:  https://www.argenprop.com/departamento-en-venta-en-parque-rivadavia-3-ambientes--11984748\n",
      "url:  https://www.argenprop.com/departamento-en-venta-en-caballito-3-ambientes--11703424\n",
      "url:  https://www.argenprop.com/departamento-en-venta-en-caballito-3-ambientes--12114889\n",
      "url:  https://www.argenprop.com/departamento-en-venta-en-caballito-2-ambientes--12094290\n",
      "url:  https://www.argenprop.com/departamento-en-venta-en-caballito-2-ambientes--11235280\n",
      "url:  https://www.argenprop.com/departamento-en-venta-en-caballito-2-ambientes--11818518\n",
      "url:  https://www.argenprop.com/departamento-en-venta-en-caballito-3-ambientes--12034202\n",
      "url:  https://www.argenprop.com/departamento-en-venta-en-caballito-4-ambientes--12037853\n",
      "url:  https://www.argenprop.com/departamento-en-venta-en-villa-del-parque-3-ambientes--11969630\n",
      "url:  https://www.argenprop.com/departamento-en-venta-en-caballito-2-ambientes--11561754\n",
      "url:  https://www.argenprop.com/departamento-en-venta-en-belgrano-3-ambientes--11716276\n",
      "url:  https://www.argenprop.com/departamento-en-venta-en-belgrano-4-ambientes--12011233\n",
      "url:  https://www.argenprop.com/departamento-en-venta-en-caballito-5-ambientes--7368194\n",
      "url:  https://www.argenprop.com/departamento-en-venta-en-villa-devoto-4-ambientes--12082104\n",
      "url:  https://www.argenprop.com/departamento-en-venta-en-villa-devoto-6-ambientes--11992150\n",
      "url:  https://www.argenprop.com/departamento-en-venta-en-villa-devoto-4-ambientes--11697676\n",
      "url:  https://www.argenprop.com/departamento-en-venta-en-villa-devoto-3-ambientes--11323101\n",
      "url:  https://www.argenprop.com/departamento-en-venta-en-villa-urquiza-6-ambientes--11934311\n",
      "url:  https://www.argenprop.com/departamento-en-venta-en-villa-devoto-5-ambientes--11067364\n",
      "url:  https://www.argenprop.com/departamento-en-venta-en-villa-devoto-4-ambientes--9041081\n",
      "url:  https://www.argenprop.com/departamento-en-venta-en-villa-urquiza-1-ambiente--11931758\n",
      "url:  https://www.argenprop.com/departamento-en-venta-en-palermo--5115544\n",
      "url:  https://www.argenprop.com/departamento-en-venta-en-caballito-2-ambientes--9044629\n",
      "url:  https://www.argenprop.com/departamento-en-venta-en-villa-devoto-4-ambientes--10254702\n",
      "url:  https://www.argenprop.com/departamento-en-venta-en-villa-devoto-3-ambientes--7969618\n",
      "url:  https://www.argenprop.com/departamento-en-venta-en-belgrano-2-ambientes--10798983\n",
      "url:  https://www.argenprop.com/casa-en-venta-en-pilar-del-este-santa-elena-4-ambientes--11928857\n",
      "url:  https://www.argenprop.com/departamento-en-venta-en-belgrano-3-ambientes--12114644\n",
      "url:  https://www.argenprop.com/casa-en-venta-en-pilar-del-este-santa-elena-4-ambientes--11931983\n",
      "url:  https://www.argenprop.com/casa-en-venta-en-boca-raton-4-ambientes--11873755\n",
      "url:  https://www.argenprop.com/casa-en-venta-en-la-delfina-5-ambientes--11768940\n",
      "url:  https://www.argenprop.com/departamento-en-venta-en-belgrano-4-ambientes--11990273\n",
      "url:  https://www.argenprop.com/departamento-en-venta-en-belgrano-1-ambiente--10420992\n",
      "url:  https://www.argenprop.com/departamento-en-venta-en-recoleta-2-ambientes--11461173\n",
      "url:  https://www.argenprop.com/departamento-en-venta-en-recoleta-1-ambiente--12082688\n",
      "url:  https://www.argenprop.com/departamento-en-venta-en-belgrano-4-ambientes--12038931\n",
      "url:  https://www.argenprop.com/departamento-en-venta-en-recoleta-3-ambientes--11941424\n",
      "url:  https://www.argenprop.com/casa-en-venta-en-bermudas-5-ambientes--12079719\n",
      "url:  https://www.argenprop.com/departamento-en-venta-en-belgrano-3-ambientes--12132136\n"
     ]
    },
    {
     "name": "stdout",
     "output_type": "stream",
     "text": [
      "url:  https://www.argenprop.com/casa-en-venta-en-pilar-del-este-4-ambientes--10620519\n",
      "url:  https://www.argenprop.com/departamento-en-venta-en-belgrano-4-ambientes--12056370\n",
      "url:  https://www.argenprop.com/casa-en-venta-en-santo-tomas-4-ambientes--11604351\n",
      "url:  https://www.argenprop.com/casa-en-venta-en-pilar-del-este-4-ambientes--11599603\n",
      "url:  https://www.argenprop.com/casa-en-venta-en-pilar-del-este-4-ambientes--11944920\n",
      "url:  https://www.argenprop.com/casa-en-venta-en-pilar-del-este-4-ambientes--10849888\n",
      "url:  https://www.argenprop.com/casa-en-venta-en-club-de-campo-la-emilia-5-ambientes--11500446\n",
      "url:  https://www.argenprop.com/casa-en-venta-en-la-canada-de-pilar-4-ambientes--11468178\n",
      "url:  https://www.argenprop.com/casa-en-venta-en-pilar-del-este-5-ambientes--11343494\n",
      "url:  https://www.argenprop.com/casa-en-venta-en-el-mirasol-5-ambientes--11421676\n",
      "url:  https://www.argenprop.com/casa-en-venta-en-la-lomada-de-pilar-5-ambientes--11945014\n",
      "url:  https://www.argenprop.com/casa-en-venta-en-la-lomada-de-pilar-6-ambientes--11071295\n",
      "url:  https://www.argenprop.com/casa-en-venta-en-la-lomada-de-pilar-6-ambientes--11977408\n",
      "url:  https://www.argenprop.com/casa-en-venta-en-campo-grande-6-ambientes--11190029\n",
      "url:  https://www.argenprop.com/casa-en-venta-en-los-alcanfores-4-ambientes--11137397\n",
      "url:  https://www.argenprop.com/departamento-en-venta-en-villa-devoto-2-ambientes--12034377\n",
      "url:  https://www.argenprop.com/casa-en-venta-en-olivos-golf-3-ambientes--11982547\n",
      "url:  https://www.argenprop.com/casa-en-venta-en-olivos-maipu-uzal-4-ambientes--10873066\n",
      "url:  https://www.argenprop.com/casa-en-venta-en-olivos-golf-6-ambientes--12024906\n",
      "url:  https://www.argenprop.com/casa-en-venta-en-olivos-maipu-uzal-4-ambientes--11433966\n",
      "url:  https://www.argenprop.com/casa-en-venta-en-olivos-roche-6-ambientes--11565083\n",
      "url:  https://www.argenprop.com/casa-en-venta-en-olivos-4-ambientes--11636434\n",
      "url:  https://www.argenprop.com/casa-en-venta-en-olivos-roche-6-ambientes--11364288\n",
      "url:  https://www.argenprop.com/casa-en-venta-en-olivos-4-ambientes--12129927\n",
      "url:  https://www.argenprop.com/casa-en-venta-en-olivos-6-ambientes--12066548\n",
      "url:  https://www.argenprop.com/departamento-en-venta-en-villa-crespo-4-ambientes--11589436\n",
      "url:  https://www.argenprop.com/departamento-en-venta-en-villa-crespo-4-ambientes--12093081\n",
      "url:  https://www.argenprop.com/departamento-en-venta-en-villa-crespo-3-ambientes--11967905\n",
      "url:  https://www.argenprop.com/casa-en-venta-en-olivos-maipu-uzal-5-ambientes--11724428\n",
      "url:  https://www.argenprop.com/departamento-en-venta-en-palermo-chico-4-ambientes--11294225\n",
      "url:  https://www.argenprop.com/casa-en-venta-en-olivos-4-ambientes--9019442\n",
      "url:  https://www.argenprop.com/casa-en-venta-en-olivos-4-ambientes--11662678\n",
      "url:  https://www.argenprop.com/casa-en-venta-en-olivos-3-ambientes--11662672\n",
      "url:  https://www.argenprop.com/departamento-en-venta-en-palermo-soho-3-ambientes--9990846\n",
      "url:  https://www.argenprop.com/casa-en-venta-en-olivos-4-ambientes--11603298\n",
      "url:  https://www.argenprop.com/casa-en-venta-en-olivos-maipu-uzal-4-ambientes--11851541\n",
      "url:  https://www.argenprop.com/casa-en-venta-en-olivos-roche-4-ambientes--8634878\n",
      "url:  https://www.argenprop.com/departamento-en-venta-en-urquiza-r-4-ambientes--11291849\n",
      "url:  https://www.argenprop.com/departamento-en-venta-en-villa-urquiza-4-ambientes--11950140\n",
      "url:  https://www.argenprop.com/departamento-en-venta-en-belgrano-r-3-ambientes--11686579\n",
      "url:  https://www.argenprop.com/departamento-en-venta-en-belgrano-2-ambientes--10751920\n",
      "url:  https://www.argenprop.com/departamento-en-venta-en-belgrano-r-2-ambientes--12039051\n",
      "url:  https://www.argenprop.com/departamento-en-venta-en-villa-crespo-2-ambientes--10784715\n",
      "url:  https://www.argenprop.com/departamento-en-venta-en-belgrano-2-ambientes--11794055\n",
      "url:  https://www.argenprop.com/casa-en-venta-en-club-de-campo-pueyrredon-5-ambientes--11991677\n",
      "url:  https://www.argenprop.com/casa-en-venta-en-club-de-campo-la-emilia-4-ambientes--11488543\n",
      "url:  https://www.argenprop.com/casa-en-venta-en-sausalito-5-ambientes--11137227\n",
      "url:  https://www.argenprop.com/departamento-en-venta-en-palermo-2-ambientes--10869237\n",
      "url:  https://www.argenprop.com/departamento-en-venta-en-rosario-4-ambientes--11581919\n",
      "url:  https://www.argenprop.com/departamento-en-venta-en-centro-2-ambientes--8416027\n",
      "url:  https://www.argenprop.com/departamento-en-venta-en-rosario-2-ambientes--8057517\n",
      "url:  https://www.argenprop.com/departamento-en-venta-en-abasto-1-ambiente--11879844\n",
      "url:  https://www.argenprop.com/departamento-en-venta-en-centro-2-ambientes--11362460\n",
      "url:  https://www.argenprop.com/departamento-en-venta-en-abasto-2-ambientes--12068958\n",
      "url:  https://www.argenprop.com/departamento-en-venta-en-centro-6-ambientes--11727777\n",
      "url:  https://www.argenprop.com/departamento-en-venta-en-centro--6586397\n",
      "url:  https://www.argenprop.com/departamento-en-venta-en-las-canitas-4-ambientes--11928368\n",
      "url:  https://www.argenprop.com/departamento-en-venta-en-martin-5-ambientes--11139047\n",
      "url:  https://www.argenprop.com/departamento-en-venta-en-luis-agote-2-ambientes--8845197\n",
      "url:  https://www.argenprop.com/casa-en-venta-en-los-laureles-8-ambientes--11457793\n",
      "url:  https://www.argenprop.com/departamento-en-venta-en-centro-5-ambientes--11137183\n",
      "url:  https://www.argenprop.com/departamento-en-venta-en-villa-crespo-3-ambientes--8371278\n",
      "url:  https://www.argenprop.com/departamento-en-venta-en-belgrano-3-ambientes--11772165\n",
      "url:  https://www.argenprop.com/departamento-en-venta-en-belgrano-2-ambientes--10926395\n",
      "url:  https://www.argenprop.com/departamento-en-venta-en-palermo-3-ambientes--12114745\n",
      "url:  https://www.argenprop.com/departamento-en-venta-en-villa-devoto-4-ambientes--10944990\n",
      "url:  https://www.argenprop.com/departamento-en-venta-en-palermo-2-ambientes--12091395\n",
      "url:  https://www.argenprop.com/departamento-en-venta-en-villa-devoto-3-ambientes--11922483\n",
      "url:  https://www.argenprop.com/departamento-en-venta-en-villa-devoto-6-ambientes--11772155\n",
      "url:  https://www.argenprop.com/departamento-en-venta-en-villa-devoto-3-ambientes--11350151\n",
      "url:  https://www.argenprop.com/departamento-en-venta-en-villa-devoto-3-ambientes--12050626\n",
      "url:  https://www.argenprop.com/departamento-en-venta-en-villa-devoto-4-ambientes--11702264\n",
      "url:  https://www.argenprop.com/departamento-en-venta-en-olivos-vias-maipu-5-ambientes--12016448\n",
      "url:  https://www.argenprop.com/departamento-en-venta-en-olivos-maipu-uzal-3-ambientes--10905776\n",
      "url:  https://www.argenprop.com/departamento-en-venta-en-olivos-maipu-uzal-4-ambientes--11979606\n",
      "url:  https://www.argenprop.com/departamento-en-venta-en-olivos-maipu-uzal-4-ambientes--11421269\n",
      "url:  https://www.argenprop.com/departamento-en-venta-en-olivos-2-ambientes--12077900\n",
      "url:  https://www.argenprop.com/departamento-en-venta-en-olivos-5-ambientes--11613287\n",
      "url:  https://www.argenprop.com/departamento-en-venta-en-olivos-3-ambientes--8500335\n",
      "url:  https://www.argenprop.com/casa-en-venta-en-olivos-5-ambientes--11605740\n",
      "url:  https://www.argenprop.com/departamento-en-venta-en-olivos-vias-maipu-2-ambientes--11335671\n",
      "url:  https://www.argenprop.com/departamento-en-venta-en-olivos-3-ambientes--11969608\n",
      "url:  https://www.argenprop.com/casa-en-venta-en-olivos-golf-4-ambientes--7895457\n",
      "url:  https://www.argenprop.com/departamento-en-venta-en-olivos-maipu-uzal-7-ambientes--11553153\n",
      "url:  https://www.argenprop.com/departamento-en-venta-en-olivos-maipu-uzal-2-ambientes--11016627\n",
      "url:  https://www.argenprop.com/casa-en-venta-en-olivos-maipu-uzal-4-ambientes--8092906\n",
      "url:  https://www.argenprop.com/casa-en-venta-en-olivos-maipu-uzal-3-ambientes--11691511\n",
      "url:  https://www.argenprop.com/casa-en-venta-en-olivos-maipu-uzal-3-ambientes--11614027\n",
      "url:  https://www.argenprop.com/departamento-en-venta-en-olivos-2-ambientes--11662764\n",
      "url:  https://www.argenprop.com/departamento-en-venta-en-villa-devoto-4-ambientes--11881972\n",
      "url:  https://www.argenprop.com/departamento-en-venta-en-villa-crespo-2-ambientes--11946461\n",
      "url:  https://www.argenprop.com/departamento-en-venta-en-recoleta-4-ambientes--11809445\n",
      "url:  https://www.argenprop.com/departamento-en-venta-en-villa-crespo-2-ambientes--8201979\n",
      "url:  https://www.argenprop.com/casa-en-venta-en-olivos-maipu-uzal-5-ambientes--10935370\n"
     ]
    },
    {
     "name": "stdout",
     "output_type": "stream",
     "text": [
      "url:  https://www.argenprop.com/casa-en-venta-en-olivos-5-ambientes--11546029\n",
      "url:  https://www.argenprop.com/casa-en-venta-en-olivos-5-ambientes--9033452\n",
      "url:  https://www.argenprop.com/casa-en-venta-en-olivos-roche-4-ambientes--11341447\n",
      "url:  https://www.argenprop.com/casa-en-venta-en-olivos-maipu-uzal-6-ambientes--10393940\n",
      "url:  https://www.argenprop.com/casa-en-venta-en-olivos-roche-5-ambientes--7895188\n",
      "url:  https://www.argenprop.com/casa-en-venta-en-olivos-rugby-3-ambientes--11614568\n",
      "url:  https://www.argenprop.com/casa-en-venta-en-olivos-golf-6-ambientes--9037541\n",
      "url:  https://www.argenprop.com/departamento-en-venta-en-villa-crespo-2-ambientes--12032105\n",
      "url:  https://www.argenprop.com/casa-en-venta-en-olivos-maipu-uzal-3-ambientes--7895250\n",
      "url:  https://www.argenprop.com/casa-en-venta-en-olivos-maipu-uzal-3-ambientes--11656659\n",
      "url:  https://www.argenprop.com/departamento-en-venta-en-barrio-norte-4-ambientes--12091266\n",
      "url:  https://www.argenprop.com/departamento-en-venta-en-barrio-norte-2-ambientes--12091125\n",
      "url:  https://www.argenprop.com/departamento-en-venta-en-barrio-norte-3-ambientes--12091196\n",
      "url:  https://www.argenprop.com/departamento-en-venta-en-barrio-norte-2-ambientes--12099491\n",
      "url:  https://www.argenprop.com/departamento-en-venta-en-palermo-hollywood-3-ambientes--11691311\n",
      "[[85000, 35, 1, 40, 1], [330000, 75, 2, 2, 3], [215000, 95, 3, 40, 2], [295000, 165, 4, 40, 4], [615000, 140, 2, 15, 2], [235000, 150, 3, 30, 2], [240000, 65, 2, 10, 1], [118000, 45, 0, 0, 1], [288000, 140, 2, 10, 2], [145000, 50, 1, 7, 2], [330000, 106, 3, 15, 3], [80000, 33, 0, 0, 1], [165000, 59, 1, 28, 1], [132000, 55, 2, 1, 3], [470000, 140, 3, 8, 2], [105000, 46, 1, 1, 2], [79000, 37, 1, 40, 1], [245000, 110, 3, 30, 3], [179000, 80, 3, 60, 1], [225000, 75, 2, 45, 1], [145000, 67, 2, 20, 1], [238000, 102, 3, 40, 2], [1950000, 407, 4, 26, 4], [575000, 275, 3, 4, 5], [120000, 60, 2, 1, 3], [83000, 45, 1, 40, 1], [250000, 90, 2, 100, 3], [215000, 150, 2, 3, 3], [150000, 60, 2, 30, 1], [232000, 85, 2, 35, 2], [199000, 78, 2, 40, 2], [159900, 68, 3, 60, 1], [328000, 89, 3, 40, 2], [65000, 24, 0, 1, 1], [160000, 80, 2, 2, 4], [197000, 88, 2, 45, 3], [192500, 68, 2, 70, 1], [99000, 36, 0, 6, 1], [147999, 48, 1, 1, 1], [124999, 39, 1, 0, 1], [115000, 52, 1, 1, 2], [65000, 34, 1, 24, 1], [275000, 100, 4, 45, 3], [0, 0, 0, 0, 0], [290000, 91, 3, 0, 2], [127000, 64, 2, 1, 2], [66000, 28, 0, 1, 1], [58000, 50, 2, 40, 1], [189000, 95, 2, 10, 1], [179000, 95, 2, 58, 1], [69500, 41, 1, 40, 1], [398000, 157, 3, 0, 4], [155000, 76, 2, 70, 1], [149000, 79, 2, 45, 1], [129000, 55, 2, 14, 1], [99000, 39, 1, 9, 1], [118000, 40, 1, 15, 1], [87000, 45, 1, 0, 1], [109000, 67, 2, 45, 1], [135000, 85, 3, 40, 2], [150000, 64, 2, 0, 2], [122000, 46, 1, 0, 1], [139000, 49, 2, 35, 1], [165000, 66, 3, 42, 1], [850000, 265, 4, 1, 5], [315000, 140, 3, 30, 3], [720000, 226, 4, 0, 3], [0, 200, 3, 30, 3], [380000, 86, 2, 0, 1], [300000, 270, 4, 30, 2], [680000, 191, 4, 25, 4], [595000, 238, 3, 2, 2], [98000, 36, 0, 0, 1], [135000, 36, 1, 1, 0], [89710, 41, 1, 0, 1], [0, 543, 3, 0, 3], [198000, 66, 2, 9, 2], [85000, 40, 1, 40, 1], [162000, 110, 3, 0, 2], [0, 59, 2, 45, 2], [155000, 120, 3, 1, 2], [179500, 180, 3, 15, 3], [460000, 283, 4, 10, 3], [179000, 77, 3, 40, 1], [67000, 29, 0, 49, 1], [108000, 31, 1, 45, 1], [45000, 20, 0, 1, 1], [250000, 82, 3, 50, 3], [140000, 53, 2, 40, 1], [210000, 183, 3, 20, 2], [125000, 61, 2, 55, 1], [165000, 138, 3, 0, 2], [215000, 80, 3, 23, 2], [219000, 174, 3, 0, 3], [155000, 124, 3, 0, 2], [157000, 146, 3, 1, 2], [180000, 132, 3, 0, 2], [180000, 180, 4, 8, 3], [185000, 120, 3, 1, 2], [194000, 150, 3, 0, 2], [195000, 257, 7, 10, 4], [540000, 205, 4, 0, 3], [720000, 300, 4, 20, 3], [780000, 334, 5, 6, 3], [450000, 280, 4, 10, 3], [265000, 140, 3, 2, 3], [155000, 64, 1, 4, 1], [178000, 111, 2, 70, 3], [180000, 105, 3, 15, 3], [445000, 297, 5, 30, 6], [175000, 105, 2, 19, 2], [398000, 255, 5, 30, 2], [319000, 220, 3, 10, 2], [580000, 370, 5, 30, 3], [219000, 122, 3, 15, 2], [198000, 157, 3, 30, 2], [167000, 95, 3, 2, 4], [120000, 79, 3, 40, 2], [117000, 87, 2, 45, 1], [255000, 132, 4, 28, 3], [210000, 3, 0, 1, 4], [560000, 233, 3, 30, 2], [250000, 119, 3, 0, 2], [200000, 97, 2, 1, 2], [120000, 58, 2, 40, 1], [190500, 85, 3, 2, 4], [360000, 190, 3, 50, 2], [340000, 141, 3, 40, 2], [660000, 170, 3, 0, 3], [225000, 99, 3, 35, 2], [194000, 60, 2, 20, 1], [88000, 40, 1, 40, 1], [165000, 48, 1, 10, 1], [108000, 48, 1, 4, 1], [135000, 2, 1, 0, 1], [360000, 260, 4, 20, 3], [255000, 131, 3, 17, 2], [250000, 175, 4, 4, 4], [90000, 1, 0, 1, 2], [349000, 120, 3, 10, 3], [82000, 41, 1, 0, 1], [65000, 40, 1, 0, 1], [85100, 43, 0, 0, 1], [49500, 43, 1, 38, 1], [60000, 1, 0, 1, 2], [335000, 179, 5, 19, 4], [200000, 190, 4, 48, 3], [290000, 103, 3, 2, 4], [179000, 90, 3, 40, 2], [61500, 36, 1, 0, 1], [650000, 396, 6, 10, 5], [99800, 66, 3, 39, 3], [125000, 64, 2, 40, 2], [79000, 45, 2, 45, 1], [87000, 42, 1, 1, 2], [160000, 76, 2, 60, 2], [590000, 186, 3, 30, 2], [74000, 30, 1, 1, 2], [230000, 82, 2, 40, 2], [1050000, 301, 4, 20, 6], [210000, 69, 2, 0, 2], [218000, 71, 2, 11, 2], [235000, 91, 3, 0, 2], [510000, 180, 4, 55, 4], [122000, 59, 2, 40, 1], [140000, 73, 3, 50, 2], [190000, 113, 3, 40, 2], [155000, 37, 1, 3, 1], [340000, 101, 4, 15, 2], [285000, 69, 2, 9, 2], [295000, 155, 4, 0, 3], [85000, 33, 1, 45, 1], [310000, 115, 2, 0, 1], [348000, 178, 3, 45, 1], [400000, 290, 6, 1, 7], [105000, 42, 1, 1, 1], [188000, 77, 3, 20, 2], [235000, 130, 2, 50, 1], [165000, 75, 2, 30, 2], [61000, 34, 1, 28, 1], [199000, 70, 3, 20, 1], [109000, 46, 1, 16, 1], [275000, 96, 3, 50, 2], [71933, 46, 1, 0, 1], [265000, 114, 4, 0, 3], [330000, 280, 4, 10, 2], [380000, 155, 4, 10, 4], [230000, 166, 3, 40, 2], [350000, 168, 4, 14, 2], [320000, 184, 4, 25, 3], [158000, 71, 2, 0, 2], [280000, 169, 5, 35, 2], [77900, 35, 1, 25, 1], [180000, 185, 2, 35, 1], [239000, 120, 2, 55, 1], [123900, 107, 3, 1, 2], [47000, 44, 1, 1, 1], [74500, 65, 2, 1, 2], [43000, 38, 1, 1, 1], [149000, 56, 2, 40, 1]]\n"
     ]
    }
   ],
   "source": [
    "# Y ahora si llamamos nuestra funcion final para extraer los datos de los urls que tenemmos \n",
    "# para que nos de los datos que necesitamos\n",
    "datos = []\n",
    "for pag in totalPaginas:\n",
    "    datoPagina = extraccion(pag)\n",
    "    datos.append(datoPagina)\n",
    "print(datos)"
   ]
  },
  {
   "cell_type": "code",
   "execution_count": 127,
   "id": "86adc2cf",
   "metadata": {},
   "outputs": [
    {
     "name": "stdout",
     "output_type": "stream",
     "text": [
      "200\n"
     ]
    }
   ],
   "source": [
    "# rectificamos con un print(len) de los inmuebles que extraimos\n",
    "print(len(datos))"
   ]
  }
 ],
 "metadata": {
  "kernelspec": {
   "display_name": "Python 3 (ipykernel)",
   "language": "python",
   "name": "python3"
  },
  "language_info": {
   "codemirror_mode": {
    "name": "ipython",
    "version": 3
   },
   "file_extension": ".py",
   "mimetype": "text/x-python",
   "name": "python",
   "nbconvert_exporter": "python",
   "pygments_lexer": "ipython3",
   "version": "3.9.12"
  }
 },
 "nbformat": 4,
 "nbformat_minor": 5
}
