{
 "cells": [
  {
   "cell_type": "markdown",
   "id": "4d8c9b0c",
   "metadata": {},
   "source": [
    "                                               PROTECTO 02"
   ]
  },
  {
   "cell_type": "code",
   "execution_count": 1,
   "id": "76d04d1f",
   "metadata": {},
   "outputs": [],
   "source": [
    "#Para iniciar siempre importamos las librerias que vamos a usar.\n",
    "import re\n",
    "from re import sub\n",
    "import pandas as pd\n",
    "import numpy as np\n",
    "import requests\n",
    "from bs4 import BeautifulSoup\n",
    "from html.parser import HTMLParser"
   ]
  },
  {
   "cell_type": "code",
   "execution_count": 2,
   "id": "fd4f7f0c",
   "metadata": {},
   "outputs": [],
   "source": [
    "#Copiamos nuetro URL y la almacenamos en una variable-\n",
    "url = 'https://www.argenprop.com/inmuebles-venta-pais-argentina'\n",
    "\n",
    "#Hacemos un request.get ala variable para que nos deje extraer su contenido total.\n",
    "resp = requests.get(url)"
   ]
  },
  {
   "cell_type": "code",
   "execution_count": 3,
   "id": "64472446",
   "metadata": {},
   "outputs": [
    {
     "data": {
      "text/plain": [
       "True"
      ]
     },
     "execution_count": 3,
     "metadata": {},
     "output_type": "execute_result"
    }
   ],
   "source": [
    "#Con el .ok se lo hacemos ala variable donde guardamos la URL ya con el request, para verificar que la pagina funciona bien.\n",
    "resp.ok"
   ]
  },
  {
   "cell_type": "code",
   "execution_count": 4,
   "id": "1c58097d",
   "metadata": {},
   "outputs": [
    {
     "data": {
      "text/plain": [
       "200"
      ]
     },
     "execution_count": 4,
     "metadata": {},
     "output_type": "execute_result"
    }
   ],
   "source": [
    "#Otra forma de verificar que la pagina esta funcionanco bien y podemios extraer informacion.\n",
    "resp.status_code"
   ]
  },
  {
   "cell_type": "code",
   "execution_count": 5,
   "id": "ebb2b46d",
   "metadata": {},
   "outputs": [],
   "source": [
    "urlListadoPlantilla = \"https://www.argenprop.com/inmuebles-venta-pais-argentina-pagina-1\""
   ]
  },
  {
   "cell_type": "code",
   "execution_count": 6,
   "id": "12d6b634",
   "metadata": {
    "scrolled": true
   },
   "outputs": [
    {
     "name": "stdout",
     "output_type": "stream",
     "text": [
      "https://www.argenprop.com/inmuebles-venta-pais-argentina-pagina-1\n",
      "https://www.argenprop.com/inmuebles-venta-pais-argentina-pagina-2\n",
      "https://www.argenprop.com/inmuebles-venta-pais-argentina-pagina-3\n",
      "https://www.argenprop.com/inmuebles-venta-pais-argentina-pagina-4\n",
      "https://www.argenprop.com/inmuebles-venta-pais-argentina-pagina-5\n",
      "https://www.argenprop.com/inmuebles-venta-pais-argentina-pagina-6\n",
      "https://www.argenprop.com/inmuebles-venta-pais-argentina-pagina-7\n",
      "https://www.argenprop.com/inmuebles-venta-pais-argentina-pagina-8\n",
      "https://www.argenprop.com/inmuebles-venta-pais-argentina-pagina-9\n",
      "https://www.argenprop.com/inmuebles-venta-pais-argentina-pagina-10\n"
     ]
    }
   ],
   "source": [
    "#Hacemos un ciclo FOR de las 10 primeras paginas paara que nos las devuleva.\n",
    "for i in [1,2,3,4,5,6,7,8,9,10]:\n",
    "    urlListado = urlListadoPlantilla.replace(\"1\", str(i))\n",
    "    print(urlListado)"
   ]
  },
  {
   "cell_type": "code",
   "execution_count": 73,
   "id": "86adc2cf",
   "metadata": {},
   "outputs": [],
   "source": [
    "#empezamos con nuestra primera pagina web para extraer todos los urls de todos los inmuebles.\n",
    "url1 = 'https://www.argenprop.com/inmuebles-venta-pais-argentina-pagina-1'\n",
    "#hacemos un requests.get al url1(pagina1) para poder extraer todos los url de los inmuebles.\n",
    "resp1 = requests.get(url1)"
   ]
  },
  {
   "cell_type": "code",
   "execution_count": 74,
   "id": "dcda3630",
   "metadata": {
    "scrolled": true
   },
   "outputs": [],
   "source": [
    "#usando BeautifulSoup ala resp1 para ver su contenido en html \n",
    "soup1 = BeautifulSoup(resp1.content, 'html.parser')"
   ]
  },
  {
   "cell_type": "code",
   "execution_count": 75,
   "id": "765cd88e",
   "metadata": {},
   "outputs": [],
   "source": [
    "#hacemos un find.all a la variable SOUP1 y le pedimos la etiqueta \"A\", que es la que tiene los url que nos interesan.\n",
    "links = soup1.find_all('a')"
   ]
  },
  {
   "cell_type": "code",
   "execution_count": 76,
   "id": "9e489dd2",
   "metadata": {},
   "outputs": [],
   "source": [
    "#hacemo un FOR pidiendole que nos de los URLS de solamente los inmuebles y nos los guarde en una variable.\n",
    "urls = []\n",
    "for link in links:\n",
    "    if link.get('href')[0:5]==\"/depa\" or link.get('href')[0:5]==\"/casa\":\n",
    "        #urls = link.get('href')\n",
    "        urls.append(\"https://www.argenprop.com\" + link.get(\"href\"))\n",
    "              "
   ]
  },
  {
   "cell_type": "code",
   "execution_count": 77,
   "id": "22a29d1e",
   "metadata": {},
   "outputs": [
    {
     "data": {
      "text/plain": [
       "['https://www.argenprop.com/departamento-en-venta-en-palermo-hollywood-2-ambientes--8169397',\n",
       " 'https://www.argenprop.com/departamento-en-venta-en-palermo-chico-2-ambientes--8279587',\n",
       " 'https://www.argenprop.com/departamento-en-venta-en-palermo-soho-3-ambientes--11548671',\n",
       " 'https://www.argenprop.com/departamento-en-venta-en-botanico-5-ambientes--11676949',\n",
       " 'https://www.argenprop.com/departamento-en-venta-en-palermo-chico-4-ambientes--11662646',\n",
       " 'https://www.argenprop.com/departamento-en-venta-en-palermo-chico-3-ambientes--11969211',\n",
       " 'https://www.argenprop.com/departamento-en-venta-en-palermo-hollywood-4-ambientes--12071698',\n",
       " 'https://www.argenprop.com/departamento-en-venta-en-palermo-3-ambientes--12102462',\n",
       " 'https://www.argenprop.com/departamento-en-venta-en-palermo-4-ambientes--7655101',\n",
       " 'https://www.argenprop.com/departamento-en-venta-en-palermo-1-ambiente--11949658',\n",
       " 'https://www.argenprop.com/departamento-en-venta-en-botanico-2-ambientes--12015759',\n",
       " 'https://www.argenprop.com/departamento-en-venta-en-belgrano-c-3-ambientes--9774306',\n",
       " 'https://www.argenprop.com/departamento-en-venta-en-belgrano-4-ambientes--11726608',\n",
       " 'https://www.argenprop.com/departamento-en-venta-en-belgrano-2-ambientes--9047196',\n",
       " 'https://www.argenprop.com/departamento-en-venta-en-belgrano-5-ambientes--11713973',\n",
       " 'https://www.argenprop.com/departamento-en-venta-en-palermo-nuevo-4-ambientes--12122966',\n",
       " 'https://www.argenprop.com/departamento-en-venta-en-botanico-2-ambientes--11445121',\n",
       " 'https://www.argenprop.com/departamento-en-venta-en-palermo-4-ambientes--12019296',\n",
       " 'https://www.argenprop.com/departamento-en-venta-en-belgrano-3-ambientes--8990909',\n",
       " 'https://www.argenprop.com/departamento-en-venta-en-botanico-5-ambientes--11957659']"
      ]
     },
     "execution_count": 77,
     "metadata": {},
     "output_type": "execute_result"
    }
   ],
   "source": [
    "#variable que contiene los urls de los inmubeles de la primer pagina.\n",
    "urls"
   ]
  },
  {
   "cell_type": "code",
   "execution_count": 13,
   "id": "5861d6ee",
   "metadata": {},
   "outputs": [],
   "source": [
    "url2 = 'https://www.argenprop.com/inmuebles-venta-pais-argentina-pagina-2'\n",
    "resp2 = requests.get(url2)"
   ]
  },
  {
   "cell_type": "code",
   "execution_count": 14,
   "id": "d7ead95c",
   "metadata": {},
   "outputs": [
    {
     "data": {
      "text/plain": [
       "'\\n\\n\\n\\n\\n\\n<!DOCTYPE html>\\n<html lang=\"es\">\\n<head>\\n    <link href=\"//script.hotjar.com\" rel=\"preconnect\">\\n<link href=\"//static.hotjar.com\" rel=\"preconnect\">\\n<link href=\"https://static1.sosiva451.com/\" rel=\"preconnect\">\\n<link href=\"https://www.google-analytics.com\" rel=\"preconnect\">\\n<link href=\"https://www.facebook.com\" rel=\"preconnect\">\\n<link href=\"https://www.google.com\" rel=\"preconnect\">\\n<link href=\"https://www.googleadservices.com\" rel=\"preconnect\">\\n<link href=\"https://www.googletagmanager.com\" rel=\"preconnect\">\\n<link href=\"https://www.googletagservices.com\" rel=\"preconnect\">\\n<link href=\"https://static.criteo.net\" rel=\"preconnect\">\\n<link href=\"https://sslwidget.criteo.com\" rel=\"preconnect\">\\n<link href=\"https://analytics.trovit.com\" rel=\"preconnect\">\\n<link href=\"https://cdn.ampproject.org\" rel=\"preconnect\">\\n<link href=\"https://s3-us-west-2.amazonaws.com\" rel=\"preconnect\">\\n<link href=\"https://pagead2.googlesyndication.com\" rel=\"preconnect\">\\n<link href=\"https://adservice.google.com.br\" rel='"
      ]
     },
     "execution_count": 14,
     "metadata": {},
     "output_type": "execute_result"
    }
   ],
   "source": [
    "resp2.text[0:1000]"
   ]
  },
  {
   "cell_type": "code",
   "execution_count": 15,
   "id": "1b4e4a0a",
   "metadata": {},
   "outputs": [],
   "source": [
    "soup2 = BeautifulSoup(resp2.content, 'html.parser')\n"
   ]
  },
  {
   "cell_type": "code",
   "execution_count": 16,
   "id": "1331ee07",
   "metadata": {},
   "outputs": [],
   "source": [
    "links2 = soup2.find_all('a')"
   ]
  },
  {
   "cell_type": "code",
   "execution_count": 17,
   "id": "47861f2c",
   "metadata": {},
   "outputs": [],
   "source": [
    "Urls2 = []\n",
    "for lin in links2:\n",
    "    if lin.get('href')[0:5]==\"/depa\" or lin.get('href')[0:5]==\"/casa\":\n",
    "        #urls = link.get('href')\n",
    "        Urls2.append(\"https://www.argenprop.com\" + lin.get(\"href\"))\n",
    "              "
   ]
  },
  {
   "cell_type": "code",
   "execution_count": 18,
   "id": "44c89045",
   "metadata": {},
   "outputs": [
    {
     "data": {
      "text/plain": [
       "['https://www.argenprop.com/departamento-en-venta-en-palermo-chico-5-ambientes--7621570',\n",
       " 'https://www.argenprop.com/departamento-en-venta-en-parque-las-heras-4-ambientes--11754880',\n",
       " 'https://www.argenprop.com/departamento-en-venta-en-recoleta-5-ambientes--9875493',\n",
       " 'https://www.argenprop.com/departamento-en-venta-en-recoleta-3-ambientes--9053055',\n",
       " 'https://www.argenprop.com/departamento-en-venta-en-recoleta-3-ambientes--11561627',\n",
       " 'https://www.argenprop.com/departamento-en-venta-en-recoleta-3-ambientes--11528192',\n",
       " 'https://www.argenprop.com/departamento-en-venta-en-recoleta-3-ambientes--11927770',\n",
       " 'https://www.argenprop.com/departamento-en-venta-en-recoleta-4-ambientes--12016174',\n",
       " 'https://www.argenprop.com/departamento-en-venta-en-palermo-hollywood-1-ambiente--11687423',\n",
       " 'https://www.argenprop.com/departamento-en-venta-en-recoleta-4-ambientes--11912042',\n",
       " 'https://www.argenprop.com/departamento-en-venta-en-belgrano-3-ambientes--12096686',\n",
       " 'https://www.argenprop.com/departamento-en-venta-en-recoleta-3-ambientes--8041453',\n",
       " 'https://www.argenprop.com/departamento-en-venta-en-belgrano-barrancas-5-ambientes--12116049',\n",
       " 'https://www.argenprop.com/departamento-en-venta-en-belgrano-1-ambiente--11356330',\n",
       " 'https://www.argenprop.com/departamento-en-venta-en-recoleta-2-ambientes--12033335',\n",
       " 'https://www.argenprop.com/departamento-en-venta-en-recoleta-3-ambientes--9166101',\n",
       " 'https://www.argenprop.com/departamento-en-venta-en-palermo-hollywood-1-ambiente--11771703',\n",
       " 'https://www.argenprop.com/departamento-en-venta-en-botanico-2-ambientes--6734548',\n",
       " 'https://www.argenprop.com/departamento-en-venta-en-palermo-2-ambientes--11356874',\n",
       " 'https://www.argenprop.com/departamento-en-venta-en-recoleta-2-ambientes--11912110']"
      ]
     },
     "execution_count": 18,
     "metadata": {},
     "output_type": "execute_result"
    }
   ],
   "source": [
    "Urls2"
   ]
  },
  {
   "cell_type": "code",
   "execution_count": 19,
   "id": "aa4d9cd2",
   "metadata": {},
   "outputs": [],
   "source": [
    "url3 = 'https://www.argenprop.com/inmuebles-venta-pais-argentina-pagina-3'\n",
    "resp3 = requests.get(url3)"
   ]
  },
  {
   "cell_type": "code",
   "execution_count": 20,
   "id": "83423126",
   "metadata": {},
   "outputs": [],
   "source": [
    "soup3 = BeautifulSoup(resp3.content, 'html.parser')\n"
   ]
  },
  {
   "cell_type": "code",
   "execution_count": 21,
   "id": "df39fce0",
   "metadata": {},
   "outputs": [],
   "source": [
    "links3 = soup3.find_all('a')"
   ]
  },
  {
   "cell_type": "code",
   "execution_count": 22,
   "id": "f1322bc8",
   "metadata": {},
   "outputs": [],
   "source": [
    "Url3 = []\n",
    "\n",
    "for li in links3:\n",
    "    if li.get('href')[0:5]==\"/depa\" or li.get('href')[0:5]==\"/casa\":\n",
    "        #urls = link.get('href')\n",
    "        Url3.append(\"https://www.argenprop.com\" + li.get(\"href\"))"
   ]
  },
  {
   "cell_type": "code",
   "execution_count": 23,
   "id": "fde2473f",
   "metadata": {},
   "outputs": [
    {
     "data": {
      "text/plain": [
       "['https://www.argenprop.com/departamento-en-venta-en-palermo-2-ambientes--10871877',\n",
       " 'https://www.argenprop.com/departamento-en-venta-en-villa-del-parque-4-ambientes--11724851',\n",
       " 'https://www.argenprop.com/departamento-en-venta-en-villa-del-parque-5-ambientes--11438515',\n",
       " 'https://www.argenprop.com/departamento-en-venta-en-villa-del-parque-3-ambientes--12034043',\n",
       " 'https://www.argenprop.com/departamento-en-venta-en-belgrano-c-1-ambiente--11924101',\n",
       " 'https://www.argenprop.com/departamento-en-venta-en-belgrano-1-ambiente--9056092',\n",
       " 'https://www.argenprop.com/departamento-en-venta-en-botanico-4-ambientes--11952358',\n",
       " 'https://www.argenprop.com/departamento-en-venta-en-parque-rivadavia-3-ambientes--11984748',\n",
       " 'https://www.argenprop.com/departamento-en-venta-en-caballito-3-ambientes--11703424',\n",
       " 'https://www.argenprop.com/departamento-en-venta-en-caballito-sur-2-ambientes--12008305',\n",
       " 'https://www.argenprop.com/departamento-en-venta-en-caballito-3-ambientes--11674897',\n",
       " 'https://www.argenprop.com/departamento-en-venta-en-caballito-3-ambientes--12113273',\n",
       " 'https://www.argenprop.com/departamento-en-venta-en-caballito-3-ambientes--12114889',\n",
       " 'https://www.argenprop.com/departamento-en-venta-en-caballito-2-ambientes--12094290',\n",
       " 'https://www.argenprop.com/departamento-en-venta-en-caballito-2-ambientes--11235280',\n",
       " 'https://www.argenprop.com/departamento-en-venta-en-caballito-2-ambientes--11818518',\n",
       " 'https://www.argenprop.com/departamento-en-venta-en-caballito-3-ambientes--12034202',\n",
       " 'https://www.argenprop.com/departamento-en-venta-en-caballito-4-ambientes--12037853',\n",
       " 'https://www.argenprop.com/departamento-en-venta-en-villa-del-parque-3-ambientes--11969630',\n",
       " 'https://www.argenprop.com/departamento-en-venta-en-caballito-2-ambientes--11561754']"
      ]
     },
     "execution_count": 23,
     "metadata": {},
     "output_type": "execute_result"
    }
   ],
   "source": [
    "Url3"
   ]
  },
  {
   "cell_type": "code",
   "execution_count": 24,
   "id": "77b8e5f8",
   "metadata": {},
   "outputs": [],
   "source": [
    "url4 = 'https://www.argenprop.com/inmuebles-venta-pais-argentina-pagina-4'\n",
    "resp4 = requests.get(url4)\n",
    "soup4 = BeautifulSoup(resp4.content, 'html.parser')\n",
    "links4 = soup4.find_all('a')"
   ]
  },
  {
   "cell_type": "code",
   "execution_count": 25,
   "id": "d105feb0",
   "metadata": {},
   "outputs": [],
   "source": [
    "Url4 = []\n",
    "\n",
    "for l in links4:\n",
    "    if l.get('href')[0:5]==\"/depa\" or l.get('href')[0:5]==\"/casa\":\n",
    "        #urls = link.get('href')\n",
    "        Url4.append(\"https://www.argenprop.com\" + l.get(\"href\"))"
   ]
  },
  {
   "cell_type": "code",
   "execution_count": 26,
   "id": "339942b8",
   "metadata": {},
   "outputs": [
    {
     "data": {
      "text/plain": [
       "['https://www.argenprop.com/departamento-en-venta-en-belgrano-3-ambientes--11716276',\n",
       " 'https://www.argenprop.com/departamento-en-venta-en-belgrano-4-ambientes--12011233',\n",
       " 'https://www.argenprop.com/departamento-en-venta-en-caballito-5-ambientes--7368194',\n",
       " 'https://www.argenprop.com/departamento-en-venta-en-villa-devoto-4-ambientes--12082104',\n",
       " 'https://www.argenprop.com/departamento-en-venta-en-villa-devoto-6-ambientes--11992150',\n",
       " 'https://www.argenprop.com/departamento-en-venta-en-villa-devoto-4-ambientes--11697676',\n",
       " 'https://www.argenprop.com/departamento-en-venta-en-villa-devoto-3-ambientes--11323101',\n",
       " 'https://www.argenprop.com/departamento-en-venta-en-villa-urquiza-6-ambientes--11934311',\n",
       " 'https://www.argenprop.com/departamento-en-venta-en-villa-devoto-2-ambientes--11691370',\n",
       " 'https://www.argenprop.com/departamento-en-venta-en-villa-devoto-4-ambientes--10944990',\n",
       " 'https://www.argenprop.com/departamento-en-venta-en-villa-devoto-5-ambientes--11067364',\n",
       " 'https://www.argenprop.com/departamento-en-venta-en-villa-devoto-4-ambientes--9041081',\n",
       " 'https://www.argenprop.com/departamento-en-venta-en-villa-urquiza-1-ambiente--11931758',\n",
       " 'https://www.argenprop.com/departamento-en-venta-en-palermo--5115544',\n",
       " 'https://www.argenprop.com/departamento-en-venta-en-caballito-2-ambientes--9044629',\n",
       " 'https://www.argenprop.com/departamento-en-venta-en-belgrano-4-ambientes--12056370',\n",
       " 'https://www.argenprop.com/departamento-en-venta-en-palermo-chico-4-ambientes--11294225',\n",
       " 'https://www.argenprop.com/departamento-en-venta-en-villa-devoto-4-ambientes--10254702',\n",
       " 'https://www.argenprop.com/departamento-en-venta-en-villa-devoto-3-ambientes--7969618',\n",
       " 'https://www.argenprop.com/departamento-en-venta-en-belgrano-2-ambientes--10798983']"
      ]
     },
     "execution_count": 26,
     "metadata": {},
     "output_type": "execute_result"
    }
   ],
   "source": [
    "Url4"
   ]
  },
  {
   "cell_type": "code",
   "execution_count": 27,
   "id": "862da9d0",
   "metadata": {},
   "outputs": [],
   "source": [
    "url5 = 'https://www.argenprop.com/inmuebles-venta-pais-argentina-pagina-5'\n",
    "resp5 = requests.get(url5)\n",
    "soup5 = BeautifulSoup(resp5.content, 'html.parser')\n",
    "links5 = soup5.find_all('a')"
   ]
  },
  {
   "cell_type": "code",
   "execution_count": 28,
   "id": "aeaaca20",
   "metadata": {},
   "outputs": [],
   "source": [
    "Url5 = []\n",
    "\n",
    "for i in links5:\n",
    "    if i.get('href')[0:5]==\"/depa\" or i.get('href')[0:5]==\"/casa\":\n",
    "        #urls = link.get('href')\n",
    "        Url5.append(\"https://www.argenprop.com\" + i.get(\"href\"))"
   ]
  },
  {
   "cell_type": "code",
   "execution_count": 29,
   "id": "6266afb1",
   "metadata": {},
   "outputs": [
    {
     "data": {
      "text/plain": [
       "['https://www.argenprop.com/casa-en-venta-en-pilar-del-este-santa-elena-4-ambientes--11928857',\n",
       " 'https://www.argenprop.com/departamento-en-venta-en-belgrano-3-ambientes--12114644',\n",
       " 'https://www.argenprop.com/casa-en-venta-en-pilar-del-este-santa-elena-4-ambientes--11931983',\n",
       " 'https://www.argenprop.com/casa-en-venta-en-boca-raton-4-ambientes--11873755',\n",
       " 'https://www.argenprop.com/casa-en-venta-en-la-delfina-5-ambientes--11768940',\n",
       " 'https://www.argenprop.com/departamento-en-venta-en-belgrano-4-ambientes--11990273',\n",
       " 'https://www.argenprop.com/departamento-en-venta-en-palermo-2-ambientes--10869237',\n",
       " 'https://www.argenprop.com/departamento-en-venta-en-belgrano-1-ambiente--10420992',\n",
       " 'https://www.argenprop.com/departamento-en-venta-en-recoleta-1-ambiente--12082688',\n",
       " 'https://www.argenprop.com/departamento-en-venta-en-belgrano-4-ambientes--12038931',\n",
       " 'https://www.argenprop.com/departamento-en-venta-en-recoleta-3-ambientes--11941424',\n",
       " 'https://www.argenprop.com/casa-en-venta-en-bermudas-5-ambientes--12079719',\n",
       " 'https://www.argenprop.com/departamento-en-venta-en-belgrano-3-ambientes--12113385',\n",
       " 'https://www.argenprop.com/casa-en-venta-en-pilar-del-este-4-ambientes--10620519',\n",
       " 'https://www.argenprop.com/casa-en-venta-en-santo-tomas-4-ambientes--11604351',\n",
       " 'https://www.argenprop.com/casa-en-venta-en-pilar-del-este-4-ambientes--11599603',\n",
       " 'https://www.argenprop.com/casa-en-venta-en-pilar-del-este-4-ambientes--11944920',\n",
       " 'https://www.argenprop.com/casa-en-venta-en-pilar-del-este-4-ambientes--10849888',\n",
       " 'https://www.argenprop.com/casa-en-venta-en-club-de-campo-la-emilia-5-ambientes--11500446',\n",
       " 'https://www.argenprop.com/casa-en-venta-en-la-canada-de-pilar-4-ambientes--11468178']"
      ]
     },
     "execution_count": 29,
     "metadata": {},
     "output_type": "execute_result"
    }
   ],
   "source": [
    "Url5"
   ]
  },
  {
   "cell_type": "code",
   "execution_count": 30,
   "id": "0f91d0c2",
   "metadata": {},
   "outputs": [],
   "source": [
    "url6 = 'https://www.argenprop.com/inmuebles-venta-pais-argentina-pagina-6'\n",
    "resp6 = requests.get(url6)\n",
    "soup6 = BeautifulSoup(resp6.content, 'html.parser')\n",
    "links6 = soup6.find_all('a')"
   ]
  },
  {
   "cell_type": "code",
   "execution_count": 31,
   "id": "80816d1b",
   "metadata": {},
   "outputs": [],
   "source": [
    "Url6 = []\n",
    "\n",
    "for i in links6:\n",
    "    if i.get('href')[0:5]==\"/depa\" or i.get('href')[0:5]==\"/casa\":\n",
    "        #urls = link.get('href')\n",
    "        Url6.append(\"https://www.argenprop.com\" + i.get(\"href\"))"
   ]
  },
  {
   "cell_type": "code",
   "execution_count": 32,
   "id": "ddf32885",
   "metadata": {},
   "outputs": [
    {
     "data": {
      "text/plain": [
       "['https://www.argenprop.com/casa-en-venta-en-pilar-del-este-5-ambientes--11343494',\n",
       " 'https://www.argenprop.com/casa-en-venta-en-el-mirasol-5-ambientes--11421676',\n",
       " 'https://www.argenprop.com/casa-en-venta-en-la-lomada-de-pilar-5-ambientes--11945014',\n",
       " 'https://www.argenprop.com/casa-en-venta-en-la-lomada-de-pilar-6-ambientes--11071295',\n",
       " 'https://www.argenprop.com/casa-en-venta-en-la-lomada-de-pilar-6-ambientes--11977408',\n",
       " 'https://www.argenprop.com/casa-en-venta-en-campo-grande-6-ambientes--11190029',\n",
       " 'https://www.argenprop.com/casa-en-venta-en-los-alcanfores-4-ambientes--11137397',\n",
       " 'https://www.argenprop.com/casa-en-venta-en-olivos-golf-3-ambientes--11982547',\n",
       " 'https://www.argenprop.com/casa-en-venta-en-olivos-maipu-uzal-4-ambientes--10873066',\n",
       " 'https://www.argenprop.com/casa-en-venta-en-olivos-golf-6-ambientes--12024906',\n",
       " 'https://www.argenprop.com/casa-en-venta-en-olivos-maipu-uzal-4-ambientes--11433966',\n",
       " 'https://www.argenprop.com/casa-en-venta-en-olivos-roche-6-ambientes--11565083',\n",
       " 'https://www.argenprop.com/casa-en-venta-en-olivos-4-ambientes--11636434',\n",
       " 'https://www.argenprop.com/casa-en-venta-en-olivos-roche-6-ambientes--11364288',\n",
       " 'https://www.argenprop.com/casa-en-venta-en-olivos-6-ambientes--12066548',\n",
       " 'https://www.argenprop.com/departamento-en-venta-en-villa-crespo-4-ambientes--11589436',\n",
       " 'https://www.argenprop.com/departamento-en-venta-en-villa-crespo-3-ambientes--11967905',\n",
       " 'https://www.argenprop.com/departamento-en-venta-en-villa-crespo-4-ambientes--12093081',\n",
       " 'https://www.argenprop.com/casa-en-venta-en-olivos-maipu-uzal-5-ambientes--11724428',\n",
       " 'https://www.argenprop.com/casa-en-venta-en-olivos-4-ambientes--9019442']"
      ]
     },
     "execution_count": 32,
     "metadata": {},
     "output_type": "execute_result"
    }
   ],
   "source": [
    "Url6"
   ]
  },
  {
   "cell_type": "code",
   "execution_count": 33,
   "id": "21caba18",
   "metadata": {},
   "outputs": [],
   "source": [
    "url7 = 'https://www.argenprop.com/inmuebles-venta-pais-argentina-pagina-7'\n",
    "resp7 = requests.get(url7)\n",
    "soup7 = BeautifulSoup(resp7.content, 'html.parser')\n",
    "links7 = soup7.find_all('a')"
   ]
  },
  {
   "cell_type": "code",
   "execution_count": 34,
   "id": "4729d137",
   "metadata": {},
   "outputs": [],
   "source": [
    "Url7 = []\n",
    "\n",
    "for i in links7:\n",
    "    if i.get('href')[0:5]==\"/depa\" or i.get('href')[0:5]==\"/casa\":\n",
    "        #urls = link.get('href')\n",
    "        Url7.append(\"https://www.argenprop.com\" + i.get(\"href\"))"
   ]
  },
  {
   "cell_type": "code",
   "execution_count": 35,
   "id": "41f8ea73",
   "metadata": {},
   "outputs": [
    {
     "name": "stdout",
     "output_type": "stream",
     "text": [
      "https://www.argenprop.com/casa-en-venta-en-olivos-4-ambientes--11662678\n"
     ]
    }
   ],
   "source": [
    "descrip = Url7[0]\n",
    "print(descrip)"
   ]
  },
  {
   "cell_type": "code",
   "execution_count": 36,
   "id": "13caa8c0",
   "metadata": {},
   "outputs": [],
   "source": [
    "respDes = requests.get(descrip)\n",
    "soupDes = BeautifulSoup(respDes.content, 'html.parser')"
   ]
  },
  {
   "cell_type": "code",
   "execution_count": 37,
   "id": "fd273614",
   "metadata": {},
   "outputs": [],
   "source": [
    "precio = soupDes.findAll('p', {'class':'titlebar__price'})"
   ]
  },
  {
   "cell_type": "code",
   "execution_count": 38,
   "id": "cd109f16",
   "metadata": {},
   "outputs": [
    {
     "data": {
      "text/plain": [
       "[<p class=\"titlebar__price\">\n",
       "             USD 250.000\n",
       "         </p>]"
      ]
     },
     "execution_count": 38,
     "metadata": {},
     "output_type": "execute_result"
    }
   ],
   "source": [
    "precio"
   ]
  },
  {
   "cell_type": "code",
   "execution_count": 39,
   "id": "4abe9729",
   "metadata": {},
   "outputs": [],
   "source": [
    "estado = soupDes.findAll('h2', {'class':'titlebar__title'})"
   ]
  },
  {
   "cell_type": "code",
   "execution_count": 40,
   "id": "c1fd80be",
   "metadata": {},
   "outputs": [
    {
     "data": {
      "text/plain": [
       "[<h2 class=\"titlebar__title\">Casa en Venta en Olivos, Vicente Lopez</h2>]"
      ]
     },
     "execution_count": 40,
     "metadata": {},
     "output_type": "execute_result"
    }
   ],
   "source": [
    "estado"
   ]
  },
  {
   "cell_type": "code",
   "execution_count": 41,
   "id": "d96519bb",
   "metadata": {},
   "outputs": [],
   "source": [
    "detalle = soupDes.findAll('ul', {'class':'property-main-features'})"
   ]
  },
  {
   "cell_type": "code",
   "execution_count": 42,
   "id": "dcd403b2",
   "metadata": {},
   "outputs": [],
   "source": [
    "url8 = 'https://www.argenprop.com/inmuebles-venta-pais-argentina-pagina-8'\n",
    "resp8 = requests.get(url8)\n",
    "soup8 = BeautifulSoup(resp8.content, 'html.parser')\n",
    "links8 = soup8.find_all('a')"
   ]
  },
  {
   "cell_type": "code",
   "execution_count": 43,
   "id": "a1ec88fb",
   "metadata": {},
   "outputs": [],
   "source": [
    "Url8 = []\n",
    "\n",
    "for i in links8:\n",
    "    if i.get('href')[0:5]==\"/depa\" or i.get('href')[0:5]==\"/casa\":\n",
    "        #urls = link.get('href')\n",
    "        Url8.append(\"https://www.argenprop.com\" + i.get(\"href\"))\n"
   ]
  },
  {
   "cell_type": "code",
   "execution_count": 44,
   "id": "2f6b5fa2",
   "metadata": {},
   "outputs": [
    {
     "data": {
      "text/plain": [
       "['https://www.argenprop.com/departamento-en-venta-en-centro-6-ambientes--11727777',\n",
       " 'https://www.argenprop.com/departamento-en-venta-en-centro--6586397',\n",
       " 'https://www.argenprop.com/departamento-en-venta-en-las-canitas-4-ambientes--11928368',\n",
       " 'https://www.argenprop.com/departamento-en-venta-en-martin-5-ambientes--11139047',\n",
       " 'https://www.argenprop.com/departamento-en-venta-en-luis-agote-2-ambientes--8845197',\n",
       " 'https://www.argenprop.com/departamento-en-venta-en-belgrano-c-2-ambientes--11675982',\n",
       " 'https://www.argenprop.com/casa-en-venta-en-los-laureles-8-ambientes--11457793',\n",
       " 'https://www.argenprop.com/departamento-en-venta-en-centro-5-ambientes--11137183',\n",
       " 'https://www.argenprop.com/departamento-en-venta-en-palermo-3-ambientes--8041415',\n",
       " 'https://www.argenprop.com/departamento-en-venta-en-villa-crespo-3-ambientes--8371278',\n",
       " 'https://www.argenprop.com/departamento-en-venta-en-belgrano-3-ambientes--11772165',\n",
       " 'https://www.argenprop.com/departamento-en-venta-en-belgrano-2-ambientes--10926395',\n",
       " 'https://www.argenprop.com/departamento-en-venta-en-palermo-3-ambientes--12114745',\n",
       " 'https://www.argenprop.com/departamento-en-venta-en-palermo-chico-3-ambientes--8261454',\n",
       " 'https://www.argenprop.com/departamento-en-venta-en-villa-devoto-3-ambientes--11922483',\n",
       " 'https://www.argenprop.com/departamento-en-venta-en-villa-devoto-6-ambientes--11772155',\n",
       " 'https://www.argenprop.com/departamento-en-venta-en-villa-devoto-3-ambientes--11350151',\n",
       " 'https://www.argenprop.com/departamento-en-venta-en-villa-devoto-3-ambientes--11729676',\n",
       " 'https://www.argenprop.com/departamento-en-venta-en-villa-devoto-3-ambientes--12050626',\n",
       " 'https://www.argenprop.com/departamento-en-venta-en-villa-devoto-4-ambientes--11702264']"
      ]
     },
     "execution_count": 44,
     "metadata": {},
     "output_type": "execute_result"
    }
   ],
   "source": [
    "Url8"
   ]
  },
  {
   "cell_type": "code",
   "execution_count": 45,
   "id": "f02c344f",
   "metadata": {},
   "outputs": [],
   "source": [
    "url9 = 'https://www.argenprop.com/inmuebles-venta-pais-argentina-pagina-9'\n",
    "resp9 = requests.get(url9)\n",
    "soup9 = BeautifulSoup(resp9.content, 'html.parser')\n",
    "links9 = soup9.find_all('a')"
   ]
  },
  {
   "cell_type": "code",
   "execution_count": 46,
   "id": "35162641",
   "metadata": {},
   "outputs": [],
   "source": [
    "Url9 = []\n",
    "\n",
    "for i in links9:\n",
    "    if i.get('href')[0:5]==\"/depa\" or i.get('href')[0:5]==\"/casa\":\n",
    "        #urls = link.get('href')\n",
    "        Url9.append(\"https://www.argenprop.com\" + i.get(\"href\"))"
   ]
  },
  {
   "cell_type": "code",
   "execution_count": 47,
   "id": "cfb8fc58",
   "metadata": {},
   "outputs": [
    {
     "data": {
      "text/plain": [
       "['https://www.argenprop.com/departamento-en-venta-en-recoleta-2-ambientes--11461173',\n",
       " 'https://www.argenprop.com/departamento-en-venta-en-olivos-vias-maipu-5-ambientes--12016448',\n",
       " 'https://www.argenprop.com/departamento-en-venta-en-olivos-maipu-uzal-3-ambientes--10905776',\n",
       " 'https://www.argenprop.com/departamento-en-venta-en-olivos-maipu-uzal-4-ambientes--11979606',\n",
       " 'https://www.argenprop.com/departamento-en-venta-en-olivos-maipu-uzal-4-ambientes--11421269',\n",
       " 'https://www.argenprop.com/departamento-en-venta-en-olivos-2-ambientes--12077900',\n",
       " 'https://www.argenprop.com/departamento-en-venta-en-olivos-5-ambientes--11613287',\n",
       " 'https://www.argenprop.com/departamento-en-venta-en-olivos-3-ambientes--8500335',\n",
       " 'https://www.argenprop.com/casa-en-venta-en-olivos-5-ambientes--11605740',\n",
       " 'https://www.argenprop.com/departamento-en-venta-en-olivos-vias-maipu-2-ambientes--11335671',\n",
       " 'https://www.argenprop.com/departamento-en-venta-en-olivos-3-ambientes--11969608',\n",
       " 'https://www.argenprop.com/casa-en-venta-en-olivos-golf-4-ambientes--7895457',\n",
       " 'https://www.argenprop.com/departamento-en-venta-en-olivos-maipu-uzal-7-ambientes--11553153',\n",
       " 'https://www.argenprop.com/departamento-en-venta-en-olivos-maipu-uzal-2-ambientes--11016627',\n",
       " 'https://www.argenprop.com/casa-en-venta-en-olivos-maipu-uzal-4-ambientes--8092906',\n",
       " 'https://www.argenprop.com/casa-en-venta-en-olivos-maipu-uzal-3-ambientes--11691511',\n",
       " 'https://www.argenprop.com/casa-en-venta-en-olivos-maipu-uzal-3-ambientes--11614027',\n",
       " 'https://www.argenprop.com/departamento-en-venta-en-olivos-2-ambientes--11662764',\n",
       " 'https://www.argenprop.com/departamento-en-venta-en-villa-devoto-4-ambientes--11881972',\n",
       " 'https://www.argenprop.com/departamento-en-venta-en-villa-crespo-2-ambientes--11946461']"
      ]
     },
     "execution_count": 47,
     "metadata": {},
     "output_type": "execute_result"
    }
   ],
   "source": [
    "Url9"
   ]
  },
  {
   "cell_type": "code",
   "execution_count": 48,
   "id": "461c215f",
   "metadata": {},
   "outputs": [],
   "source": [
    "url10 = 'https://www.argenprop.com/inmuebles-venta-pais-argentina-pagina-10'\n",
    "resp10 = requests.get(url10)\n",
    "soup10 = BeautifulSoup(resp10.content, 'html.parser')\n",
    "links10 = soup10.find_all('a')"
   ]
  },
  {
   "cell_type": "code",
   "execution_count": 49,
   "id": "026ce008",
   "metadata": {},
   "outputs": [],
   "source": [
    "Url10 = []\n",
    "\n",
    "for i in links10:\n",
    "    if i.get('href')[0:5]==\"/depa\" or i.get('href')[0:5]==\"/casa\":\n",
    "        #urls = link.get('href')\n",
    "        Url10.append(\"https://www.argenprop.com\" + i.get(\"href\"))"
   ]
  },
  {
   "cell_type": "code",
   "execution_count": 50,
   "id": "e8457fcf",
   "metadata": {},
   "outputs": [
    {
     "data": {
      "text/plain": [
       "['https://www.argenprop.com/departamento-en-venta-en-recoleta-4-ambientes--11809445',\n",
       " 'https://www.argenprop.com/departamento-en-venta-en-villa-crespo-2-ambientes--8201979',\n",
       " 'https://www.argenprop.com/casa-en-venta-en-olivos-maipu-uzal-5-ambientes--10935370',\n",
       " 'https://www.argenprop.com/casa-en-venta-en-olivos-5-ambientes--11546029',\n",
       " 'https://www.argenprop.com/casa-en-venta-en-olivos-5-ambientes--9033452',\n",
       " 'https://www.argenprop.com/casa-en-venta-en-olivos-roche-4-ambientes--11341447',\n",
       " 'https://www.argenprop.com/casa-en-venta-en-olivos-maipu-uzal-6-ambientes--10393940',\n",
       " 'https://www.argenprop.com/casa-en-venta-en-olivos-roche-5-ambientes--7895188',\n",
       " 'https://www.argenprop.com/casa-en-venta-en-olivos-rugby-3-ambientes--11614568',\n",
       " 'https://www.argenprop.com/casa-en-venta-en-olivos-golf-6-ambientes--9037541',\n",
       " 'https://www.argenprop.com/departamento-en-venta-en-villa-crespo-2-ambientes--12032105',\n",
       " 'https://www.argenprop.com/casa-en-venta-en-olivos-maipu-uzal-3-ambientes--7895250',\n",
       " 'https://www.argenprop.com/casa-en-venta-en-olivos-maipu-uzal-3-ambientes--11656659',\n",
       " 'https://www.argenprop.com/departamento-en-venta-en-palermo-hollywood-3-ambientes--11691311',\n",
       " 'https://www.argenprop.com/departamento-en-venta-en-barrio-norte-2-ambientes--12099491',\n",
       " 'https://www.argenprop.com/departamento-en-venta-en-barrio-norte-4-ambientes--12091266',\n",
       " 'https://www.argenprop.com/departamento-en-venta-en-barrio-norte-2-ambientes--12091125',\n",
       " 'https://www.argenprop.com/departamento-en-venta-en-barrio-norte-3-ambientes--12091196',\n",
       " 'https://www.argenprop.com/departamento-en-venta-en-olivos-maipu-uzal-2-ambientes--8113282',\n",
       " 'https://www.argenprop.com/departamento-en-venta-en-la-plata-2-ambientes--8964634']"
      ]
     },
     "execution_count": 50,
     "metadata": {},
     "output_type": "execute_result"
    }
   ],
   "source": [
    "Url10"
   ]
  },
  {
   "cell_type": "code",
   "execution_count": 51,
   "id": "07f6ee08",
   "metadata": {},
   "outputs": [
    {
     "name": "stdout",
     "output_type": "stream",
     "text": [
      "https://www.argenprop.com/departamento-en-venta-en-recoleta-4-ambientes--11809445\n"
     ]
    }
   ],
   "source": [
    "descrip = Url10[0]\n",
    "print(descrip)"
   ]
  },
  {
   "cell_type": "code",
   "execution_count": 52,
   "id": "1ebdc265",
   "metadata": {},
   "outputs": [],
   "source": [
    "respDes = requests.get(descrip)\n",
    "soupDes = BeautifulSoup(respDes.content, 'html.parser')"
   ]
  },
  {
   "cell_type": "code",
   "execution_count": 53,
   "id": "36053348",
   "metadata": {},
   "outputs": [],
   "source": [
    "precio = soupDes.find('p', {'class':'titlebar__price'})"
   ]
  },
  {
   "cell_type": "code",
   "execution_count": 54,
   "id": "24287d3b",
   "metadata": {},
   "outputs": [
    {
     "data": {
      "text/plain": [
       "'USD 275.000'"
      ]
     },
     "execution_count": 54,
     "metadata": {},
     "output_type": "execute_result"
    }
   ],
   "source": [
    "precio.text.strip()"
   ]
  },
  {
   "cell_type": "code",
   "execution_count": 55,
   "id": "b7756f37",
   "metadata": {},
   "outputs": [],
   "source": [
    "estado = soupDes.find('h2', {'class':'titlebar__title'})"
   ]
  },
  {
   "cell_type": "code",
   "execution_count": 56,
   "id": "080ef04f",
   "metadata": {},
   "outputs": [
    {
     "data": {
      "text/plain": [
       "'Departamento en Venta en Recoleta, Barrio Norte'"
      ]
     },
     "execution_count": 56,
     "metadata": {},
     "output_type": "execute_result"
    }
   ],
   "source": [
    "estado.text"
   ]
  },
  {
   "cell_type": "code",
   "execution_count": 57,
   "id": "4d6c56b9",
   "metadata": {},
   "outputs": [],
   "source": [
    "detalle = soupDes.findAll('li', {'title':'Dormitorios'})"
   ]
  },
  {
   "cell_type": "code",
   "execution_count": 58,
   "id": "1244c7a4",
   "metadata": {},
   "outputs": [
    {
     "data": {
      "text/plain": [
       "[<li title=\"Dormitorios\">\n",
       " <i class=\"icono-cantidad_dormitorios\"></i>\n",
       " <div class=\"desktop\">\n",
       " <p class=\"strong\">3 dormitorios</p>\n",
       " </div>\n",
       " <div class=\"mobile\">\n",
       " <p class=\"strong\"> 3 dorm. </p>\n",
       " </div>\n",
       " </li>]"
      ]
     },
     "execution_count": 58,
     "metadata": {},
     "output_type": "execute_result"
    }
   ],
   "source": [
    "detalle"
   ]
  },
  {
   "cell_type": "code",
   "execution_count": 59,
   "id": "1ada8802",
   "metadata": {},
   "outputs": [
    {
     "name": "stdout",
     "output_type": "stream",
     "text": [
      "[<p class=\"strong\">96  m² Cubierta</p>, <p class=\"strong\"> 96  m² cubie. </p>, <p class=\"strong\">3 dormitorios</p>, <p class=\"strong\"> 3 dorm. </p>, <p class=\"strong\">50 años </p>, <p class=\"strong\"> 50 años </p>, <p class=\"strong\">2 baños</p>, <p class=\"strong\"> 2 baños </p>, <p class=\"strong\">4 ambientes</p>, <p class=\"strong\"> 4 ambientes </p>, <p class=\"strong\">1 cocheras</p>, <p class=\"strong\"> 1 cocheras </p>, <p class=\"strong\">Contrafrente </p>, <p class=\"strong\"> Contra. </p>, <p class=\"strong\">Norte </p>, <p class=\"strong\"> Norte </p>]\n",
      "16\n"
     ]
    }
   ],
   "source": [
    "datos = soupDes.findAll('p', {'class':'strong'})\n",
    "print(datos)\n",
    "print(len(datos))"
   ]
  },
  {
   "cell_type": "code",
   "execution_count": 60,
   "id": "c58e1838",
   "metadata": {},
   "outputs": [
    {
     "data": {
      "text/plain": [
       "bs4.element.ResultSet"
      ]
     },
     "execution_count": 60,
     "metadata": {},
     "output_type": "execute_result"
    }
   ],
   "source": [
    "type(datos)"
   ]
  },
  {
   "cell_type": "code",
   "execution_count": 61,
   "id": "12e2eb2a",
   "metadata": {},
   "outputs": [
    {
     "name": "stdout",
     "output_type": "stream",
     "text": [
      "['96  m² Cubierta', ' 96  m² cubie. ', '3 dormitorios', ' 3 dorm. ', '50 años ', ' 50 años ', '2 baños', ' 2 baños ', '4 ambientes', ' 4 ambientes ', '1 cocheras', ' 1 cocheras ', 'Contrafrente ', ' Contra. ', 'Norte ', ' Norte ']\n",
      "['96']\n"
     ]
    }
   ],
   "source": [
    "# Eliminamos matches vacíos y hacemos trim(strip) a los resultados para quitar espacios y tabuladores innecesarios\n",
    "matches = []\n",
    "for dato in datos:\n",
    "    #match = re.findall(\">(.*?)<\", dato)\n",
    "    matches.append(dato.text)\n",
    "print(matches)\n",
    "\n",
    "metrosCubiertos = re.findall(\"(.+?)\\s*m²\",matches[0]) \n",
    "print(metrosCubiertos)"
   ]
  },
  {
   "cell_type": "code",
   "execution_count": 87,
   "id": "3c892c33",
   "metadata": {},
   "outputs": [
    {
     "name": "stdout",
     "output_type": "stream",
     "text": [
      "['96']\n"
     ]
    }
   ],
   "source": [
    "metros = re.findall(\"(\\S+?)\\s*m²\", matches[0])\n",
    "print(metros)    "
   ]
  },
  {
   "cell_type": "code",
   "execution_count": 88,
   "id": "508b0a61",
   "metadata": {},
   "outputs": [],
   "source": [
    "descrip1 = Url10[1]\n",
    "respDes = requests.get(descrip)\n",
    "soupDes = BeautifulSoup(respDes.content, 'html.parser')\n",
    "datos = soupDes.findAll('p', {'class':'strong'})"
   ]
  },
  {
   "cell_type": "markdown",
   "id": "36ad2d15",
   "metadata": {},
   "source": [
    "#Crear una función que busque el primer resulatdo de una expresión regular\n",
    "\n",
    "def primerResultado(regEx, text):\n",
    "    listaResultados = re.findall(regEx, text)\n",
    "    if listaResultados len 0\n",
    "    si len 1:\n",
    "        resultado = listaResultados[0]\n",
    "    si no existe:\n",
    "        resultado = 0\n",
    "    \n",
    "    return resultado\n",
    "\n",
    "\n",
    "...\n",
    "\n",
    "def extraccion(url)\n",
    "    superficie = primerResultado(\"[0-9]+ m2\", match1)\n",
    "    habitaciones = primerResultado(\"[0-9]+ ambientes\", match2)"
   ]
  },
  {
   "cell_type": "code",
   "execution_count": 92,
   "id": "2d9da2f2",
   "metadata": {},
   "outputs": [],
   "source": [
    "#creamos una funcion para extraer el numero especifico de ciertos campos que necesitamos.\n",
    "def valorNumerico(regEx, text):\n",
    "    listaResultados = re.findall(regEx, text)\n",
    "    if len(listaResultados) == 1:\n",
    "        resuldao = listaResultados[0]\n",
    "    else:\n",
    "        resultado = 0\n",
    "    \n",
    "    return resultado"
   ]
  },
  {
   "cell_type": "code",
   "execution_count": null,
   "id": "6da38a32",
   "metadata": {},
   "outputs": [],
   "source": [
    "superficie = valorNumerico(\"(\\S+?)\\s*m²\", matches[0])\n",
    "habitaciones = valorNumerico(\"(.?)\\s*am\",matches[9])"
   ]
  },
  {
   "cell_type": "code",
   "execution_count": null,
   "id": "d1704642",
   "metadata": {},
   "outputs": [],
   "source": []
  },
  {
   "cell_type": "code",
   "execution_count": 96,
   "id": "55161fac",
   "metadata": {},
   "outputs": [
    {
     "name": "stdout",
     "output_type": "stream",
     "text": [
      "axample atring\n"
     ]
    }
   ],
   "source": [
    "s = \"Example String\"\n",
    "replaced = re.sub('[ES]', 'a', s)\n",
    "print(replaced)"
   ]
  },
  {
   "cell_type": "code",
   "execution_count": 64,
   "id": "a860c524",
   "metadata": {},
   "outputs": [],
   "source": [
    "def extraccion(url):\n",
    "    respDes = requests.get(url)\n",
    "    soupDes = BeautifulSoup(respDes.content, 'html.parser')\n",
    "    datosInmueble = soupDes.findAll('p', {'class':'strong'})\n",
    "    precio = soupDes.find('p', {'class':'titlebar__price'})\n",
    "    barrio = soupDes.find('h2', {'class':'titlebar__title'})\n",
    "    \n",
    "    #Hacemos un for de dato ala variable datosInmuebles y hacemos un appened a una variable vacia para que nos los asigne. \n",
    "    matches = []\n",
    "    for dato in datosInmueble:\n",
    "        #match = re.findall(\">(.*?)<\", dato)\n",
    "        matches.append(dato.text)\n",
    "        \n",
    "   \n",
    "    #Hacemos un re.findall para extraer los METROS CUBIERTOS del inmueble, en la variable matches.    \n",
    "    metrosCubiertos = re.findall(\"(.+?)\\s*m²\",matches[0])\n",
    "    \n",
    "    #Hacemos un re.findall para extraer los DORMITORIOS del inmueble, en la variable matches.\n",
    "    dormitorios = re.findall(\"(.?)\\s*d\",matches[3]) \n",
    "    \n",
    "    #Hacemos un re.findall para extraer los AÑOS DE ANTIGUDAD del inmubele, en la variable matches.\n",
    "    antiguedad = re.findall(\"(.+?)\\s*a\",matches[4])\n",
    "    \n",
    "    if antiguedad == (\"[A-Z]+\"):\n",
    "        antiguedad == (0)\n",
    "    \n",
    "    \n",
    "    #Hacemos un re.findall para extraer los BAÑOS que tiene el inmubele, en la variable matches.\n",
    "    matchToilets = re.findall(\"(.?)\\s*b\",matches[7])\n",
    "    #Hacemos otro re.findall pidiendole solo los valores numericos, si no es asi me dara un 0 en el return.\n",
    "    numeroEncontrados = re.findall(\"[0-9]+\",matchToilets[0])     \n",
    "    if len(numeroEncontrados) == 1:\n",
    "        toilets = numeroEncontrados[0]\n",
    "    else: \n",
    "        return[0, 0, 0, 0, 0, 0, 0]\n",
    "        \n",
    "    \n",
    "    #Hacemos un re.findall para extraer los AMBIENTES O ZONAS COMO SE DIVIDE el inmubele, en la variable matches.\n",
    "    ambientes = re.findall(\"(.?)\\s*am\",matches[9])\n",
    "    #print(\"m9: \", matches[9]) \n",
    "    #print(\"am: \", ambientes)\n",
    "    \n",
    "    #hacemos un .text en la variable precio para que nos de solamente el texto que contiene y nos elimine las eiquetas.    \n",
    "    price = precio.text\n",
    "    #Hacemos un re.findall ala variable price para que nos eliomine los caracteeres innecesarios. \n",
    "    precio = re.findall(\"([0-9].+?)\\n\", price)\n",
    "    \n",
    "    \n",
    "    #hacemos lo mismo con la variable barrio, le hacemos .text\n",
    "    barrio = barrio.text\n",
    "    \n",
    "    \n",
    "    #Pedimos un return de nuestra funcion de las variables que queremos ver.     \n",
    "    return [precio, barrio, metrosCubiertos, dormitorios, antiguedad ,toilets, ambientes]\n",
    "    \n"
   ]
  },
  {
   "cell_type": "code",
   "execution_count": 65,
   "id": "65ba2291",
   "metadata": {},
   "outputs": [
    {
     "name": "stdout",
     "output_type": "stream",
     "text": [
      "[['235.000'], 'Casa en Venta en Olivos Maipu/Uzal, Olivos', ['130'], ['2'], ['50'], '1', ['3']]\n"
     ]
    }
   ],
   "source": [
    "url = \"https://www.argenprop.com/casa-en-venta-en-olivos-maipu-uzal-3-ambientes--11691511\"\n",
    "#url = \"https://www.argenprop.com/casa-en-venta-en-olivos-maipu-uzal-3-ambientes--11656659\"\n",
    "print(extraccion(url))"
   ]
  },
  {
   "cell_type": "code",
   "execution_count": 66,
   "id": "729b2260",
   "metadata": {},
   "outputs": [
    {
     "name": "stdout",
     "output_type": "stream",
     "text": [
      "[0, 0, 0, 0, 0, 0, 0]\n"
     ]
    }
   ],
   "source": [
    "url = \"https://www.argenprop.com/departamento-en-venta-en-olivos-maipu-uzal-7-ambientes--11553153\"\n",
    "print(extraccion(url))"
   ]
  },
  {
   "cell_type": "code",
   "execution_count": 67,
   "id": "3ac9c0eb",
   "metadata": {},
   "outputs": [
    {
     "name": "stdout",
     "output_type": "stream",
     "text": [
      "[['275.000'], 'Departamento en Venta en Recoleta, Barrio Norte', ['96'], ['3'], ['50'], '2', ['4']]\n",
      "[['71.933'], 'Departamento en Venta en Villa Crespo, Capital Federal', ['46'], ['1'], ['A estren'], '1', ['2']]\n",
      "[['265.000'], 'Casa en Venta en Olivos Maipu/Uzal, Olivos', ['114'], ['4'], ['A Estren'], '3', ['5']]\n",
      "[['330.000'], 'Casa en Venta en Olivos, Vicente Lopez', ['280'], ['4'], ['10'], '2', ['5']]\n",
      "[['380.000'], 'Casa en Venta en Olivos, Vicente Lopez', ['155'], ['4'], ['10'], '4', ['5']]\n",
      "[['230.000'], 'Casa en Venta en Olivos Roche, Olivos', ['166'], ['3'], ['40'], '2', ['4']]\n",
      "[['350.000'], 'Casa en Venta en Olivos Maipu/Uzal, Olivos', ['168'], ['4'], ['14'], '2', ['6']]\n",
      "[['320.000'], 'Casa en Venta en Olivos Roche, Olivos', ['184'], ['4'], ['25'], '3', ['5']]\n",
      "[['158.000'], 'Casa en Venta en Olivos Rugby, Olivos', ['71'], ['2'], ['A estren'], '2', ['3']]\n",
      "[['280.000'], 'Casa en Venta en Olivos Golf, Olivos', ['169'], ['5'], ['35'], '2', ['6']]\n",
      "[['77.900'], 'Departamento en Venta en Villa Crespo, Capital Federal', ['35'], ['1'], ['25'], '1', ['2']]\n",
      "[['180.000'], 'Casa en Venta en Olivos Maipu/Uzal, Olivos', ['185'], ['2'], ['35'], '1', ['3']]\n",
      "[['249.000'], 'Casa en Venta en Olivos Maipu/Uzal, Olivos', ['120'], ['2'], ['55'], '1', ['3']]\n",
      "[['149.000'], 'Departamento en Venta en Palermo Hollywood, Palermo', ['56'], ['2'], ['40'], '1', ['3']]\n",
      "[['43.000'], 'Departamento en Venta en Barrio Norte, La Plata', ['38'], ['1'], ['-1'], '1', ['2']]\n",
      "[['123.900'], 'Departamento en Venta en Barrio Norte, La Plata', ['107'], ['3'], ['-1'], '2', ['4']]\n",
      "[['47.000'], 'Departamento en Venta en Barrio Norte, La Plata', ['44'], ['1'], ['-1'], '1', ['2']]\n",
      "[['74.500'], 'Departamento en Venta en Barrio Norte, La Plata', ['65'], ['2'], ['-1'], '2', ['3']]\n",
      "[['62.000'], 'Departamento en Venta en Olivos Maipu/Uzal, Olivos', ['38'], ['1'], ['12'], '1', ['2']]\n",
      "[['56.400'], 'Departamento en Venta en La Plata, Buenos Aires', ['44'], ['1'], ['A Estren'], '1', ['2']]\n"
     ]
    }
   ],
   "source": [
    "for url in Url10:\n",
    "    print(extraccion(url))"
   ]
  },
  {
   "cell_type": "code",
   "execution_count": 68,
   "id": "4e9cfa2e",
   "metadata": {},
   "outputs": [],
   "source": [
    "url = \"https://www.argenprop.com/casa-en-venta-en-olivos-maipu-uzal-3-ambientes--11656659\"\n",
    "respDes = requests.get(url)\n",
    "soupDes = BeautifulSoup(respDes.content, 'html.parser')\n",
    "datosInmueble = soupDes.findAll('p', {'class':'strong'})\n",
    "matche = []\n",
    "for dato in datosInmueble:\n",
    "        #match = re.findall(\">(.*?)<\", dato)\n",
    "        matche.append(dato.text)"
   ]
  },
  {
   "cell_type": "code",
   "execution_count": 69,
   "id": "b3cbabe9",
   "metadata": {},
   "outputs": [
    {
     "data": {
      "text/plain": [
       "['120  m² Cubierta',\n",
       " ' 120  m² cubie. ',\n",
       " '2 dormitorios',\n",
       " ' 2 dorm. ',\n",
       " '55 años ',\n",
       " ' 55 años ',\n",
       " '1 baño',\n",
       " ' 1 baño ',\n",
       " '3 ambientes',\n",
       " ' 3 ambientes ',\n",
       " '1 cochera',\n",
       " ' 1 cochera ',\n",
       " 'Sur ',\n",
       " ' Sur ',\n",
       " '225  m² Construible',\n",
       " ' 225  m² constr. ']"
      ]
     },
     "execution_count": 69,
     "metadata": {},
     "output_type": "execute_result"
    }
   ],
   "source": [
    "matche"
   ]
  },
  {
   "cell_type": "code",
   "execution_count": 70,
   "id": "59ecca4a",
   "metadata": {},
   "outputs": [],
   "source": [
    "def prueba(url):\n",
    "    respDes = requests.get(url)\n",
    "    soupDes = BeautifulSoup(respDes.content, 'html.parser')\n",
    "    datosInmueble = soupDes.findAll('p', {'class':'strong'})\n",
    "    precio = soupDes.find('p', {'class':'titlebar__price'})\n",
    "    barrio = soupDes.find('h2', {'class':'titlebar__title'})\n",
    "    \n",
    "    #Hacemos un for de dato ala variable datosInmuebles y hacemos un appened a una variable vacia para que nos los asigne. \n",
    "    matches = []\n",
    "    for dato in datosInmueble:\n",
    "        #match = re.findall(\">(.*?)<\", dato)\n",
    "        matches.append(dato.text)\n",
    "        \n",
    "        \n",
    "    #Hacemos un re.findall para extraer los METROS CUBIERTOS del inmueble, en la variable matches.    \n",
    "    metrosCubiertos = re.findall(\"(.+?)\\s*m²\",matches[0]) \n",
    "    metros = []\n",
    "    for valores in metrosCubiertos:\n",
    "        match = re.findall(\"`[0-9]+\", valores)\n",
    "        print(len(match))\n",
    "        if len(match) == 1:\n",
    "            metros.appened(valores)\n",
    "    \n",
    "    print(metros)\n",
    "    \n",
    "    #Hacemos un re.findall para extraer los DORMITORIOS del inmueble, en la variable matches.\n",
    "    #dormitorios = re.findall(\"(.?)\\s*d\",matches[3]) \n",
    "    \n",
    "    #Hacemos un re.findall para extraer los AÑOS DE ANTIGUDAD del inmubele, en la variable matches.\n",
    "    #antiguedad = re.findall(\"(.+?)\\s*a\",matches[4])\n",
    "    \n",
    "    #Hacemos un re.findall para extraer los BAÑOS que tiene el inmubele, en la variable matches.\n",
    "    #toilets = re.findall(\"(.?)\\s*b\",matches[7])\n",
    "    \n",
    "    #Hacemos un re.findall para extraer los AMBIENTES O ZONAS COMO SE DIVIDE el inmubele, en la variable matches.\n",
    "    #ambientes = re.findall(\"(.?)\\s*am\",matches[9])\n",
    "    \n",
    "    #Hacemos un re.findall para extraer los GARAJESD del el inmubele, en la variable matches.\n",
    "    #garajes = re.findall(\"(.?)\\s*co\",matches[11])\n",
    "    \n",
    "    #Hacemos un re.findall para extraer los METROS TOTALES DEL TERRENO del el inmubele, en la variable matches.\n",
    "    #terrenoTotal = re.findall(\"(.+?)\\s*m²\",matches[13])\n",
    "    \n",
    "    #hacemos un .text en la variable precio para que nos de solamente el texto que contiene y nos elimine las eiquetas.    \n",
    "    price = precio.text\n",
    "    #Hacemos un re.findall ala variable price para que nos eliomine los caracteeres innecesarios. \n",
    "    precio = re.findall(\"([0-9].+?)\\n\", price)\n",
    "    \n",
    "    \n",
    "    #hacemos lo mismo con la variable barrio, le hacemos .text\n",
    "    barrio = barrio.text\n",
    "    \n",
    "    \n",
    "    #Pedimos un return de nuestra funcion de las variables que queremos ver.     \n",
    "    return [precio, barrio, matches]"
   ]
  },
  {
   "cell_type": "code",
   "execution_count": 78,
   "id": "50790e54",
   "metadata": {},
   "outputs": [],
   "source": [
    "for url in Url10:\n",
    "    print(prueba(url))"
   ]
  },
  {
   "cell_type": "code",
   "execution_count": null,
   "id": "530fa87b",
   "metadata": {},
   "outputs": [],
   "source": []
  },
  {
   "cell_type": "code",
   "execution_count": null,
   "id": "51bca7b1",
   "metadata": {},
   "outputs": [],
   "source": []
  }
 ],
 "metadata": {
  "kernelspec": {
   "display_name": "Python 3 (ipykernel)",
   "language": "python",
   "name": "python3"
  },
  "language_info": {
   "codemirror_mode": {
    "name": "ipython",
    "version": 3
   },
   "file_extension": ".py",
   "mimetype": "text/x-python",
   "name": "python",
   "nbconvert_exporter": "python",
   "pygments_lexer": "ipython3",
   "version": "3.9.12"
  }
 },
 "nbformat": 4,
 "nbformat_minor": 5
}
