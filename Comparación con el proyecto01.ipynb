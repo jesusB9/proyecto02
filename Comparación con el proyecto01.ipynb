{
 "cells": [
  {
   "cell_type": "code",
   "execution_count": 1,
   "id": "ecb14540",
   "metadata": {},
   "outputs": [],
   "source": [
    "%matplotlib inline\n",
    "from matplotlib import pyplot as plt\n",
    "import numpy as np\n",
    "import pandas as pd\n",
    "import csv\n",
    "import matplotlib.pyplot as plt\n",
    "import matplotlib\n",
    "import seaborn as sns\n",
    "from sklearn import datasets, preprocessing\n",
    "from sklearn import datasets, linear_model\n",
    "from sklearn.metrics import mean_squared_error, r2_score\n",
    "from sklearn.model_selection import train_test_split\n",
    "from sklearn.linear_model import LinearRegression\n",
    "from sklearn.pipeline import Pipeline\n",
    "from sklearn.compose import ColumnTransformer\n",
    "from sklearn.preprocessing import StandardScaler, OneHotEncoder\n",
    "from sklearn.preprocessing import MinMaxScaler\n",
    "import warnings\n",
    "warnings.filterwarnings('ignore')"
   ]
  },
  {
   "cell_type": "code",
   "execution_count": 2,
   "id": "5659e865",
   "metadata": {},
   "outputs": [],
   "source": [
    "#__IMPORTAMOS NUESTRO ARCHIVO CSV__Y LO CONVERTIMOS EN UN DATAFRAME__\n",
    "df01=pd.read_csv(r\"C:\\Users\\jesus\\Documents\\data scince\\github\\properatti.csv\" ,delimiter=\",\")\n",
    "pd.set_option('display.max_columns', None)\n",
    "df01=df01.drop([\"Unnamed: 0\"], axis=1)"
   ]
  },
  {
   "cell_type": "code",
   "execution_count": 3,
   "id": "f4ce2df6",
   "metadata": {},
   "outputs": [
    {
     "data": {
      "text/html": [
       "<div>\n",
       "<style scoped>\n",
       "    .dataframe tbody tr th:only-of-type {\n",
       "        vertical-align: middle;\n",
       "    }\n",
       "\n",
       "    .dataframe tbody tr th {\n",
       "        vertical-align: top;\n",
       "    }\n",
       "\n",
       "    .dataframe thead th {\n",
       "        text-align: right;\n",
       "    }\n",
       "</style>\n",
       "<table border=\"1\" class=\"dataframe\">\n",
       "  <thead>\n",
       "    <tr style=\"text-align: right;\">\n",
       "      <th></th>\n",
       "      <th>operation</th>\n",
       "      <th>property_type</th>\n",
       "      <th>place_name</th>\n",
       "      <th>place_with_parent_names</th>\n",
       "      <th>country_name</th>\n",
       "      <th>state_name</th>\n",
       "      <th>geonames_id</th>\n",
       "      <th>lat-lon</th>\n",
       "      <th>lat</th>\n",
       "      <th>lon</th>\n",
       "      <th>price</th>\n",
       "      <th>currency</th>\n",
       "      <th>price_aprox_local_currency</th>\n",
       "      <th>price_aprox_usd</th>\n",
       "      <th>surface_total_in_m2</th>\n",
       "      <th>surface_covered_in_m2</th>\n",
       "      <th>price_usd_per_m2</th>\n",
       "      <th>price_per_m2</th>\n",
       "      <th>floor</th>\n",
       "      <th>rooms</th>\n",
       "      <th>expenses</th>\n",
       "      <th>properati_url</th>\n",
       "      <th>description</th>\n",
       "      <th>title</th>\n",
       "      <th>image_thumbnail</th>\n",
       "    </tr>\n",
       "  </thead>\n",
       "  <tbody>\n",
       "    <tr>\n",
       "      <th>0</th>\n",
       "      <td>sell</td>\n",
       "      <td>PH</td>\n",
       "      <td>Mataderos</td>\n",
       "      <td>|Argentina|Capital Federal|Mataderos|</td>\n",
       "      <td>Argentina</td>\n",
       "      <td>Capital Federal</td>\n",
       "      <td>3430787.0</td>\n",
       "      <td>-34.6618237,-58.5088387</td>\n",
       "      <td>-34.661824</td>\n",
       "      <td>-58.508839</td>\n",
       "      <td>62000.0</td>\n",
       "      <td>USD</td>\n",
       "      <td>1093959.0</td>\n",
       "      <td>62000.0</td>\n",
       "      <td>55.0</td>\n",
       "      <td>40.0</td>\n",
       "      <td>1127.272727</td>\n",
       "      <td>1550.000000</td>\n",
       "      <td>NaN</td>\n",
       "      <td>NaN</td>\n",
       "      <td>NaN</td>\n",
       "      <td>http://www.properati.com.ar/15bo8_venta_ph_mat...</td>\n",
       "      <td>2 AMBIENTES TIPO CASA PLANTA BAJA POR PASILLO,...</td>\n",
       "      <td>2 AMB TIPO CASA SIN EXPENSAS EN PB</td>\n",
       "      <td>https://thumbs4.properati.com/8/BluUYiHJLhgIIK...</td>\n",
       "    </tr>\n",
       "    <tr>\n",
       "      <th>1</th>\n",
       "      <td>sell</td>\n",
       "      <td>apartment</td>\n",
       "      <td>La Plata</td>\n",
       "      <td>|Argentina|Bs.As. G.B.A. Zona Sur|La Plata|</td>\n",
       "      <td>Argentina</td>\n",
       "      <td>Bs.As. G.B.A. Zona Sur</td>\n",
       "      <td>3432039.0</td>\n",
       "      <td>-34.9038831,-57.9643295</td>\n",
       "      <td>-34.903883</td>\n",
       "      <td>-57.964330</td>\n",
       "      <td>150000.0</td>\n",
       "      <td>USD</td>\n",
       "      <td>2646675.0</td>\n",
       "      <td>150000.0</td>\n",
       "      <td>NaN</td>\n",
       "      <td>NaN</td>\n",
       "      <td>NaN</td>\n",
       "      <td>NaN</td>\n",
       "      <td>NaN</td>\n",
       "      <td>NaN</td>\n",
       "      <td>NaN</td>\n",
       "      <td>http://www.properati.com.ar/15bob_venta_depart...</td>\n",
       "      <td>Venta de departamento en décimo piso al frente...</td>\n",
       "      <td>VENTA Depto 2 dorm. a estrenar 7 e/ 36 y 37   ...</td>\n",
       "      <td>https://thumbs4.properati.com/7/ikpVBu2ztHA7jv...</td>\n",
       "    </tr>\n",
       "    <tr>\n",
       "      <th>2</th>\n",
       "      <td>sell</td>\n",
       "      <td>apartment</td>\n",
       "      <td>Mataderos</td>\n",
       "      <td>|Argentina|Capital Federal|Mataderos|</td>\n",
       "      <td>Argentina</td>\n",
       "      <td>Capital Federal</td>\n",
       "      <td>3430787.0</td>\n",
       "      <td>-34.6522615,-58.5229825</td>\n",
       "      <td>-34.652262</td>\n",
       "      <td>-58.522982</td>\n",
       "      <td>72000.0</td>\n",
       "      <td>USD</td>\n",
       "      <td>1270404.0</td>\n",
       "      <td>72000.0</td>\n",
       "      <td>55.0</td>\n",
       "      <td>55.0</td>\n",
       "      <td>1309.090909</td>\n",
       "      <td>1309.090909</td>\n",
       "      <td>NaN</td>\n",
       "      <td>NaN</td>\n",
       "      <td>NaN</td>\n",
       "      <td>http://www.properati.com.ar/15bod_venta_depart...</td>\n",
       "      <td>2 AMBIENTES 3ER PISO LATERAL LIVING COMEDOR AM...</td>\n",
       "      <td>2 AMB 3ER PISO CON ASCENSOR APTO CREDITO</td>\n",
       "      <td>https://thumbs4.properati.com/5/SXKr34F_IwG3W_...</td>\n",
       "    </tr>\n",
       "    <tr>\n",
       "      <th>3</th>\n",
       "      <td>sell</td>\n",
       "      <td>PH</td>\n",
       "      <td>Liniers</td>\n",
       "      <td>|Argentina|Capital Federal|Liniers|</td>\n",
       "      <td>Argentina</td>\n",
       "      <td>Capital Federal</td>\n",
       "      <td>3431333.0</td>\n",
       "      <td>-34.6477969,-58.5164244</td>\n",
       "      <td>-34.647797</td>\n",
       "      <td>-58.516424</td>\n",
       "      <td>95000.0</td>\n",
       "      <td>USD</td>\n",
       "      <td>1676227.5</td>\n",
       "      <td>95000.0</td>\n",
       "      <td>NaN</td>\n",
       "      <td>NaN</td>\n",
       "      <td>NaN</td>\n",
       "      <td>NaN</td>\n",
       "      <td>NaN</td>\n",
       "      <td>NaN</td>\n",
       "      <td>NaN</td>\n",
       "      <td>http://www.properati.com.ar/15boh_venta_ph_lin...</td>\n",
       "      <td>PH 3 ambientes con patio. Hay 3 deptos en lote...</td>\n",
       "      <td>PH 3 amb. cfte. reciclado</td>\n",
       "      <td>https://thumbs4.properati.com/3/DgIfX-85Mog5SP...</td>\n",
       "    </tr>\n",
       "    <tr>\n",
       "      <th>4</th>\n",
       "      <td>sell</td>\n",
       "      <td>apartment</td>\n",
       "      <td>Centro</td>\n",
       "      <td>|Argentina|Buenos Aires Costa Atlántica|Mar de...</td>\n",
       "      <td>Argentina</td>\n",
       "      <td>Buenos Aires Costa Atlántica</td>\n",
       "      <td>3435548.0</td>\n",
       "      <td>-38.0026256,-57.5494468</td>\n",
       "      <td>-38.002626</td>\n",
       "      <td>-57.549447</td>\n",
       "      <td>64000.0</td>\n",
       "      <td>USD</td>\n",
       "      <td>1129248.0</td>\n",
       "      <td>64000.0</td>\n",
       "      <td>35.0</td>\n",
       "      <td>35.0</td>\n",
       "      <td>1828.571429</td>\n",
       "      <td>1828.571429</td>\n",
       "      <td>NaN</td>\n",
       "      <td>NaN</td>\n",
       "      <td>NaN</td>\n",
       "      <td>http://www.properati.com.ar/15bok_venta_depart...</td>\n",
       "      <td>DEPARTAMENTO CON FANTÁSTICA ILUMINACIÓN NATURA...</td>\n",
       "      <td>DEPTO 2 AMB AL CONTRAFRENTE ZONA CENTRO/PLAZA ...</td>\n",
       "      <td>https://thumbs4.properati.com/5/xrRqlNcSI_vs-f...</td>\n",
       "    </tr>\n",
       "  </tbody>\n",
       "</table>\n",
       "</div>"
      ],
      "text/plain": [
       "  operation property_type place_name  \\\n",
       "0      sell            PH  Mataderos   \n",
       "1      sell     apartment   La Plata   \n",
       "2      sell     apartment  Mataderos   \n",
       "3      sell            PH    Liniers   \n",
       "4      sell     apartment     Centro   \n",
       "\n",
       "                             place_with_parent_names country_name  \\\n",
       "0              |Argentina|Capital Federal|Mataderos|    Argentina   \n",
       "1        |Argentina|Bs.As. G.B.A. Zona Sur|La Plata|    Argentina   \n",
       "2              |Argentina|Capital Federal|Mataderos|    Argentina   \n",
       "3                |Argentina|Capital Federal|Liniers|    Argentina   \n",
       "4  |Argentina|Buenos Aires Costa Atlántica|Mar de...    Argentina   \n",
       "\n",
       "                     state_name  geonames_id                  lat-lon  \\\n",
       "0               Capital Federal    3430787.0  -34.6618237,-58.5088387   \n",
       "1        Bs.As. G.B.A. Zona Sur    3432039.0  -34.9038831,-57.9643295   \n",
       "2               Capital Federal    3430787.0  -34.6522615,-58.5229825   \n",
       "3               Capital Federal    3431333.0  -34.6477969,-58.5164244   \n",
       "4  Buenos Aires Costa Atlántica    3435548.0  -38.0026256,-57.5494468   \n",
       "\n",
       "         lat        lon     price currency  price_aprox_local_currency  \\\n",
       "0 -34.661824 -58.508839   62000.0      USD                   1093959.0   \n",
       "1 -34.903883 -57.964330  150000.0      USD                   2646675.0   \n",
       "2 -34.652262 -58.522982   72000.0      USD                   1270404.0   \n",
       "3 -34.647797 -58.516424   95000.0      USD                   1676227.5   \n",
       "4 -38.002626 -57.549447   64000.0      USD                   1129248.0   \n",
       "\n",
       "   price_aprox_usd  surface_total_in_m2  surface_covered_in_m2  \\\n",
       "0          62000.0                 55.0                   40.0   \n",
       "1         150000.0                  NaN                    NaN   \n",
       "2          72000.0                 55.0                   55.0   \n",
       "3          95000.0                  NaN                    NaN   \n",
       "4          64000.0                 35.0                   35.0   \n",
       "\n",
       "   price_usd_per_m2  price_per_m2  floor  rooms  expenses  \\\n",
       "0       1127.272727   1550.000000    NaN    NaN       NaN   \n",
       "1               NaN           NaN    NaN    NaN       NaN   \n",
       "2       1309.090909   1309.090909    NaN    NaN       NaN   \n",
       "3               NaN           NaN    NaN    NaN       NaN   \n",
       "4       1828.571429   1828.571429    NaN    NaN       NaN   \n",
       "\n",
       "                                       properati_url  \\\n",
       "0  http://www.properati.com.ar/15bo8_venta_ph_mat...   \n",
       "1  http://www.properati.com.ar/15bob_venta_depart...   \n",
       "2  http://www.properati.com.ar/15bod_venta_depart...   \n",
       "3  http://www.properati.com.ar/15boh_venta_ph_lin...   \n",
       "4  http://www.properati.com.ar/15bok_venta_depart...   \n",
       "\n",
       "                                         description  \\\n",
       "0  2 AMBIENTES TIPO CASA PLANTA BAJA POR PASILLO,...   \n",
       "1  Venta de departamento en décimo piso al frente...   \n",
       "2  2 AMBIENTES 3ER PISO LATERAL LIVING COMEDOR AM...   \n",
       "3  PH 3 ambientes con patio. Hay 3 deptos en lote...   \n",
       "4  DEPARTAMENTO CON FANTÁSTICA ILUMINACIÓN NATURA...   \n",
       "\n",
       "                                               title  \\\n",
       "0                 2 AMB TIPO CASA SIN EXPENSAS EN PB   \n",
       "1  VENTA Depto 2 dorm. a estrenar 7 e/ 36 y 37   ...   \n",
       "2           2 AMB 3ER PISO CON ASCENSOR APTO CREDITO   \n",
       "3                       PH 3 amb. cfte. reciclado      \n",
       "4  DEPTO 2 AMB AL CONTRAFRENTE ZONA CENTRO/PLAZA ...   \n",
       "\n",
       "                                     image_thumbnail  \n",
       "0  https://thumbs4.properati.com/8/BluUYiHJLhgIIK...  \n",
       "1  https://thumbs4.properati.com/7/ikpVBu2ztHA7jv...  \n",
       "2  https://thumbs4.properati.com/5/SXKr34F_IwG3W_...  \n",
       "3  https://thumbs4.properati.com/3/DgIfX-85Mog5SP...  \n",
       "4  https://thumbs4.properati.com/5/xrRqlNcSI_vs-f...  "
      ]
     },
     "execution_count": 3,
     "metadata": {},
     "output_type": "execute_result"
    }
   ],
   "source": [
    "df01.head(5)"
   ]
  },
  {
   "cell_type": "code",
   "execution_count": 4,
   "id": "65d80248",
   "metadata": {},
   "outputs": [],
   "source": [
    "# Borramos las columnas que no vamos a comparar con el otro proyecto\n",
    "df=df01.drop([\"property_type\", \"operation\", \"state_name\", \"geonames_id\", \"place_name\", \"country_name\", \"place_with_parent_names\", \"price\", \"lat-lon\", \"lat\", \"lon\", \"price_aprox_local_currency\", \"surface_total_in_m2\", \"price_per_m2\", \"currency\", \"image_thumbnail\", \"price_usd_per_m2\", \"description\", \"title\", \"properati_url\", \"expenses\"], axis=1)"
   ]
  },
  {
   "cell_type": "code",
   "execution_count": 5,
   "id": "8c03cf4a",
   "metadata": {},
   "outputs": [
    {
     "data": {
      "text/html": [
       "<div>\n",
       "<style scoped>\n",
       "    .dataframe tbody tr th:only-of-type {\n",
       "        vertical-align: middle;\n",
       "    }\n",
       "\n",
       "    .dataframe tbody tr th {\n",
       "        vertical-align: top;\n",
       "    }\n",
       "\n",
       "    .dataframe thead th {\n",
       "        text-align: right;\n",
       "    }\n",
       "</style>\n",
       "<table border=\"1\" class=\"dataframe\">\n",
       "  <thead>\n",
       "    <tr style=\"text-align: right;\">\n",
       "      <th></th>\n",
       "      <th>price_aprox_usd</th>\n",
       "      <th>surface_covered_in_m2</th>\n",
       "      <th>floor</th>\n",
       "      <th>rooms</th>\n",
       "    </tr>\n",
       "  </thead>\n",
       "  <tbody>\n",
       "    <tr>\n",
       "      <th>0</th>\n",
       "      <td>62000.0</td>\n",
       "      <td>40.0</td>\n",
       "      <td>NaN</td>\n",
       "      <td>NaN</td>\n",
       "    </tr>\n",
       "    <tr>\n",
       "      <th>1</th>\n",
       "      <td>150000.0</td>\n",
       "      <td>NaN</td>\n",
       "      <td>NaN</td>\n",
       "      <td>NaN</td>\n",
       "    </tr>\n",
       "    <tr>\n",
       "      <th>2</th>\n",
       "      <td>72000.0</td>\n",
       "      <td>55.0</td>\n",
       "      <td>NaN</td>\n",
       "      <td>NaN</td>\n",
       "    </tr>\n",
       "    <tr>\n",
       "      <th>3</th>\n",
       "      <td>95000.0</td>\n",
       "      <td>NaN</td>\n",
       "      <td>NaN</td>\n",
       "      <td>NaN</td>\n",
       "    </tr>\n",
       "    <tr>\n",
       "      <th>4</th>\n",
       "      <td>64000.0</td>\n",
       "      <td>35.0</td>\n",
       "      <td>NaN</td>\n",
       "      <td>NaN</td>\n",
       "    </tr>\n",
       "    <tr>\n",
       "      <th>...</th>\n",
       "      <td>...</td>\n",
       "      <td>...</td>\n",
       "      <td>...</td>\n",
       "      <td>...</td>\n",
       "    </tr>\n",
       "    <tr>\n",
       "      <th>121215</th>\n",
       "      <td>870000.0</td>\n",
       "      <td>93.0</td>\n",
       "      <td>NaN</td>\n",
       "      <td>NaN</td>\n",
       "    </tr>\n",
       "    <tr>\n",
       "      <th>121216</th>\n",
       "      <td>498000.0</td>\n",
       "      <td>360.0</td>\n",
       "      <td>NaN</td>\n",
       "      <td>NaN</td>\n",
       "    </tr>\n",
       "    <tr>\n",
       "      <th>121217</th>\n",
       "      <td>131500.0</td>\n",
       "      <td>39.0</td>\n",
       "      <td>NaN</td>\n",
       "      <td>NaN</td>\n",
       "    </tr>\n",
       "    <tr>\n",
       "      <th>121218</th>\n",
       "      <td>95900.0</td>\n",
       "      <td>48.0</td>\n",
       "      <td>NaN</td>\n",
       "      <td>NaN</td>\n",
       "    </tr>\n",
       "    <tr>\n",
       "      <th>121219</th>\n",
       "      <td>129000.0</td>\n",
       "      <td>77.0</td>\n",
       "      <td>NaN</td>\n",
       "      <td>NaN</td>\n",
       "    </tr>\n",
       "  </tbody>\n",
       "</table>\n",
       "<p>121220 rows × 4 columns</p>\n",
       "</div>"
      ],
      "text/plain": [
       "        price_aprox_usd  surface_covered_in_m2  floor  rooms\n",
       "0               62000.0                   40.0    NaN    NaN\n",
       "1              150000.0                    NaN    NaN    NaN\n",
       "2               72000.0                   55.0    NaN    NaN\n",
       "3               95000.0                    NaN    NaN    NaN\n",
       "4               64000.0                   35.0    NaN    NaN\n",
       "...                 ...                    ...    ...    ...\n",
       "121215         870000.0                   93.0    NaN    NaN\n",
       "121216         498000.0                  360.0    NaN    NaN\n",
       "121217         131500.0                   39.0    NaN    NaN\n",
       "121218          95900.0                   48.0    NaN    NaN\n",
       "121219         129000.0                   77.0    NaN    NaN\n",
       "\n",
       "[121220 rows x 4 columns]"
      ]
     },
     "execution_count": 5,
     "metadata": {},
     "output_type": "execute_result"
    }
   ],
   "source": [
    "df"
   ]
  },
  {
   "cell_type": "code",
   "execution_count": 6,
   "id": "b46e30b2",
   "metadata": {},
   "outputs": [],
   "source": [
    "#Eliminamos los nan para ver los datos que nos interesan\n",
    "df = df.dropna(axis = 0)"
   ]
  },
  {
   "cell_type": "code",
   "execution_count": 7,
   "id": "b7dc4124",
   "metadata": {
    "scrolled": true
   },
   "outputs": [
    {
     "data": {
      "text/html": [
       "<div>\n",
       "<style scoped>\n",
       "    .dataframe tbody tr th:only-of-type {\n",
       "        vertical-align: middle;\n",
       "    }\n",
       "\n",
       "    .dataframe tbody tr th {\n",
       "        vertical-align: top;\n",
       "    }\n",
       "\n",
       "    .dataframe thead th {\n",
       "        text-align: right;\n",
       "    }\n",
       "</style>\n",
       "<table border=\"1\" class=\"dataframe\">\n",
       "  <thead>\n",
       "    <tr style=\"text-align: right;\">\n",
       "      <th></th>\n",
       "      <th>price_aprox_usd</th>\n",
       "      <th>surface_covered_in_m2</th>\n",
       "      <th>floor</th>\n",
       "      <th>rooms</th>\n",
       "    </tr>\n",
       "  </thead>\n",
       "  <tbody>\n",
       "    <tr>\n",
       "      <th>89</th>\n",
       "      <td>50000.0</td>\n",
       "      <td>53.0</td>\n",
       "      <td>1.0</td>\n",
       "      <td>1.0</td>\n",
       "    </tr>\n",
       "    <tr>\n",
       "      <th>93</th>\n",
       "      <td>385000.0</td>\n",
       "      <td>416.0</td>\n",
       "      <td>2.0</td>\n",
       "      <td>3.0</td>\n",
       "    </tr>\n",
       "    <tr>\n",
       "      <th>94</th>\n",
       "      <td>135000.0</td>\n",
       "      <td>95.0</td>\n",
       "      <td>2.0</td>\n",
       "      <td>3.0</td>\n",
       "    </tr>\n",
       "    <tr>\n",
       "      <th>95</th>\n",
       "      <td>75000.0</td>\n",
       "      <td>180.0</td>\n",
       "      <td>1.0</td>\n",
       "      <td>1.0</td>\n",
       "    </tr>\n",
       "    <tr>\n",
       "      <th>96</th>\n",
       "      <td>54000.0</td>\n",
       "      <td>30.0</td>\n",
       "      <td>3.0</td>\n",
       "      <td>2.0</td>\n",
       "    </tr>\n",
       "    <tr>\n",
       "      <th>...</th>\n",
       "      <td>...</td>\n",
       "      <td>...</td>\n",
       "      <td>...</td>\n",
       "      <td>...</td>\n",
       "    </tr>\n",
       "    <tr>\n",
       "      <th>119929</th>\n",
       "      <td>75000.0</td>\n",
       "      <td>23.0</td>\n",
       "      <td>7.0</td>\n",
       "      <td>1.0</td>\n",
       "    </tr>\n",
       "    <tr>\n",
       "      <th>119930</th>\n",
       "      <td>170000.0</td>\n",
       "      <td>63.0</td>\n",
       "      <td>2.0</td>\n",
       "      <td>3.0</td>\n",
       "    </tr>\n",
       "    <tr>\n",
       "      <th>119935</th>\n",
       "      <td>95000.0</td>\n",
       "      <td>12731.0</td>\n",
       "      <td>1.0</td>\n",
       "      <td>10.0</td>\n",
       "    </tr>\n",
       "    <tr>\n",
       "      <th>119936</th>\n",
       "      <td>267000.0</td>\n",
       "      <td>82.0</td>\n",
       "      <td>1.0</td>\n",
       "      <td>4.0</td>\n",
       "    </tr>\n",
       "    <tr>\n",
       "      <th>119942</th>\n",
       "      <td>86800.0</td>\n",
       "      <td>48.0</td>\n",
       "      <td>6.0</td>\n",
       "      <td>1.0</td>\n",
       "    </tr>\n",
       "  </tbody>\n",
       "</table>\n",
       "<p>4510 rows × 4 columns</p>\n",
       "</div>"
      ],
      "text/plain": [
       "        price_aprox_usd  surface_covered_in_m2  floor  rooms\n",
       "89              50000.0                   53.0    1.0    1.0\n",
       "93             385000.0                  416.0    2.0    3.0\n",
       "94             135000.0                   95.0    2.0    3.0\n",
       "95              75000.0                  180.0    1.0    1.0\n",
       "96              54000.0                   30.0    3.0    2.0\n",
       "...                 ...                    ...    ...    ...\n",
       "119929          75000.0                   23.0    7.0    1.0\n",
       "119930         170000.0                   63.0    2.0    3.0\n",
       "119935          95000.0                12731.0    1.0   10.0\n",
       "119936         267000.0                   82.0    1.0    4.0\n",
       "119942          86800.0                   48.0    6.0    1.0\n",
       "\n",
       "[4510 rows x 4 columns]"
      ]
     },
     "execution_count": 7,
     "metadata": {},
     "output_type": "execute_result"
    }
   ],
   "source": [
    "df"
   ]
  },
  {
   "cell_type": "code",
   "execution_count": 8,
   "id": "185ce1f7",
   "metadata": {},
   "outputs": [],
   "source": [
    "# hacemos un reseset en los index\n",
    "df = df.reset_index(drop=True)"
   ]
  },
  {
   "cell_type": "code",
   "execution_count": 9,
   "id": "800e4b6d",
   "metadata": {},
   "outputs": [
    {
     "data": {
      "text/html": [
       "<div>\n",
       "<style scoped>\n",
       "    .dataframe tbody tr th:only-of-type {\n",
       "        vertical-align: middle;\n",
       "    }\n",
       "\n",
       "    .dataframe tbody tr th {\n",
       "        vertical-align: top;\n",
       "    }\n",
       "\n",
       "    .dataframe thead th {\n",
       "        text-align: right;\n",
       "    }\n",
       "</style>\n",
       "<table border=\"1\" class=\"dataframe\">\n",
       "  <thead>\n",
       "    <tr style=\"text-align: right;\">\n",
       "      <th></th>\n",
       "      <th>price_aprox_usd</th>\n",
       "      <th>surface_covered_in_m2</th>\n",
       "      <th>floor</th>\n",
       "      <th>rooms</th>\n",
       "    </tr>\n",
       "  </thead>\n",
       "  <tbody>\n",
       "    <tr>\n",
       "      <th>0</th>\n",
       "      <td>50000.0</td>\n",
       "      <td>53.0</td>\n",
       "      <td>1.0</td>\n",
       "      <td>1.0</td>\n",
       "    </tr>\n",
       "    <tr>\n",
       "      <th>1</th>\n",
       "      <td>385000.0</td>\n",
       "      <td>416.0</td>\n",
       "      <td>2.0</td>\n",
       "      <td>3.0</td>\n",
       "    </tr>\n",
       "    <tr>\n",
       "      <th>2</th>\n",
       "      <td>135000.0</td>\n",
       "      <td>95.0</td>\n",
       "      <td>2.0</td>\n",
       "      <td>3.0</td>\n",
       "    </tr>\n",
       "    <tr>\n",
       "      <th>3</th>\n",
       "      <td>75000.0</td>\n",
       "      <td>180.0</td>\n",
       "      <td>1.0</td>\n",
       "      <td>1.0</td>\n",
       "    </tr>\n",
       "    <tr>\n",
       "      <th>4</th>\n",
       "      <td>54000.0</td>\n",
       "      <td>30.0</td>\n",
       "      <td>3.0</td>\n",
       "      <td>2.0</td>\n",
       "    </tr>\n",
       "    <tr>\n",
       "      <th>...</th>\n",
       "      <td>...</td>\n",
       "      <td>...</td>\n",
       "      <td>...</td>\n",
       "      <td>...</td>\n",
       "    </tr>\n",
       "    <tr>\n",
       "      <th>4505</th>\n",
       "      <td>75000.0</td>\n",
       "      <td>23.0</td>\n",
       "      <td>7.0</td>\n",
       "      <td>1.0</td>\n",
       "    </tr>\n",
       "    <tr>\n",
       "      <th>4506</th>\n",
       "      <td>170000.0</td>\n",
       "      <td>63.0</td>\n",
       "      <td>2.0</td>\n",
       "      <td>3.0</td>\n",
       "    </tr>\n",
       "    <tr>\n",
       "      <th>4507</th>\n",
       "      <td>95000.0</td>\n",
       "      <td>12731.0</td>\n",
       "      <td>1.0</td>\n",
       "      <td>10.0</td>\n",
       "    </tr>\n",
       "    <tr>\n",
       "      <th>4508</th>\n",
       "      <td>267000.0</td>\n",
       "      <td>82.0</td>\n",
       "      <td>1.0</td>\n",
       "      <td>4.0</td>\n",
       "    </tr>\n",
       "    <tr>\n",
       "      <th>4509</th>\n",
       "      <td>86800.0</td>\n",
       "      <td>48.0</td>\n",
       "      <td>6.0</td>\n",
       "      <td>1.0</td>\n",
       "    </tr>\n",
       "  </tbody>\n",
       "</table>\n",
       "<p>4510 rows × 4 columns</p>\n",
       "</div>"
      ],
      "text/plain": [
       "      price_aprox_usd  surface_covered_in_m2  floor  rooms\n",
       "0             50000.0                   53.0    1.0    1.0\n",
       "1            385000.0                  416.0    2.0    3.0\n",
       "2            135000.0                   95.0    2.0    3.0\n",
       "3             75000.0                  180.0    1.0    1.0\n",
       "4             54000.0                   30.0    3.0    2.0\n",
       "...               ...                    ...    ...    ...\n",
       "4505          75000.0                   23.0    7.0    1.0\n",
       "4506         170000.0                   63.0    2.0    3.0\n",
       "4507          95000.0                12731.0    1.0   10.0\n",
       "4508         267000.0                   82.0    1.0    4.0\n",
       "4509          86800.0                   48.0    6.0    1.0\n",
       "\n",
       "[4510 rows x 4 columns]"
      ]
     },
     "execution_count": 9,
     "metadata": {},
     "output_type": "execute_result"
    }
   ],
   "source": [
    "df"
   ]
  },
  {
   "cell_type": "code",
   "execution_count": 10,
   "id": "c0be177b",
   "metadata": {
    "scrolled": false
   },
   "outputs": [
    {
     "data": {
      "text/html": [
       "<div>\n",
       "<style scoped>\n",
       "    .dataframe tbody tr th:only-of-type {\n",
       "        vertical-align: middle;\n",
       "    }\n",
       "\n",
       "    .dataframe tbody tr th {\n",
       "        vertical-align: top;\n",
       "    }\n",
       "\n",
       "    .dataframe thead th {\n",
       "        text-align: right;\n",
       "    }\n",
       "</style>\n",
       "<table border=\"1\" class=\"dataframe\">\n",
       "  <thead>\n",
       "    <tr style=\"text-align: right;\">\n",
       "      <th></th>\n",
       "      <th>price_aprox_usd</th>\n",
       "      <th>surface_covered_in_m2</th>\n",
       "      <th>floor</th>\n",
       "      <th>rooms</th>\n",
       "    </tr>\n",
       "  </thead>\n",
       "  <tbody>\n",
       "    <tr>\n",
       "      <th>count</th>\n",
       "      <td>4.510000e+03</td>\n",
       "      <td>4510.000000</td>\n",
       "      <td>4510.000000</td>\n",
       "      <td>4510.000000</td>\n",
       "    </tr>\n",
       "    <tr>\n",
       "      <th>mean</th>\n",
       "      <td>2.281335e+05</td>\n",
       "      <td>110.444124</td>\n",
       "      <td>25.580931</td>\n",
       "      <td>2.662306</td>\n",
       "    </tr>\n",
       "    <tr>\n",
       "      <th>std</th>\n",
       "      <td>3.289798e+05</td>\n",
       "      <td>425.448592</td>\n",
       "      <td>148.305896</td>\n",
       "      <td>1.308373</td>\n",
       "    </tr>\n",
       "    <tr>\n",
       "      <th>min</th>\n",
       "      <td>5.047530e+03</td>\n",
       "      <td>5.000000</td>\n",
       "      <td>1.000000</td>\n",
       "      <td>1.000000</td>\n",
       "    </tr>\n",
       "    <tr>\n",
       "      <th>25%</th>\n",
       "      <td>8.580000e+04</td>\n",
       "      <td>42.000000</td>\n",
       "      <td>1.000000</td>\n",
       "      <td>2.000000</td>\n",
       "    </tr>\n",
       "    <tr>\n",
       "      <th>50%</th>\n",
       "      <td>1.300000e+05</td>\n",
       "      <td>60.000000</td>\n",
       "      <td>3.000000</td>\n",
       "      <td>3.000000</td>\n",
       "    </tr>\n",
       "    <tr>\n",
       "      <th>75%</th>\n",
       "      <td>2.174756e+05</td>\n",
       "      <td>100.000000</td>\n",
       "      <td>6.000000</td>\n",
       "      <td>3.000000</td>\n",
       "    </tr>\n",
       "    <tr>\n",
       "      <th>max</th>\n",
       "      <td>3.900000e+06</td>\n",
       "      <td>12731.000000</td>\n",
       "      <td>2509.000000</td>\n",
       "      <td>22.000000</td>\n",
       "    </tr>\n",
       "  </tbody>\n",
       "</table>\n",
       "</div>"
      ],
      "text/plain": [
       "       price_aprox_usd  surface_covered_in_m2        floor        rooms\n",
       "count     4.510000e+03            4510.000000  4510.000000  4510.000000\n",
       "mean      2.281335e+05             110.444124    25.580931     2.662306\n",
       "std       3.289798e+05             425.448592   148.305896     1.308373\n",
       "min       5.047530e+03               5.000000     1.000000     1.000000\n",
       "25%       8.580000e+04              42.000000     1.000000     2.000000\n",
       "50%       1.300000e+05              60.000000     3.000000     3.000000\n",
       "75%       2.174756e+05             100.000000     6.000000     3.000000\n",
       "max       3.900000e+06           12731.000000  2509.000000    22.000000"
      ]
     },
     "execution_count": 10,
     "metadata": {},
     "output_type": "execute_result"
    }
   ],
   "source": [
    "# Hacemos un describe en el dataframe para ver localizar outlierts \n",
    "df.describe()"
   ]
  },
  {
   "cell_type": "code",
   "execution_count": 11,
   "id": "c92fcebd",
   "metadata": {},
   "outputs": [
    {
     "name": "stdout",
     "output_type": "stream",
     "text": [
      "459.09999999999854\n"
     ]
    }
   ],
   "source": [
    "# Calculamos el percentil del 99%\n",
    "q = df[\"surface_covered_in_m2\"].quantile(0.99)\n",
    "print(q)"
   ]
  },
  {
   "cell_type": "code",
   "execution_count": 12,
   "id": "ce735e44",
   "metadata": {},
   "outputs": [
    {
     "data": {
      "image/png": "[encoded data removed]",
      "text/plain": [
       "<Figure size 432x288 with 1 Axes>"
      ]
     },
     "metadata": {
      "needs_background": "light"
     },
     "output_type": "display_data"
    }
   ],
   "source": [
    "# Dibujamos el percentil del 9% en metros\n",
    "plt.scatter(df.index, df[\"surface_covered_in_m2\"], s=8)\n",
    "plt.hlines(y=q, xmin=0, xmax=4500, colors='red')\n",
    "plt.show()"
   ]
  },
  {
   "cell_type": "code",
   "execution_count": 13,
   "id": "220421cc",
   "metadata": {},
   "outputs": [
    {
     "name": "stdout",
     "output_type": "stream",
     "text": [
      "378.6399999999994\n"
     ]
    },
    {
     "data": {
      "text/plain": [
       "40.0     151\n",
       "45.0     133\n",
       "50.0     108\n",
       "60.0      94\n",
       "38.0      91\n",
       "        ... \n",
       "255.0      1\n",
       "281.0      1\n",
       "375.0      1\n",
       "275.0      1\n",
       "219.0      1\n",
       "Name: surface_covered_in_m2, Length: 271, dtype: int64"
      ]
     },
     "execution_count": 13,
     "metadata": {},
     "output_type": "execute_result"
    }
   ],
   "source": [
    "# Mostramos los pisos de metros umbral (threshold) que marca el percentil del 98%\n",
    "q = df[\"surface_covered_in_m2\"].quantile(0.98)\n",
    "print(q)\n",
    "\n",
    "# Eliminamos del dataframe los metros que esten por encima del percentil del 98% (criterio de filtrado)\n",
    "df = df[df[\"surface_covered_in_m2\"] < q]\n",
    "\n",
    "# hacemos un values_counts para visualizar los datos que hay en la columna Metros\n",
    "df['surface_covered_in_m2'].value_counts()"
   ]
  },
  {
   "cell_type": "code",
   "execution_count": 14,
   "id": "9603d2f3",
   "metadata": {},
   "outputs": [
    {
     "name": "stdout",
     "output_type": "stream",
     "text": [
      "312.6400000000003\n"
     ]
    }
   ],
   "source": [
    "# Calculamos el percentil del 98%\n",
    "q = df[\"floor\"].quantile(0.98)\n",
    "print(q)"
   ]
  },
  {
   "cell_type": "code",
   "execution_count": 15,
   "id": "f740d13c",
   "metadata": {},
   "outputs": [
    {
     "data": {
      "image/png": "[encoded data removed]",
      "text/plain": [
       "<Figure size 432x288 with 1 Axes>"
      ]
     },
     "metadata": {
      "needs_background": "light"
     },
     "output_type": "display_data"
    }
   ],
   "source": [
    "# Dibujamos el percentil del 98% en FLOOR\n",
    "plt.scatter(df.index, df[\"floor\"], s=8)\n",
    "plt.hlines(y=q, xmin=0, xmax=4500, colors='red')\n",
    "plt.show()"
   ]
  },
  {
   "cell_type": "code",
   "execution_count": 16,
   "id": "f982c87d",
   "metadata": {},
   "outputs": [
    {
     "name": "stdout",
     "output_type": "stream",
     "text": [
      "312.6400000000003\n"
     ]
    },
    {
     "data": {
      "text/plain": [
       "1.0      1151\n",
       "2.0       894\n",
       "3.0       464\n",
       "4.0       335\n",
       "5.0       274\n",
       "         ... \n",
       "44.0        1\n",
       "45.0        1\n",
       "181.0       1\n",
       "56.0        1\n",
       "26.0        1\n",
       "Name: floor, Length: 100, dtype: int64"
      ]
     },
     "execution_count": 16,
     "metadata": {},
     "output_type": "execute_result"
    }
   ],
   "source": [
    "# Mostramos los pisos de floor umbral (threshold) que marca el percentil del 98%\n",
    "q = df[\"floor\"].quantile(0.98)\n",
    "print(q)\n",
    "\n",
    "# Eliminamos del dataframe los pisos que esten por encima del percentil del 98% (criterio de filtrado)\n",
    "df = df[df[\"floor\"] < q]\n",
    "\n",
    "# hacemos un values_counts para visualizar los datos que hay en la columna FLOOR\n",
    "df['floor'].value_counts()"
   ]
  },
  {
   "cell_type": "code",
   "execution_count": 17,
   "id": "6dc5619b",
   "metadata": {},
   "outputs": [
    {
     "data": {
      "text/html": [
       "<div>\n",
       "<style scoped>\n",
       "    .dataframe tbody tr th:only-of-type {\n",
       "        vertical-align: middle;\n",
       "    }\n",
       "\n",
       "    .dataframe tbody tr th {\n",
       "        vertical-align: top;\n",
       "    }\n",
       "\n",
       "    .dataframe thead th {\n",
       "        text-align: right;\n",
       "    }\n",
       "</style>\n",
       "<table border=\"1\" class=\"dataframe\">\n",
       "  <thead>\n",
       "    <tr style=\"text-align: right;\">\n",
       "      <th></th>\n",
       "      <th>price_aprox_usd</th>\n",
       "      <th>surface_covered_in_m2</th>\n",
       "      <th>floor</th>\n",
       "      <th>rooms</th>\n",
       "    </tr>\n",
       "  </thead>\n",
       "  <tbody>\n",
       "    <tr>\n",
       "      <th>count</th>\n",
       "      <td>4.330000e+03</td>\n",
       "      <td>4330.000000</td>\n",
       "      <td>4330.000000</td>\n",
       "      <td>4330.000000</td>\n",
       "    </tr>\n",
       "    <tr>\n",
       "      <th>mean</th>\n",
       "      <td>2.226043e+05</td>\n",
       "      <td>81.088684</td>\n",
       "      <td>7.056120</td>\n",
       "      <td>2.610162</td>\n",
       "    </tr>\n",
       "    <tr>\n",
       "      <th>std</th>\n",
       "      <td>3.283069e+05</td>\n",
       "      <td>62.244601</td>\n",
       "      <td>22.850197</td>\n",
       "      <td>1.208841</td>\n",
       "    </tr>\n",
       "    <tr>\n",
       "      <th>min</th>\n",
       "      <td>5.047530e+03</td>\n",
       "      <td>5.000000</td>\n",
       "      <td>1.000000</td>\n",
       "      <td>1.000000</td>\n",
       "    </tr>\n",
       "    <tr>\n",
       "      <th>25%</th>\n",
       "      <td>8.500000e+04</td>\n",
       "      <td>42.000000</td>\n",
       "      <td>1.000000</td>\n",
       "      <td>2.000000</td>\n",
       "    </tr>\n",
       "    <tr>\n",
       "      <th>50%</th>\n",
       "      <td>1.290000e+05</td>\n",
       "      <td>60.000000</td>\n",
       "      <td>3.000000</td>\n",
       "      <td>3.000000</td>\n",
       "    </tr>\n",
       "    <tr>\n",
       "      <th>75%</th>\n",
       "      <td>2.090000e+05</td>\n",
       "      <td>96.000000</td>\n",
       "      <td>6.000000</td>\n",
       "      <td>3.000000</td>\n",
       "    </tr>\n",
       "    <tr>\n",
       "      <th>max</th>\n",
       "      <td>3.900000e+06</td>\n",
       "      <td>377.000000</td>\n",
       "      <td>312.000000</td>\n",
       "      <td>22.000000</td>\n",
       "    </tr>\n",
       "  </tbody>\n",
       "</table>\n",
       "</div>"
      ],
      "text/plain": [
       "       price_aprox_usd  surface_covered_in_m2        floor        rooms\n",
       "count     4.330000e+03            4330.000000  4330.000000  4330.000000\n",
       "mean      2.226043e+05              81.088684     7.056120     2.610162\n",
       "std       3.283069e+05              62.244601    22.850197     1.208841\n",
       "min       5.047530e+03               5.000000     1.000000     1.000000\n",
       "25%       8.500000e+04              42.000000     1.000000     2.000000\n",
       "50%       1.290000e+05              60.000000     3.000000     3.000000\n",
       "75%       2.090000e+05              96.000000     6.000000     3.000000\n",
       "max       3.900000e+06             377.000000   312.000000    22.000000"
      ]
     },
     "execution_count": 17,
     "metadata": {},
     "output_type": "execute_result"
    }
   ],
   "source": [
    "# vemos el describe del dataframe para ver los valores, si sigue valores atipicos o no\n",
    "df.describe()"
   ]
  },
  {
   "cell_type": "code",
   "execution_count": 18,
   "id": "53e5020c",
   "metadata": {},
   "outputs": [
    {
     "name": "stdout",
     "output_type": "stream",
     "text": [
      "1800000.0\n"
     ]
    }
   ],
   "source": [
    "# Calculamos el percentil del 99% de la columan PRECIO\n",
    "q = df[\"price_aprox_usd\"].quantile(0.99)\n",
    "print(q)"
   ]
  },
  {
   "cell_type": "code",
   "execution_count": 19,
   "id": "76b3a935",
   "metadata": {},
   "outputs": [
    {
     "data": {
      "image/png": "[encoded data removed]",
      "text/plain": [
       "<Figure size 432x288 with 1 Axes>"
      ]
     },
     "metadata": {
      "needs_background": "light"
     },
     "output_type": "display_data"
    }
   ],
   "source": [
    "# Dibujamos el percentil del 99% en el precio\n",
    "plt.scatter(df.index, df[\"price_aprox_usd\"], s=8)\n",
    "plt.hlines(y=q, xmin=0, xmax=4500, colors='red')\n",
    "plt.show()\n",
    "\n",
    "# vemos que no hay datos atipicos superiores"
   ]
  },
  {
   "cell_type": "code",
   "execution_count": 20,
   "id": "6fcc452d",
   "metadata": {},
   "outputs": [
    {
     "name": "stdout",
     "output_type": "stream",
     "text": [
      "39000.0\n"
     ]
    }
   ],
   "source": [
    "# Calculamos el percentil del 1% de la columan PRECIO\n",
    "q = df[\"price_aprox_usd\"].quantile(0.01)\n",
    "print(q)"
   ]
  },
  {
   "cell_type": "code",
   "execution_count": 21,
   "id": "61ab6636",
   "metadata": {
    "scrolled": true
   },
   "outputs": [
    {
     "data": {
      "image/png": "[encoded data removed]",
      "text/plain": [
       "<Figure size 432x288 with 1 Axes>"
      ]
     },
     "metadata": {
      "needs_background": "light"
     },
     "output_type": "display_data"
    }
   ],
   "source": [
    "# Dibujamos el percentil del 1% en Precios\n",
    "plt.scatter(df.index, df[\"price_aprox_usd\"], s=8)\n",
    "plt.hlines(y=q, xmin=0, xmax=4600, colors='red')\n",
    "plt.show()"
   ]
  },
  {
   "cell_type": "code",
   "execution_count": 22,
   "id": "a6350fc5",
   "metadata": {},
   "outputs": [
    {
     "name": "stdout",
     "output_type": "stream",
     "text": [
      "39000.0\n"
     ]
    },
    {
     "data": {
      "text/plain": [
       "75000.00      71\n",
       "85000.00      71\n",
       "130000.00     69\n",
       "120000.00     68\n",
       "125000.00     65\n",
       "              ..\n",
       "1182800.00     1\n",
       "85360.42       1\n",
       "115900.00      1\n",
       "115600.00      1\n",
       "299999.00      1\n",
       "Name: price_aprox_usd, Length: 926, dtype: int64"
      ]
     },
     "execution_count": 22,
     "metadata": {},
     "output_type": "execute_result"
    }
   ],
   "source": [
    "# Mostramos los precios umbral (threshold) que marca el percentil del 1%\n",
    "q = df[\"price_aprox_usd\"].quantile(0.01)\n",
    "print(q)\n",
    "\n",
    "# Eliminamos del dataframe los pisos que esten por debajo del percentil del 1% (criterio de filtrado)\n",
    "df = df[df[\"price_aprox_usd\"] > q]\n",
    "\n",
    "# hacemos un values_counts para visualizar los datos que hay en la columna price\n",
    "df['price_aprox_usd'].value_counts()"
   ]
  },
  {
   "cell_type": "code",
   "execution_count": 23,
   "id": "d9d2b5d8",
   "metadata": {},
   "outputs": [
    {
     "data": {
      "text/html": [
       "<div>\n",
       "<style scoped>\n",
       "    .dataframe tbody tr th:only-of-type {\n",
       "        vertical-align: middle;\n",
       "    }\n",
       "\n",
       "    .dataframe tbody tr th {\n",
       "        vertical-align: top;\n",
       "    }\n",
       "\n",
       "    .dataframe thead th {\n",
       "        text-align: right;\n",
       "    }\n",
       "</style>\n",
       "<table border=\"1\" class=\"dataframe\">\n",
       "  <thead>\n",
       "    <tr style=\"text-align: right;\">\n",
       "      <th></th>\n",
       "      <th>price_aprox_usd</th>\n",
       "      <th>surface_covered_in_m2</th>\n",
       "      <th>floor</th>\n",
       "      <th>rooms</th>\n",
       "    </tr>\n",
       "  </thead>\n",
       "  <tbody>\n",
       "    <tr>\n",
       "      <th>count</th>\n",
       "      <td>4.285000e+03</td>\n",
       "      <td>4285.000000</td>\n",
       "      <td>4285.000000</td>\n",
       "      <td>4285.000000</td>\n",
       "    </tr>\n",
       "    <tr>\n",
       "      <th>mean</th>\n",
       "      <td>2.246397e+05</td>\n",
       "      <td>81.494749</td>\n",
       "      <td>7.070712</td>\n",
       "      <td>2.612835</td>\n",
       "    </tr>\n",
       "    <tr>\n",
       "      <th>std</th>\n",
       "      <td>3.294207e+05</td>\n",
       "      <td>62.401742</td>\n",
       "      <td>22.948047</td>\n",
       "      <td>1.205989</td>\n",
       "    </tr>\n",
       "    <tr>\n",
       "      <th>min</th>\n",
       "      <td>3.914640e+04</td>\n",
       "      <td>5.000000</td>\n",
       "      <td>1.000000</td>\n",
       "      <td>1.000000</td>\n",
       "    </tr>\n",
       "    <tr>\n",
       "      <th>25%</th>\n",
       "      <td>8.600000e+04</td>\n",
       "      <td>42.000000</td>\n",
       "      <td>1.000000</td>\n",
       "      <td>2.000000</td>\n",
       "    </tr>\n",
       "    <tr>\n",
       "      <th>50%</th>\n",
       "      <td>1.300000e+05</td>\n",
       "      <td>60.000000</td>\n",
       "      <td>3.000000</td>\n",
       "      <td>3.000000</td>\n",
       "    </tr>\n",
       "    <tr>\n",
       "      <th>75%</th>\n",
       "      <td>2.100000e+05</td>\n",
       "      <td>96.000000</td>\n",
       "      <td>6.000000</td>\n",
       "      <td>3.000000</td>\n",
       "    </tr>\n",
       "    <tr>\n",
       "      <th>max</th>\n",
       "      <td>3.900000e+06</td>\n",
       "      <td>377.000000</td>\n",
       "      <td>312.000000</td>\n",
       "      <td>22.000000</td>\n",
       "    </tr>\n",
       "  </tbody>\n",
       "</table>\n",
       "</div>"
      ],
      "text/plain": [
       "       price_aprox_usd  surface_covered_in_m2        floor        rooms\n",
       "count     4.285000e+03            4285.000000  4285.000000  4285.000000\n",
       "mean      2.246397e+05              81.494749     7.070712     2.612835\n",
       "std       3.294207e+05              62.401742    22.948047     1.205989\n",
       "min       3.914640e+04               5.000000     1.000000     1.000000\n",
       "25%       8.600000e+04              42.000000     1.000000     2.000000\n",
       "50%       1.300000e+05              60.000000     3.000000     3.000000\n",
       "75%       2.100000e+05              96.000000     6.000000     3.000000\n",
       "max       3.900000e+06             377.000000   312.000000    22.000000"
      ]
     },
     "execution_count": 23,
     "metadata": {},
     "output_type": "execute_result"
    }
   ],
   "source": [
    "# hacemos un describe y vemos que el min de la columna price cambio\n",
    "# osea eliminamos el outliers minimo que habian\n",
    "df.describe()"
   ]
  },
  {
   "cell_type": "code",
   "execution_count": 24,
   "id": "6653e705",
   "metadata": {},
   "outputs": [
    {
     "name": "stdout",
     "output_type": "stream",
     "text": [
      "6.0\n"
     ]
    }
   ],
   "source": [
    "# Calculamos el percentil del 99% de la columan rooms\n",
    "q = df[\"rooms\"].quantile(0.99)\n",
    "print(q)"
   ]
  },
  {
   "cell_type": "code",
   "execution_count": 25,
   "id": "88e9e6a5",
   "metadata": {},
   "outputs": [
    {
     "data": {
      "image/png": "[encoded data removed]",
      "text/plain": [
       "<Figure size 432x288 with 1 Axes>"
      ]
     },
     "metadata": {
      "needs_background": "light"
     },
     "output_type": "display_data"
    }
   ],
   "source": [
    "# Dibujamos el percentil del 99% en el precio\n",
    "plt.scatter(df.index, df[\"rooms\"], s=8)\n",
    "plt.hlines(y=q, xmin=0, xmax=4500, colors='red')\n",
    "plt.show()"
   ]
  },
  {
   "cell_type": "code",
   "execution_count": 26,
   "id": "76912eb3",
   "metadata": {},
   "outputs": [
    {
     "name": "stdout",
     "output_type": "stream",
     "text": [
      "(array([ 595, 1612, 1633, 1644, 1676, 1767, 1979, 2942, 3044, 3240, 3326,\n",
      "       4171], dtype=int64),)\n"
     ]
    }
   ],
   "source": [
    "# visualizamos los datos a tipicos, si tienen o no coherencia\n",
    "# Position of the Outlier\n",
    "print(np.where((df['rooms'] > 7 )))"
   ]
  },
  {
   "cell_type": "code",
   "execution_count": 27,
   "id": "6248e608",
   "metadata": {},
   "outputs": [
    {
     "data": {
      "text/plain": [
       "price_aprox_usd          75000.0\n",
       "surface_covered_in_m2       60.0\n",
       "floor                        4.0\n",
       "rooms                        3.0\n",
       "Name: 595, dtype: float64"
      ]
     },
     "execution_count": 27,
     "metadata": {},
     "output_type": "execute_result"
    }
   ],
   "source": [
    "df.loc[595]"
   ]
  },
  {
   "cell_type": "code",
   "execution_count": 28,
   "id": "3fd2f0e7",
   "metadata": {},
   "outputs": [
    {
     "data": {
      "text/plain": [
       "2.0     1420\n",
       "3.0     1302\n",
       "1.0      714\n",
       "4.0      636\n",
       "5.0      155\n",
       "6.0       30\n",
       "7.0       16\n",
       "9.0        4\n",
       "10.0       4\n",
       "8.0        2\n",
       "11.0       1\n",
       "22.0       1\n",
       "Name: rooms, dtype: int64"
      ]
     },
     "execution_count": 28,
     "metadata": {},
     "output_type": "execute_result"
    }
   ],
   "source": [
    "df['rooms'].value_counts()"
   ]
  },
  {
   "cell_type": "code",
   "execution_count": 29,
   "id": "4fe7c567",
   "metadata": {},
   "outputs": [
    {
     "name": "stdout",
     "output_type": "stream",
     "text": [
      "6.0\n"
     ]
    },
    {
     "data": {
      "text/plain": [
       "2.0    1420\n",
       "3.0    1302\n",
       "1.0     714\n",
       "4.0     636\n",
       "5.0     155\n",
       "Name: rooms, dtype: int64"
      ]
     },
     "execution_count": 29,
     "metadata": {},
     "output_type": "execute_result"
    }
   ],
   "source": [
    "# Mostramos las habitaciones umbral (threshold) que marca el percentil del 99%\n",
    "q = df[\"rooms\"].quantile(0.99)\n",
    "print(q)\n",
    "\n",
    "# Eliminamos del dataframe las habitaciones que esten por encima del percentil del 99% (criterio de filtrado)\n",
    "df = df[df[\"rooms\"] < q]\n",
    "\n",
    "# hacemos un values_counts para visualizar los datos que hay en la columna rooms\n",
    "df['rooms'].value_counts()"
   ]
  },
  {
   "cell_type": "code",
   "execution_count": 30,
   "id": "37d1d391",
   "metadata": {},
   "outputs": [
    {
     "data": {
      "text/html": [
       "<div>\n",
       "<style scoped>\n",
       "    .dataframe tbody tr th:only-of-type {\n",
       "        vertical-align: middle;\n",
       "    }\n",
       "\n",
       "    .dataframe tbody tr th {\n",
       "        vertical-align: top;\n",
       "    }\n",
       "\n",
       "    .dataframe thead th {\n",
       "        text-align: right;\n",
       "    }\n",
       "</style>\n",
       "<table border=\"1\" class=\"dataframe\">\n",
       "  <thead>\n",
       "    <tr style=\"text-align: right;\">\n",
       "      <th></th>\n",
       "      <th>price_aprox_usd</th>\n",
       "      <th>surface_covered_in_m2</th>\n",
       "      <th>floor</th>\n",
       "      <th>rooms</th>\n",
       "    </tr>\n",
       "  </thead>\n",
       "  <tbody>\n",
       "    <tr>\n",
       "      <th>count</th>\n",
       "      <td>4.227000e+03</td>\n",
       "      <td>4227.000000</td>\n",
       "      <td>4227.000000</td>\n",
       "      <td>4227.000000</td>\n",
       "    </tr>\n",
       "    <tr>\n",
       "      <th>mean</th>\n",
       "      <td>2.217128e+05</td>\n",
       "      <td>79.843861</td>\n",
       "      <td>7.017033</td>\n",
       "      <td>2.550035</td>\n",
       "    </tr>\n",
       "    <tr>\n",
       "      <th>std</th>\n",
       "      <td>3.279349e+05</td>\n",
       "      <td>60.323169</td>\n",
       "      <td>22.712825</td>\n",
       "      <td>1.051914</td>\n",
       "    </tr>\n",
       "    <tr>\n",
       "      <th>min</th>\n",
       "      <td>3.914640e+04</td>\n",
       "      <td>5.000000</td>\n",
       "      <td>1.000000</td>\n",
       "      <td>1.000000</td>\n",
       "    </tr>\n",
       "    <tr>\n",
       "      <th>25%</th>\n",
       "      <td>8.500000e+04</td>\n",
       "      <td>42.000000</td>\n",
       "      <td>1.000000</td>\n",
       "      <td>2.000000</td>\n",
       "    </tr>\n",
       "    <tr>\n",
       "      <th>50%</th>\n",
       "      <td>1.290000e+05</td>\n",
       "      <td>60.000000</td>\n",
       "      <td>3.000000</td>\n",
       "      <td>2.000000</td>\n",
       "    </tr>\n",
       "    <tr>\n",
       "      <th>75%</th>\n",
       "      <td>2.000000e+05</td>\n",
       "      <td>94.000000</td>\n",
       "      <td>6.000000</td>\n",
       "      <td>3.000000</td>\n",
       "    </tr>\n",
       "    <tr>\n",
       "      <th>max</th>\n",
       "      <td>3.900000e+06</td>\n",
       "      <td>374.000000</td>\n",
       "      <td>312.000000</td>\n",
       "      <td>5.000000</td>\n",
       "    </tr>\n",
       "  </tbody>\n",
       "</table>\n",
       "</div>"
      ],
      "text/plain": [
       "       price_aprox_usd  surface_covered_in_m2        floor        rooms\n",
       "count     4.227000e+03            4227.000000  4227.000000  4227.000000\n",
       "mean      2.217128e+05              79.843861     7.017033     2.550035\n",
       "std       3.279349e+05              60.323169    22.712825     1.051914\n",
       "min       3.914640e+04               5.000000     1.000000     1.000000\n",
       "25%       8.500000e+04              42.000000     1.000000     2.000000\n",
       "50%       1.290000e+05              60.000000     3.000000     2.000000\n",
       "75%       2.000000e+05              94.000000     6.000000     3.000000\n",
       "max       3.900000e+06             374.000000   312.000000     5.000000"
      ]
     },
     "execution_count": 30,
     "metadata": {},
     "output_type": "execute_result"
    }
   ],
   "source": [
    "df.describe()"
   ]
  },
  {
   "cell_type": "code",
   "execution_count": 31,
   "id": "147553e6",
   "metadata": {},
   "outputs": [
    {
     "name": "stdout",
     "output_type": "stream",
     "text": [
      "(array([], dtype=int64),)\n"
     ]
    }
   ],
   "source": [
    "# Position of the Outlier\n",
    "print(np.where((df['price_aprox_usd'] < 15000)))"
   ]
  },
  {
   "cell_type": "code",
   "execution_count": 32,
   "id": "127784c1",
   "metadata": {},
   "outputs": [
    {
     "data": {
      "text/plain": [
       "price_aprox_usd          82000.0\n",
       "surface_covered_in_m2       34.0\n",
       "floor                       11.0\n",
       "rooms                        1.0\n",
       "Name: 3279, dtype: float64"
      ]
     },
     "execution_count": 32,
     "metadata": {},
     "output_type": "execute_result"
    }
   ],
   "source": [
    "df.loc[3279]"
   ]
  },
  {
   "cell_type": "code",
   "execution_count": 33,
   "id": "2a13dc0b",
   "metadata": {},
   "outputs": [
    {
     "data": {
      "text/html": [
       "<div>\n",
       "<style scoped>\n",
       "    .dataframe tbody tr th:only-of-type {\n",
       "        vertical-align: middle;\n",
       "    }\n",
       "\n",
       "    .dataframe tbody tr th {\n",
       "        vertical-align: top;\n",
       "    }\n",
       "\n",
       "    .dataframe thead th {\n",
       "        text-align: right;\n",
       "    }\n",
       "</style>\n",
       "<table border=\"1\" class=\"dataframe\">\n",
       "  <thead>\n",
       "    <tr style=\"text-align: right;\">\n",
       "      <th></th>\n",
       "      <th>price_aprox_usd</th>\n",
       "      <th>surface_covered_in_m2</th>\n",
       "      <th>floor</th>\n",
       "      <th>rooms</th>\n",
       "    </tr>\n",
       "  </thead>\n",
       "  <tbody>\n",
       "    <tr>\n",
       "      <th>0</th>\n",
       "      <td>50000.0</td>\n",
       "      <td>53.0</td>\n",
       "      <td>1.0</td>\n",
       "      <td>1.0</td>\n",
       "    </tr>\n",
       "    <tr>\n",
       "      <th>2</th>\n",
       "      <td>135000.0</td>\n",
       "      <td>95.0</td>\n",
       "      <td>2.0</td>\n",
       "      <td>3.0</td>\n",
       "    </tr>\n",
       "    <tr>\n",
       "      <th>3</th>\n",
       "      <td>75000.0</td>\n",
       "      <td>180.0</td>\n",
       "      <td>1.0</td>\n",
       "      <td>1.0</td>\n",
       "    </tr>\n",
       "    <tr>\n",
       "      <th>4</th>\n",
       "      <td>54000.0</td>\n",
       "      <td>30.0</td>\n",
       "      <td>3.0</td>\n",
       "      <td>2.0</td>\n",
       "    </tr>\n",
       "    <tr>\n",
       "      <th>6</th>\n",
       "      <td>185000.0</td>\n",
       "      <td>100.0</td>\n",
       "      <td>1.0</td>\n",
       "      <td>3.0</td>\n",
       "    </tr>\n",
       "  </tbody>\n",
       "</table>\n",
       "</div>"
      ],
      "text/plain": [
       "   price_aprox_usd  surface_covered_in_m2  floor  rooms\n",
       "0          50000.0                   53.0    1.0    1.0\n",
       "2         135000.0                   95.0    2.0    3.0\n",
       "3          75000.0                  180.0    1.0    1.0\n",
       "4          54000.0                   30.0    3.0    2.0\n",
       "6         185000.0                  100.0    1.0    3.0"
      ]
     },
     "execution_count": 33,
     "metadata": {},
     "output_type": "execute_result"
    }
   ],
   "source": [
    "df.head(5)"
   ]
  },
  {
   "cell_type": "markdown",
   "id": "dbdeb6bc",
   "metadata": {},
   "source": [
    "Llamamos el csv del proyecto nuevo para empezar la comparacion de regresiones "
   ]
  },
  {
   "cell_type": "code",
   "execution_count": 34,
   "id": "a3d81423",
   "metadata": {},
   "outputs": [
    {
     "data": {
      "text/html": [
       "<div>\n",
       "<style scoped>\n",
       "    .dataframe tbody tr th:only-of-type {\n",
       "        vertical-align: middle;\n",
       "    }\n",
       "\n",
       "    .dataframe tbody tr th {\n",
       "        vertical-align: top;\n",
       "    }\n",
       "\n",
       "    .dataframe thead th {\n",
       "        text-align: right;\n",
       "    }\n",
       "</style>\n",
       "<table border=\"1\" class=\"dataframe\">\n",
       "  <thead>\n",
       "    <tr style=\"text-align: right;\">\n",
       "      <th></th>\n",
       "      <th>price</th>\n",
       "      <th>metrosCubiertos</th>\n",
       "      <th>dormitorios</th>\n",
       "      <th>antiguedad</th>\n",
       "      <th>toilets</th>\n",
       "    </tr>\n",
       "  </thead>\n",
       "  <tbody>\n",
       "    <tr>\n",
       "      <th>0</th>\n",
       "      <td>85000</td>\n",
       "      <td>35</td>\n",
       "      <td>1</td>\n",
       "      <td>40</td>\n",
       "      <td>1</td>\n",
       "    </tr>\n",
       "    <tr>\n",
       "      <th>1</th>\n",
       "      <td>288000</td>\n",
       "      <td>140</td>\n",
       "      <td>2</td>\n",
       "      <td>10</td>\n",
       "      <td>2</td>\n",
       "    </tr>\n",
       "    <tr>\n",
       "      <th>2</th>\n",
       "      <td>330000</td>\n",
       "      <td>75</td>\n",
       "      <td>2</td>\n",
       "      <td>2</td>\n",
       "      <td>3</td>\n",
       "    </tr>\n",
       "    <tr>\n",
       "      <th>3</th>\n",
       "      <td>215000</td>\n",
       "      <td>95</td>\n",
       "      <td>3</td>\n",
       "      <td>40</td>\n",
       "      <td>2</td>\n",
       "    </tr>\n",
       "    <tr>\n",
       "      <th>4</th>\n",
       "      <td>295000</td>\n",
       "      <td>165</td>\n",
       "      <td>4</td>\n",
       "      <td>40</td>\n",
       "      <td>4</td>\n",
       "    </tr>\n",
       "    <tr>\n",
       "      <th>...</th>\n",
       "      <td>...</td>\n",
       "      <td>...</td>\n",
       "      <td>...</td>\n",
       "      <td>...</td>\n",
       "      <td>...</td>\n",
       "    </tr>\n",
       "    <tr>\n",
       "      <th>1859</th>\n",
       "      <td>150000</td>\n",
       "      <td>42</td>\n",
       "      <td>1</td>\n",
       "      <td>1</td>\n",
       "      <td>2</td>\n",
       "    </tr>\n",
       "    <tr>\n",
       "      <th>1860</th>\n",
       "      <td>86000</td>\n",
       "      <td>28</td>\n",
       "      <td>0</td>\n",
       "      <td>0</td>\n",
       "      <td>1</td>\n",
       "    </tr>\n",
       "    <tr>\n",
       "      <th>1861</th>\n",
       "      <td>115000</td>\n",
       "      <td>164</td>\n",
       "      <td>3</td>\n",
       "      <td>60</td>\n",
       "      <td>2</td>\n",
       "    </tr>\n",
       "    <tr>\n",
       "      <th>1862</th>\n",
       "      <td>358000</td>\n",
       "      <td>110</td>\n",
       "      <td>3</td>\n",
       "      <td>27</td>\n",
       "      <td>2</td>\n",
       "    </tr>\n",
       "    <tr>\n",
       "      <th>1863</th>\n",
       "      <td>110000</td>\n",
       "      <td>110</td>\n",
       "      <td>3</td>\n",
       "      <td>57</td>\n",
       "      <td>2</td>\n",
       "    </tr>\n",
       "  </tbody>\n",
       "</table>\n",
       "<p>1864 rows × 5 columns</p>\n",
       "</div>"
      ],
      "text/plain": [
       "       price  metrosCubiertos  dormitorios  antiguedad  toilets\n",
       "0      85000               35            1          40        1\n",
       "1     288000              140            2          10        2\n",
       "2     330000               75            2           2        3\n",
       "3     215000               95            3          40        2\n",
       "4     295000              165            4          40        4\n",
       "...      ...              ...          ...         ...      ...\n",
       "1859  150000               42            1           1        2\n",
       "1860   86000               28            0           0        1\n",
       "1861  115000              164            3          60        2\n",
       "1862  358000              110            3          27        2\n",
       "1863  110000              110            3          57        2\n",
       "\n",
       "[1864 rows x 5 columns]"
      ]
     },
     "execution_count": 34,
     "metadata": {},
     "output_type": "execute_result"
    }
   ],
   "source": [
    "# mostramos el dataframe \n",
    "dfArgenenprop=pd.read_csv(\"ArchivoGrandeArgenprop.csv\",delimiter=\",\")\n",
    "pd.set_option('display.max_columns', None)\n",
    "dfArgenenprop"
   ]
  },
  {
   "cell_type": "code",
   "execution_count": 35,
   "id": "01ddeda9",
   "metadata": {},
   "outputs": [
    {
     "data": {
      "text/plain": [
       "[<matplotlib.lines.Line2D at 0x17929c4dcd0>]"
      ]
     },
     "execution_count": 35,
     "metadata": {},
     "output_type": "execute_result"
    },
    {
     "data": {
      "image/png": "[encoded data removed]",
      "text/plain": [
       "<Figure size 432x288 with 1 Axes>"
      ]
     },
     "metadata": {
      "needs_background": "light"
     },
     "output_type": "display_data"
    }
   ],
   "source": [
    "# vemos un grafico de las columnas metrosCubiertos y precio del df nuevo\n",
    "plt.plot(dfArgenenprop[\"metrosCubiertos\"],dfArgenenprop[\"price\"], '.')"
   ]
  },
  {
   "cell_type": "code",
   "execution_count": 36,
   "id": "c0212198",
   "metadata": {},
   "outputs": [
    {
     "data": {
      "text/plain": [
       "[<matplotlib.lines.Line2D at 0x1792a075d00>]"
      ]
     },
     "execution_count": 36,
     "metadata": {},
     "output_type": "execute_result"
    },
    {
     "data": {
      "image/png": "[encoded data removed]",
      "text/plain": [
       "<Figure size 432x288 with 1 Axes>"
      ]
     },
     "metadata": {
      "needs_background": "light"
     },
     "output_type": "display_data"
    }
   ],
   "source": [
    "# vemos un grafico de las columnas metrosCubiertos y precio del df antiguo \n",
    "plt.plot(df[\"surface_covered_in_m2\"],df[\"price_aprox_usd\"], '.')"
   ]
  },
  {
   "cell_type": "code",
   "execution_count": 37,
   "id": "f7ef3ff6",
   "metadata": {},
   "outputs": [
    {
     "data": {
      "image/png": "[encoded data removed]",
      "text/plain": [
       "<Figure size 432x288 with 2 Axes>"
      ]
     },
     "metadata": {
      "needs_background": "light"
     },
     "output_type": "display_data"
    }
   ],
   "source": [
    "# hacemos una matrix de correlacion del df nuevo\n",
    "corrMatrix=dfArgenenprop.corr().round(2)\n",
    "sns.heatmap(corrMatrix, annot= True,cmap=\"coolwarm\")\n",
    "plt.show()"
   ]
  },
  {
   "cell_type": "code",
   "execution_count": 38,
   "id": "c8e1ffab",
   "metadata": {},
   "outputs": [
    {
     "data": {
      "image/png": "[encoded data removed]",
      "text/plain": [
       "<Figure size 432x288 with 2 Axes>"
      ]
     },
     "metadata": {
      "needs_background": "light"
     },
     "output_type": "display_data"
    }
   ],
   "source": [
    "# hacemos una matrix de correlacion del df antiguo\n",
    "corrMatrix=df.corr().round(2)\n",
    "sns.heatmap(corrMatrix, annot= True,cmap=\"coolwarm\")\n",
    "plt.show()"
   ]
  },
  {
   "cell_type": "code",
   "execution_count": 39,
   "id": "be98c57a",
   "metadata": {},
   "outputs": [],
   "source": [
    "# Prueba esta fórmula de regresión lineal\n",
    "from scipy import stats\n",
    "import matplotlib.pyplot as plt"
   ]
  },
  {
   "cell_type": "code",
   "execution_count": 40,
   "id": "2353f491",
   "metadata": {},
   "outputs": [],
   "source": [
    "# empezamos con el df nuevo la regresion lineal\n",
    "x1 = dfArgenenprop[\"metrosCubiertos\"]\n",
    "y1 = dfArgenenprop[\"price\"]"
   ]
  },
  {
   "cell_type": "code",
   "execution_count": 41,
   "id": "91b4f5b3",
   "metadata": {},
   "outputs": [],
   "source": [
    "res = stats.linregress(x1, y1)"
   ]
  },
  {
   "cell_type": "code",
   "execution_count": 42,
   "id": "ba10cd61",
   "metadata": {},
   "outputs": [
    {
     "name": "stdout",
     "output_type": "stream",
     "text": [
      "R-squared: 0.581000\n"
     ]
    }
   ],
   "source": [
    "print(f\"R-squared: {res.rvalue**2:.6f}\")"
   ]
  },
  {
   "cell_type": "code",
   "execution_count": 49,
   "id": "644c0aeb",
   "metadata": {},
   "outputs": [
    {
     "data": {
      "image/png": "[encoded data removed]",
      "text/plain": [
       "<Figure size 432x288 with 1 Axes>"
      ]
     },
     "metadata": {
      "needs_background": "light"
     },
     "output_type": "display_data"
    }
   ],
   "source": [
    "# hacemos un grafico para comparar nuestros dataframe\n",
    "plt.plot(x1, y1, 'o', label='original data')\n",
    "plt.plot(x1, res.intercept + res.slope*x1, 'r', label='fitted line')\n",
    "\n",
    "plt.plot(x2, y2, 'o', label='original data')\n",
    "plt.plot(x2, res.intercept + res.slope*x2, 'g', label='fitted line')\n",
    "plt.legend()\n",
    "plt.show()"
   ]
  },
  {
   "cell_type": "code",
   "execution_count": 44,
   "id": "e3441b86",
   "metadata": {},
   "outputs": [],
   "source": [
    "# empezamos con el df antiguo la regresion lineal\n",
    "x2 = df[\"surface_covered_in_m2\"]\n",
    "y2 = df[\"price_aprox_usd\"]"
   ]
  },
  {
   "cell_type": "code",
   "execution_count": 45,
   "id": "7c826bdf",
   "metadata": {},
   "outputs": [],
   "source": [
    "res = stats.linregress(x2, y2)"
   ]
  },
  {
   "cell_type": "code",
   "execution_count": 46,
   "id": "16ad6063",
   "metadata": {},
   "outputs": [
    {
     "name": "stdout",
     "output_type": "stream",
     "text": [
      "R-squared: 0.116327\n"
     ]
    }
   ],
   "source": [
    "print(f\"R-squared: {res.rvalue**2:.6f}\")"
   ]
  },
  {
   "cell_type": "code",
   "execution_count": 50,
   "id": "4e46e61a",
   "metadata": {
    "scrolled": true
   },
   "outputs": [
    {
     "data": {
      "image/png": "[encoded data removed]",
      "text/plain": [
       "<Figure size 432x288 with 1 Axes>"
      ]
     },
     "metadata": {
      "needs_background": "light"
     },
     "output_type": "display_data"
    }
   ],
   "source": [
    "plt.plot(x2, y2, '+', label='original data')\n",
    "plt.plot(x2, res.intercept + res.slope*x2, 'g', label='fitted line')\n",
    "plt.legend()\n",
    "plt.show()"
   ]
  },
  {
   "cell_type": "markdown",
   "id": "ac0b638d",
   "metadata": {},
   "source": [
    "vamos hacer la regresion lineal con otro metodo"
   ]
  },
  {
   "cell_type": "code",
   "execution_count": 51,
   "id": "c2a9f8b2",
   "metadata": {},
   "outputs": [],
   "source": [
    "# Creamos X e y del df nuevo\n",
    "X = dfArgenenprop[[\"metrosCubiertos\"]]\n",
    "y = dfArgenenprop[[\"price\"]]"
   ]
  },
  {
   "cell_type": "code",
   "execution_count": 52,
   "id": "c74307d7",
   "metadata": {},
   "outputs": [
    {
     "data": {
      "text/plain": [
       "pandas.core.frame.DataFrame"
      ]
     },
     "execution_count": 52,
     "metadata": {},
     "output_type": "execute_result"
    }
   ],
   "source": [
    "type(y)"
   ]
  },
  {
   "cell_type": "code",
   "execution_count": 53,
   "id": "317803ce",
   "metadata": {},
   "outputs": [
    {
     "data": {
      "text/plain": [
       "(1864, 1)"
      ]
     },
     "execution_count": 53,
     "metadata": {},
     "output_type": "execute_result"
    }
   ],
   "source": [
    "X.shape"
   ]
  },
  {
   "cell_type": "code",
   "execution_count": 54,
   "id": "4d5f7f88",
   "metadata": {},
   "outputs": [
    {
     "data": {
      "text/plain": [
       "(1864, 1)"
      ]
     },
     "execution_count": 54,
     "metadata": {},
     "output_type": "execute_result"
    }
   ],
   "source": [
    "y.shape"
   ]
  },
  {
   "cell_type": "code",
   "execution_count": 55,
   "id": "d294be36",
   "metadata": {},
   "outputs": [],
   "source": [
    "# Instanciamos el modelo\n",
    "\n",
    "linreg = LinearRegression()"
   ]
  },
  {
   "cell_type": "code",
   "execution_count": 56,
   "id": "9e243008",
   "metadata": {},
   "outputs": [
    {
     "data": {
      "text/plain": [
       "LinearRegression()"
      ]
     },
     "execution_count": 56,
     "metadata": {},
     "output_type": "execute_result"
    }
   ],
   "source": [
    "# Entrenamos el modelo \n",
    "\n",
    "linreg.fit(X, y)"
   ]
  },
  {
   "cell_type": "code",
   "execution_count": 57,
   "id": "ccc66528",
   "metadata": {},
   "outputs": [
    {
     "name": "stdout",
     "output_type": "stream",
     "text": [
      "[42584.23720818]\n",
      "[[1634.36389796]]\n"
     ]
    }
   ],
   "source": [
    "# Imprimimos coeficientes\n",
    "\n",
    "print (linreg.intercept_)\n",
    "print (linreg.coef_)"
   ]
  },
  {
   "cell_type": "code",
   "execution_count": 58,
   "id": "7958482a",
   "metadata": {},
   "outputs": [
    {
     "data": {
      "text/plain": [
       "array([[83443.33465707]])"
      ]
     },
     "execution_count": 58,
     "metadata": {},
     "output_type": "execute_result"
    }
   ],
   "source": [
    "# Aplicando la fórmula manualmente\n",
    "\n",
    "test = 25\n",
    "\n",
    "linreg.intercept_ + linreg.coef_*test"
   ]
  },
  {
   "cell_type": "code",
   "execution_count": 59,
   "id": "c836e1e4",
   "metadata": {},
   "outputs": [
    {
     "name": "stdout",
     "output_type": "stream",
     "text": [
      "Intercepto=   32271.461739566614\n",
      "RM=   [ 1521.46959125 10498.58813207]\n",
      "R2_train=   0.5832643667627428\n"
     ]
    }
   ],
   "source": [
    "# Generamos las matrices y el target\n",
    "\n",
    "X = dfArgenenprop[[\"metrosCubiertos\",\"dormitorios\"]]\n",
    "y = dfArgenenprop[\"price\"]\n",
    "\n",
    "# Importamos, Instanciamos, Fiteamos, etc..\n",
    "\n",
    "lm = linear_model.LinearRegression()\n",
    "\n",
    "model = lm.fit(X, y)\n",
    "predictions = lm.predict(X)\n",
    "\n",
    "print ('Intercepto=', ' ', model.intercept_)\n",
    "print ('RM=', ' ', model.coef_)\n",
    "print ('R2_train=', ' ', model.score(X, y))"
   ]
  },
  {
   "cell_type": "code",
   "execution_count": 60,
   "id": "e339ce2c",
   "metadata": {},
   "outputs": [
    {
     "data": {
      "text/plain": [
       "<matplotlib.collections.PathCollection at 0x1792b2e32b0>"
      ]
     },
     "execution_count": 60,
     "metadata": {},
     "output_type": "execute_result"
    },
    {
     "data": {
      "image/png": "[encoded data removed]",
      "text/plain": [
       "<Figure size 432x288 with 1 Axes>"
      ]
     },
     "metadata": {
      "needs_background": "light"
     },
     "output_type": "display_data"
    }
   ],
   "source": [
    "from numpy.polynomial.polynomial import polyfit\n",
    "\n",
    "# Fit with polyfit\n",
    "# y = b + m * x\n",
    "b, m = polyfit(dfArgenenprop[\"metrosCubiertos\"],dfArgenenprop[\"price\"], 1)\n",
    "\n",
    "plt.scatter(dfArgenenprop[\"metrosCubiertos\"], dfArgenenprop[\"price\"], s=0.5)\n",
    "plt.scatter(dfArgenenprop[\"metrosCubiertos\"], b + m * dfArgenenprop[\"metrosCubiertos\"], s=1, color=\"red\")"
   ]
  },
  {
   "cell_type": "code",
   "execution_count": 61,
   "id": "52c019ff",
   "metadata": {},
   "outputs": [],
   "source": [
    "# Creamos X e y con el dataframe ANTIGUO\n",
    "X2 = df[[\"surface_covered_in_m2\"]]\n",
    "y2 = df[[\"price_aprox_usd\"]]"
   ]
  },
  {
   "cell_type": "code",
   "execution_count": 62,
   "id": "aab4ec05",
   "metadata": {},
   "outputs": [],
   "source": [
    "# Instanciamos el modelo\n",
    "\n",
    "linreg = LinearRegression()"
   ]
  },
  {
   "cell_type": "code",
   "execution_count": 63,
   "id": "949a2682",
   "metadata": {},
   "outputs": [
    {
     "data": {
      "text/plain": [
       "LinearRegression()"
      ]
     },
     "execution_count": 63,
     "metadata": {},
     "output_type": "execute_result"
    }
   ],
   "source": [
    "# Entrenamos el modelo \n",
    "\n",
    "linreg.fit(X2, y2)"
   ]
  },
  {
   "cell_type": "code",
   "execution_count": 64,
   "id": "55e80498",
   "metadata": {},
   "outputs": [
    {
     "name": "stdout",
     "output_type": "stream",
     "text": [
      "[73670.82580268]\n",
      "[[1854.14303998]]\n"
     ]
    }
   ],
   "source": [
    "# Imprimimos coeficientes\n",
    "\n",
    "print (linreg.intercept_)\n",
    "print (linreg.coef_)"
   ]
  },
  {
   "cell_type": "code",
   "execution_count": 65,
   "id": "b4c96c43",
   "metadata": {},
   "outputs": [
    {
     "data": {
      "text/plain": [
       "array([[120024.40180209]])"
      ]
     },
     "execution_count": 65,
     "metadata": {},
     "output_type": "execute_result"
    }
   ],
   "source": [
    "# Aplicando la fórmula manualmente\n",
    "\n",
    "test = 25\n",
    "\n",
    "linreg.intercept_ + linreg.coef_*test"
   ]
  },
  {
   "cell_type": "code",
   "execution_count": 66,
   "id": "196dbd92",
   "metadata": {},
   "outputs": [
    {
     "name": "stdout",
     "output_type": "stream",
     "text": [
      "Intercepto=   109195.47908831714\n",
      "RM=   [  2045.76453289 -19930.88072141]\n",
      "R2_train=   0.1191715905276477\n"
     ]
    }
   ],
   "source": [
    "# Generamos las matrices y el target\n",
    "\n",
    "X2 = df[[\"surface_covered_in_m2\",\"rooms\"]]\n",
    "y2 = df[\"price_aprox_usd\"]\n",
    "\n",
    "# Importamos, Instanciamos, Fiteamos, etc..\n",
    "\n",
    "lm = linear_model.LinearRegression()\n",
    "\n",
    "model = lm.fit(X2, y2)\n",
    "predictions = lm.predict(X2)\n",
    "\n",
    "print ('Intercepto=', ' ', model.intercept_)\n",
    "print ('RM=', ' ', model.coef_)\n",
    "print ('R2_train=', ' ', model.score(X2, y2))"
   ]
  },
  {
   "cell_type": "code",
   "execution_count": 67,
   "id": "83f6609d",
   "metadata": {},
   "outputs": [
    {
     "data": {
      "text/plain": [
       "<matplotlib.collections.PathCollection at 0x1792b351070>"
      ]
     },
     "execution_count": 67,
     "metadata": {},
     "output_type": "execute_result"
    },
    {
     "data": {
      "image/png": "[encoded data removed]",
      "text/plain": [
       "<Figure size 432x288 with 1 Axes>"
      ]
     },
     "metadata": {
      "needs_background": "light"
     },
     "output_type": "display_data"
    }
   ],
   "source": [
    "# y = b + m * x\n",
    "b, m = polyfit(df[\"surface_covered_in_m2\"],df[\"price_aprox_usd\"], 1)\n",
    "\n",
    "plt.scatter(df[\"surface_covered_in_m2\"], df[\"price_aprox_usd\"], s=0.5)\n",
    "plt.scatter(df[\"surface_covered_in_m2\"], b + m * df[\"surface_covered_in_m2\"], s=1, color=\"red\")"
   ]
  },
  {
   "cell_type": "code",
   "execution_count": 140,
   "id": "71dd545e",
   "metadata": {},
   "outputs": [],
   "source": [
    "def prediccion(n):\n",
    "    slope = linreg.coef_\n",
    "    intercept = linreg.intercept_\n",
    "    precio = intercept + slope * n\n",
    "    if precio > 250000:\n",
    "        print(\"dependiendo de la zona sabremos si su piso es o no de lujo\")\n",
    "        if n < 100:\n",
    "            print(\"su piso es de lujo\")\n",
    "        else:\n",
    "            print(\"su piso NO es de lujo\")\n",
    "    else:\n",
    "        print(\"NO es de LUJO\")\n",
    "    \n",
    "    return(precio)"
   ]
  },
  {
   "cell_type": "code",
   "execution_count": 141,
   "id": "0377afb5",
   "metadata": {},
   "outputs": [
    {
     "name": "stdout",
     "output_type": "stream",
     "text": [
      "dependiendo de la zona sabremos si su piso es o no de lujo\n",
      "su piso NO es de lujo\n"
     ]
    },
    {
     "data": {
      "text/plain": [
       "array([[444499.43379799]])"
      ]
     },
     "execution_count": 141,
     "metadata": {},
     "output_type": "execute_result"
    }
   ],
   "source": [
    "prediccionPrecio1 = prediccion(200)\n",
    "prediccionPrecio1"
   ]
  },
  {
   "cell_type": "code",
   "execution_count": 142,
   "id": "75e7096e",
   "metadata": {},
   "outputs": [
    {
     "name": "stdout",
     "output_type": "stream",
     "text": [
      "NO es de LUJO\n"
     ]
    },
    {
     "data": {
      "text/plain": [
       "array([[184919.40820127]])"
      ]
     },
     "execution_count": 142,
     "metadata": {},
     "output_type": "execute_result"
    }
   ],
   "source": [
    "prediccionPrecio2 = prediccion(60)\n",
    "prediccionPrecio2"
   ]
  },
  {
   "cell_type": "code",
   "execution_count": 143,
   "id": "5a086133",
   "metadata": {},
   "outputs": [
    {
     "name": "stdout",
     "output_type": "stream",
     "text": [
      "dependiendo de la zona sabremos si su piso es o no de lujo\n",
      "su piso NO es de lujo\n"
     ]
    },
    {
     "data": {
      "text/plain": [
       "array([[351792.28179916]])"
      ]
     },
     "execution_count": 143,
     "metadata": {},
     "output_type": "execute_result"
    }
   ],
   "source": [
    "prediccionPrecio3 = prediccion(150)\n",
    "prediccionPrecio3"
   ]
  },
  {
   "cell_type": "code",
   "execution_count": 144,
   "id": "4aed9aa2",
   "metadata": {},
   "outputs": [
    {
     "name": "stdout",
     "output_type": "stream",
     "text": [
      "dependiendo de la zona sabremos si su piso es o no de lujo\n",
      "su piso NO es de lujo\n"
     ]
    },
    {
     "data": {
      "text/plain": [
       "array([[296167.99059986]])"
      ]
     },
     "execution_count": 144,
     "metadata": {},
     "output_type": "execute_result"
    }
   ],
   "source": [
    "prediccionPrecio4 = prediccion(120)\n",
    "prediccionPrecio4"
   ]
  },
  {
   "cell_type": "code",
   "execution_count": 145,
   "id": "f0b9b7a2",
   "metadata": {},
   "outputs": [
    {
     "name": "stdout",
     "output_type": "stream",
     "text": [
      "dependiendo de la zona sabremos si su piso es o no de lujo\n",
      "su piso NO es de lujo\n"
     ]
    },
    {
     "data": {
      "text/plain": [
       "array([[574289.44659634]])"
      ]
     },
     "execution_count": 145,
     "metadata": {},
     "output_type": "execute_result"
    }
   ],
   "source": [
    "prediccionPrecio5 = prediccion(270)\n",
    "prediccionPrecio5"
   ]
  },
  {
   "cell_type": "code",
   "execution_count": 146,
   "id": "2199cf38",
   "metadata": {},
   "outputs": [
    {
     "name": "stdout",
     "output_type": "stream",
     "text": [
      "NO es de LUJO\n"
     ]
    },
    {
     "data": {
      "text/plain": [
       "array([[166377.9778015]])"
      ]
     },
     "execution_count": 146,
     "metadata": {},
     "output_type": "execute_result"
    }
   ],
   "source": [
    "prediccionPrecio6 = prediccion(50)\n",
    "prediccionPrecio6"
   ]
  },
  {
   "cell_type": "code",
   "execution_count": 147,
   "id": "bfcc5dfb",
   "metadata": {},
   "outputs": [
    {
     "name": "stdout",
     "output_type": "stream",
     "text": [
      "NO es de LUJO\n"
     ]
    },
    {
     "data": {
      "text/plain": [
       "array([[207169.12468099]])"
      ]
     },
     "execution_count": 147,
     "metadata": {},
     "output_type": "execute_result"
    }
   ],
   "source": [
    "prediccionPrecio7 = prediccion(72)\n",
    "prediccionPrecio7"
   ]
  },
  {
   "cell_type": "code",
   "execution_count": 148,
   "id": "85b76d11",
   "metadata": {},
   "outputs": [
    {
     "name": "stdout",
     "output_type": "stream",
     "text": [
      "dependiendo de la zona sabremos si su piso es o no de lujo\n",
      "su piso NO es de lujo\n"
     ]
    },
    {
     "data": {
      "text/plain": [
       "array([[629913.73779564]])"
      ]
     },
     "execution_count": 148,
     "metadata": {},
     "output_type": "execute_result"
    }
   ],
   "source": [
    "prediccionPrecio8 = prediccion(300)\n",
    "prediccionPrecio8"
   ]
  },
  {
   "cell_type": "code",
   "execution_count": 149,
   "id": "054f3717",
   "metadata": {},
   "outputs": [
    {
     "name": "stdout",
     "output_type": "stream",
     "text": [
      "NO es de LUJO\n"
     ]
    },
    {
     "data": {
      "text/plain": [
       "array([[140419.97524183]])"
      ]
     },
     "execution_count": 149,
     "metadata": {},
     "output_type": "execute_result"
    }
   ],
   "source": [
    "prediccionPrecio9 = prediccion(36)\n",
    "prediccionPrecio9"
   ]
  },
  {
   "cell_type": "code",
   "execution_count": 150,
   "id": "99560f99",
   "metadata": {},
   "outputs": [
    {
     "name": "stdout",
     "output_type": "stream",
     "text": [
      "dependiendo de la zona sabremos si su piso es o no de lujo\n",
      "su piso NO es de lujo\n"
     ]
    },
    {
     "data": {
      "text/plain": [
       "array([[509394.44019717]])"
      ]
     },
     "execution_count": 150,
     "metadata": {},
     "output_type": "execute_result"
    }
   ],
   "source": [
    "prediccionPrecio10 = prediccion(235)\n",
    "prediccionPrecio10"
   ]
  },
  {
   "cell_type": "code",
   "execution_count": 100,
   "id": "6b841379",
   "metadata": {},
   "outputs": [
    {
     "data": {
      "text/html": [
       "<div>\n",
       "<style scoped>\n",
       "    .dataframe tbody tr th:only-of-type {\n",
       "        vertical-align: middle;\n",
       "    }\n",
       "\n",
       "    .dataframe tbody tr th {\n",
       "        vertical-align: top;\n",
       "    }\n",
       "\n",
       "    .dataframe thead th {\n",
       "        text-align: right;\n",
       "    }\n",
       "</style>\n",
       "<table border=\"1\" class=\"dataframe\">\n",
       "  <thead>\n",
       "    <tr style=\"text-align: right;\">\n",
       "      <th></th>\n",
       "      <th>price_aprox_usd</th>\n",
       "      <th>surface_covered_in_m2</th>\n",
       "      <th>floor</th>\n",
       "      <th>rooms</th>\n",
       "    </tr>\n",
       "  </thead>\n",
       "  <tbody>\n",
       "    <tr>\n",
       "      <th>0</th>\n",
       "      <td>50000.0</td>\n",
       "      <td>53.0</td>\n",
       "      <td>1.0</td>\n",
       "      <td>1.0</td>\n",
       "    </tr>\n",
       "    <tr>\n",
       "      <th>2</th>\n",
       "      <td>135000.0</td>\n",
       "      <td>95.0</td>\n",
       "      <td>2.0</td>\n",
       "      <td>3.0</td>\n",
       "    </tr>\n",
       "    <tr>\n",
       "      <th>3</th>\n",
       "      <td>75000.0</td>\n",
       "      <td>180.0</td>\n",
       "      <td>1.0</td>\n",
       "      <td>1.0</td>\n",
       "    </tr>\n",
       "    <tr>\n",
       "      <th>4</th>\n",
       "      <td>54000.0</td>\n",
       "      <td>30.0</td>\n",
       "      <td>3.0</td>\n",
       "      <td>2.0</td>\n",
       "    </tr>\n",
       "    <tr>\n",
       "      <th>6</th>\n",
       "      <td>185000.0</td>\n",
       "      <td>100.0</td>\n",
       "      <td>1.0</td>\n",
       "      <td>3.0</td>\n",
       "    </tr>\n",
       "    <tr>\n",
       "      <th>...</th>\n",
       "      <td>...</td>\n",
       "      <td>...</td>\n",
       "      <td>...</td>\n",
       "      <td>...</td>\n",
       "    </tr>\n",
       "    <tr>\n",
       "      <th>4504</th>\n",
       "      <td>380000.0</td>\n",
       "      <td>162.0</td>\n",
       "      <td>7.0</td>\n",
       "      <td>5.0</td>\n",
       "    </tr>\n",
       "    <tr>\n",
       "      <th>4505</th>\n",
       "      <td>75000.0</td>\n",
       "      <td>23.0</td>\n",
       "      <td>7.0</td>\n",
       "      <td>1.0</td>\n",
       "    </tr>\n",
       "    <tr>\n",
       "      <th>4506</th>\n",
       "      <td>170000.0</td>\n",
       "      <td>63.0</td>\n",
       "      <td>2.0</td>\n",
       "      <td>3.0</td>\n",
       "    </tr>\n",
       "    <tr>\n",
       "      <th>4508</th>\n",
       "      <td>267000.0</td>\n",
       "      <td>82.0</td>\n",
       "      <td>1.0</td>\n",
       "      <td>4.0</td>\n",
       "    </tr>\n",
       "    <tr>\n",
       "      <th>4509</th>\n",
       "      <td>86800.0</td>\n",
       "      <td>48.0</td>\n",
       "      <td>6.0</td>\n",
       "      <td>1.0</td>\n",
       "    </tr>\n",
       "  </tbody>\n",
       "</table>\n",
       "<p>4227 rows × 4 columns</p>\n",
       "</div>"
      ],
      "text/plain": [
       "      price_aprox_usd  surface_covered_in_m2  floor  rooms\n",
       "0             50000.0                   53.0    1.0    1.0\n",
       "2            135000.0                   95.0    2.0    3.0\n",
       "3             75000.0                  180.0    1.0    1.0\n",
       "4             54000.0                   30.0    3.0    2.0\n",
       "6            185000.0                  100.0    1.0    3.0\n",
       "...               ...                    ...    ...    ...\n",
       "4504         380000.0                  162.0    7.0    5.0\n",
       "4505          75000.0                   23.0    7.0    1.0\n",
       "4506         170000.0                   63.0    2.0    3.0\n",
       "4508         267000.0                   82.0    1.0    4.0\n",
       "4509          86800.0                   48.0    6.0    1.0\n",
       "\n",
       "[4227 rows x 4 columns]"
      ]
     },
     "execution_count": 100,
     "metadata": {},
     "output_type": "execute_result"
    }
   ],
   "source": [
    "df"
   ]
  },
  {
   "cell_type": "code",
   "execution_count": 80,
   "id": "08d0a51f",
   "metadata": {},
   "outputs": [
    {
     "name": "stdout",
     "output_type": "stream",
     "text": [
      "price_aprox_usd          135000.0\n",
      "surface_covered_in_m2        95.0\n",
      "floor                         2.0\n",
      "rooms                         3.0\n",
      "Name: 2, dtype: float64\n"
     ]
    }
   ],
   "source": [
    "print(df.loc[2])"
   ]
  },
  {
   "cell_type": "code",
   "execution_count": 81,
   "id": "8719bff9",
   "metadata": {},
   "outputs": [
    {
     "name": "stdout",
     "output_type": "stream",
     "text": [
      "su piso NO es de lujo\n"
     ]
    },
    {
     "data": {
      "text/plain": [
       "array([[249814.41460045]])"
      ]
     },
     "execution_count": 81,
     "metadata": {},
     "output_type": "execute_result"
    }
   ],
   "source": [
    "prediccionPrecio10 = prediccion(df.loc[2].surface_covered_in_m2)\n",
    "prediccionPrecio10 "
   ]
  },
  {
   "cell_type": "code",
   "execution_count": 82,
   "id": "2d717e81",
   "metadata": {},
   "outputs": [],
   "source": [
    "errorDePrediccion = prediccionPrecio10 - df.price_aprox_usd[2]"
   ]
  },
  {
   "cell_type": "code",
   "execution_count": 83,
   "id": "f625950d",
   "metadata": {},
   "outputs": [
    {
     "data": {
      "text/plain": [
       "array([[114814.41460045]])"
      ]
     },
     "execution_count": 83,
     "metadata": {},
     "output_type": "execute_result"
    }
   ],
   "source": [
    "errorDePrediccion"
   ]
  },
  {
   "cell_type": "code",
   "execution_count": null,
   "id": "13546d74",
   "metadata": {},
   "outputs": [],
   "source": [
    "def errores():\n",
    "    listaError = []\n",
    "    "
   ]
  }
 ],
 "metadata": {
  "kernelspec": {
   "display_name": "Python 3 (ipykernel)",
   "language": "python",
   "name": "python3"
  },
  "language_info": {
   "codemirror_mode": {
    "name": "ipython",
    "version": 3
   },
   "file_extension": ".py",
   "mimetype": "text/x-python",
   "name": "python",
   "nbconvert_exporter": "python",
   "pygments_lexer": "ipython3",
   "version": "3.9.12"
  }
 },
 "nbformat": 4,
 "nbformat_minor": 5
}
