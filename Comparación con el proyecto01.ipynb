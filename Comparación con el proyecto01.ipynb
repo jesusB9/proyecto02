{
 "cells": [
  {
   "cell_type": "code",
   "execution_count": 1,
   "id": "ecb14540",
   "metadata": {},
   "outputs": [],
   "source": [
    "%matplotlib inline\n",
    "from matplotlib import pyplot as plt\n",
    "import numpy as np\n",
    "import pandas as pd\n",
    "import csv\n",
    "import matplotlib.pyplot as plt\n",
    "import matplotlib\n",
    "import seaborn as sns\n",
    "from sklearn import datasets, preprocessing\n",
    "from sklearn import datasets, linear_model\n",
    "from sklearn.metrics import mean_squared_error, r2_score\n",
    "from sklearn.model_selection import train_test_split\n",
    "from sklearn.linear_model import LinearRegression\n",
    "from sklearn.pipeline import Pipeline\n",
    "from sklearn.compose import ColumnTransformer\n",
    "from sklearn.preprocessing import StandardScaler, OneHotEncoder\n",
    "from sklearn.preprocessing import MinMaxScaler\n",
    "import warnings\n",
    "warnings.filterwarnings('ignore')"
   ]
  },
  {
   "cell_type": "code",
   "execution_count": 2,
   "id": "5659e865",
   "metadata": {},
   "outputs": [],
   "source": [
    "#__IMPORTAMOS NUESTRO ARCHIVO CSV__Y LO CONVERTIMOS EN UN DATAFRAME__\n",
    "df01=pd.read_csv(r\"C:\\Users\\jesus\\Documents\\data scince\\github\\properatti.csv\" ,delimiter=\",\")\n",
    "pd.set_option('display.max_columns', None)\n",
    "df01=df01.drop([\"Unnamed: 0\"], axis=1)"
   ]
  },
  {
   "cell_type": "code",
   "execution_count": 3,
   "id": "f4ce2df6",
   "metadata": {},
   "outputs": [
    {
     "data": {
      "text/html": [
       "<div>\n",
       "<style scoped>\n",
       "    .dataframe tbody tr th:only-of-type {\n",
       "        vertical-align: middle;\n",
       "    }\n",
       "\n",
       "    .dataframe tbody tr th {\n",
       "        vertical-align: top;\n",
       "    }\n",
       "\n",
       "    .dataframe thead th {\n",
       "        text-align: right;\n",
       "    }\n",
       "</style>\n",
       "<table border=\"1\" class=\"dataframe\">\n",
       "  <thead>\n",
       "    <tr style=\"text-align: right;\">\n",
       "      <th></th>\n",
       "      <th>operation</th>\n",
       "      <th>property_type</th>\n",
       "      <th>place_name</th>\n",
       "      <th>place_with_parent_names</th>\n",
       "      <th>country_name</th>\n",
       "      <th>state_name</th>\n",
       "      <th>geonames_id</th>\n",
       "      <th>lat-lon</th>\n",
       "      <th>lat</th>\n",
       "      <th>lon</th>\n",
       "      <th>price</th>\n",
       "      <th>currency</th>\n",
       "      <th>price_aprox_local_currency</th>\n",
       "      <th>price_aprox_usd</th>\n",
       "      <th>surface_total_in_m2</th>\n",
       "      <th>surface_covered_in_m2</th>\n",
       "      <th>price_usd_per_m2</th>\n",
       "      <th>price_per_m2</th>\n",
       "      <th>floor</th>\n",
       "      <th>rooms</th>\n",
       "      <th>expenses</th>\n",
       "      <th>properati_url</th>\n",
       "      <th>description</th>\n",
       "      <th>title</th>\n",
       "      <th>image_thumbnail</th>\n",
       "    </tr>\n",
       "  </thead>\n",
       "  <tbody>\n",
       "    <tr>\n",
       "      <th>0</th>\n",
       "      <td>sell</td>\n",
       "      <td>PH</td>\n",
       "      <td>Mataderos</td>\n",
       "      <td>|Argentina|Capital Federal|Mataderos|</td>\n",
       "      <td>Argentina</td>\n",
       "      <td>Capital Federal</td>\n",
       "      <td>3430787.0</td>\n",
       "      <td>-34.6618237,-58.5088387</td>\n",
       "      <td>-34.661824</td>\n",
       "      <td>-58.508839</td>\n",
       "      <td>62000.0</td>\n",
       "      <td>USD</td>\n",
       "      <td>1093959.0</td>\n",
       "      <td>62000.0</td>\n",
       "      <td>55.0</td>\n",
       "      <td>40.0</td>\n",
       "      <td>1127.272727</td>\n",
       "      <td>1550.000000</td>\n",
       "      <td>NaN</td>\n",
       "      <td>NaN</td>\n",
       "      <td>NaN</td>\n",
       "      <td>http://www.properati.com.ar/15bo8_venta_ph_mat...</td>\n",
       "      <td>2 AMBIENTES TIPO CASA PLANTA BAJA POR PASILLO,...</td>\n",
       "      <td>2 AMB TIPO CASA SIN EXPENSAS EN PB</td>\n",
       "      <td>https://thumbs4.properati.com/8/BluUYiHJLhgIIK...</td>\n",
       "    </tr>\n",
       "    <tr>\n",
       "      <th>1</th>\n",
       "      <td>sell</td>\n",
       "      <td>apartment</td>\n",
       "      <td>La Plata</td>\n",
       "      <td>|Argentina|Bs.As. G.B.A. Zona Sur|La Plata|</td>\n",
       "      <td>Argentina</td>\n",
       "      <td>Bs.As. G.B.A. Zona Sur</td>\n",
       "      <td>3432039.0</td>\n",
       "      <td>-34.9038831,-57.9643295</td>\n",
       "      <td>-34.903883</td>\n",
       "      <td>-57.964330</td>\n",
       "      <td>150000.0</td>\n",
       "      <td>USD</td>\n",
       "      <td>2646675.0</td>\n",
       "      <td>150000.0</td>\n",
       "      <td>NaN</td>\n",
       "      <td>NaN</td>\n",
       "      <td>NaN</td>\n",
       "      <td>NaN</td>\n",
       "      <td>NaN</td>\n",
       "      <td>NaN</td>\n",
       "      <td>NaN</td>\n",
       "      <td>http://www.properati.com.ar/15bob_venta_depart...</td>\n",
       "      <td>Venta de departamento en décimo piso al frente...</td>\n",
       "      <td>VENTA Depto 2 dorm. a estrenar 7 e/ 36 y 37   ...</td>\n",
       "      <td>https://thumbs4.properati.com/7/ikpVBu2ztHA7jv...</td>\n",
       "    </tr>\n",
       "    <tr>\n",
       "      <th>2</th>\n",
       "      <td>sell</td>\n",
       "      <td>apartment</td>\n",
       "      <td>Mataderos</td>\n",
       "      <td>|Argentina|Capital Federal|Mataderos|</td>\n",
       "      <td>Argentina</td>\n",
       "      <td>Capital Federal</td>\n",
       "      <td>3430787.0</td>\n",
       "      <td>-34.6522615,-58.5229825</td>\n",
       "      <td>-34.652262</td>\n",
       "      <td>-58.522982</td>\n",
       "      <td>72000.0</td>\n",
       "      <td>USD</td>\n",
       "      <td>1270404.0</td>\n",
       "      <td>72000.0</td>\n",
       "      <td>55.0</td>\n",
       "      <td>55.0</td>\n",
       "      <td>1309.090909</td>\n",
       "      <td>1309.090909</td>\n",
       "      <td>NaN</td>\n",
       "      <td>NaN</td>\n",
       "      <td>NaN</td>\n",
       "      <td>http://www.properati.com.ar/15bod_venta_depart...</td>\n",
       "      <td>2 AMBIENTES 3ER PISO LATERAL LIVING COMEDOR AM...</td>\n",
       "      <td>2 AMB 3ER PISO CON ASCENSOR APTO CREDITO</td>\n",
       "      <td>https://thumbs4.properati.com/5/SXKr34F_IwG3W_...</td>\n",
       "    </tr>\n",
       "    <tr>\n",
       "      <th>3</th>\n",
       "      <td>sell</td>\n",
       "      <td>PH</td>\n",
       "      <td>Liniers</td>\n",
       "      <td>|Argentina|Capital Federal|Liniers|</td>\n",
       "      <td>Argentina</td>\n",
       "      <td>Capital Federal</td>\n",
       "      <td>3431333.0</td>\n",
       "      <td>-34.6477969,-58.5164244</td>\n",
       "      <td>-34.647797</td>\n",
       "      <td>-58.516424</td>\n",
       "      <td>95000.0</td>\n",
       "      <td>USD</td>\n",
       "      <td>1676227.5</td>\n",
       "      <td>95000.0</td>\n",
       "      <td>NaN</td>\n",
       "      <td>NaN</td>\n",
       "      <td>NaN</td>\n",
       "      <td>NaN</td>\n",
       "      <td>NaN</td>\n",
       "      <td>NaN</td>\n",
       "      <td>NaN</td>\n",
       "      <td>http://www.properati.com.ar/15boh_venta_ph_lin...</td>\n",
       "      <td>PH 3 ambientes con patio. Hay 3 deptos en lote...</td>\n",
       "      <td>PH 3 amb. cfte. reciclado</td>\n",
       "      <td>https://thumbs4.properati.com/3/DgIfX-85Mog5SP...</td>\n",
       "    </tr>\n",
       "    <tr>\n",
       "      <th>4</th>\n",
       "      <td>sell</td>\n",
       "      <td>apartment</td>\n",
       "      <td>Centro</td>\n",
       "      <td>|Argentina|Buenos Aires Costa Atlántica|Mar de...</td>\n",
       "      <td>Argentina</td>\n",
       "      <td>Buenos Aires Costa Atlántica</td>\n",
       "      <td>3435548.0</td>\n",
       "      <td>-38.0026256,-57.5494468</td>\n",
       "      <td>-38.002626</td>\n",
       "      <td>-57.549447</td>\n",
       "      <td>64000.0</td>\n",
       "      <td>USD</td>\n",
       "      <td>1129248.0</td>\n",
       "      <td>64000.0</td>\n",
       "      <td>35.0</td>\n",
       "      <td>35.0</td>\n",
       "      <td>1828.571429</td>\n",
       "      <td>1828.571429</td>\n",
       "      <td>NaN</td>\n",
       "      <td>NaN</td>\n",
       "      <td>NaN</td>\n",
       "      <td>http://www.properati.com.ar/15bok_venta_depart...</td>\n",
       "      <td>DEPARTAMENTO CON FANTÁSTICA ILUMINACIÓN NATURA...</td>\n",
       "      <td>DEPTO 2 AMB AL CONTRAFRENTE ZONA CENTRO/PLAZA ...</td>\n",
       "      <td>https://thumbs4.properati.com/5/xrRqlNcSI_vs-f...</td>\n",
       "    </tr>\n",
       "  </tbody>\n",
       "</table>\n",
       "</div>"
      ],
      "text/plain": [
       "  operation property_type place_name  \\\n",
       "0      sell            PH  Mataderos   \n",
       "1      sell     apartment   La Plata   \n",
       "2      sell     apartment  Mataderos   \n",
       "3      sell            PH    Liniers   \n",
       "4      sell     apartment     Centro   \n",
       "\n",
       "                             place_with_parent_names country_name  \\\n",
       "0              |Argentina|Capital Federal|Mataderos|    Argentina   \n",
       "1        |Argentina|Bs.As. G.B.A. Zona Sur|La Plata|    Argentina   \n",
       "2              |Argentina|Capital Federal|Mataderos|    Argentina   \n",
       "3                |Argentina|Capital Federal|Liniers|    Argentina   \n",
       "4  |Argentina|Buenos Aires Costa Atlántica|Mar de...    Argentina   \n",
       "\n",
       "                     state_name  geonames_id                  lat-lon  \\\n",
       "0               Capital Federal    3430787.0  -34.6618237,-58.5088387   \n",
       "1        Bs.As. G.B.A. Zona Sur    3432039.0  -34.9038831,-57.9643295   \n",
       "2               Capital Federal    3430787.0  -34.6522615,-58.5229825   \n",
       "3               Capital Federal    3431333.0  -34.6477969,-58.5164244   \n",
       "4  Buenos Aires Costa Atlántica    3435548.0  -38.0026256,-57.5494468   \n",
       "\n",
       "         lat        lon     price currency  price_aprox_local_currency  \\\n",
       "0 -34.661824 -58.508839   62000.0      USD                   1093959.0   \n",
       "1 -34.903883 -57.964330  150000.0      USD                   2646675.0   \n",
       "2 -34.652262 -58.522982   72000.0      USD                   1270404.0   \n",
       "3 -34.647797 -58.516424   95000.0      USD                   1676227.5   \n",
       "4 -38.002626 -57.549447   64000.0      USD                   1129248.0   \n",
       "\n",
       "   price_aprox_usd  surface_total_in_m2  surface_covered_in_m2  \\\n",
       "0          62000.0                 55.0                   40.0   \n",
       "1         150000.0                  NaN                    NaN   \n",
       "2          72000.0                 55.0                   55.0   \n",
       "3          95000.0                  NaN                    NaN   \n",
       "4          64000.0                 35.0                   35.0   \n",
       "\n",
       "   price_usd_per_m2  price_per_m2  floor  rooms  expenses  \\\n",
       "0       1127.272727   1550.000000    NaN    NaN       NaN   \n",
       "1               NaN           NaN    NaN    NaN       NaN   \n",
       "2       1309.090909   1309.090909    NaN    NaN       NaN   \n",
       "3               NaN           NaN    NaN    NaN       NaN   \n",
       "4       1828.571429   1828.571429    NaN    NaN       NaN   \n",
       "\n",
       "                                       properati_url  \\\n",
       "0  http://www.properati.com.ar/15bo8_venta_ph_mat...   \n",
       "1  http://www.properati.com.ar/15bob_venta_depart...   \n",
       "2  http://www.properati.com.ar/15bod_venta_depart...   \n",
       "3  http://www.properati.com.ar/15boh_venta_ph_lin...   \n",
       "4  http://www.properati.com.ar/15bok_venta_depart...   \n",
       "\n",
       "                                         description  \\\n",
       "0  2 AMBIENTES TIPO CASA PLANTA BAJA POR PASILLO,...   \n",
       "1  Venta de departamento en décimo piso al frente...   \n",
       "2  2 AMBIENTES 3ER PISO LATERAL LIVING COMEDOR AM...   \n",
       "3  PH 3 ambientes con patio. Hay 3 deptos en lote...   \n",
       "4  DEPARTAMENTO CON FANTÁSTICA ILUMINACIÓN NATURA...   \n",
       "\n",
       "                                               title  \\\n",
       "0                 2 AMB TIPO CASA SIN EXPENSAS EN PB   \n",
       "1  VENTA Depto 2 dorm. a estrenar 7 e/ 36 y 37   ...   \n",
       "2           2 AMB 3ER PISO CON ASCENSOR APTO CREDITO   \n",
       "3                       PH 3 amb. cfte. reciclado      \n",
       "4  DEPTO 2 AMB AL CONTRAFRENTE ZONA CENTRO/PLAZA ...   \n",
       "\n",
       "                                     image_thumbnail  \n",
       "0  https://thumbs4.properati.com/8/BluUYiHJLhgIIK...  \n",
       "1  https://thumbs4.properati.com/7/ikpVBu2ztHA7jv...  \n",
       "2  https://thumbs4.properati.com/5/SXKr34F_IwG3W_...  \n",
       "3  https://thumbs4.properati.com/3/DgIfX-85Mog5SP...  \n",
       "4  https://thumbs4.properati.com/5/xrRqlNcSI_vs-f...  "
      ]
     },
     "execution_count": 3,
     "metadata": {},
     "output_type": "execute_result"
    }
   ],
   "source": [
    "df01.head(5)"
   ]
  },
  {
   "cell_type": "code",
   "execution_count": 4,
   "id": "65d80248",
   "metadata": {},
   "outputs": [],
   "source": [
    "# Borramos las columnas que no vamos a comparar con el otro proyecto\n",
    "df=df01.drop([\"property_type\", \"operation\", \"state_name\", \"geonames_id\", \"place_name\", \"country_name\", \"place_with_parent_names\", \"price\", \"lat-lon\", \"lat\", \"lon\", \"price_aprox_local_currency\", \"surface_total_in_m2\", \"price_per_m2\", \"currency\", \"image_thumbnail\", \"price_usd_per_m2\", \"description\", \"title\", \"properati_url\", \"expenses\"], axis=1)"
   ]
  },
  {
   "cell_type": "code",
   "execution_count": 5,
   "id": "8c03cf4a",
   "metadata": {},
   "outputs": [
    {
     "data": {
      "text/html": [
       "<div>\n",
       "<style scoped>\n",
       "    .dataframe tbody tr th:only-of-type {\n",
       "        vertical-align: middle;\n",
       "    }\n",
       "\n",
       "    .dataframe tbody tr th {\n",
       "        vertical-align: top;\n",
       "    }\n",
       "\n",
       "    .dataframe thead th {\n",
       "        text-align: right;\n",
       "    }\n",
       "</style>\n",
       "<table border=\"1\" class=\"dataframe\">\n",
       "  <thead>\n",
       "    <tr style=\"text-align: right;\">\n",
       "      <th></th>\n",
       "      <th>price_aprox_usd</th>\n",
       "      <th>surface_covered_in_m2</th>\n",
       "      <th>floor</th>\n",
       "      <th>rooms</th>\n",
       "    </tr>\n",
       "  </thead>\n",
       "  <tbody>\n",
       "    <tr>\n",
       "      <th>0</th>\n",
       "      <td>62000.0</td>\n",
       "      <td>40.0</td>\n",
       "      <td>NaN</td>\n",
       "      <td>NaN</td>\n",
       "    </tr>\n",
       "    <tr>\n",
       "      <th>1</th>\n",
       "      <td>150000.0</td>\n",
       "      <td>NaN</td>\n",
       "      <td>NaN</td>\n",
       "      <td>NaN</td>\n",
       "    </tr>\n",
       "    <tr>\n",
       "      <th>2</th>\n",
       "      <td>72000.0</td>\n",
       "      <td>55.0</td>\n",
       "      <td>NaN</td>\n",
       "      <td>NaN</td>\n",
       "    </tr>\n",
       "    <tr>\n",
       "      <th>3</th>\n",
       "      <td>95000.0</td>\n",
       "      <td>NaN</td>\n",
       "      <td>NaN</td>\n",
       "      <td>NaN</td>\n",
       "    </tr>\n",
       "    <tr>\n",
       "      <th>4</th>\n",
       "      <td>64000.0</td>\n",
       "      <td>35.0</td>\n",
       "      <td>NaN</td>\n",
       "      <td>NaN</td>\n",
       "    </tr>\n",
       "    <tr>\n",
       "      <th>...</th>\n",
       "      <td>...</td>\n",
       "      <td>...</td>\n",
       "      <td>...</td>\n",
       "      <td>...</td>\n",
       "    </tr>\n",
       "    <tr>\n",
       "      <th>121215</th>\n",
       "      <td>870000.0</td>\n",
       "      <td>93.0</td>\n",
       "      <td>NaN</td>\n",
       "      <td>NaN</td>\n",
       "    </tr>\n",
       "    <tr>\n",
       "      <th>121216</th>\n",
       "      <td>498000.0</td>\n",
       "      <td>360.0</td>\n",
       "      <td>NaN</td>\n",
       "      <td>NaN</td>\n",
       "    </tr>\n",
       "    <tr>\n",
       "      <th>121217</th>\n",
       "      <td>131500.0</td>\n",
       "      <td>39.0</td>\n",
       "      <td>NaN</td>\n",
       "      <td>NaN</td>\n",
       "    </tr>\n",
       "    <tr>\n",
       "      <th>121218</th>\n",
       "      <td>95900.0</td>\n",
       "      <td>48.0</td>\n",
       "      <td>NaN</td>\n",
       "      <td>NaN</td>\n",
       "    </tr>\n",
       "    <tr>\n",
       "      <th>121219</th>\n",
       "      <td>129000.0</td>\n",
       "      <td>77.0</td>\n",
       "      <td>NaN</td>\n",
       "      <td>NaN</td>\n",
       "    </tr>\n",
       "  </tbody>\n",
       "</table>\n",
       "<p>121220 rows × 4 columns</p>\n",
       "</div>"
      ],
      "text/plain": [
       "        price_aprox_usd  surface_covered_in_m2  floor  rooms\n",
       "0               62000.0                   40.0    NaN    NaN\n",
       "1              150000.0                    NaN    NaN    NaN\n",
       "2               72000.0                   55.0    NaN    NaN\n",
       "3               95000.0                    NaN    NaN    NaN\n",
       "4               64000.0                   35.0    NaN    NaN\n",
       "...                 ...                    ...    ...    ...\n",
       "121215         870000.0                   93.0    NaN    NaN\n",
       "121216         498000.0                  360.0    NaN    NaN\n",
       "121217         131500.0                   39.0    NaN    NaN\n",
       "121218          95900.0                   48.0    NaN    NaN\n",
       "121219         129000.0                   77.0    NaN    NaN\n",
       "\n",
       "[121220 rows x 4 columns]"
      ]
     },
     "execution_count": 5,
     "metadata": {},
     "output_type": "execute_result"
    }
   ],
   "source": [
    "df"
   ]
  },
  {
   "cell_type": "code",
   "execution_count": 6,
   "id": "b46e30b2",
   "metadata": {},
   "outputs": [],
   "source": [
    "#Eliminamos los nan para ver los datos que nos interesan\n",
    "df = df.dropna(axis = 0)"
   ]
  },
  {
   "cell_type": "code",
   "execution_count": 7,
   "id": "b7dc4124",
   "metadata": {
    "scrolled": true
   },
   "outputs": [
    {
     "data": {
      "text/html": [
       "<div>\n",
       "<style scoped>\n",
       "    .dataframe tbody tr th:only-of-type {\n",
       "        vertical-align: middle;\n",
       "    }\n",
       "\n",
       "    .dataframe tbody tr th {\n",
       "        vertical-align: top;\n",
       "    }\n",
       "\n",
       "    .dataframe thead th {\n",
       "        text-align: right;\n",
       "    }\n",
       "</style>\n",
       "<table border=\"1\" class=\"dataframe\">\n",
       "  <thead>\n",
       "    <tr style=\"text-align: right;\">\n",
       "      <th></th>\n",
       "      <th>price_aprox_usd</th>\n",
       "      <th>surface_covered_in_m2</th>\n",
       "      <th>floor</th>\n",
       "      <th>rooms</th>\n",
       "    </tr>\n",
       "  </thead>\n",
       "  <tbody>\n",
       "    <tr>\n",
       "      <th>89</th>\n",
       "      <td>50000.0</td>\n",
       "      <td>53.0</td>\n",
       "      <td>1.0</td>\n",
       "      <td>1.0</td>\n",
       "    </tr>\n",
       "    <tr>\n",
       "      <th>93</th>\n",
       "      <td>385000.0</td>\n",
       "      <td>416.0</td>\n",
       "      <td>2.0</td>\n",
       "      <td>3.0</td>\n",
       "    </tr>\n",
       "    <tr>\n",
       "      <th>94</th>\n",
       "      <td>135000.0</td>\n",
       "      <td>95.0</td>\n",
       "      <td>2.0</td>\n",
       "      <td>3.0</td>\n",
       "    </tr>\n",
       "    <tr>\n",
       "      <th>95</th>\n",
       "      <td>75000.0</td>\n",
       "      <td>180.0</td>\n",
       "      <td>1.0</td>\n",
       "      <td>1.0</td>\n",
       "    </tr>\n",
       "    <tr>\n",
       "      <th>96</th>\n",
       "      <td>54000.0</td>\n",
       "      <td>30.0</td>\n",
       "      <td>3.0</td>\n",
       "      <td>2.0</td>\n",
       "    </tr>\n",
       "    <tr>\n",
       "      <th>...</th>\n",
       "      <td>...</td>\n",
       "      <td>...</td>\n",
       "      <td>...</td>\n",
       "      <td>...</td>\n",
       "    </tr>\n",
       "    <tr>\n",
       "      <th>119929</th>\n",
       "      <td>75000.0</td>\n",
       "      <td>23.0</td>\n",
       "      <td>7.0</td>\n",
       "      <td>1.0</td>\n",
       "    </tr>\n",
       "    <tr>\n",
       "      <th>119930</th>\n",
       "      <td>170000.0</td>\n",
       "      <td>63.0</td>\n",
       "      <td>2.0</td>\n",
       "      <td>3.0</td>\n",
       "    </tr>\n",
       "    <tr>\n",
       "      <th>119935</th>\n",
       "      <td>95000.0</td>\n",
       "      <td>12731.0</td>\n",
       "      <td>1.0</td>\n",
       "      <td>10.0</td>\n",
       "    </tr>\n",
       "    <tr>\n",
       "      <th>119936</th>\n",
       "      <td>267000.0</td>\n",
       "      <td>82.0</td>\n",
       "      <td>1.0</td>\n",
       "      <td>4.0</td>\n",
       "    </tr>\n",
       "    <tr>\n",
       "      <th>119942</th>\n",
       "      <td>86800.0</td>\n",
       "      <td>48.0</td>\n",
       "      <td>6.0</td>\n",
       "      <td>1.0</td>\n",
       "    </tr>\n",
       "  </tbody>\n",
       "</table>\n",
       "<p>4510 rows × 4 columns</p>\n",
       "</div>"
      ],
      "text/plain": [
       "        price_aprox_usd  surface_covered_in_m2  floor  rooms\n",
       "89              50000.0                   53.0    1.0    1.0\n",
       "93             385000.0                  416.0    2.0    3.0\n",
       "94             135000.0                   95.0    2.0    3.0\n",
       "95              75000.0                  180.0    1.0    1.0\n",
       "96              54000.0                   30.0    3.0    2.0\n",
       "...                 ...                    ...    ...    ...\n",
       "119929          75000.0                   23.0    7.0    1.0\n",
       "119930         170000.0                   63.0    2.0    3.0\n",
       "119935          95000.0                12731.0    1.0   10.0\n",
       "119936         267000.0                   82.0    1.0    4.0\n",
       "119942          86800.0                   48.0    6.0    1.0\n",
       "\n",
       "[4510 rows x 4 columns]"
      ]
     },
     "execution_count": 7,
     "metadata": {},
     "output_type": "execute_result"
    }
   ],
   "source": [
    "df"
   ]
  },
  {
   "cell_type": "code",
   "execution_count": 8,
   "id": "185ce1f7",
   "metadata": {},
   "outputs": [],
   "source": [
    "# hacemos un reseset en los index\n",
    "df = df.reset_index(drop=True)"
   ]
  },
  {
   "cell_type": "code",
   "execution_count": 9,
   "id": "800e4b6d",
   "metadata": {},
   "outputs": [
    {
     "data": {
      "text/html": [
       "<div>\n",
       "<style scoped>\n",
       "    .dataframe tbody tr th:only-of-type {\n",
       "        vertical-align: middle;\n",
       "    }\n",
       "\n",
       "    .dataframe tbody tr th {\n",
       "        vertical-align: top;\n",
       "    }\n",
       "\n",
       "    .dataframe thead th {\n",
       "        text-align: right;\n",
       "    }\n",
       "</style>\n",
       "<table border=\"1\" class=\"dataframe\">\n",
       "  <thead>\n",
       "    <tr style=\"text-align: right;\">\n",
       "      <th></th>\n",
       "      <th>price_aprox_usd</th>\n",
       "      <th>surface_covered_in_m2</th>\n",
       "      <th>floor</th>\n",
       "      <th>rooms</th>\n",
       "    </tr>\n",
       "  </thead>\n",
       "  <tbody>\n",
       "    <tr>\n",
       "      <th>0</th>\n",
       "      <td>50000.0</td>\n",
       "      <td>53.0</td>\n",
       "      <td>1.0</td>\n",
       "      <td>1.0</td>\n",
       "    </tr>\n",
       "    <tr>\n",
       "      <th>1</th>\n",
       "      <td>385000.0</td>\n",
       "      <td>416.0</td>\n",
       "      <td>2.0</td>\n",
       "      <td>3.0</td>\n",
       "    </tr>\n",
       "    <tr>\n",
       "      <th>2</th>\n",
       "      <td>135000.0</td>\n",
       "      <td>95.0</td>\n",
       "      <td>2.0</td>\n",
       "      <td>3.0</td>\n",
       "    </tr>\n",
       "    <tr>\n",
       "      <th>3</th>\n",
       "      <td>75000.0</td>\n",
       "      <td>180.0</td>\n",
       "      <td>1.0</td>\n",
       "      <td>1.0</td>\n",
       "    </tr>\n",
       "    <tr>\n",
       "      <th>4</th>\n",
       "      <td>54000.0</td>\n",
       "      <td>30.0</td>\n",
       "      <td>3.0</td>\n",
       "      <td>2.0</td>\n",
       "    </tr>\n",
       "    <tr>\n",
       "      <th>...</th>\n",
       "      <td>...</td>\n",
       "      <td>...</td>\n",
       "      <td>...</td>\n",
       "      <td>...</td>\n",
       "    </tr>\n",
       "    <tr>\n",
       "      <th>4505</th>\n",
       "      <td>75000.0</td>\n",
       "      <td>23.0</td>\n",
       "      <td>7.0</td>\n",
       "      <td>1.0</td>\n",
       "    </tr>\n",
       "    <tr>\n",
       "      <th>4506</th>\n",
       "      <td>170000.0</td>\n",
       "      <td>63.0</td>\n",
       "      <td>2.0</td>\n",
       "      <td>3.0</td>\n",
       "    </tr>\n",
       "    <tr>\n",
       "      <th>4507</th>\n",
       "      <td>95000.0</td>\n",
       "      <td>12731.0</td>\n",
       "      <td>1.0</td>\n",
       "      <td>10.0</td>\n",
       "    </tr>\n",
       "    <tr>\n",
       "      <th>4508</th>\n",
       "      <td>267000.0</td>\n",
       "      <td>82.0</td>\n",
       "      <td>1.0</td>\n",
       "      <td>4.0</td>\n",
       "    </tr>\n",
       "    <tr>\n",
       "      <th>4509</th>\n",
       "      <td>86800.0</td>\n",
       "      <td>48.0</td>\n",
       "      <td>6.0</td>\n",
       "      <td>1.0</td>\n",
       "    </tr>\n",
       "  </tbody>\n",
       "</table>\n",
       "<p>4510 rows × 4 columns</p>\n",
       "</div>"
      ],
      "text/plain": [
       "      price_aprox_usd  surface_covered_in_m2  floor  rooms\n",
       "0             50000.0                   53.0    1.0    1.0\n",
       "1            385000.0                  416.0    2.0    3.0\n",
       "2            135000.0                   95.0    2.0    3.0\n",
       "3             75000.0                  180.0    1.0    1.0\n",
       "4             54000.0                   30.0    3.0    2.0\n",
       "...               ...                    ...    ...    ...\n",
       "4505          75000.0                   23.0    7.0    1.0\n",
       "4506         170000.0                   63.0    2.0    3.0\n",
       "4507          95000.0                12731.0    1.0   10.0\n",
       "4508         267000.0                   82.0    1.0    4.0\n",
       "4509          86800.0                   48.0    6.0    1.0\n",
       "\n",
       "[4510 rows x 4 columns]"
      ]
     },
     "execution_count": 9,
     "metadata": {},
     "output_type": "execute_result"
    }
   ],
   "source": [
    "df"
   ]
  },
  {
   "cell_type": "code",
   "execution_count": 10,
   "id": "c0be177b",
   "metadata": {
    "scrolled": false
   },
   "outputs": [
    {
     "data": {
      "text/html": [
       "<div>\n",
       "<style scoped>\n",
       "    .dataframe tbody tr th:only-of-type {\n",
       "        vertical-align: middle;\n",
       "    }\n",
       "\n",
       "    .dataframe tbody tr th {\n",
       "        vertical-align: top;\n",
       "    }\n",
       "\n",
       "    .dataframe thead th {\n",
       "        text-align: right;\n",
       "    }\n",
       "</style>\n",
       "<table border=\"1\" class=\"dataframe\">\n",
       "  <thead>\n",
       "    <tr style=\"text-align: right;\">\n",
       "      <th></th>\n",
       "      <th>price_aprox_usd</th>\n",
       "      <th>surface_covered_in_m2</th>\n",
       "      <th>floor</th>\n",
       "      <th>rooms</th>\n",
       "    </tr>\n",
       "  </thead>\n",
       "  <tbody>\n",
       "    <tr>\n",
       "      <th>count</th>\n",
       "      <td>4.510000e+03</td>\n",
       "      <td>4510.000000</td>\n",
       "      <td>4510.000000</td>\n",
       "      <td>4510.000000</td>\n",
       "    </tr>\n",
       "    <tr>\n",
       "      <th>mean</th>\n",
       "      <td>2.281335e+05</td>\n",
       "      <td>110.444124</td>\n",
       "      <td>25.580931</td>\n",
       "      <td>2.662306</td>\n",
       "    </tr>\n",
       "    <tr>\n",
       "      <th>std</th>\n",
       "      <td>3.289798e+05</td>\n",
       "      <td>425.448592</td>\n",
       "      <td>148.305896</td>\n",
       "      <td>1.308373</td>\n",
       "    </tr>\n",
       "    <tr>\n",
       "      <th>min</th>\n",
       "      <td>5.047530e+03</td>\n",
       "      <td>5.000000</td>\n",
       "      <td>1.000000</td>\n",
       "      <td>1.000000</td>\n",
       "    </tr>\n",
       "    <tr>\n",
       "      <th>25%</th>\n",
       "      <td>8.580000e+04</td>\n",
       "      <td>42.000000</td>\n",
       "      <td>1.000000</td>\n",
       "      <td>2.000000</td>\n",
       "    </tr>\n",
       "    <tr>\n",
       "      <th>50%</th>\n",
       "      <td>1.300000e+05</td>\n",
       "      <td>60.000000</td>\n",
       "      <td>3.000000</td>\n",
       "      <td>3.000000</td>\n",
       "    </tr>\n",
       "    <tr>\n",
       "      <th>75%</th>\n",
       "      <td>2.174756e+05</td>\n",
       "      <td>100.000000</td>\n",
       "      <td>6.000000</td>\n",
       "      <td>3.000000</td>\n",
       "    </tr>\n",
       "    <tr>\n",
       "      <th>max</th>\n",
       "      <td>3.900000e+06</td>\n",
       "      <td>12731.000000</td>\n",
       "      <td>2509.000000</td>\n",
       "      <td>22.000000</td>\n",
       "    </tr>\n",
       "  </tbody>\n",
       "</table>\n",
       "</div>"
      ],
      "text/plain": [
       "       price_aprox_usd  surface_covered_in_m2        floor        rooms\n",
       "count     4.510000e+03            4510.000000  4510.000000  4510.000000\n",
       "mean      2.281335e+05             110.444124    25.580931     2.662306\n",
       "std       3.289798e+05             425.448592   148.305896     1.308373\n",
       "min       5.047530e+03               5.000000     1.000000     1.000000\n",
       "25%       8.580000e+04              42.000000     1.000000     2.000000\n",
       "50%       1.300000e+05              60.000000     3.000000     3.000000\n",
       "75%       2.174756e+05             100.000000     6.000000     3.000000\n",
       "max       3.900000e+06           12731.000000  2509.000000    22.000000"
      ]
     },
     "execution_count": 10,
     "metadata": {},
     "output_type": "execute_result"
    }
   ],
   "source": [
    "# Hacemos un describe en el dataframe para ver localizar outlierts \n",
    "df.describe()"
   ]
  },
  {
   "cell_type": "code",
   "execution_count": 11,
   "id": "c92fcebd",
   "metadata": {},
   "outputs": [
    {
     "name": "stdout",
     "output_type": "stream",
     "text": [
      "459.09999999999854\n"
     ]
    }
   ],
   "source": [
    "# Calculamos el percentil del 99%\n",
    "q = df[\"surface_covered_in_m2\"].quantile(0.99)\n",
    "print(q)"
   ]
  },
  {
   "cell_type": "code",
   "execution_count": 12,
   "id": "ce735e44",
   "metadata": {},
   "outputs": [
    {
     "data": {
      "image/png": "[encoded data removed]",
      "text/plain": [
       "<Figure size 432x288 with 1 Axes>"
      ]
     },
     "metadata": {
      "needs_background": "light"
     },
     "output_type": "display_data"
    }
   ],
   "source": [
    "# Dibujamos el percentil del 9% en metros\n",
    "plt.scatter(df.index, df[\"surface_covered_in_m2\"], s=8)\n",
    "plt.hlines(y=q, xmin=0, xmax=4500, colors='red')\n",
    "plt.show()"
   ]
  },
  {
   "cell_type": "code",
   "execution_count": 13,
   "id": "220421cc",
   "metadata": {},
   "outputs": [
    {
     "name": "stdout",
     "output_type": "stream",
     "text": [
      "378.6399999999994\n"
     ]
    },
    {
     "data": {
      "text/plain": [
       "40.0     151\n",
       "45.0     133\n",
       "50.0     108\n",
       "60.0      94\n",
       "38.0      91\n",
       "        ... \n",
       "255.0      1\n",
       "281.0      1\n",
       "375.0      1\n",
       "275.0      1\n",
       "219.0      1\n",
       "Name: surface_covered_in_m2, Length: 271, dtype: int64"
      ]
     },
     "execution_count": 13,
     "metadata": {},
     "output_type": "execute_result"
    }
   ],
   "source": [
    "# Mostramos los pisos de metros umbral (threshold) que marca el percentil del 98%\n",
    "q = df[\"surface_covered_in_m2\"].quantile(0.98)\n",
    "print(q)\n",
    "\n",
    "# Eliminamos del dataframe los metros que esten por encima del percentil del 98% (criterio de filtrado)\n",
    "df = df[df[\"surface_covered_in_m2\"] < q]\n",
    "\n",
    "# hacemos un values_counts para visualizar los datos que hay en la columna Metros\n",
    "df['surface_covered_in_m2'].value_counts()"
   ]
  },
  {
   "cell_type": "code",
   "execution_count": 14,
   "id": "9603d2f3",
   "metadata": {},
   "outputs": [
    {
     "name": "stdout",
     "output_type": "stream",
     "text": [
      "312.6400000000003\n"
     ]
    }
   ],
   "source": [
    "# Calculamos el percentil del 98%\n",
    "q = df[\"floor\"].quantile(0.98)\n",
    "print(q)"
   ]
  },
  {
   "cell_type": "code",
   "execution_count": 15,
   "id": "f740d13c",
   "metadata": {},
   "outputs": [
    {
     "data": {
      "image/png": "[encoded data removed]",
      "text/plain": [
       "<Figure size 432x288 with 1 Axes>"
      ]
     },
     "metadata": {
      "needs_background": "light"
     },
     "output_type": "display_data"
    }
   ],
   "source": [
    "# Dibujamos el percentil del 98% en FLOOR\n",
    "plt.scatter(df.index, df[\"floor\"], s=8)\n",
    "plt.hlines(y=q, xmin=0, xmax=4500, colors='red')\n",
    "plt.show()"
   ]
  },
  {
   "cell_type": "code",
   "execution_count": 16,
   "id": "f982c87d",
   "metadata": {},
   "outputs": [
    {
     "name": "stdout",
     "output_type": "stream",
     "text": [
      "312.6400000000003\n"
     ]
    },
    {
     "data": {
      "text/plain": [
       "1.0      1151\n",
       "2.0       894\n",
       "3.0       464\n",
       "4.0       335\n",
       "5.0       274\n",
       "         ... \n",
       "44.0        1\n",
       "45.0        1\n",
       "181.0       1\n",
       "56.0        1\n",
       "26.0        1\n",
       "Name: floor, Length: 100, dtype: int64"
      ]
     },
     "execution_count": 16,
     "metadata": {},
     "output_type": "execute_result"
    }
   ],
   "source": [
    "# Mostramos los pisos de floor umbral (threshold) que marca el percentil del 98%\n",
    "q = df[\"floor\"].quantile(0.98)\n",
    "print(q)\n",
    "\n",
    "# Eliminamos del dataframe los pisos que esten por encima del percentil del 98% (criterio de filtrado)\n",
    "df = df[df[\"floor\"] < q]\n",
    "\n",
    "# hacemos un values_counts para visualizar los datos que hay en la columna FLOOR\n",
    "df['floor'].value_counts()"
   ]
  },
  {
   "cell_type": "code",
   "execution_count": 17,
   "id": "6dc5619b",
   "metadata": {},
   "outputs": [
    {
     "data": {
      "text/html": [
       "<div>\n",
       "<style scoped>\n",
       "    .dataframe tbody tr th:only-of-type {\n",
       "        vertical-align: middle;\n",
       "    }\n",
       "\n",
       "    .dataframe tbody tr th {\n",
       "        vertical-align: top;\n",
       "    }\n",
       "\n",
       "    .dataframe thead th {\n",
       "        text-align: right;\n",
       "    }\n",
       "</style>\n",
       "<table border=\"1\" class=\"dataframe\">\n",
       "  <thead>\n",
       "    <tr style=\"text-align: right;\">\n",
       "      <th></th>\n",
       "      <th>price_aprox_usd</th>\n",
       "      <th>surface_covered_in_m2</th>\n",
       "      <th>floor</th>\n",
       "      <th>rooms</th>\n",
       "    </tr>\n",
       "  </thead>\n",
       "  <tbody>\n",
       "    <tr>\n",
       "      <th>count</th>\n",
       "      <td>4.330000e+03</td>\n",
       "      <td>4330.000000</td>\n",
       "      <td>4330.000000</td>\n",
       "      <td>4330.000000</td>\n",
       "    </tr>\n",
       "    <tr>\n",
       "      <th>mean</th>\n",
       "      <td>2.226043e+05</td>\n",
       "      <td>81.088684</td>\n",
       "      <td>7.056120</td>\n",
       "      <td>2.610162</td>\n",
       "    </tr>\n",
       "    <tr>\n",
       "      <th>std</th>\n",
       "      <td>3.283069e+05</td>\n",
       "      <td>62.244601</td>\n",
       "      <td>22.850197</td>\n",
       "      <td>1.208841</td>\n",
       "    </tr>\n",
       "    <tr>\n",
       "      <th>min</th>\n",
       "      <td>5.047530e+03</td>\n",
       "      <td>5.000000</td>\n",
       "      <td>1.000000</td>\n",
       "      <td>1.000000</td>\n",
       "    </tr>\n",
       "    <tr>\n",
       "      <th>25%</th>\n",
       "      <td>8.500000e+04</td>\n",
       "      <td>42.000000</td>\n",
       "      <td>1.000000</td>\n",
       "      <td>2.000000</td>\n",
       "    </tr>\n",
       "    <tr>\n",
       "      <th>50%</th>\n",
       "      <td>1.290000e+05</td>\n",
       "      <td>60.000000</td>\n",
       "      <td>3.000000</td>\n",
       "      <td>3.000000</td>\n",
       "    </tr>\n",
       "    <tr>\n",
       "      <th>75%</th>\n",
       "      <td>2.090000e+05</td>\n",
       "      <td>96.000000</td>\n",
       "      <td>6.000000</td>\n",
       "      <td>3.000000</td>\n",
       "    </tr>\n",
       "    <tr>\n",
       "      <th>max</th>\n",
       "      <td>3.900000e+06</td>\n",
       "      <td>377.000000</td>\n",
       "      <td>312.000000</td>\n",
       "      <td>22.000000</td>\n",
       "    </tr>\n",
       "  </tbody>\n",
       "</table>\n",
       "</div>"
      ],
      "text/plain": [
       "       price_aprox_usd  surface_covered_in_m2        floor        rooms\n",
       "count     4.330000e+03            4330.000000  4330.000000  4330.000000\n",
       "mean      2.226043e+05              81.088684     7.056120     2.610162\n",
       "std       3.283069e+05              62.244601    22.850197     1.208841\n",
       "min       5.047530e+03               5.000000     1.000000     1.000000\n",
       "25%       8.500000e+04              42.000000     1.000000     2.000000\n",
       "50%       1.290000e+05              60.000000     3.000000     3.000000\n",
       "75%       2.090000e+05              96.000000     6.000000     3.000000\n",
       "max       3.900000e+06             377.000000   312.000000    22.000000"
      ]
     },
     "execution_count": 17,
     "metadata": {},
     "output_type": "execute_result"
    }
   ],
   "source": [
    "# vemos el describe del dataframe para ver los valores, si sigue valores atipicos o no\n",
    "df.describe()"
   ]
  },
  {
   "cell_type": "code",
   "execution_count": 18,
   "id": "53e5020c",
   "metadata": {},
   "outputs": [
    {
     "name": "stdout",
     "output_type": "stream",
     "text": [
      "1800000.0\n"
     ]
    }
   ],
   "source": [
    "# Calculamos el percentil del 99% de la columan PRECIO\n",
    "q = df[\"price_aprox_usd\"].quantile(0.99)\n",
    "print(q)"
   ]
  },
  {
   "cell_type": "code",
   "execution_count": 19,
   "id": "76b3a935",
   "metadata": {},
   "outputs": [
    {
     "data": {
      "image/png": "[encoded data removed]",
      "text/plain": [
       "<Figure size 432x288 with 1 Axes>"
      ]
     },
     "metadata": {
      "needs_background": "light"
     },
     "output_type": "display_data"
    }
   ],
   "source": [
    "# Dibujamos el percentil del 99% en el precio\n",
    "plt.scatter(df.index, df[\"price_aprox_usd\"], s=8)\n",
    "plt.hlines(y=q, xmin=0, xmax=4500, colors='red')\n",
    "plt.show()\n",
    "\n",
    "# vemos que no hay datos atipicos superiores"
   ]
  },
  {
   "cell_type": "code",
   "execution_count": 20,
   "id": "6fcc452d",
   "metadata": {},
   "outputs": [
    {
     "name": "stdout",
     "output_type": "stream",
     "text": [
      "39000.0\n"
     ]
    }
   ],
   "source": [
    "# Calculamos el percentil del 1% de la columan PRECIO\n",
    "q = df[\"price_aprox_usd\"].quantile(0.01)\n",
    "print(q)"
   ]
  },
  {
   "cell_type": "code",
   "execution_count": 21,
   "id": "61ab6636",
   "metadata": {
    "scrolled": true
   },
   "outputs": [
    {
     "data": {
      "image/png": "[encoded data removed]",
      "text/plain": [
       "<Figure size 432x288 with 1 Axes>"
      ]
     },
     "metadata": {
      "needs_background": "light"
     },
     "output_type": "display_data"
    }
   ],
   "source": [
    "# Dibujamos el percentil del 1% en Precios\n",
    "plt.scatter(df.index, df[\"price_aprox_usd\"], s=8)\n",
    "plt.hlines(y=q, xmin=0, xmax=4600, colors='red')\n",
    "plt.show()"
   ]
  },
  {
   "cell_type": "code",
   "execution_count": 22,
   "id": "a6350fc5",
   "metadata": {},
   "outputs": [
    {
     "name": "stdout",
     "output_type": "stream",
     "text": [
      "39000.0\n"
     ]
    },
    {
     "data": {
      "text/plain": [
       "75000.00      71\n",
       "85000.00      71\n",
       "130000.00     69\n",
       "120000.00     68\n",
       "125000.00     65\n",
       "              ..\n",
       "1182800.00     1\n",
       "85360.42       1\n",
       "115900.00      1\n",
       "115600.00      1\n",
       "299999.00      1\n",
       "Name: price_aprox_usd, Length: 926, dtype: int64"
      ]
     },
     "execution_count": 22,
     "metadata": {},
     "output_type": "execute_result"
    }
   ],
   "source": [
    "# Mostramos los precios umbral (threshold) que marca el percentil del 1%\n",
    "q = df[\"price_aprox_usd\"].quantile(0.01)\n",
    "print(q)\n",
    "\n",
    "# Eliminamos del dataframe los pisos que esten por debajo del percentil del 1% (criterio de filtrado)\n",
    "df = df[df[\"price_aprox_usd\"] > q]\n",
    "\n",
    "# hacemos un values_counts para visualizar los datos que hay en la columna price\n",
    "df['price_aprox_usd'].value_counts()"
   ]
  },
  {
   "cell_type": "code",
   "execution_count": 23,
   "id": "d9d2b5d8",
   "metadata": {},
   "outputs": [
    {
     "data": {
      "text/html": [
       "<div>\n",
       "<style scoped>\n",
       "    .dataframe tbody tr th:only-of-type {\n",
       "        vertical-align: middle;\n",
       "    }\n",
       "\n",
       "    .dataframe tbody tr th {\n",
       "        vertical-align: top;\n",
       "    }\n",
       "\n",
       "    .dataframe thead th {\n",
       "        text-align: right;\n",
       "    }\n",
       "</style>\n",
       "<table border=\"1\" class=\"dataframe\">\n",
       "  <thead>\n",
       "    <tr style=\"text-align: right;\">\n",
       "      <th></th>\n",
       "      <th>price_aprox_usd</th>\n",
       "      <th>surface_covered_in_m2</th>\n",
       "      <th>floor</th>\n",
       "      <th>rooms</th>\n",
       "    </tr>\n",
       "  </thead>\n",
       "  <tbody>\n",
       "    <tr>\n",
       "      <th>count</th>\n",
       "      <td>4.285000e+03</td>\n",
       "      <td>4285.000000</td>\n",
       "      <td>4285.000000</td>\n",
       "      <td>4285.000000</td>\n",
       "    </tr>\n",
       "    <tr>\n",
       "      <th>mean</th>\n",
       "      <td>2.246397e+05</td>\n",
       "      <td>81.494749</td>\n",
       "      <td>7.070712</td>\n",
       "      <td>2.612835</td>\n",
       "    </tr>\n",
       "    <tr>\n",
       "      <th>std</th>\n",
       "      <td>3.294207e+05</td>\n",
       "      <td>62.401742</td>\n",
       "      <td>22.948047</td>\n",
       "      <td>1.205989</td>\n",
       "    </tr>\n",
       "    <tr>\n",
       "      <th>min</th>\n",
       "      <td>3.914640e+04</td>\n",
       "      <td>5.000000</td>\n",
       "      <td>1.000000</td>\n",
       "      <td>1.000000</td>\n",
       "    </tr>\n",
       "    <tr>\n",
       "      <th>25%</th>\n",
       "      <td>8.600000e+04</td>\n",
       "      <td>42.000000</td>\n",
       "      <td>1.000000</td>\n",
       "      <td>2.000000</td>\n",
       "    </tr>\n",
       "    <tr>\n",
       "      <th>50%</th>\n",
       "      <td>1.300000e+05</td>\n",
       "      <td>60.000000</td>\n",
       "      <td>3.000000</td>\n",
       "      <td>3.000000</td>\n",
       "    </tr>\n",
       "    <tr>\n",
       "      <th>75%</th>\n",
       "      <td>2.100000e+05</td>\n",
       "      <td>96.000000</td>\n",
       "      <td>6.000000</td>\n",
       "      <td>3.000000</td>\n",
       "    </tr>\n",
       "    <tr>\n",
       "      <th>max</th>\n",
       "      <td>3.900000e+06</td>\n",
       "      <td>377.000000</td>\n",
       "      <td>312.000000</td>\n",
       "      <td>22.000000</td>\n",
       "    </tr>\n",
       "  </tbody>\n",
       "</table>\n",
       "</div>"
      ],
      "text/plain": [
       "       price_aprox_usd  surface_covered_in_m2        floor        rooms\n",
       "count     4.285000e+03            4285.000000  4285.000000  4285.000000\n",
       "mean      2.246397e+05              81.494749     7.070712     2.612835\n",
       "std       3.294207e+05              62.401742    22.948047     1.205989\n",
       "min       3.914640e+04               5.000000     1.000000     1.000000\n",
       "25%       8.600000e+04              42.000000     1.000000     2.000000\n",
       "50%       1.300000e+05              60.000000     3.000000     3.000000\n",
       "75%       2.100000e+05              96.000000     6.000000     3.000000\n",
       "max       3.900000e+06             377.000000   312.000000    22.000000"
      ]
     },
     "execution_count": 23,
     "metadata": {},
     "output_type": "execute_result"
    }
   ],
   "source": [
    "# hacemos un describe y vemos que el min de la columna price cambio\n",
    "# osea eliminamos el outliers minimo que habian\n",
    "df.describe()"
   ]
  },
  {
   "cell_type": "code",
   "execution_count": 24,
   "id": "6653e705",
   "metadata": {},
   "outputs": [
    {
     "name": "stdout",
     "output_type": "stream",
     "text": [
      "6.0\n"
     ]
    }
   ],
   "source": [
    "# Calculamos el percentil del 99% de la columan rooms\n",
    "q = df[\"rooms\"].quantile(0.99)\n",
    "print(q)"
   ]
  },
  {
   "cell_type": "code",
   "execution_count": 25,
   "id": "88e9e6a5",
   "metadata": {},
   "outputs": [
    {
     "data": {
      "image/png": "[encoded data removed]",
      "text/plain": [
       "<Figure size 432x288 with 1 Axes>"
      ]
     },
     "metadata": {
      "needs_background": "light"
     },
     "output_type": "display_data"
    }
   ],
   "source": [
    "# Dibujamos el percentil del 99% en el precio\n",
    "plt.scatter(df.index, df[\"rooms\"], s=8)\n",
    "plt.hlines(y=q, xmin=0, xmax=4500, colors='red')\n",
    "plt.show()"
   ]
  },
  {
   "cell_type": "code",
   "execution_count": 26,
   "id": "76912eb3",
   "metadata": {},
   "outputs": [
    {
     "name": "stdout",
     "output_type": "stream",
     "text": [
      "(array([ 595, 1612, 1633, 1644, 1676, 1767, 1979, 2942, 3044, 3240, 3326,\n",
      "       4171], dtype=int64),)\n"
     ]
    }
   ],
   "source": [
    "# visualizamos los datos a tipicos, si tienen o no coherencia\n",
    "# Position of the Outlier\n",
    "print(np.where((df['rooms'] > 7 )))"
   ]
  },
  {
   "cell_type": "code",
   "execution_count": 27,
   "id": "6248e608",
   "metadata": {},
   "outputs": [
    {
     "data": {
      "text/plain": [
       "price_aprox_usd          75000.0\n",
       "surface_covered_in_m2       60.0\n",
       "floor                        4.0\n",
       "rooms                        3.0\n",
       "Name: 595, dtype: float64"
      ]
     },
     "execution_count": 27,
     "metadata": {},
     "output_type": "execute_result"
    }
   ],
   "source": [
    "df.loc[595]"
   ]
  },
  {
   "cell_type": "code",
   "execution_count": 28,
   "id": "3fd2f0e7",
   "metadata": {},
   "outputs": [
    {
     "data": {
      "text/plain": [
       "2.0     1420\n",
       "3.0     1302\n",
       "1.0      714\n",
       "4.0      636\n",
       "5.0      155\n",
       "6.0       30\n",
       "7.0       16\n",
       "9.0        4\n",
       "10.0       4\n",
       "8.0        2\n",
       "11.0       1\n",
       "22.0       1\n",
       "Name: rooms, dtype: int64"
      ]
     },
     "execution_count": 28,
     "metadata": {},
     "output_type": "execute_result"
    }
   ],
   "source": [
    "df['rooms'].value_counts()"
   ]
  },
  {
   "cell_type": "code",
   "execution_count": 29,
   "id": "4fe7c567",
   "metadata": {},
   "outputs": [
    {
     "name": "stdout",
     "output_type": "stream",
     "text": [
      "6.0\n"
     ]
    },
    {
     "data": {
      "text/plain": [
       "2.0    1420\n",
       "3.0    1302\n",
       "1.0     714\n",
       "4.0     636\n",
       "5.0     155\n",
       "Name: rooms, dtype: int64"
      ]
     },
     "execution_count": 29,
     "metadata": {},
     "output_type": "execute_result"
    }
   ],
   "source": [
    "# Mostramos las habitaciones umbral (threshold) que marca el percentil del 99%\n",
    "q = df[\"rooms\"].quantile(0.99)\n",
    "print(q)\n",
    "\n",
    "# Eliminamos del dataframe las habitaciones que esten por encima del percentil del 99% (criterio de filtrado)\n",
    "df = df[df[\"rooms\"] < q]\n",
    "\n",
    "# hacemos un values_counts para visualizar los datos que hay en la columna rooms\n",
    "df['rooms'].value_counts()"
   ]
  },
  {
   "cell_type": "code",
   "execution_count": 30,
   "id": "37d1d391",
   "metadata": {},
   "outputs": [
    {
     "data": {
      "text/html": [
       "<div>\n",
       "<style scoped>\n",
       "    .dataframe tbody tr th:only-of-type {\n",
       "        vertical-align: middle;\n",
       "    }\n",
       "\n",
       "    .dataframe tbody tr th {\n",
       "        vertical-align: top;\n",
       "    }\n",
       "\n",
       "    .dataframe thead th {\n",
       "        text-align: right;\n",
       "    }\n",
       "</style>\n",
       "<table border=\"1\" class=\"dataframe\">\n",
       "  <thead>\n",
       "    <tr style=\"text-align: right;\">\n",
       "      <th></th>\n",
       "      <th>price_aprox_usd</th>\n",
       "      <th>surface_covered_in_m2</th>\n",
       "      <th>floor</th>\n",
       "      <th>rooms</th>\n",
       "    </tr>\n",
       "  </thead>\n",
       "  <tbody>\n",
       "    <tr>\n",
       "      <th>count</th>\n",
       "      <td>4.227000e+03</td>\n",
       "      <td>4227.000000</td>\n",
       "      <td>4227.000000</td>\n",
       "      <td>4227.000000</td>\n",
       "    </tr>\n",
       "    <tr>\n",
       "      <th>mean</th>\n",
       "      <td>2.217128e+05</td>\n",
       "      <td>79.843861</td>\n",
       "      <td>7.017033</td>\n",
       "      <td>2.550035</td>\n",
       "    </tr>\n",
       "    <tr>\n",
       "      <th>std</th>\n",
       "      <td>3.279349e+05</td>\n",
       "      <td>60.323169</td>\n",
       "      <td>22.712825</td>\n",
       "      <td>1.051914</td>\n",
       "    </tr>\n",
       "    <tr>\n",
       "      <th>min</th>\n",
       "      <td>3.914640e+04</td>\n",
       "      <td>5.000000</td>\n",
       "      <td>1.000000</td>\n",
       "      <td>1.000000</td>\n",
       "    </tr>\n",
       "    <tr>\n",
       "      <th>25%</th>\n",
       "      <td>8.500000e+04</td>\n",
       "      <td>42.000000</td>\n",
       "      <td>1.000000</td>\n",
       "      <td>2.000000</td>\n",
       "    </tr>\n",
       "    <tr>\n",
       "      <th>50%</th>\n",
       "      <td>1.290000e+05</td>\n",
       "      <td>60.000000</td>\n",
       "      <td>3.000000</td>\n",
       "      <td>2.000000</td>\n",
       "    </tr>\n",
       "    <tr>\n",
       "      <th>75%</th>\n",
       "      <td>2.000000e+05</td>\n",
       "      <td>94.000000</td>\n",
       "      <td>6.000000</td>\n",
       "      <td>3.000000</td>\n",
       "    </tr>\n",
       "    <tr>\n",
       "      <th>max</th>\n",
       "      <td>3.900000e+06</td>\n",
       "      <td>374.000000</td>\n",
       "      <td>312.000000</td>\n",
       "      <td>5.000000</td>\n",
       "    </tr>\n",
       "  </tbody>\n",
       "</table>\n",
       "</div>"
      ],
      "text/plain": [
       "       price_aprox_usd  surface_covered_in_m2        floor        rooms\n",
       "count     4.227000e+03            4227.000000  4227.000000  4227.000000\n",
       "mean      2.217128e+05              79.843861     7.017033     2.550035\n",
       "std       3.279349e+05              60.323169    22.712825     1.051914\n",
       "min       3.914640e+04               5.000000     1.000000     1.000000\n",
       "25%       8.500000e+04              42.000000     1.000000     2.000000\n",
       "50%       1.290000e+05              60.000000     3.000000     2.000000\n",
       "75%       2.000000e+05              94.000000     6.000000     3.000000\n",
       "max       3.900000e+06             374.000000   312.000000     5.000000"
      ]
     },
     "execution_count": 30,
     "metadata": {},
     "output_type": "execute_result"
    }
   ],
   "source": [
    "df.describe()"
   ]
  },
  {
   "cell_type": "code",
   "execution_count": 31,
   "id": "147553e6",
   "metadata": {},
   "outputs": [
    {
     "name": "stdout",
     "output_type": "stream",
     "text": [
      "(array([], dtype=int64),)\n"
     ]
    }
   ],
   "source": [
    "# Position of the Outlier\n",
    "print(np.where((df['price_aprox_usd'] < 15000)))"
   ]
  },
  {
   "cell_type": "code",
   "execution_count": 32,
   "id": "127784c1",
   "metadata": {},
   "outputs": [
    {
     "data": {
      "text/plain": [
       "price_aprox_usd          82000.0\n",
       "surface_covered_in_m2       34.0\n",
       "floor                       11.0\n",
       "rooms                        1.0\n",
       "Name: 3279, dtype: float64"
      ]
     },
     "execution_count": 32,
     "metadata": {},
     "output_type": "execute_result"
    }
   ],
   "source": [
    "df.loc[3279]"
   ]
  },
  {
   "cell_type": "code",
   "execution_count": 33,
   "id": "8e932562",
   "metadata": {},
   "outputs": [],
   "source": [
    "# hacemos un reseset en los index\n",
    "df = df.reset_index(drop=True)"
   ]
  },
  {
   "cell_type": "code",
   "execution_count": 34,
   "id": "2a13dc0b",
   "metadata": {},
   "outputs": [
    {
     "data": {
      "text/html": [
       "<div>\n",
       "<style scoped>\n",
       "    .dataframe tbody tr th:only-of-type {\n",
       "        vertical-align: middle;\n",
       "    }\n",
       "\n",
       "    .dataframe tbody tr th {\n",
       "        vertical-align: top;\n",
       "    }\n",
       "\n",
       "    .dataframe thead th {\n",
       "        text-align: right;\n",
       "    }\n",
       "</style>\n",
       "<table border=\"1\" class=\"dataframe\">\n",
       "  <thead>\n",
       "    <tr style=\"text-align: right;\">\n",
       "      <th></th>\n",
       "      <th>price_aprox_usd</th>\n",
       "      <th>surface_covered_in_m2</th>\n",
       "      <th>floor</th>\n",
       "      <th>rooms</th>\n",
       "    </tr>\n",
       "  </thead>\n",
       "  <tbody>\n",
       "    <tr>\n",
       "      <th>0</th>\n",
       "      <td>50000.0</td>\n",
       "      <td>53.0</td>\n",
       "      <td>1.0</td>\n",
       "      <td>1.0</td>\n",
       "    </tr>\n",
       "    <tr>\n",
       "      <th>1</th>\n",
       "      <td>135000.0</td>\n",
       "      <td>95.0</td>\n",
       "      <td>2.0</td>\n",
       "      <td>3.0</td>\n",
       "    </tr>\n",
       "    <tr>\n",
       "      <th>2</th>\n",
       "      <td>75000.0</td>\n",
       "      <td>180.0</td>\n",
       "      <td>1.0</td>\n",
       "      <td>1.0</td>\n",
       "    </tr>\n",
       "    <tr>\n",
       "      <th>3</th>\n",
       "      <td>54000.0</td>\n",
       "      <td>30.0</td>\n",
       "      <td>3.0</td>\n",
       "      <td>2.0</td>\n",
       "    </tr>\n",
       "    <tr>\n",
       "      <th>4</th>\n",
       "      <td>185000.0</td>\n",
       "      <td>100.0</td>\n",
       "      <td>1.0</td>\n",
       "      <td>3.0</td>\n",
       "    </tr>\n",
       "  </tbody>\n",
       "</table>\n",
       "</div>"
      ],
      "text/plain": [
       "   price_aprox_usd  surface_covered_in_m2  floor  rooms\n",
       "0          50000.0                   53.0    1.0    1.0\n",
       "1         135000.0                   95.0    2.0    3.0\n",
       "2          75000.0                  180.0    1.0    1.0\n",
       "3          54000.0                   30.0    3.0    2.0\n",
       "4         185000.0                  100.0    1.0    3.0"
      ]
     },
     "execution_count": 34,
     "metadata": {},
     "output_type": "execute_result"
    }
   ],
   "source": [
    "df.head(5)"
   ]
  },
  {
   "cell_type": "markdown",
   "id": "dbdeb6bc",
   "metadata": {},
   "source": [
    "Llamamos el csv del proyecto nuevo para empezar la comparacion de regresiones "
   ]
  },
  {
   "cell_type": "code",
   "execution_count": 35,
   "id": "a3d81423",
   "metadata": {},
   "outputs": [
    {
     "data": {
      "text/html": [
       "<div>\n",
       "<style scoped>\n",
       "    .dataframe tbody tr th:only-of-type {\n",
       "        vertical-align: middle;\n",
       "    }\n",
       "\n",
       "    .dataframe tbody tr th {\n",
       "        vertical-align: top;\n",
       "    }\n",
       "\n",
       "    .dataframe thead th {\n",
       "        text-align: right;\n",
       "    }\n",
       "</style>\n",
       "<table border=\"1\" class=\"dataframe\">\n",
       "  <thead>\n",
       "    <tr style=\"text-align: right;\">\n",
       "      <th></th>\n",
       "      <th>price</th>\n",
       "      <th>metrosCubiertos</th>\n",
       "      <th>dormitorios</th>\n",
       "      <th>antiguedad</th>\n",
       "      <th>toilets</th>\n",
       "    </tr>\n",
       "  </thead>\n",
       "  <tbody>\n",
       "    <tr>\n",
       "      <th>0</th>\n",
       "      <td>85000</td>\n",
       "      <td>35</td>\n",
       "      <td>1</td>\n",
       "      <td>40</td>\n",
       "      <td>1</td>\n",
       "    </tr>\n",
       "    <tr>\n",
       "      <th>1</th>\n",
       "      <td>288000</td>\n",
       "      <td>140</td>\n",
       "      <td>2</td>\n",
       "      <td>10</td>\n",
       "      <td>2</td>\n",
       "    </tr>\n",
       "    <tr>\n",
       "      <th>2</th>\n",
       "      <td>330000</td>\n",
       "      <td>75</td>\n",
       "      <td>2</td>\n",
       "      <td>2</td>\n",
       "      <td>3</td>\n",
       "    </tr>\n",
       "    <tr>\n",
       "      <th>3</th>\n",
       "      <td>215000</td>\n",
       "      <td>95</td>\n",
       "      <td>3</td>\n",
       "      <td>40</td>\n",
       "      <td>2</td>\n",
       "    </tr>\n",
       "    <tr>\n",
       "      <th>4</th>\n",
       "      <td>295000</td>\n",
       "      <td>165</td>\n",
       "      <td>4</td>\n",
       "      <td>40</td>\n",
       "      <td>4</td>\n",
       "    </tr>\n",
       "    <tr>\n",
       "      <th>...</th>\n",
       "      <td>...</td>\n",
       "      <td>...</td>\n",
       "      <td>...</td>\n",
       "      <td>...</td>\n",
       "      <td>...</td>\n",
       "    </tr>\n",
       "    <tr>\n",
       "      <th>1859</th>\n",
       "      <td>150000</td>\n",
       "      <td>42</td>\n",
       "      <td>1</td>\n",
       "      <td>1</td>\n",
       "      <td>2</td>\n",
       "    </tr>\n",
       "    <tr>\n",
       "      <th>1860</th>\n",
       "      <td>86000</td>\n",
       "      <td>28</td>\n",
       "      <td>0</td>\n",
       "      <td>0</td>\n",
       "      <td>1</td>\n",
       "    </tr>\n",
       "    <tr>\n",
       "      <th>1861</th>\n",
       "      <td>115000</td>\n",
       "      <td>164</td>\n",
       "      <td>3</td>\n",
       "      <td>60</td>\n",
       "      <td>2</td>\n",
       "    </tr>\n",
       "    <tr>\n",
       "      <th>1862</th>\n",
       "      <td>358000</td>\n",
       "      <td>110</td>\n",
       "      <td>3</td>\n",
       "      <td>27</td>\n",
       "      <td>2</td>\n",
       "    </tr>\n",
       "    <tr>\n",
       "      <th>1863</th>\n",
       "      <td>110000</td>\n",
       "      <td>110</td>\n",
       "      <td>3</td>\n",
       "      <td>57</td>\n",
       "      <td>2</td>\n",
       "    </tr>\n",
       "  </tbody>\n",
       "</table>\n",
       "<p>1864 rows × 5 columns</p>\n",
       "</div>"
      ],
      "text/plain": [
       "       price  metrosCubiertos  dormitorios  antiguedad  toilets\n",
       "0      85000               35            1          40        1\n",
       "1     288000              140            2          10        2\n",
       "2     330000               75            2           2        3\n",
       "3     215000               95            3          40        2\n",
       "4     295000              165            4          40        4\n",
       "...      ...              ...          ...         ...      ...\n",
       "1859  150000               42            1           1        2\n",
       "1860   86000               28            0           0        1\n",
       "1861  115000              164            3          60        2\n",
       "1862  358000              110            3          27        2\n",
       "1863  110000              110            3          57        2\n",
       "\n",
       "[1864 rows x 5 columns]"
      ]
     },
     "execution_count": 35,
     "metadata": {},
     "output_type": "execute_result"
    }
   ],
   "source": [
    "# mostramos el dataframe \n",
    "dfArgenenprop=pd.read_csv(\"ArchivoGrandeArgenprop.csv\",delimiter=\",\")\n",
    "pd.set_option('display.max_columns', None)\n",
    "dfArgenenprop"
   ]
  },
  {
   "cell_type": "code",
   "execution_count": 36,
   "id": "a8717f30",
   "metadata": {},
   "outputs": [
    {
     "data": {
      "text/html": [
       "<div>\n",
       "<style scoped>\n",
       "    .dataframe tbody tr th:only-of-type {\n",
       "        vertical-align: middle;\n",
       "    }\n",
       "\n",
       "    .dataframe tbody tr th {\n",
       "        vertical-align: top;\n",
       "    }\n",
       "\n",
       "    .dataframe thead th {\n",
       "        text-align: right;\n",
       "    }\n",
       "</style>\n",
       "<table border=\"1\" class=\"dataframe\">\n",
       "  <thead>\n",
       "    <tr style=\"text-align: right;\">\n",
       "      <th></th>\n",
       "      <th>price</th>\n",
       "      <th>metrosCubiertos</th>\n",
       "      <th>dormitorios</th>\n",
       "      <th>antiguedad</th>\n",
       "      <th>toilets</th>\n",
       "    </tr>\n",
       "  </thead>\n",
       "  <tbody>\n",
       "    <tr>\n",
       "      <th>count</th>\n",
       "      <td>1.864000e+03</td>\n",
       "      <td>1864.000000</td>\n",
       "      <td>1864.000000</td>\n",
       "      <td>1864.000000</td>\n",
       "      <td>1864.000000</td>\n",
       "    </tr>\n",
       "    <tr>\n",
       "      <th>mean</th>\n",
       "      <td>2.026432e+05</td>\n",
       "      <td>97.933476</td>\n",
       "      <td>2.035408</td>\n",
       "      <td>19.527897</td>\n",
       "      <td>1.808476</td>\n",
       "    </tr>\n",
       "    <tr>\n",
       "      <th>std</th>\n",
       "      <td>1.865839e+05</td>\n",
       "      <td>87.018880</td>\n",
       "      <td>1.261270</td>\n",
       "      <td>20.276888</td>\n",
       "      <td>1.121839</td>\n",
       "    </tr>\n",
       "    <tr>\n",
       "      <th>min</th>\n",
       "      <td>0.000000e+00</td>\n",
       "      <td>0.000000</td>\n",
       "      <td>0.000000</td>\n",
       "      <td>0.000000</td>\n",
       "      <td>0.000000</td>\n",
       "    </tr>\n",
       "    <tr>\n",
       "      <th>25%</th>\n",
       "      <td>9.000000e+04</td>\n",
       "      <td>44.000000</td>\n",
       "      <td>1.000000</td>\n",
       "      <td>1.000000</td>\n",
       "      <td>1.000000</td>\n",
       "    </tr>\n",
       "    <tr>\n",
       "      <th>50%</th>\n",
       "      <td>1.500000e+05</td>\n",
       "      <td>68.000000</td>\n",
       "      <td>2.000000</td>\n",
       "      <td>10.000000</td>\n",
       "      <td>2.000000</td>\n",
       "    </tr>\n",
       "    <tr>\n",
       "      <th>75%</th>\n",
       "      <td>2.490000e+05</td>\n",
       "      <td>121.000000</td>\n",
       "      <td>3.000000</td>\n",
       "      <td>40.000000</td>\n",
       "      <td>2.000000</td>\n",
       "    </tr>\n",
       "    <tr>\n",
       "      <th>max</th>\n",
       "      <td>2.150000e+06</td>\n",
       "      <td>750.000000</td>\n",
       "      <td>9.000000</td>\n",
       "      <td>130.000000</td>\n",
       "      <td>8.000000</td>\n",
       "    </tr>\n",
       "  </tbody>\n",
       "</table>\n",
       "</div>"
      ],
      "text/plain": [
       "              price  metrosCubiertos  dormitorios   antiguedad      toilets\n",
       "count  1.864000e+03      1864.000000  1864.000000  1864.000000  1864.000000\n",
       "mean   2.026432e+05        97.933476     2.035408    19.527897     1.808476\n",
       "std    1.865839e+05        87.018880     1.261270    20.276888     1.121839\n",
       "min    0.000000e+00         0.000000     0.000000     0.000000     0.000000\n",
       "25%    9.000000e+04        44.000000     1.000000     1.000000     1.000000\n",
       "50%    1.500000e+05        68.000000     2.000000    10.000000     2.000000\n",
       "75%    2.490000e+05       121.000000     3.000000    40.000000     2.000000\n",
       "max    2.150000e+06       750.000000     9.000000   130.000000     8.000000"
      ]
     },
     "execution_count": 36,
     "metadata": {},
     "output_type": "execute_result"
    }
   ],
   "source": [
    "# hacemos un describe en el dataset nuevo para ver tambien sus outliers\n",
    "dfArgenenprop.describe()"
   ]
  },
  {
   "cell_type": "code",
   "execution_count": 37,
   "id": "b1ad68a8",
   "metadata": {},
   "outputs": [
    {
     "name": "stdout",
     "output_type": "stream",
     "text": [
      "427.0299999999979\n"
     ]
    }
   ],
   "source": [
    "# Calculamos el percentil del 99% de la columan metrosCubiertos\n",
    "q = dfArgenenprop[\"metrosCubiertos\"].quantile(0.99)\n",
    "print(q)"
   ]
  },
  {
   "cell_type": "code",
   "execution_count": 38,
   "id": "779a7a76",
   "metadata": {},
   "outputs": [
    {
     "data": {
      "image/png": "[encoded data removed]",
      "text/plain": [
       "<Figure size 432x288 with 1 Axes>"
      ]
     },
     "metadata": {
      "needs_background": "light"
     },
     "output_type": "display_data"
    }
   ],
   "source": [
    "# Dibujamos el percentil del 99% de los metros\n",
    "plt.scatter(dfArgenenprop.index, dfArgenenprop[\"metrosCubiertos\"], s=8)\n",
    "plt.hlines(y=q, xmin=0, xmax=2000, colors='red')\n",
    "plt.show()"
   ]
  },
  {
   "cell_type": "code",
   "execution_count": 39,
   "id": "63512977",
   "metadata": {},
   "outputs": [
    {
     "name": "stdout",
     "output_type": "stream",
     "text": [
      "427.0299999999979\n"
     ]
    },
    {
     "data": {
      "text/plain": [
       "40     52\n",
       "42     37\n",
       "50     34\n",
       "60     33\n",
       "45     31\n",
       "       ..\n",
       "23      1\n",
       "218     1\n",
       "381     1\n",
       "294     1\n",
       "164     1\n",
       "Name: metrosCubiertos, Length: 272, dtype: int64"
      ]
     },
     "execution_count": 39,
     "metadata": {},
     "output_type": "execute_result"
    }
   ],
   "source": [
    "# Mostramos los metros, el umbral (threshold) que marca el percentil del 99%\n",
    "q = dfArgenenprop[\"metrosCubiertos\"].quantile(0.99)\n",
    "print(q)\n",
    "\n",
    "# Eliminamos del dataframe los metros que esten por encima del percentil del 99% (criterio de filtrado)\n",
    "dfArgenenprop = dfArgenenprop[dfArgenenprop[\"metrosCubiertos\"] < q]\n",
    "\n",
    "# hacemos un values_counts para visualizar los datos que hay en la columna metrosCubiertos\n",
    "dfArgenenprop['metrosCubiertos'].value_counts()"
   ]
  },
  {
   "cell_type": "code",
   "execution_count": 40,
   "id": "d07bdc57",
   "metadata": {},
   "outputs": [
    {
     "name": "stdout",
     "output_type": "stream",
     "text": [
      "24.0\n"
     ]
    }
   ],
   "source": [
    "# Hacemos lo mismo pero Calculamos el percentil del 1% de la columan metrosCubiertos\n",
    "q = dfArgenenprop[\"metrosCubiertos\"].quantile(0.05)\n",
    "print(q)"
   ]
  },
  {
   "cell_type": "code",
   "execution_count": 41,
   "id": "e54ec568",
   "metadata": {},
   "outputs": [
    {
     "data": {
      "image/png": "[encoded data removed]",
      "text/plain": [
       "<Figure size 432x288 with 1 Axes>"
      ]
     },
     "metadata": {
      "needs_background": "light"
     },
     "output_type": "display_data"
    }
   ],
   "source": [
    "# Dibujamos el percentil del 1% de los metros\n",
    "plt.scatter(dfArgenenprop.index, dfArgenenprop[\"metrosCubiertos\"], s=8)\n",
    "plt.hlines(y=q, xmin=0, xmax=2000, colors='red')\n",
    "plt.show()"
   ]
  },
  {
   "cell_type": "code",
   "execution_count": 42,
   "id": "8f6f4f8e",
   "metadata": {},
   "outputs": [
    {
     "name": "stdout",
     "output_type": "stream",
     "text": [
      "24.0\n"
     ]
    },
    {
     "data": {
      "text/plain": [
       "40     52\n",
       "42     37\n",
       "50     34\n",
       "60     33\n",
       "45     31\n",
       "       ..\n",
       "315     1\n",
       "243     1\n",
       "201     1\n",
       "267     1\n",
       "164     1\n",
       "Name: metrosCubiertos, Length: 258, dtype: int64"
      ]
     },
     "execution_count": 42,
     "metadata": {},
     "output_type": "execute_result"
    }
   ],
   "source": [
    "# Mostramos los metros, el umbral (threshold) que marca el percentil del 1%\n",
    "q = dfArgenenprop[\"metrosCubiertos\"].quantile(0.05)\n",
    "print(q)\n",
    "\n",
    "# Eliminamos del dataframe los metros que esten por debajo del percentil del 1% (criterio de filtrado)\n",
    "dfArgenenprop = dfArgenenprop[dfArgenenprop[\"metrosCubiertos\"] > q]\n",
    "\n",
    "# hacemos un values_counts para visualizar los datos que hay en la columna metrosCubiertos\n",
    "dfArgenenprop['metrosCubiertos'].value_counts()"
   ]
  },
  {
   "cell_type": "code",
   "execution_count": 43,
   "id": "e2596a2e",
   "metadata": {},
   "outputs": [
    {
     "data": {
      "text/html": [
       "<div>\n",
       "<style scoped>\n",
       "    .dataframe tbody tr th:only-of-type {\n",
       "        vertical-align: middle;\n",
       "    }\n",
       "\n",
       "    .dataframe tbody tr th {\n",
       "        vertical-align: top;\n",
       "    }\n",
       "\n",
       "    .dataframe thead th {\n",
       "        text-align: right;\n",
       "    }\n",
       "</style>\n",
       "<table border=\"1\" class=\"dataframe\">\n",
       "  <thead>\n",
       "    <tr style=\"text-align: right;\">\n",
       "      <th></th>\n",
       "      <th>price</th>\n",
       "      <th>metrosCubiertos</th>\n",
       "      <th>dormitorios</th>\n",
       "      <th>antiguedad</th>\n",
       "      <th>toilets</th>\n",
       "    </tr>\n",
       "  </thead>\n",
       "  <tbody>\n",
       "    <tr>\n",
       "      <th>count</th>\n",
       "      <td>1.751000e+03</td>\n",
       "      <td>1751.000000</td>\n",
       "      <td>1751.000000</td>\n",
       "      <td>1751.000000</td>\n",
       "      <td>1751.000000</td>\n",
       "    </tr>\n",
       "    <tr>\n",
       "      <th>mean</th>\n",
       "      <td>2.011447e+05</td>\n",
       "      <td>98.151342</td>\n",
       "      <td>2.099372</td>\n",
       "      <td>20.428327</td>\n",
       "      <td>1.785266</td>\n",
       "    </tr>\n",
       "    <tr>\n",
       "      <th>std</th>\n",
       "      <td>1.730648e+05</td>\n",
       "      <td>73.404892</td>\n",
       "      <td>1.187244</td>\n",
       "      <td>20.354020</td>\n",
       "      <td>1.020717</td>\n",
       "    </tr>\n",
       "    <tr>\n",
       "      <th>min</th>\n",
       "      <td>0.000000e+00</td>\n",
       "      <td>25.000000</td>\n",
       "      <td>0.000000</td>\n",
       "      <td>0.000000</td>\n",
       "      <td>0.000000</td>\n",
       "    </tr>\n",
       "    <tr>\n",
       "      <th>25%</th>\n",
       "      <td>9.500000e+04</td>\n",
       "      <td>46.500000</td>\n",
       "      <td>1.000000</td>\n",
       "      <td>1.000000</td>\n",
       "      <td>1.000000</td>\n",
       "    </tr>\n",
       "    <tr>\n",
       "      <th>50%</th>\n",
       "      <td>1.520000e+05</td>\n",
       "      <td>70.000000</td>\n",
       "      <td>2.000000</td>\n",
       "      <td>12.000000</td>\n",
       "      <td>2.000000</td>\n",
       "    </tr>\n",
       "    <tr>\n",
       "      <th>75%</th>\n",
       "      <td>2.490000e+05</td>\n",
       "      <td>123.000000</td>\n",
       "      <td>3.000000</td>\n",
       "      <td>40.000000</td>\n",
       "      <td>2.000000</td>\n",
       "    </tr>\n",
       "    <tr>\n",
       "      <th>max</th>\n",
       "      <td>2.150000e+06</td>\n",
       "      <td>420.000000</td>\n",
       "      <td>9.000000</td>\n",
       "      <td>130.000000</td>\n",
       "      <td>7.000000</td>\n",
       "    </tr>\n",
       "  </tbody>\n",
       "</table>\n",
       "</div>"
      ],
      "text/plain": [
       "              price  metrosCubiertos  dormitorios   antiguedad      toilets\n",
       "count  1.751000e+03      1751.000000  1751.000000  1751.000000  1751.000000\n",
       "mean   2.011447e+05        98.151342     2.099372    20.428327     1.785266\n",
       "std    1.730648e+05        73.404892     1.187244    20.354020     1.020717\n",
       "min    0.000000e+00        25.000000     0.000000     0.000000     0.000000\n",
       "25%    9.500000e+04        46.500000     1.000000     1.000000     1.000000\n",
       "50%    1.520000e+05        70.000000     2.000000    12.000000     2.000000\n",
       "75%    2.490000e+05       123.000000     3.000000    40.000000     2.000000\n",
       "max    2.150000e+06       420.000000     9.000000   130.000000     7.000000"
      ]
     },
     "execution_count": 43,
     "metadata": {},
     "output_type": "execute_result"
    }
   ],
   "source": [
    "# volvemos hacer un describe para rectificar si nos borro los autliers o no\n",
    "dfArgenenprop.describe()"
   ]
  },
  {
   "cell_type": "code",
   "execution_count": 44,
   "id": "6ea209a9",
   "metadata": {},
   "outputs": [
    {
     "data": {
      "image/png": "[encoded data removed]",
      "text/plain": [
       "<Figure size 432x288 with 1 Axes>"
      ]
     },
     "metadata": {
      "needs_background": "light"
     },
     "output_type": "display_data"
    }
   ],
   "source": [
    "# Dibujamos el percentil del 1% de los metros\n",
    "plt.scatter(dfArgenenprop.index, dfArgenenprop[\"metrosCubiertos\"], s=8)\n",
    "plt.hlines(y=q, xmin=0, xmax=2000, colors='red')\n",
    "plt.show()"
   ]
  },
  {
   "cell_type": "code",
   "execution_count": 45,
   "id": "a6b7ac7e",
   "metadata": {},
   "outputs": [
    {
     "name": "stdout",
     "output_type": "stream",
     "text": [
      "55000.0\n"
     ]
    }
   ],
   "source": [
    "# Hacemos lo mismo pero Calculamos el percentil del 1% de la columan price\n",
    "q = dfArgenenprop[\"price\"].quantile(0.05)\n",
    "print(q)"
   ]
  },
  {
   "cell_type": "code",
   "execution_count": 46,
   "id": "6450e169",
   "metadata": {},
   "outputs": [
    {
     "data": {
      "image/png": "[encoded data removed]",
      "text/plain": [
       "<Figure size 432x288 with 1 Axes>"
      ]
     },
     "metadata": {
      "needs_background": "light"
     },
     "output_type": "display_data"
    }
   ],
   "source": [
    "# Dibujamos el percentil del 1% de los metros\n",
    "plt.scatter(dfArgenenprop.index, dfArgenenprop[\"price\"], s=8)\n",
    "plt.hlines(y=q, xmin=0, xmax=2000, colors='red')\n",
    "plt.show()"
   ]
  },
  {
   "cell_type": "code",
   "execution_count": 47,
   "id": "d9e7ef0d",
   "metadata": {},
   "outputs": [
    {
     "name": "stdout",
     "output_type": "stream",
     "text": [
      "55000.0\n"
     ]
    },
    {
     "data": {
      "text/plain": [
       "85000     27\n",
       "155000    21\n",
       "150000    20\n",
       "135000    20\n",
       "125000    20\n",
       "          ..\n",
       "117500     1\n",
       "78300      1\n",
       "109500     1\n",
       "121000     1\n",
       "950000     1\n",
       "Name: price, Length: 421, dtype: int64"
      ]
     },
     "execution_count": 47,
     "metadata": {},
     "output_type": "execute_result"
    }
   ],
   "source": [
    "# Mostramos los precios, el umbral (threshold) que marca el percentil del 1%\n",
    "q = dfArgenenprop[\"price\"].quantile(0.05)\n",
    "print(q)\n",
    "\n",
    "# Eliminamos del dataframe los precios que esten por debajo del percentil del 1% (criterio de filtrado)\n",
    "dfArgenenprop = dfArgenenprop[dfArgenenprop[\"price\"] > q]\n",
    "\n",
    "# hacemos un values_counts para visualizar los datos que hay en la columna price\n",
    "dfArgenenprop['price'].value_counts()"
   ]
  },
  {
   "cell_type": "code",
   "execution_count": 48,
   "id": "c202645c",
   "metadata": {},
   "outputs": [
    {
     "data": {
      "text/html": [
       "<div>\n",
       "<style scoped>\n",
       "    .dataframe tbody tr th:only-of-type {\n",
       "        vertical-align: middle;\n",
       "    }\n",
       "\n",
       "    .dataframe tbody tr th {\n",
       "        vertical-align: top;\n",
       "    }\n",
       "\n",
       "    .dataframe thead th {\n",
       "        text-align: right;\n",
       "    }\n",
       "</style>\n",
       "<table border=\"1\" class=\"dataframe\">\n",
       "  <thead>\n",
       "    <tr style=\"text-align: right;\">\n",
       "      <th></th>\n",
       "      <th>price</th>\n",
       "      <th>metrosCubiertos</th>\n",
       "      <th>dormitorios</th>\n",
       "      <th>antiguedad</th>\n",
       "      <th>toilets</th>\n",
       "    </tr>\n",
       "  </thead>\n",
       "  <tbody>\n",
       "    <tr>\n",
       "      <th>count</th>\n",
       "      <td>1.661000e+03</td>\n",
       "      <td>1661.000000</td>\n",
       "      <td>1661.000000</td>\n",
       "      <td>1661.000000</td>\n",
       "      <td>1661.000000</td>\n",
       "    </tr>\n",
       "    <tr>\n",
       "      <th>mean</th>\n",
       "      <td>2.099511e+05</td>\n",
       "      <td>100.595424</td>\n",
       "      <td>2.161951</td>\n",
       "      <td>20.546659</td>\n",
       "      <td>1.822998</td>\n",
       "    </tr>\n",
       "    <tr>\n",
       "      <th>std</th>\n",
       "      <td>1.733483e+05</td>\n",
       "      <td>73.905239</td>\n",
       "      <td>1.167181</td>\n",
       "      <td>20.360688</td>\n",
       "      <td>1.026152</td>\n",
       "    </tr>\n",
       "    <tr>\n",
       "      <th>min</th>\n",
       "      <td>5.600000e+04</td>\n",
       "      <td>25.000000</td>\n",
       "      <td>0.000000</td>\n",
       "      <td>0.000000</td>\n",
       "      <td>0.000000</td>\n",
       "    </tr>\n",
       "    <tr>\n",
       "      <th>25%</th>\n",
       "      <td>9.950000e+04</td>\n",
       "      <td>49.000000</td>\n",
       "      <td>1.000000</td>\n",
       "      <td>1.000000</td>\n",
       "      <td>1.000000</td>\n",
       "    </tr>\n",
       "    <tr>\n",
       "      <th>50%</th>\n",
       "      <td>1.590000e+05</td>\n",
       "      <td>73.000000</td>\n",
       "      <td>2.000000</td>\n",
       "      <td>13.000000</td>\n",
       "      <td>2.000000</td>\n",
       "    </tr>\n",
       "    <tr>\n",
       "      <th>75%</th>\n",
       "      <td>2.550000e+05</td>\n",
       "      <td>127.000000</td>\n",
       "      <td>3.000000</td>\n",
       "      <td>40.000000</td>\n",
       "      <td>2.000000</td>\n",
       "    </tr>\n",
       "    <tr>\n",
       "      <th>max</th>\n",
       "      <td>2.150000e+06</td>\n",
       "      <td>420.000000</td>\n",
       "      <td>9.000000</td>\n",
       "      <td>130.000000</td>\n",
       "      <td>7.000000</td>\n",
       "    </tr>\n",
       "  </tbody>\n",
       "</table>\n",
       "</div>"
      ],
      "text/plain": [
       "              price  metrosCubiertos  dormitorios   antiguedad      toilets\n",
       "count  1.661000e+03      1661.000000  1661.000000  1661.000000  1661.000000\n",
       "mean   2.099511e+05       100.595424     2.161951    20.546659     1.822998\n",
       "std    1.733483e+05        73.905239     1.167181    20.360688     1.026152\n",
       "min    5.600000e+04        25.000000     0.000000     0.000000     0.000000\n",
       "25%    9.950000e+04        49.000000     1.000000     1.000000     1.000000\n",
       "50%    1.590000e+05        73.000000     2.000000    13.000000     2.000000\n",
       "75%    2.550000e+05       127.000000     3.000000    40.000000     2.000000\n",
       "max    2.150000e+06       420.000000     9.000000   130.000000     7.000000"
      ]
     },
     "execution_count": 48,
     "metadata": {},
     "output_type": "execute_result"
    }
   ],
   "source": [
    "# rectificamos con el describe\n",
    "dfArgenenprop.describe()"
   ]
  },
  {
   "cell_type": "code",
   "execution_count": 49,
   "id": "01b45ca3",
   "metadata": {},
   "outputs": [
    {
     "name": "stdout",
     "output_type": "stream",
     "text": [
      "1.0\n"
     ]
    }
   ],
   "source": [
    "# Hacemos lo mismo pero Calculamos el percentil del 1% de la columan toilets\n",
    "q = dfArgenenprop[\"toilets\"].quantile(0.05)\n",
    "print(q)"
   ]
  },
  {
   "cell_type": "code",
   "execution_count": 50,
   "id": "78aeab4e",
   "metadata": {},
   "outputs": [
    {
     "data": {
      "image/png": "[encoded data removed]",
      "text/plain": [
       "<Figure size 432x288 with 1 Axes>"
      ]
     },
     "metadata": {
      "needs_background": "light"
     },
     "output_type": "display_data"
    }
   ],
   "source": [
    "# Dibujamos el percentil del 1% de los toilets\n",
    "plt.scatter(dfArgenenprop.index, dfArgenenprop[\"toilets\"], s=8)\n",
    "plt.hlines(y=q, xmin=0, xmax=2000, colors='red')\n",
    "plt.show()"
   ]
  },
  {
   "cell_type": "code",
   "execution_count": 51,
   "id": "54c0c7d0",
   "metadata": {},
   "outputs": [
    {
     "name": "stdout",
     "output_type": "stream",
     "text": [
      "1.0\n"
     ]
    },
    {
     "data": {
      "text/plain": [
       "1    769\n",
       "2    534\n",
       "3    220\n",
       "4     84\n",
       "5     29\n",
       "6      6\n",
       "7      2\n",
       "Name: toilets, dtype: int64"
      ]
     },
     "execution_count": 51,
     "metadata": {},
     "output_type": "execute_result"
    }
   ],
   "source": [
    "# Mostramos los toilets, el umbral (threshold) que marca el percentil del 1%\n",
    "q = dfArgenenprop[\"toilets\"].quantile(0.05)\n",
    "print(q)\n",
    "\n",
    "# Eliminamos del dataframe los toilets que esten por debajo del percentil del 1% (criterio de filtrado)\n",
    "dfArgenenprop = dfArgenenprop[dfArgenenprop[\"toilets\"] >= q]\n",
    "\n",
    "# hacemos un values_counts para visualizar los datos que hay en la columna toilets\n",
    "dfArgenenprop['toilets'].value_counts()"
   ]
  },
  {
   "cell_type": "code",
   "execution_count": 52,
   "id": "bbe95929",
   "metadata": {},
   "outputs": [
    {
     "data": {
      "text/html": [
       "<div>\n",
       "<style scoped>\n",
       "    .dataframe tbody tr th:only-of-type {\n",
       "        vertical-align: middle;\n",
       "    }\n",
       "\n",
       "    .dataframe tbody tr th {\n",
       "        vertical-align: top;\n",
       "    }\n",
       "\n",
       "    .dataframe thead th {\n",
       "        text-align: right;\n",
       "    }\n",
       "</style>\n",
       "<table border=\"1\" class=\"dataframe\">\n",
       "  <thead>\n",
       "    <tr style=\"text-align: right;\">\n",
       "      <th></th>\n",
       "      <th>price</th>\n",
       "      <th>metrosCubiertos</th>\n",
       "      <th>dormitorios</th>\n",
       "      <th>antiguedad</th>\n",
       "      <th>toilets</th>\n",
       "    </tr>\n",
       "  </thead>\n",
       "  <tbody>\n",
       "    <tr>\n",
       "      <th>count</th>\n",
       "      <td>1.644000e+03</td>\n",
       "      <td>1644.000000</td>\n",
       "      <td>1644.000000</td>\n",
       "      <td>1644.000000</td>\n",
       "      <td>1644.000000</td>\n",
       "    </tr>\n",
       "    <tr>\n",
       "      <th>mean</th>\n",
       "      <td>2.105828e+05</td>\n",
       "      <td>100.953771</td>\n",
       "      <td>2.170925</td>\n",
       "      <td>20.741484</td>\n",
       "      <td>1.841849</td>\n",
       "    </tr>\n",
       "    <tr>\n",
       "      <th>std</th>\n",
       "      <td>1.737102e+05</td>\n",
       "      <td>74.109329</td>\n",
       "      <td>1.167362</td>\n",
       "      <td>20.374658</td>\n",
       "      <td>1.014467</td>\n",
       "    </tr>\n",
       "    <tr>\n",
       "      <th>min</th>\n",
       "      <td>5.600000e+04</td>\n",
       "      <td>25.000000</td>\n",
       "      <td>0.000000</td>\n",
       "      <td>0.000000</td>\n",
       "      <td>1.000000</td>\n",
       "    </tr>\n",
       "    <tr>\n",
       "      <th>25%</th>\n",
       "      <td>9.972500e+04</td>\n",
       "      <td>49.000000</td>\n",
       "      <td>1.000000</td>\n",
       "      <td>1.000000</td>\n",
       "      <td>1.000000</td>\n",
       "    </tr>\n",
       "    <tr>\n",
       "      <th>50%</th>\n",
       "      <td>1.595000e+05</td>\n",
       "      <td>73.000000</td>\n",
       "      <td>2.000000</td>\n",
       "      <td>14.000000</td>\n",
       "      <td>2.000000</td>\n",
       "    </tr>\n",
       "    <tr>\n",
       "      <th>75%</th>\n",
       "      <td>2.550000e+05</td>\n",
       "      <td>127.000000</td>\n",
       "      <td>3.000000</td>\n",
       "      <td>40.000000</td>\n",
       "      <td>2.000000</td>\n",
       "    </tr>\n",
       "    <tr>\n",
       "      <th>max</th>\n",
       "      <td>2.150000e+06</td>\n",
       "      <td>420.000000</td>\n",
       "      <td>9.000000</td>\n",
       "      <td>130.000000</td>\n",
       "      <td>7.000000</td>\n",
       "    </tr>\n",
       "  </tbody>\n",
       "</table>\n",
       "</div>"
      ],
      "text/plain": [
       "              price  metrosCubiertos  dormitorios   antiguedad      toilets\n",
       "count  1.644000e+03      1644.000000  1644.000000  1644.000000  1644.000000\n",
       "mean   2.105828e+05       100.953771     2.170925    20.741484     1.841849\n",
       "std    1.737102e+05        74.109329     1.167362    20.374658     1.014467\n",
       "min    5.600000e+04        25.000000     0.000000     0.000000     1.000000\n",
       "25%    9.972500e+04        49.000000     1.000000     1.000000     1.000000\n",
       "50%    1.595000e+05        73.000000     2.000000    14.000000     2.000000\n",
       "75%    2.550000e+05       127.000000     3.000000    40.000000     2.000000\n",
       "max    2.150000e+06       420.000000     9.000000   130.000000     7.000000"
      ]
     },
     "execution_count": 52,
     "metadata": {},
     "output_type": "execute_result"
    }
   ],
   "source": [
    "# rectificamos con el describe\n",
    "dfArgenenprop.describe()"
   ]
  },
  {
   "cell_type": "code",
   "execution_count": 53,
   "id": "6f7e4257",
   "metadata": {},
   "outputs": [
    {
     "name": "stdout",
     "output_type": "stream",
     "text": [
      "1.0\n"
     ]
    }
   ],
   "source": [
    "# Hacemos lo mismo pero Calculamos el percentil del 1% de la columan dormitorios\n",
    "q = dfArgenenprop[\"dormitorios\"].quantile(0.1)\n",
    "print(q)"
   ]
  },
  {
   "cell_type": "code",
   "execution_count": 54,
   "id": "2f4c391b",
   "metadata": {},
   "outputs": [
    {
     "data": {
      "image/png": "[encoded data removed]",
      "text/plain": [
       "<Figure size 432x288 with 1 Axes>"
      ]
     },
     "metadata": {
      "needs_background": "light"
     },
     "output_type": "display_data"
    }
   ],
   "source": [
    "# Dibujamos el percentil del 1% de los dormitorios\n",
    "plt.scatter(dfArgenenprop.index, dfArgenenprop[\"dormitorios\"], s=8)\n",
    "plt.hlines(y=q, xmin=0, xmax=2000, colors='red')\n",
    "plt.show()"
   ]
  },
  {
   "cell_type": "code",
   "execution_count": 55,
   "id": "e0393e1f",
   "metadata": {},
   "outputs": [
    {
     "name": "stdout",
     "output_type": "stream",
     "text": [
      "1.0\n"
     ]
    },
    {
     "data": {
      "text/plain": [
       "2    531\n",
       "3    438\n",
       "1    379\n",
       "4    152\n",
       "5     32\n",
       "6      5\n",
       "7      1\n",
       "9      1\n",
       "Name: dormitorios, dtype: int64"
      ]
     },
     "execution_count": 55,
     "metadata": {},
     "output_type": "execute_result"
    }
   ],
   "source": [
    "# Mostramos los dormitorios, el umbral (threshold) que marca el percentil del 1%\n",
    "q = dfArgenenprop[\"dormitorios\"].quantile(0.1)\n",
    "print(q)\n",
    "\n",
    "# Eliminamos del dataframe los dormitorios que esten por debajo del percentil del 1% (criterio de filtrado)\n",
    "dfArgenenprop = dfArgenenprop[dfArgenenprop[\"dormitorios\"] >= q]\n",
    "\n",
    "# hacemos un values_counts para visualizar los datos que hay en la columna dormitorios\n",
    "dfArgenenprop['dormitorios'].value_counts()"
   ]
  },
  {
   "cell_type": "code",
   "execution_count": 56,
   "id": "438af48f",
   "metadata": {},
   "outputs": [
    {
     "data": {
      "text/html": [
       "<div>\n",
       "<style scoped>\n",
       "    .dataframe tbody tr th:only-of-type {\n",
       "        vertical-align: middle;\n",
       "    }\n",
       "\n",
       "    .dataframe tbody tr th {\n",
       "        vertical-align: top;\n",
       "    }\n",
       "\n",
       "    .dataframe thead th {\n",
       "        text-align: right;\n",
       "    }\n",
       "</style>\n",
       "<table border=\"1\" class=\"dataframe\">\n",
       "  <thead>\n",
       "    <tr style=\"text-align: right;\">\n",
       "      <th></th>\n",
       "      <th>price</th>\n",
       "      <th>metrosCubiertos</th>\n",
       "      <th>dormitorios</th>\n",
       "      <th>antiguedad</th>\n",
       "      <th>toilets</th>\n",
       "    </tr>\n",
       "  </thead>\n",
       "  <tbody>\n",
       "    <tr>\n",
       "      <th>count</th>\n",
       "      <td>1.539000e+03</td>\n",
       "      <td>1539.000000</td>\n",
       "      <td>1539.000000</td>\n",
       "      <td>1539.000000</td>\n",
       "      <td>1539.000000</td>\n",
       "    </tr>\n",
       "    <tr>\n",
       "      <th>mean</th>\n",
       "      <td>2.186935e+05</td>\n",
       "      <td>104.923977</td>\n",
       "      <td>2.319038</td>\n",
       "      <td>21.435997</td>\n",
       "      <td>1.887589</td>\n",
       "    </tr>\n",
       "    <tr>\n",
       "      <th>std</th>\n",
       "      <td>1.761616e+05</td>\n",
       "      <td>73.965022</td>\n",
       "      <td>1.054544</td>\n",
       "      <td>20.438376</td>\n",
       "      <td>1.010849</td>\n",
       "    </tr>\n",
       "    <tr>\n",
       "      <th>min</th>\n",
       "      <td>5.600000e+04</td>\n",
       "      <td>29.000000</td>\n",
       "      <td>1.000000</td>\n",
       "      <td>0.000000</td>\n",
       "      <td>1.000000</td>\n",
       "    </tr>\n",
       "    <tr>\n",
       "      <th>25%</th>\n",
       "      <td>1.090000e+05</td>\n",
       "      <td>53.000000</td>\n",
       "      <td>2.000000</td>\n",
       "      <td>1.000000</td>\n",
       "      <td>1.000000</td>\n",
       "    </tr>\n",
       "    <tr>\n",
       "      <th>50%</th>\n",
       "      <td>1.700000e+05</td>\n",
       "      <td>77.000000</td>\n",
       "      <td>2.000000</td>\n",
       "      <td>15.000000</td>\n",
       "      <td>2.000000</td>\n",
       "    </tr>\n",
       "    <tr>\n",
       "      <th>75%</th>\n",
       "      <td>2.650000e+05</td>\n",
       "      <td>134.500000</td>\n",
       "      <td>3.000000</td>\n",
       "      <td>40.000000</td>\n",
       "      <td>2.000000</td>\n",
       "    </tr>\n",
       "    <tr>\n",
       "      <th>max</th>\n",
       "      <td>2.150000e+06</td>\n",
       "      <td>420.000000</td>\n",
       "      <td>9.000000</td>\n",
       "      <td>130.000000</td>\n",
       "      <td>7.000000</td>\n",
       "    </tr>\n",
       "  </tbody>\n",
       "</table>\n",
       "</div>"
      ],
      "text/plain": [
       "              price  metrosCubiertos  dormitorios   antiguedad      toilets\n",
       "count  1.539000e+03      1539.000000  1539.000000  1539.000000  1539.000000\n",
       "mean   2.186935e+05       104.923977     2.319038    21.435997     1.887589\n",
       "std    1.761616e+05        73.965022     1.054544    20.438376     1.010849\n",
       "min    5.600000e+04        29.000000     1.000000     0.000000     1.000000\n",
       "25%    1.090000e+05        53.000000     2.000000     1.000000     1.000000\n",
       "50%    1.700000e+05        77.000000     2.000000    15.000000     2.000000\n",
       "75%    2.650000e+05       134.500000     3.000000    40.000000     2.000000\n",
       "max    2.150000e+06       420.000000     9.000000   130.000000     7.000000"
      ]
     },
     "execution_count": 56,
     "metadata": {},
     "output_type": "execute_result"
    }
   ],
   "source": [
    "# rectificamos con el describe\n",
    "dfArgenenprop.describe()"
   ]
  },
  {
   "cell_type": "code",
   "execution_count": 57,
   "id": "01ddeda9",
   "metadata": {},
   "outputs": [
    {
     "data": {
      "text/plain": [
       "[<matplotlib.lines.Line2D at 0x18212671af0>]"
      ]
     },
     "execution_count": 57,
     "metadata": {},
     "output_type": "execute_result"
    },
    {
     "data": {
      "image/png": "[encoded data removed]",
      "text/plain": [
       "<Figure size 432x288 with 1 Axes>"
      ]
     },
     "metadata": {
      "needs_background": "light"
     },
     "output_type": "display_data"
    }
   ],
   "source": [
    "# vemos un grafico de las columnas metrosCubiertos y precio del df nuevo\n",
    "plt.plot(dfArgenenprop[\"metrosCubiertos\"],dfArgenenprop[\"price\"], '.')"
   ]
  },
  {
   "cell_type": "code",
   "execution_count": 58,
   "id": "c0212198",
   "metadata": {},
   "outputs": [
    {
     "data": {
      "text/plain": [
       "[<matplotlib.lines.Line2D at 0x18212a02b80>]"
      ]
     },
     "execution_count": 58,
     "metadata": {},
     "output_type": "execute_result"
    },
    {
     "data": {
      "image/png": "[encoded data removed]",
      "text/plain": [
       "<Figure size 432x288 with 1 Axes>"
      ]
     },
     "metadata": {
      "needs_background": "light"
     },
     "output_type": "display_data"
    }
   ],
   "source": [
    "# vemos un grafico de las columnas metrosCubiertos y precio del df antiguo \n",
    "plt.plot(df[\"surface_covered_in_m2\"],df[\"price_aprox_usd\"], '.')"
   ]
  },
  {
   "cell_type": "code",
   "execution_count": 59,
   "id": "f7ef3ff6",
   "metadata": {},
   "outputs": [
    {
     "data": {
      "image/png": "[encoded data removed]",
      "text/plain": [
       "<Figure size 432x288 with 2 Axes>"
      ]
     },
     "metadata": {
      "needs_background": "light"
     },
     "output_type": "display_data"
    }
   ],
   "source": [
    "# hacemos una matrix de correlacion del df nuevo\n",
    "corrMatrix=dfArgenenprop.corr().round(2)\n",
    "sns.heatmap(corrMatrix, annot= True,cmap=\"coolwarm\")\n",
    "plt.show()"
   ]
  },
  {
   "cell_type": "code",
   "execution_count": 60,
   "id": "c8e1ffab",
   "metadata": {},
   "outputs": [
    {
     "data": {
      "image/png": "[encoded data removed]",
      "text/plain": [
       "<Figure size 432x288 with 2 Axes>"
      ]
     },
     "metadata": {
      "needs_background": "light"
     },
     "output_type": "display_data"
    }
   ],
   "source": [
    "# hacemos una matrix de correlacion del df antiguo\n",
    "corrMatrix=df.corr().round(2)\n",
    "sns.heatmap(corrMatrix, annot= True,cmap=\"coolwarm\")\n",
    "plt.show()"
   ]
  },
  {
   "cell_type": "code",
   "execution_count": 61,
   "id": "be98c57a",
   "metadata": {},
   "outputs": [],
   "source": [
    "# Prueba esta fórmula de regresión lineal\n",
    "from scipy import stats\n",
    "import matplotlib.pyplot as plt"
   ]
  },
  {
   "cell_type": "code",
   "execution_count": 62,
   "id": "2353f491",
   "metadata": {},
   "outputs": [],
   "source": [
    "# empezamos con el df nuevo la regresion lineal\n",
    "x1 = dfArgenenprop[\"metrosCubiertos\"]\n",
    "y1 = dfArgenenprop[\"price\"]"
   ]
  },
  {
   "cell_type": "code",
   "execution_count": 63,
   "id": "91b4f5b3",
   "metadata": {},
   "outputs": [],
   "source": [
    "res = stats.linregress(x1, y1)"
   ]
  },
  {
   "cell_type": "code",
   "execution_count": 64,
   "id": "ba10cd61",
   "metadata": {},
   "outputs": [
    {
     "name": "stdout",
     "output_type": "stream",
     "text": [
      "R-squared: 0.584474\n"
     ]
    }
   ],
   "source": [
    "print(f\"R-squared: {res.rvalue**2:.6f}\")"
   ]
  },
  {
   "cell_type": "code",
   "execution_count": 65,
   "id": "4677dd76",
   "metadata": {},
   "outputs": [
    {
     "data": {
      "image/png": "[encoded data removed]",
      "text/plain": [
       "<Figure size 432x288 with 1 Axes>"
      ]
     },
     "metadata": {
      "needs_background": "light"
     },
     "output_type": "display_data"
    }
   ],
   "source": [
    "#graficamos la regrecion lineal del dataset nuevo\n",
    "plt.scatter(x1, y1, label='original data', s=0.8)\n",
    "plt.plot(x1, res.intercept + res.slope*x1, 'r', label='fitted line')\n",
    "plt.legend()\n",
    "plt.show()"
   ]
  },
  {
   "cell_type": "code",
   "execution_count": 70,
   "id": "644c0aeb",
   "metadata": {
    "scrolled": false
   },
   "outputs": [
    {
     "data": {
      "image/png": "[encoded data removed]",
      "text/plain": [
       "<Figure size 432x288 with 1 Axes>"
      ]
     },
     "metadata": {
      "needs_background": "light"
     },
     "output_type": "display_data"
    }
   ],
   "source": [
    "# hacemos un grafico para comparar nuestros dataframe\n",
    "plt.scatter(x2, y2, label='original data', s=0.5)\n",
    "plt.plot(x2, res2.intercept + res2.slope*x2, 'b', label='fitted line')\n",
    "\n",
    "plt.scatter(x1, y1, label='original data', s=0.3)\n",
    "plt.plot(x1, res.intercept + res.slope*x1, 'r', label='fitted line')\n",
    "plt.legend()\n",
    "plt.show()"
   ]
  },
  {
   "cell_type": "code",
   "execution_count": 66,
   "id": "e3441b86",
   "metadata": {},
   "outputs": [],
   "source": [
    "# empezamos con el df antiguo la regresion lineal\n",
    "x2 = df[\"surface_covered_in_m2\"]\n",
    "y2 = df[\"price_aprox_usd\"]"
   ]
  },
  {
   "cell_type": "code",
   "execution_count": 67,
   "id": "7c826bdf",
   "metadata": {},
   "outputs": [],
   "source": [
    "res2 = stats.linregress(x2, y2)"
   ]
  },
  {
   "cell_type": "code",
   "execution_count": 68,
   "id": "16ad6063",
   "metadata": {},
   "outputs": [
    {
     "name": "stdout",
     "output_type": "stream",
     "text": [
      "R-squared: 0.584474\n"
     ]
    }
   ],
   "source": [
    "print(f\"R-squared: {res.rvalue**2:.6f}\")"
   ]
  },
  {
   "cell_type": "code",
   "execution_count": 69,
   "id": "4e46e61a",
   "metadata": {
    "scrolled": true
   },
   "outputs": [
    {
     "data": {
      "image/png": "[encoded data removed]",
      "text/plain": [
       "<Figure size 432x288 with 1 Axes>"
      ]
     },
     "metadata": {
      "needs_background": "light"
     },
     "output_type": "display_data"
    }
   ],
   "source": [
    "#graficamos la regrecion lineal del dataset antiguo\n",
    "plt.plot(x2, y2, '+', label='original data')\n",
    "plt.plot(x2, res2.intercept + res2.slope*x2, 'g', label='fitted line')\n",
    "plt.legend()\n",
    "plt.show()"
   ]
  },
  {
   "cell_type": "code",
   "execution_count": 71,
   "id": "217d43b4",
   "metadata": {},
   "outputs": [
    {
     "data": {
      "text/html": [
       "<div>\n",
       "<style scoped>\n",
       "    .dataframe tbody tr th:only-of-type {\n",
       "        vertical-align: middle;\n",
       "    }\n",
       "\n",
       "    .dataframe tbody tr th {\n",
       "        vertical-align: top;\n",
       "    }\n",
       "\n",
       "    .dataframe thead th {\n",
       "        text-align: right;\n",
       "    }\n",
       "</style>\n",
       "<table border=\"1\" class=\"dataframe\">\n",
       "  <thead>\n",
       "    <tr style=\"text-align: right;\">\n",
       "      <th></th>\n",
       "      <th>price_aprox_usd</th>\n",
       "      <th>surface_covered_in_m2</th>\n",
       "      <th>floor</th>\n",
       "      <th>rooms</th>\n",
       "    </tr>\n",
       "  </thead>\n",
       "  <tbody>\n",
       "    <tr>\n",
       "      <th>0</th>\n",
       "      <td>50000.0</td>\n",
       "      <td>53.0</td>\n",
       "      <td>1.0</td>\n",
       "      <td>1.0</td>\n",
       "    </tr>\n",
       "    <tr>\n",
       "      <th>1</th>\n",
       "      <td>135000.0</td>\n",
       "      <td>95.0</td>\n",
       "      <td>2.0</td>\n",
       "      <td>3.0</td>\n",
       "    </tr>\n",
       "    <tr>\n",
       "      <th>2</th>\n",
       "      <td>75000.0</td>\n",
       "      <td>180.0</td>\n",
       "      <td>1.0</td>\n",
       "      <td>1.0</td>\n",
       "    </tr>\n",
       "    <tr>\n",
       "      <th>3</th>\n",
       "      <td>54000.0</td>\n",
       "      <td>30.0</td>\n",
       "      <td>3.0</td>\n",
       "      <td>2.0</td>\n",
       "    </tr>\n",
       "    <tr>\n",
       "      <th>4</th>\n",
       "      <td>185000.0</td>\n",
       "      <td>100.0</td>\n",
       "      <td>1.0</td>\n",
       "      <td>3.0</td>\n",
       "    </tr>\n",
       "    <tr>\n",
       "      <th>5</th>\n",
       "      <td>380000.0</td>\n",
       "      <td>91.0</td>\n",
       "      <td>2.0</td>\n",
       "      <td>3.0</td>\n",
       "    </tr>\n",
       "    <tr>\n",
       "      <th>6</th>\n",
       "      <td>128000.0</td>\n",
       "      <td>51.0</td>\n",
       "      <td>6.0</td>\n",
       "      <td>2.0</td>\n",
       "    </tr>\n",
       "    <tr>\n",
       "      <th>7</th>\n",
       "      <td>110000.0</td>\n",
       "      <td>150.0</td>\n",
       "      <td>1.0</td>\n",
       "      <td>3.0</td>\n",
       "    </tr>\n",
       "    <tr>\n",
       "      <th>8</th>\n",
       "      <td>125000.0</td>\n",
       "      <td>110.0</td>\n",
       "      <td>2.0</td>\n",
       "      <td>2.0</td>\n",
       "    </tr>\n",
       "    <tr>\n",
       "      <th>9</th>\n",
       "      <td>67000.0</td>\n",
       "      <td>40.0</td>\n",
       "      <td>2.0</td>\n",
       "      <td>2.0</td>\n",
       "    </tr>\n",
       "  </tbody>\n",
       "</table>\n",
       "</div>"
      ],
      "text/plain": [
       "   price_aprox_usd  surface_covered_in_m2  floor  rooms\n",
       "0          50000.0                   53.0    1.0    1.0\n",
       "1         135000.0                   95.0    2.0    3.0\n",
       "2          75000.0                  180.0    1.0    1.0\n",
       "3          54000.0                   30.0    3.0    2.0\n",
       "4         185000.0                  100.0    1.0    3.0\n",
       "5         380000.0                   91.0    2.0    3.0\n",
       "6         128000.0                   51.0    6.0    2.0\n",
       "7         110000.0                  150.0    1.0    3.0\n",
       "8         125000.0                  110.0    2.0    2.0\n",
       "9          67000.0                   40.0    2.0    2.0"
      ]
     },
     "execution_count": 71,
     "metadata": {},
     "output_type": "execute_result"
    }
   ],
   "source": [
    "# vemos que en el grafico de arriba hay algunos valores raros, que son precios elevados pero con pocos metros\n",
    "# vamos analizar si seran valores atipicos o seran pisos de lujo\n",
    "df.head(10)"
   ]
  },
  {
   "cell_type": "code",
   "execution_count": 72,
   "id": "bddccd27",
   "metadata": {},
   "outputs": [
    {
     "name": "stdout",
     "output_type": "stream",
     "text": [
      "(array([  13,   62,  297,  299,  312,  313,  314,  321,  336,  369,  383,\n",
      "        390,  401,  413,  417,  438,  550,  557,  560,  570,  606,  682,\n",
      "        683,  686,  687,  743,  756,  894, 1020, 1166, 1372, 1414, 1485,\n",
      "       1595, 1597, 1655, 1715, 1716, 1728, 1773, 1803, 2202, 2329, 2334,\n",
      "       2389, 2393, 2458, 2461, 2463, 2574, 2575, 2579, 2779, 2780, 2782,\n",
      "       2783, 2785, 2819, 2887, 3001, 3011, 3012, 3014, 3015, 3020, 3166,\n",
      "       3255, 3287, 3378, 3421, 3422, 3423, 3729, 3854, 3887, 3888, 4111],\n",
      "      dtype=int64),)\n"
     ]
    }
   ],
   "source": [
    "# Position of the Outlier\n",
    "print(np.where((df['price_aprox_usd'] > 1500000)))"
   ]
  },
  {
   "cell_type": "code",
   "execution_count": 73,
   "id": "c4ee2780",
   "metadata": {},
   "outputs": [
    {
     "data": {
      "text/plain": [
       "price_aprox_usd          2600000.0\n",
       "surface_covered_in_m2        174.0\n",
       "floor                          1.0\n",
       "rooms                          4.0\n",
       "Name: 2819, dtype: float64"
      ]
     },
     "execution_count": 73,
     "metadata": {},
     "output_type": "execute_result"
    }
   ],
   "source": [
    "df.loc[2819]"
   ]
  },
  {
   "cell_type": "markdown",
   "id": "ac0b638d",
   "metadata": {},
   "source": [
    "vamos hacer la regresion lineal con otro metodo"
   ]
  },
  {
   "cell_type": "code",
   "execution_count": 74,
   "id": "c2a9f8b2",
   "metadata": {},
   "outputs": [],
   "source": [
    "# Creamos X e y del df nuevo\n",
    "X = dfArgenenprop[[\"metrosCubiertos\"]]\n",
    "y = dfArgenenprop[[\"price\"]]"
   ]
  },
  {
   "cell_type": "code",
   "execution_count": 75,
   "id": "c74307d7",
   "metadata": {},
   "outputs": [
    {
     "data": {
      "text/plain": [
       "pandas.core.frame.DataFrame"
      ]
     },
     "execution_count": 75,
     "metadata": {},
     "output_type": "execute_result"
    }
   ],
   "source": [
    "type(y)"
   ]
  },
  {
   "cell_type": "code",
   "execution_count": 76,
   "id": "317803ce",
   "metadata": {},
   "outputs": [
    {
     "data": {
      "text/plain": [
       "(1539, 1)"
      ]
     },
     "execution_count": 76,
     "metadata": {},
     "output_type": "execute_result"
    }
   ],
   "source": [
    "X.shape"
   ]
  },
  {
   "cell_type": "code",
   "execution_count": 77,
   "id": "4d5f7f88",
   "metadata": {},
   "outputs": [
    {
     "data": {
      "text/plain": [
       "(1539, 1)"
      ]
     },
     "execution_count": 77,
     "metadata": {},
     "output_type": "execute_result"
    }
   ],
   "source": [
    "y.shape"
   ]
  },
  {
   "cell_type": "code",
   "execution_count": 78,
   "id": "d294be36",
   "metadata": {},
   "outputs": [],
   "source": [
    "# Instanciamos el modelo\n",
    "\n",
    "linreg = LinearRegression()"
   ]
  },
  {
   "cell_type": "code",
   "execution_count": 79,
   "id": "9e243008",
   "metadata": {},
   "outputs": [
    {
     "data": {
      "text/plain": [
       "LinearRegression()"
      ]
     },
     "execution_count": 79,
     "metadata": {},
     "output_type": "execute_result"
    }
   ],
   "source": [
    "# Entrenamos el modelo \n",
    "\n",
    "linreg.fit(X, y)"
   ]
  },
  {
   "cell_type": "code",
   "execution_count": 80,
   "id": "ccc66528",
   "metadata": {},
   "outputs": [
    {
     "name": "stdout",
     "output_type": "stream",
     "text": [
      "[27645.5923896]\n",
      "[[1820.82207058]]\n"
     ]
    }
   ],
   "source": [
    "# Imprimimos coeficientes\n",
    "\n",
    "print (linreg.intercept_)\n",
    "print (linreg.coef_)"
   ]
  },
  {
   "cell_type": "code",
   "execution_count": 81,
   "id": "7958482a",
   "metadata": {},
   "outputs": [
    {
     "data": {
      "text/plain": [
       "array([[73166.14415399]])"
      ]
     },
     "execution_count": 81,
     "metadata": {},
     "output_type": "execute_result"
    }
   ],
   "source": [
    "# Aplicando la fórmula manualmente\n",
    "\n",
    "test = 25\n",
    "\n",
    "linreg.intercept_ + linreg.coef_*test"
   ]
  },
  {
   "cell_type": "code",
   "execution_count": 82,
   "id": "c836e1e4",
   "metadata": {},
   "outputs": [
    {
     "name": "stdout",
     "output_type": "stream",
     "text": [
      "Intercepto=   28458.026381866133\n",
      "RM=   [1828.51508462 -698.39967386]\n",
      "R2_train=   0.5844813065010933\n"
     ]
    }
   ],
   "source": [
    "# Generamos las matrices y el target\n",
    "\n",
    "X = dfArgenenprop[[\"metrosCubiertos\",\"dormitorios\"]]\n",
    "y = dfArgenenprop[\"price\"]\n",
    "\n",
    "# Importamos, Instanciamos, Fiteamos, etc..\n",
    "\n",
    "lm = linear_model.LinearRegression()\n",
    "\n",
    "model = lm.fit(X, y)\n",
    "predictions = lm.predict(X)\n",
    "\n",
    "print ('Intercepto=', ' ', model.intercept_)\n",
    "print ('RM=', ' ', model.coef_)\n",
    "print ('R2_train=', ' ', model.score(X, y))"
   ]
  },
  {
   "cell_type": "code",
   "execution_count": 83,
   "id": "e339ce2c",
   "metadata": {},
   "outputs": [
    {
     "data": {
      "text/plain": [
       "<matplotlib.collections.PathCollection at 0x182133fdfa0>"
      ]
     },
     "execution_count": 83,
     "metadata": {},
     "output_type": "execute_result"
    },
    {
     "data": {
      "image/png": "[encoded data removed]",
      "text/plain": [
       "<Figure size 432x288 with 1 Axes>"
      ]
     },
     "metadata": {
      "needs_background": "light"
     },
     "output_type": "display_data"
    }
   ],
   "source": [
    "from numpy.polynomial.polynomial import polyfit\n",
    "\n",
    "# Fit with polyfit\n",
    "# y = b + m * x\n",
    "b, m = polyfit(dfArgenenprop[\"metrosCubiertos\"],dfArgenenprop[\"price\"], 1)\n",
    "\n",
    "plt.scatter(dfArgenenprop[\"metrosCubiertos\"], dfArgenenprop[\"price\"], s=0.5)\n",
    "plt.scatter(dfArgenenprop[\"metrosCubiertos\"], b + m * dfArgenenprop[\"metrosCubiertos\"], s=1, color=\"red\")"
   ]
  },
  {
   "cell_type": "code",
   "execution_count": 84,
   "id": "52c019ff",
   "metadata": {},
   "outputs": [],
   "source": [
    "# Creamos X e y con el dataframe ANTIGUO\n",
    "X2 = df[[\"surface_covered_in_m2\"]]\n",
    "y2 = df[[\"price_aprox_usd\"]]"
   ]
  },
  {
   "cell_type": "code",
   "execution_count": 85,
   "id": "aab4ec05",
   "metadata": {},
   "outputs": [],
   "source": [
    "# Instanciamos el modelo\n",
    "\n",
    "linreg = LinearRegression()"
   ]
  },
  {
   "cell_type": "code",
   "execution_count": 86,
   "id": "949a2682",
   "metadata": {},
   "outputs": [
    {
     "data": {
      "text/plain": [
       "LinearRegression()"
      ]
     },
     "execution_count": 86,
     "metadata": {},
     "output_type": "execute_result"
    }
   ],
   "source": [
    "# Entrenamos el modelo \n",
    "\n",
    "linreg.fit(X2, y2)"
   ]
  },
  {
   "cell_type": "code",
   "execution_count": 87,
   "id": "55e80498",
   "metadata": {},
   "outputs": [
    {
     "name": "stdout",
     "output_type": "stream",
     "text": [
      "[73670.82580268]\n",
      "[[1854.14303998]]\n"
     ]
    }
   ],
   "source": [
    "# Imprimimos coeficientes\n",
    "\n",
    "print (linreg.intercept_)\n",
    "print (linreg.coef_)"
   ]
  },
  {
   "cell_type": "code",
   "execution_count": 88,
   "id": "b4c96c43",
   "metadata": {},
   "outputs": [
    {
     "data": {
      "text/plain": [
       "array([[120024.40180209]])"
      ]
     },
     "execution_count": 88,
     "metadata": {},
     "output_type": "execute_result"
    }
   ],
   "source": [
    "# Aplicando la fórmula manualmente\n",
    "\n",
    "test = 25\n",
    "\n",
    "linreg.intercept_ + linreg.coef_*test"
   ]
  },
  {
   "cell_type": "code",
   "execution_count": 89,
   "id": "196dbd92",
   "metadata": {},
   "outputs": [
    {
     "name": "stdout",
     "output_type": "stream",
     "text": [
      "Intercepto=   109195.47908831714\n",
      "RM=   [  2045.76453289 -19930.88072141]\n",
      "R2_train=   0.1191715905276477\n"
     ]
    }
   ],
   "source": [
    "# Generamos las matrices y el target\n",
    "\n",
    "X2 = df[[\"surface_covered_in_m2\",\"rooms\"]]\n",
    "y2 = df[\"price_aprox_usd\"]\n",
    "\n",
    "# Importamos, Instanciamos, Fiteamos, etc..\n",
    "\n",
    "lm = linear_model.LinearRegression()\n",
    "\n",
    "model = lm.fit(X2, y2)\n",
    "predictions = lm.predict(X2)\n",
    "\n",
    "print ('Intercepto=', ' ', model.intercept_)\n",
    "print ('RM=', ' ', model.coef_)\n",
    "print ('R2_train=', ' ', model.score(X2, y2))"
   ]
  },
  {
   "cell_type": "code",
   "execution_count": 90,
   "id": "83f6609d",
   "metadata": {},
   "outputs": [
    {
     "data": {
      "text/plain": [
       "<matplotlib.collections.PathCollection at 0x18212afb100>"
      ]
     },
     "execution_count": 90,
     "metadata": {},
     "output_type": "execute_result"
    },
    {
     "data": {
      "image/png": "[encoded data removed]",
      "text/plain": [
       "<Figure size 432x288 with 1 Axes>"
      ]
     },
     "metadata": {
      "needs_background": "light"
     },
     "output_type": "display_data"
    }
   ],
   "source": [
    "# y = b + m * x\n",
    "b, m = polyfit(df[\"surface_covered_in_m2\"],df[\"price_aprox_usd\"], 1)\n",
    "\n",
    "plt.scatter(df[\"surface_covered_in_m2\"], df[\"price_aprox_usd\"], s=0.5)\n",
    "plt.scatter(df[\"surface_covered_in_m2\"], b + m * df[\"surface_covered_in_m2\"], s=1, color=\"red\")"
   ]
  },
  {
   "cell_type": "markdown",
   "id": "7918500f",
   "metadata": {},
   "source": [
    "            creamos una nueva coluna llamada valorPorMetro y vamos hacer un scatter para comparar con las demas"
   ]
  },
  {
   "cell_type": "code",
   "execution_count": 91,
   "id": "7f539897",
   "metadata": {
    "scrolled": false
   },
   "outputs": [
    {
     "data": {
      "text/html": [
       "<div>\n",
       "<style scoped>\n",
       "    .dataframe tbody tr th:only-of-type {\n",
       "        vertical-align: middle;\n",
       "    }\n",
       "\n",
       "    .dataframe tbody tr th {\n",
       "        vertical-align: top;\n",
       "    }\n",
       "\n",
       "    .dataframe thead th {\n",
       "        text-align: right;\n",
       "    }\n",
       "</style>\n",
       "<table border=\"1\" class=\"dataframe\">\n",
       "  <thead>\n",
       "    <tr style=\"text-align: right;\">\n",
       "      <th></th>\n",
       "      <th>price_aprox_usd</th>\n",
       "      <th>surface_covered_in_m2</th>\n",
       "      <th>floor</th>\n",
       "      <th>rooms</th>\n",
       "    </tr>\n",
       "  </thead>\n",
       "  <tbody>\n",
       "    <tr>\n",
       "      <th>0</th>\n",
       "      <td>50000.0</td>\n",
       "      <td>53.0</td>\n",
       "      <td>1.0</td>\n",
       "      <td>1.0</td>\n",
       "    </tr>\n",
       "    <tr>\n",
       "      <th>1</th>\n",
       "      <td>135000.0</td>\n",
       "      <td>95.0</td>\n",
       "      <td>2.0</td>\n",
       "      <td>3.0</td>\n",
       "    </tr>\n",
       "    <tr>\n",
       "      <th>2</th>\n",
       "      <td>75000.0</td>\n",
       "      <td>180.0</td>\n",
       "      <td>1.0</td>\n",
       "      <td>1.0</td>\n",
       "    </tr>\n",
       "    <tr>\n",
       "      <th>3</th>\n",
       "      <td>54000.0</td>\n",
       "      <td>30.0</td>\n",
       "      <td>3.0</td>\n",
       "      <td>2.0</td>\n",
       "    </tr>\n",
       "    <tr>\n",
       "      <th>4</th>\n",
       "      <td>185000.0</td>\n",
       "      <td>100.0</td>\n",
       "      <td>1.0</td>\n",
       "      <td>3.0</td>\n",
       "    </tr>\n",
       "    <tr>\n",
       "      <th>...</th>\n",
       "      <td>...</td>\n",
       "      <td>...</td>\n",
       "      <td>...</td>\n",
       "      <td>...</td>\n",
       "    </tr>\n",
       "    <tr>\n",
       "      <th>4222</th>\n",
       "      <td>380000.0</td>\n",
       "      <td>162.0</td>\n",
       "      <td>7.0</td>\n",
       "      <td>5.0</td>\n",
       "    </tr>\n",
       "    <tr>\n",
       "      <th>4223</th>\n",
       "      <td>75000.0</td>\n",
       "      <td>23.0</td>\n",
       "      <td>7.0</td>\n",
       "      <td>1.0</td>\n",
       "    </tr>\n",
       "    <tr>\n",
       "      <th>4224</th>\n",
       "      <td>170000.0</td>\n",
       "      <td>63.0</td>\n",
       "      <td>2.0</td>\n",
       "      <td>3.0</td>\n",
       "    </tr>\n",
       "    <tr>\n",
       "      <th>4225</th>\n",
       "      <td>267000.0</td>\n",
       "      <td>82.0</td>\n",
       "      <td>1.0</td>\n",
       "      <td>4.0</td>\n",
       "    </tr>\n",
       "    <tr>\n",
       "      <th>4226</th>\n",
       "      <td>86800.0</td>\n",
       "      <td>48.0</td>\n",
       "      <td>6.0</td>\n",
       "      <td>1.0</td>\n",
       "    </tr>\n",
       "  </tbody>\n",
       "</table>\n",
       "<p>4227 rows × 4 columns</p>\n",
       "</div>"
      ],
      "text/plain": [
       "      price_aprox_usd  surface_covered_in_m2  floor  rooms\n",
       "0             50000.0                   53.0    1.0    1.0\n",
       "1            135000.0                   95.0    2.0    3.0\n",
       "2             75000.0                  180.0    1.0    1.0\n",
       "3             54000.0                   30.0    3.0    2.0\n",
       "4            185000.0                  100.0    1.0    3.0\n",
       "...               ...                    ...    ...    ...\n",
       "4222         380000.0                  162.0    7.0    5.0\n",
       "4223          75000.0                   23.0    7.0    1.0\n",
       "4224         170000.0                   63.0    2.0    3.0\n",
       "4225         267000.0                   82.0    1.0    4.0\n",
       "4226          86800.0                   48.0    6.0    1.0\n",
       "\n",
       "[4227 rows x 4 columns]"
      ]
     },
     "execution_count": 91,
     "metadata": {},
     "output_type": "execute_result"
    }
   ],
   "source": [
    "df"
   ]
  },
  {
   "cell_type": "code",
   "execution_count": 92,
   "id": "6efe8106",
   "metadata": {},
   "outputs": [
    {
     "data": {
      "text/html": [
       "<div>\n",
       "<style scoped>\n",
       "    .dataframe tbody tr th:only-of-type {\n",
       "        vertical-align: middle;\n",
       "    }\n",
       "\n",
       "    .dataframe tbody tr th {\n",
       "        vertical-align: top;\n",
       "    }\n",
       "\n",
       "    .dataframe thead th {\n",
       "        text-align: right;\n",
       "    }\n",
       "</style>\n",
       "<table border=\"1\" class=\"dataframe\">\n",
       "  <thead>\n",
       "    <tr style=\"text-align: right;\">\n",
       "      <th></th>\n",
       "      <th>price_aprox_usd</th>\n",
       "      <th>surface_covered_in_m2</th>\n",
       "      <th>floor</th>\n",
       "      <th>rooms</th>\n",
       "      <th>valorMetro</th>\n",
       "    </tr>\n",
       "  </thead>\n",
       "  <tbody>\n",
       "    <tr>\n",
       "      <th>0</th>\n",
       "      <td>50000.0</td>\n",
       "      <td>53.0</td>\n",
       "      <td>1.0</td>\n",
       "      <td>1.0</td>\n",
       "      <td>943.396226</td>\n",
       "    </tr>\n",
       "    <tr>\n",
       "      <th>1</th>\n",
       "      <td>135000.0</td>\n",
       "      <td>95.0</td>\n",
       "      <td>2.0</td>\n",
       "      <td>3.0</td>\n",
       "      <td>1421.052632</td>\n",
       "    </tr>\n",
       "    <tr>\n",
       "      <th>2</th>\n",
       "      <td>75000.0</td>\n",
       "      <td>180.0</td>\n",
       "      <td>1.0</td>\n",
       "      <td>1.0</td>\n",
       "      <td>416.666667</td>\n",
       "    </tr>\n",
       "    <tr>\n",
       "      <th>3</th>\n",
       "      <td>54000.0</td>\n",
       "      <td>30.0</td>\n",
       "      <td>3.0</td>\n",
       "      <td>2.0</td>\n",
       "      <td>1800.000000</td>\n",
       "    </tr>\n",
       "    <tr>\n",
       "      <th>4</th>\n",
       "      <td>185000.0</td>\n",
       "      <td>100.0</td>\n",
       "      <td>1.0</td>\n",
       "      <td>3.0</td>\n",
       "      <td>1850.000000</td>\n",
       "    </tr>\n",
       "    <tr>\n",
       "      <th>...</th>\n",
       "      <td>...</td>\n",
       "      <td>...</td>\n",
       "      <td>...</td>\n",
       "      <td>...</td>\n",
       "      <td>...</td>\n",
       "    </tr>\n",
       "    <tr>\n",
       "      <th>4222</th>\n",
       "      <td>380000.0</td>\n",
       "      <td>162.0</td>\n",
       "      <td>7.0</td>\n",
       "      <td>5.0</td>\n",
       "      <td>2345.679012</td>\n",
       "    </tr>\n",
       "    <tr>\n",
       "      <th>4223</th>\n",
       "      <td>75000.0</td>\n",
       "      <td>23.0</td>\n",
       "      <td>7.0</td>\n",
       "      <td>1.0</td>\n",
       "      <td>3260.869565</td>\n",
       "    </tr>\n",
       "    <tr>\n",
       "      <th>4224</th>\n",
       "      <td>170000.0</td>\n",
       "      <td>63.0</td>\n",
       "      <td>2.0</td>\n",
       "      <td>3.0</td>\n",
       "      <td>2698.412698</td>\n",
       "    </tr>\n",
       "    <tr>\n",
       "      <th>4225</th>\n",
       "      <td>267000.0</td>\n",
       "      <td>82.0</td>\n",
       "      <td>1.0</td>\n",
       "      <td>4.0</td>\n",
       "      <td>3256.097561</td>\n",
       "    </tr>\n",
       "    <tr>\n",
       "      <th>4226</th>\n",
       "      <td>86800.0</td>\n",
       "      <td>48.0</td>\n",
       "      <td>6.0</td>\n",
       "      <td>1.0</td>\n",
       "      <td>1808.333333</td>\n",
       "    </tr>\n",
       "  </tbody>\n",
       "</table>\n",
       "<p>4227 rows × 5 columns</p>\n",
       "</div>"
      ],
      "text/plain": [
       "      price_aprox_usd  surface_covered_in_m2  floor  rooms   valorMetro\n",
       "0             50000.0                   53.0    1.0    1.0   943.396226\n",
       "1            135000.0                   95.0    2.0    3.0  1421.052632\n",
       "2             75000.0                  180.0    1.0    1.0   416.666667\n",
       "3             54000.0                   30.0    3.0    2.0  1800.000000\n",
       "4            185000.0                  100.0    1.0    3.0  1850.000000\n",
       "...               ...                    ...    ...    ...          ...\n",
       "4222         380000.0                  162.0    7.0    5.0  2345.679012\n",
       "4223          75000.0                   23.0    7.0    1.0  3260.869565\n",
       "4224         170000.0                   63.0    2.0    3.0  2698.412698\n",
       "4225         267000.0                   82.0    1.0    4.0  3256.097561\n",
       "4226          86800.0                   48.0    6.0    1.0  1808.333333\n",
       "\n",
       "[4227 rows x 5 columns]"
      ]
     },
     "execution_count": 92,
     "metadata": {},
     "output_type": "execute_result"
    }
   ],
   "source": [
    "# vamos a crear una nueva columna que nos diga el valor del metro cuadrado del piso.\n",
    "# este seria el antiguo dataset\n",
    "valorMetro = df['price_aprox_usd']/df[\"surface_covered_in_m2\"]   \n",
    "df['valorMetro'] = valorMetro \n",
    "df  \n"
   ]
  },
  {
   "cell_type": "code",
   "execution_count": 93,
   "id": "f755c81c",
   "metadata": {},
   "outputs": [
    {
     "data": {
      "text/html": [
       "<div>\n",
       "<style scoped>\n",
       "    .dataframe tbody tr th:only-of-type {\n",
       "        vertical-align: middle;\n",
       "    }\n",
       "\n",
       "    .dataframe tbody tr th {\n",
       "        vertical-align: top;\n",
       "    }\n",
       "\n",
       "    .dataframe thead th {\n",
       "        text-align: right;\n",
       "    }\n",
       "</style>\n",
       "<table border=\"1\" class=\"dataframe\">\n",
       "  <thead>\n",
       "    <tr style=\"text-align: right;\">\n",
       "      <th></th>\n",
       "      <th>price</th>\n",
       "      <th>metrosCubiertos</th>\n",
       "      <th>dormitorios</th>\n",
       "      <th>antiguedad</th>\n",
       "      <th>toilets</th>\n",
       "      <th>valorPorMetro</th>\n",
       "    </tr>\n",
       "  </thead>\n",
       "  <tbody>\n",
       "    <tr>\n",
       "      <th>0</th>\n",
       "      <td>85000</td>\n",
       "      <td>35</td>\n",
       "      <td>1</td>\n",
       "      <td>40</td>\n",
       "      <td>1</td>\n",
       "      <td>2428.571429</td>\n",
       "    </tr>\n",
       "    <tr>\n",
       "      <th>1</th>\n",
       "      <td>288000</td>\n",
       "      <td>140</td>\n",
       "      <td>2</td>\n",
       "      <td>10</td>\n",
       "      <td>2</td>\n",
       "      <td>2057.142857</td>\n",
       "    </tr>\n",
       "    <tr>\n",
       "      <th>2</th>\n",
       "      <td>330000</td>\n",
       "      <td>75</td>\n",
       "      <td>2</td>\n",
       "      <td>2</td>\n",
       "      <td>3</td>\n",
       "      <td>4400.000000</td>\n",
       "    </tr>\n",
       "    <tr>\n",
       "      <th>3</th>\n",
       "      <td>215000</td>\n",
       "      <td>95</td>\n",
       "      <td>3</td>\n",
       "      <td>40</td>\n",
       "      <td>2</td>\n",
       "      <td>2263.157895</td>\n",
       "    </tr>\n",
       "    <tr>\n",
       "      <th>4</th>\n",
       "      <td>295000</td>\n",
       "      <td>165</td>\n",
       "      <td>4</td>\n",
       "      <td>40</td>\n",
       "      <td>4</td>\n",
       "      <td>1787.878788</td>\n",
       "    </tr>\n",
       "    <tr>\n",
       "      <th>...</th>\n",
       "      <td>...</td>\n",
       "      <td>...</td>\n",
       "      <td>...</td>\n",
       "      <td>...</td>\n",
       "      <td>...</td>\n",
       "      <td>...</td>\n",
       "    </tr>\n",
       "    <tr>\n",
       "      <th>1858</th>\n",
       "      <td>950000</td>\n",
       "      <td>260</td>\n",
       "      <td>5</td>\n",
       "      <td>35</td>\n",
       "      <td>3</td>\n",
       "      <td>3653.846154</td>\n",
       "    </tr>\n",
       "    <tr>\n",
       "      <th>1859</th>\n",
       "      <td>150000</td>\n",
       "      <td>42</td>\n",
       "      <td>1</td>\n",
       "      <td>1</td>\n",
       "      <td>2</td>\n",
       "      <td>3571.428571</td>\n",
       "    </tr>\n",
       "    <tr>\n",
       "      <th>1861</th>\n",
       "      <td>115000</td>\n",
       "      <td>164</td>\n",
       "      <td>3</td>\n",
       "      <td>60</td>\n",
       "      <td>2</td>\n",
       "      <td>701.219512</td>\n",
       "    </tr>\n",
       "    <tr>\n",
       "      <th>1862</th>\n",
       "      <td>358000</td>\n",
       "      <td>110</td>\n",
       "      <td>3</td>\n",
       "      <td>27</td>\n",
       "      <td>2</td>\n",
       "      <td>3254.545455</td>\n",
       "    </tr>\n",
       "    <tr>\n",
       "      <th>1863</th>\n",
       "      <td>110000</td>\n",
       "      <td>110</td>\n",
       "      <td>3</td>\n",
       "      <td>57</td>\n",
       "      <td>2</td>\n",
       "      <td>1000.000000</td>\n",
       "    </tr>\n",
       "  </tbody>\n",
       "</table>\n",
       "<p>1539 rows × 6 columns</p>\n",
       "</div>"
      ],
      "text/plain": [
       "       price  metrosCubiertos  dormitorios  antiguedad  toilets  valorPorMetro\n",
       "0      85000               35            1          40        1    2428.571429\n",
       "1     288000              140            2          10        2    2057.142857\n",
       "2     330000               75            2           2        3    4400.000000\n",
       "3     215000               95            3          40        2    2263.157895\n",
       "4     295000              165            4          40        4    1787.878788\n",
       "...      ...              ...          ...         ...      ...            ...\n",
       "1858  950000              260            5          35        3    3653.846154\n",
       "1859  150000               42            1           1        2    3571.428571\n",
       "1861  115000              164            3          60        2     701.219512\n",
       "1862  358000              110            3          27        2    3254.545455\n",
       "1863  110000              110            3          57        2    1000.000000\n",
       "\n",
       "[1539 rows x 6 columns]"
      ]
     },
     "execution_count": 93,
     "metadata": {},
     "output_type": "execute_result"
    }
   ],
   "source": [
    "# este seria el nuevo dataset\n",
    "valorPorMetro = dfArgenenprop['price']/dfArgenenprop[\"metrosCubiertos\"]   \n",
    "dfArgenenprop['valorPorMetro'] = valorPorMetro \n",
    "dfArgenenprop  "
   ]
  },
  {
   "cell_type": "code",
   "execution_count": 94,
   "id": "13546d74",
   "metadata": {},
   "outputs": [
    {
     "data": {
      "text/plain": [
       "<matplotlib.collections.PathCollection at 0x1820ebb6310>"
      ]
     },
     "execution_count": 94,
     "metadata": {},
     "output_type": "execute_result"
    },
    {
     "data": {
      "image/png": "[encoded data removed]",
      "text/plain": [
       "<Figure size 432x288 with 1 Axes>"
      ]
     },
     "metadata": {
      "needs_background": "light"
     },
     "output_type": "display_data"
    }
   ],
   "source": [
    "# scatter del dataset antiguo\n",
    "b, m = polyfit(df[\"valorMetro\"],df[\"price_aprox_usd\"], 1)\n",
    "\n",
    "plt.scatter(df[\"valorMetro\"], df[\"price_aprox_usd\"], s=1.9)\n",
    "plt.scatter(df[\"valorMetro\"], b + m * df[\"valorMetro\"], s=1.5, color=\"red\")"
   ]
  },
  {
   "cell_type": "code",
   "execution_count": 95,
   "id": "08d60426",
   "metadata": {
    "scrolled": true
   },
   "outputs": [
    {
     "data": {
      "text/plain": [
       "<matplotlib.collections.PathCollection at 0x1820ecf7700>"
      ]
     },
     "execution_count": 95,
     "metadata": {},
     "output_type": "execute_result"
    },
    {
     "data": {
      "image/png": "[encoded data removed]",
      "text/plain": [
       "<Figure size 432x288 with 1 Axes>"
      ]
     },
     "metadata": {
      "needs_background": "light"
     },
     "output_type": "display_data"
    }
   ],
   "source": [
    "# scatter del dataset nuevo\n",
    "b, m = polyfit(dfArgenenprop[\"valorPorMetro\"], dfArgenenprop[\"price\"], 1)\n",
    "\n",
    "plt.scatter(dfArgenenprop[\"valorPorMetro\"], dfArgenenprop[\"price\"], s=2.5)\n",
    "plt.scatter(dfArgenenprop[\"valorPorMetro\"], b + m * dfArgenenprop[\"valorPorMetro\"], s=1.5, color=\"red\")"
   ]
  },
  {
   "cell_type": "code",
   "execution_count": 96,
   "id": "d9099c86",
   "metadata": {},
   "outputs": [],
   "source": [
    "# vemos que hay algunos valores atipicos, asi que vamos a dar paso a eliminarlos."
   ]
  },
  {
   "cell_type": "code",
   "execution_count": 97,
   "id": "b99caf3c",
   "metadata": {},
   "outputs": [
    {
     "name": "stdout",
     "output_type": "stream",
     "text": [
      "6749.884910486134\n"
     ]
    }
   ],
   "source": [
    "# Hacemos lo mismo pero Calculamos el percentil del 99% de la columan valorMetro\n",
    "q = dfArgenenprop[\"valorPorMetro\"].quantile(0.999)\n",
    "print(q)"
   ]
  },
  {
   "cell_type": "code",
   "execution_count": 98,
   "id": "04e17355",
   "metadata": {},
   "outputs": [
    {
     "data": {
      "image/png": "[encoded data removed]",
      "text/plain": [
       "<Figure size 432x288 with 1 Axes>"
      ]
     },
     "metadata": {
      "needs_background": "light"
     },
     "output_type": "display_data"
    }
   ],
   "source": [
    "# Dibujamos el percentil del 99% de los valores de los metro\n",
    "plt.scatter(dfArgenenprop.index, dfArgenenprop[\"valorPorMetro\"], s=8)\n",
    "plt.hlines(y=q, xmin=0, xmax=2000, colors='red')\n",
    "plt.show()"
   ]
  },
  {
   "cell_type": "code",
   "execution_count": 99,
   "id": "f6e25f98",
   "metadata": {},
   "outputs": [
    {
     "name": "stdout",
     "output_type": "stream",
     "text": [
      "4786.656534954407\n"
     ]
    },
    {
     "data": {
      "text/plain": [
       "2500.000000    15\n",
       "2000.000000    14\n",
       "1875.000000     7\n",
       "2142.857143     7\n",
       "1666.666667     6\n",
       "               ..\n",
       "1296.000000     1\n",
       "2807.692308     1\n",
       "2383.333333     1\n",
       "2385.321101     1\n",
       "3254.545455     1\n",
       "Name: valorPorMetro, Length: 1203, dtype: int64"
      ]
     },
     "execution_count": 99,
     "metadata": {},
     "output_type": "execute_result"
    }
   ],
   "source": [
    "# Mostramos los valorMetro, el umbral (threshold) que marca el percentil del 99%\n",
    "q = dfArgenenprop[\"valorPorMetro\"].quantile(0.99)\n",
    "print(q)\n",
    "\n",
    "# Eliminamos del dataframe los precios que esten por encima del percentil del 99% (criterio de filtrado)\n",
    "dfArgenenprop = dfArgenenprop[dfArgenenprop[\"valorPorMetro\"] < q]\n",
    "\n",
    "# hacemos un values_counts para visualizar los datos que hay en la columna valorMetro\n",
    "dfArgenenprop['valorPorMetro'].value_counts()"
   ]
  },
  {
   "cell_type": "code",
   "execution_count": 100,
   "id": "f5c49f9b",
   "metadata": {},
   "outputs": [
    {
     "name": "stdout",
     "output_type": "stream",
     "text": [
      "7851.315789473658\n"
     ]
    }
   ],
   "source": [
    "# Hacemos lo mismo pero Calculamos el percentil del 95% de la columan valorPorMetro\n",
    "q = df[\"valorMetro\"].quantile(0.95)\n",
    "print(q)"
   ]
  },
  {
   "cell_type": "code",
   "execution_count": 101,
   "id": "e88efefb",
   "metadata": {},
   "outputs": [
    {
     "data": {
      "image/png": "[encoded data removed]",
      "text/plain": [
       "<Figure size 432x288 with 1 Axes>"
      ]
     },
     "metadata": {
      "needs_background": "light"
     },
     "output_type": "display_data"
    }
   ],
   "source": [
    "# Dibujamos el percentil del 95% de los valores de los metro\n",
    "plt.scatter(df.index, df[\"valorMetro\"], s=8)\n",
    "plt.hlines(y=q, xmin=0, xmax=4300, colors='red')\n",
    "plt.show()"
   ]
  },
  {
   "cell_type": "code",
   "execution_count": 102,
   "id": "6ce2f6af",
   "metadata": {},
   "outputs": [
    {
     "name": "stdout",
     "output_type": "stream",
     "text": [
      "7851.315789473658\n"
     ]
    },
    {
     "data": {
      "text/plain": [
       "2000.000000    58\n",
       "2500.000000    44\n",
       "1875.000000    30\n",
       "1000.000000    23\n",
       "1666.666667    22\n",
       "               ..\n",
       "3262.295082     1\n",
       "2403.846154     1\n",
       "2211.267606     1\n",
       "3050.847458     1\n",
       "1808.333333     1\n",
       "Name: valorMetro, Length: 2433, dtype: int64"
      ]
     },
     "execution_count": 102,
     "metadata": {},
     "output_type": "execute_result"
    }
   ],
   "source": [
    "# Mostramos los valorMetro, el umbral (threshold) que marca el percentil del 99%\n",
    "q = df[\"valorMetro\"].quantile(0.95)\n",
    "print(q)\n",
    "\n",
    "# Eliminamos del dataframe los precios que esten por encima del percentil del 99% (criterio de filtrado)\n",
    "df = df[df[\"valorMetro\"] < q]\n",
    "\n",
    "# hacemos un values_counts para visualizar los datos que hay en la columna valorMetro\n",
    "df['valorMetro'].value_counts()"
   ]
  },
  {
   "cell_type": "code",
   "execution_count": 103,
   "id": "66e8c5c1",
   "metadata": {
    "scrolled": true
   },
   "outputs": [
    {
     "data": {
      "image/png": "[encoded data removed]",
      "text/plain": [
       "<Figure size 432x288 with 1 Axes>"
      ]
     },
     "metadata": {
      "needs_background": "light"
     },
     "output_type": "display_data"
    }
   ],
   "source": [
    "# Dibujamos el percentil del 95% de los valores de los metro\n",
    "plt.scatter(df.index, df[\"valorMetro\"], s=8)\n",
    "plt.hlines(y=q, xmin=0, xmax=4300, colors='red')\n",
    "plt.show()"
   ]
  },
  {
   "cell_type": "code",
   "execution_count": 104,
   "id": "0f2642d6",
   "metadata": {},
   "outputs": [
    {
     "data": {
      "text/plain": [
       "<matplotlib.collections.PathCollection at 0x18212a690a0>"
      ]
     },
     "execution_count": 104,
     "metadata": {},
     "output_type": "execute_result"
    },
    {
     "data": {
      "image/png": "[encoded data removed]",
      "text/plain": [
       "<Figure size 432x288 with 1 Axes>"
      ]
     },
     "metadata": {
      "needs_background": "light"
     },
     "output_type": "display_data"
    }
   ],
   "source": [
    "# volvemos hacer un scatter del dataset nuevo\n",
    "b, m = polyfit(dfArgenenprop[\"valorPorMetro\"], dfArgenenprop[\"price\"], 1)\n",
    "\n",
    "plt.scatter(dfArgenenprop[\"valorPorMetro\"], dfArgenenprop[\"price\"], s=2.5)\n",
    "plt.scatter(dfArgenenprop[\"valorPorMetro\"], b + m * dfArgenenprop[\"valorPorMetro\"], s=1.5, color=\"red\")"
   ]
  },
  {
   "cell_type": "code",
   "execution_count": 105,
   "id": "84b478ef",
   "metadata": {},
   "outputs": [
    {
     "data": {
      "text/plain": [
       "<matplotlib.collections.PathCollection at 0x1821334d760>"
      ]
     },
     "execution_count": 105,
     "metadata": {},
     "output_type": "execute_result"
    },
    {
     "data": {
      "image/png": "[encoded data removed]",
      "text/plain": [
       "<Figure size 432x288 with 1 Axes>"
      ]
     },
     "metadata": {
      "needs_background": "light"
     },
     "output_type": "display_data"
    }
   ],
   "source": [
    "# volvemos hacer un scatter del dataset antiguo\n",
    "b, m = polyfit(df[\"valorMetro\"],df[\"price_aprox_usd\"], 1)\n",
    "\n",
    "plt.scatter(df[\"valorMetro\"], df[\"price_aprox_usd\"], s=1.9)\n",
    "plt.scatter(df[\"valorMetro\"], b + m * df[\"valorMetro\"], s=1.5, color=\"red\")"
   ]
  },
  {
   "cell_type": "code",
   "execution_count": 106,
   "id": "fe5b21fe",
   "metadata": {},
   "outputs": [
    {
     "data": {
      "text/html": [
       "<div>\n",
       "<style scoped>\n",
       "    .dataframe tbody tr th:only-of-type {\n",
       "        vertical-align: middle;\n",
       "    }\n",
       "\n",
       "    .dataframe tbody tr th {\n",
       "        vertical-align: top;\n",
       "    }\n",
       "\n",
       "    .dataframe thead th {\n",
       "        text-align: right;\n",
       "    }\n",
       "</style>\n",
       "<table border=\"1\" class=\"dataframe\">\n",
       "  <thead>\n",
       "    <tr style=\"text-align: right;\">\n",
       "      <th></th>\n",
       "      <th>price_aprox_usd</th>\n",
       "      <th>surface_covered_in_m2</th>\n",
       "      <th>floor</th>\n",
       "      <th>rooms</th>\n",
       "      <th>valorMetro</th>\n",
       "    </tr>\n",
       "  </thead>\n",
       "  <tbody>\n",
       "    <tr>\n",
       "      <th>0</th>\n",
       "      <td>50000.0</td>\n",
       "      <td>53.0</td>\n",
       "      <td>1.0</td>\n",
       "      <td>1.0</td>\n",
       "      <td>943.396226</td>\n",
       "    </tr>\n",
       "    <tr>\n",
       "      <th>1</th>\n",
       "      <td>135000.0</td>\n",
       "      <td>95.0</td>\n",
       "      <td>2.0</td>\n",
       "      <td>3.0</td>\n",
       "      <td>1421.052632</td>\n",
       "    </tr>\n",
       "    <tr>\n",
       "      <th>2</th>\n",
       "      <td>75000.0</td>\n",
       "      <td>180.0</td>\n",
       "      <td>1.0</td>\n",
       "      <td>1.0</td>\n",
       "      <td>416.666667</td>\n",
       "    </tr>\n",
       "    <tr>\n",
       "      <th>3</th>\n",
       "      <td>54000.0</td>\n",
       "      <td>30.0</td>\n",
       "      <td>3.0</td>\n",
       "      <td>2.0</td>\n",
       "      <td>1800.000000</td>\n",
       "    </tr>\n",
       "    <tr>\n",
       "      <th>4</th>\n",
       "      <td>185000.0</td>\n",
       "      <td>100.0</td>\n",
       "      <td>1.0</td>\n",
       "      <td>3.0</td>\n",
       "      <td>1850.000000</td>\n",
       "    </tr>\n",
       "    <tr>\n",
       "      <th>...</th>\n",
       "      <td>...</td>\n",
       "      <td>...</td>\n",
       "      <td>...</td>\n",
       "      <td>...</td>\n",
       "      <td>...</td>\n",
       "    </tr>\n",
       "    <tr>\n",
       "      <th>4222</th>\n",
       "      <td>380000.0</td>\n",
       "      <td>162.0</td>\n",
       "      <td>7.0</td>\n",
       "      <td>5.0</td>\n",
       "      <td>2345.679012</td>\n",
       "    </tr>\n",
       "    <tr>\n",
       "      <th>4223</th>\n",
       "      <td>75000.0</td>\n",
       "      <td>23.0</td>\n",
       "      <td>7.0</td>\n",
       "      <td>1.0</td>\n",
       "      <td>3260.869565</td>\n",
       "    </tr>\n",
       "    <tr>\n",
       "      <th>4224</th>\n",
       "      <td>170000.0</td>\n",
       "      <td>63.0</td>\n",
       "      <td>2.0</td>\n",
       "      <td>3.0</td>\n",
       "      <td>2698.412698</td>\n",
       "    </tr>\n",
       "    <tr>\n",
       "      <th>4225</th>\n",
       "      <td>267000.0</td>\n",
       "      <td>82.0</td>\n",
       "      <td>1.0</td>\n",
       "      <td>4.0</td>\n",
       "      <td>3256.097561</td>\n",
       "    </tr>\n",
       "    <tr>\n",
       "      <th>4226</th>\n",
       "      <td>86800.0</td>\n",
       "      <td>48.0</td>\n",
       "      <td>6.0</td>\n",
       "      <td>1.0</td>\n",
       "      <td>1808.333333</td>\n",
       "    </tr>\n",
       "  </tbody>\n",
       "</table>\n",
       "<p>4015 rows × 5 columns</p>\n",
       "</div>"
      ],
      "text/plain": [
       "      price_aprox_usd  surface_covered_in_m2  floor  rooms   valorMetro\n",
       "0             50000.0                   53.0    1.0    1.0   943.396226\n",
       "1            135000.0                   95.0    2.0    3.0  1421.052632\n",
       "2             75000.0                  180.0    1.0    1.0   416.666667\n",
       "3             54000.0                   30.0    3.0    2.0  1800.000000\n",
       "4            185000.0                  100.0    1.0    3.0  1850.000000\n",
       "...               ...                    ...    ...    ...          ...\n",
       "4222         380000.0                  162.0    7.0    5.0  2345.679012\n",
       "4223          75000.0                   23.0    7.0    1.0  3260.869565\n",
       "4224         170000.0                   63.0    2.0    3.0  2698.412698\n",
       "4225         267000.0                   82.0    1.0    4.0  3256.097561\n",
       "4226          86800.0                   48.0    6.0    1.0  1808.333333\n",
       "\n",
       "[4015 rows x 5 columns]"
      ]
     },
     "execution_count": 106,
     "metadata": {},
     "output_type": "execute_result"
    }
   ],
   "source": [
    "df"
   ]
  },
  {
   "cell_type": "code",
   "execution_count": 107,
   "id": "670a5dc3",
   "metadata": {},
   "outputs": [],
   "source": [
    "# vamos a cambiar el nombre de las columnas para poder concatenar o unir los dos dataset\n",
    "df.columns = ['price', 'metrosCubiertos', 'floor', 'dormitorios', 'valorPorMetro']"
   ]
  },
  {
   "cell_type": "code",
   "execution_count": 108,
   "id": "9d4d9058",
   "metadata": {},
   "outputs": [
    {
     "data": {
      "text/html": [
       "<div>\n",
       "<style scoped>\n",
       "    .dataframe tbody tr th:only-of-type {\n",
       "        vertical-align: middle;\n",
       "    }\n",
       "\n",
       "    .dataframe tbody tr th {\n",
       "        vertical-align: top;\n",
       "    }\n",
       "\n",
       "    .dataframe thead th {\n",
       "        text-align: right;\n",
       "    }\n",
       "</style>\n",
       "<table border=\"1\" class=\"dataframe\">\n",
       "  <thead>\n",
       "    <tr style=\"text-align: right;\">\n",
       "      <th></th>\n",
       "      <th>price</th>\n",
       "      <th>metrosCubiertos</th>\n",
       "      <th>floor</th>\n",
       "      <th>dormitorios</th>\n",
       "      <th>valorPorMetro</th>\n",
       "    </tr>\n",
       "  </thead>\n",
       "  <tbody>\n",
       "    <tr>\n",
       "      <th>0</th>\n",
       "      <td>50000.0</td>\n",
       "      <td>53.0</td>\n",
       "      <td>1.0</td>\n",
       "      <td>1.0</td>\n",
       "      <td>943.396226</td>\n",
       "    </tr>\n",
       "    <tr>\n",
       "      <th>1</th>\n",
       "      <td>135000.0</td>\n",
       "      <td>95.0</td>\n",
       "      <td>2.0</td>\n",
       "      <td>3.0</td>\n",
       "      <td>1421.052632</td>\n",
       "    </tr>\n",
       "    <tr>\n",
       "      <th>2</th>\n",
       "      <td>75000.0</td>\n",
       "      <td>180.0</td>\n",
       "      <td>1.0</td>\n",
       "      <td>1.0</td>\n",
       "      <td>416.666667</td>\n",
       "    </tr>\n",
       "    <tr>\n",
       "      <th>3</th>\n",
       "      <td>54000.0</td>\n",
       "      <td>30.0</td>\n",
       "      <td>3.0</td>\n",
       "      <td>2.0</td>\n",
       "      <td>1800.000000</td>\n",
       "    </tr>\n",
       "    <tr>\n",
       "      <th>4</th>\n",
       "      <td>185000.0</td>\n",
       "      <td>100.0</td>\n",
       "      <td>1.0</td>\n",
       "      <td>3.0</td>\n",
       "      <td>1850.000000</td>\n",
       "    </tr>\n",
       "    <tr>\n",
       "      <th>...</th>\n",
       "      <td>...</td>\n",
       "      <td>...</td>\n",
       "      <td>...</td>\n",
       "      <td>...</td>\n",
       "      <td>...</td>\n",
       "    </tr>\n",
       "    <tr>\n",
       "      <th>4222</th>\n",
       "      <td>380000.0</td>\n",
       "      <td>162.0</td>\n",
       "      <td>7.0</td>\n",
       "      <td>5.0</td>\n",
       "      <td>2345.679012</td>\n",
       "    </tr>\n",
       "    <tr>\n",
       "      <th>4223</th>\n",
       "      <td>75000.0</td>\n",
       "      <td>23.0</td>\n",
       "      <td>7.0</td>\n",
       "      <td>1.0</td>\n",
       "      <td>3260.869565</td>\n",
       "    </tr>\n",
       "    <tr>\n",
       "      <th>4224</th>\n",
       "      <td>170000.0</td>\n",
       "      <td>63.0</td>\n",
       "      <td>2.0</td>\n",
       "      <td>3.0</td>\n",
       "      <td>2698.412698</td>\n",
       "    </tr>\n",
       "    <tr>\n",
       "      <th>4225</th>\n",
       "      <td>267000.0</td>\n",
       "      <td>82.0</td>\n",
       "      <td>1.0</td>\n",
       "      <td>4.0</td>\n",
       "      <td>3256.097561</td>\n",
       "    </tr>\n",
       "    <tr>\n",
       "      <th>4226</th>\n",
       "      <td>86800.0</td>\n",
       "      <td>48.0</td>\n",
       "      <td>6.0</td>\n",
       "      <td>1.0</td>\n",
       "      <td>1808.333333</td>\n",
       "    </tr>\n",
       "  </tbody>\n",
       "</table>\n",
       "<p>4015 rows × 5 columns</p>\n",
       "</div>"
      ],
      "text/plain": [
       "         price  metrosCubiertos  floor  dormitorios  valorPorMetro\n",
       "0      50000.0             53.0    1.0          1.0     943.396226\n",
       "1     135000.0             95.0    2.0          3.0    1421.052632\n",
       "2      75000.0            180.0    1.0          1.0     416.666667\n",
       "3      54000.0             30.0    3.0          2.0    1800.000000\n",
       "4     185000.0            100.0    1.0          3.0    1850.000000\n",
       "...        ...              ...    ...          ...            ...\n",
       "4222  380000.0            162.0    7.0          5.0    2345.679012\n",
       "4223   75000.0             23.0    7.0          1.0    3260.869565\n",
       "4224  170000.0             63.0    2.0          3.0    2698.412698\n",
       "4225  267000.0             82.0    1.0          4.0    3256.097561\n",
       "4226   86800.0             48.0    6.0          1.0    1808.333333\n",
       "\n",
       "[4015 rows x 5 columns]"
      ]
     },
     "execution_count": 108,
     "metadata": {},
     "output_type": "execute_result"
    }
   ],
   "source": [
    "df"
   ]
  },
  {
   "cell_type": "code",
   "execution_count": 109,
   "id": "bcdfdb9c",
   "metadata": {
    "scrolled": true
   },
   "outputs": [
    {
     "data": {
      "text/html": [
       "<div>\n",
       "<style scoped>\n",
       "    .dataframe tbody tr th:only-of-type {\n",
       "        vertical-align: middle;\n",
       "    }\n",
       "\n",
       "    .dataframe tbody tr th {\n",
       "        vertical-align: top;\n",
       "    }\n",
       "\n",
       "    .dataframe thead th {\n",
       "        text-align: right;\n",
       "    }\n",
       "</style>\n",
       "<table border=\"1\" class=\"dataframe\">\n",
       "  <thead>\n",
       "    <tr style=\"text-align: right;\">\n",
       "      <th></th>\n",
       "      <th>price</th>\n",
       "      <th>metrosCubiertos</th>\n",
       "      <th>dormitorios</th>\n",
       "      <th>antiguedad</th>\n",
       "      <th>toilets</th>\n",
       "      <th>valorPorMetro</th>\n",
       "      <th>floor</th>\n",
       "    </tr>\n",
       "  </thead>\n",
       "  <tbody>\n",
       "    <tr>\n",
       "      <th>0</th>\n",
       "      <td>85000.0</td>\n",
       "      <td>35.0</td>\n",
       "      <td>1.0</td>\n",
       "      <td>40.0</td>\n",
       "      <td>1.0</td>\n",
       "      <td>2428.571429</td>\n",
       "      <td>NaN</td>\n",
       "    </tr>\n",
       "    <tr>\n",
       "      <th>1</th>\n",
       "      <td>288000.0</td>\n",
       "      <td>140.0</td>\n",
       "      <td>2.0</td>\n",
       "      <td>10.0</td>\n",
       "      <td>2.0</td>\n",
       "      <td>2057.142857</td>\n",
       "      <td>NaN</td>\n",
       "    </tr>\n",
       "    <tr>\n",
       "      <th>2</th>\n",
       "      <td>330000.0</td>\n",
       "      <td>75.0</td>\n",
       "      <td>2.0</td>\n",
       "      <td>2.0</td>\n",
       "      <td>3.0</td>\n",
       "      <td>4400.000000</td>\n",
       "      <td>NaN</td>\n",
       "    </tr>\n",
       "    <tr>\n",
       "      <th>3</th>\n",
       "      <td>215000.0</td>\n",
       "      <td>95.0</td>\n",
       "      <td>3.0</td>\n",
       "      <td>40.0</td>\n",
       "      <td>2.0</td>\n",
       "      <td>2263.157895</td>\n",
       "      <td>NaN</td>\n",
       "    </tr>\n",
       "    <tr>\n",
       "      <th>4</th>\n",
       "      <td>295000.0</td>\n",
       "      <td>165.0</td>\n",
       "      <td>4.0</td>\n",
       "      <td>40.0</td>\n",
       "      <td>4.0</td>\n",
       "      <td>1787.878788</td>\n",
       "      <td>NaN</td>\n",
       "    </tr>\n",
       "    <tr>\n",
       "      <th>...</th>\n",
       "      <td>...</td>\n",
       "      <td>...</td>\n",
       "      <td>...</td>\n",
       "      <td>...</td>\n",
       "      <td>...</td>\n",
       "      <td>...</td>\n",
       "      <td>...</td>\n",
       "    </tr>\n",
       "    <tr>\n",
       "      <th>5533</th>\n",
       "      <td>380000.0</td>\n",
       "      <td>162.0</td>\n",
       "      <td>5.0</td>\n",
       "      <td>NaN</td>\n",
       "      <td>NaN</td>\n",
       "      <td>2345.679012</td>\n",
       "      <td>7.0</td>\n",
       "    </tr>\n",
       "    <tr>\n",
       "      <th>5534</th>\n",
       "      <td>75000.0</td>\n",
       "      <td>23.0</td>\n",
       "      <td>1.0</td>\n",
       "      <td>NaN</td>\n",
       "      <td>NaN</td>\n",
       "      <td>3260.869565</td>\n",
       "      <td>7.0</td>\n",
       "    </tr>\n",
       "    <tr>\n",
       "      <th>5535</th>\n",
       "      <td>170000.0</td>\n",
       "      <td>63.0</td>\n",
       "      <td>3.0</td>\n",
       "      <td>NaN</td>\n",
       "      <td>NaN</td>\n",
       "      <td>2698.412698</td>\n",
       "      <td>2.0</td>\n",
       "    </tr>\n",
       "    <tr>\n",
       "      <th>5536</th>\n",
       "      <td>267000.0</td>\n",
       "      <td>82.0</td>\n",
       "      <td>4.0</td>\n",
       "      <td>NaN</td>\n",
       "      <td>NaN</td>\n",
       "      <td>3256.097561</td>\n",
       "      <td>1.0</td>\n",
       "    </tr>\n",
       "    <tr>\n",
       "      <th>5537</th>\n",
       "      <td>86800.0</td>\n",
       "      <td>48.0</td>\n",
       "      <td>1.0</td>\n",
       "      <td>NaN</td>\n",
       "      <td>NaN</td>\n",
       "      <td>1808.333333</td>\n",
       "      <td>6.0</td>\n",
       "    </tr>\n",
       "  </tbody>\n",
       "</table>\n",
       "<p>5538 rows × 7 columns</p>\n",
       "</div>"
      ],
      "text/plain": [
       "         price  metrosCubiertos  dormitorios  antiguedad  toilets  \\\n",
       "0      85000.0             35.0          1.0        40.0      1.0   \n",
       "1     288000.0            140.0          2.0        10.0      2.0   \n",
       "2     330000.0             75.0          2.0         2.0      3.0   \n",
       "3     215000.0             95.0          3.0        40.0      2.0   \n",
       "4     295000.0            165.0          4.0        40.0      4.0   \n",
       "...        ...              ...          ...         ...      ...   \n",
       "5533  380000.0            162.0          5.0         NaN      NaN   \n",
       "5534   75000.0             23.0          1.0         NaN      NaN   \n",
       "5535  170000.0             63.0          3.0         NaN      NaN   \n",
       "5536  267000.0             82.0          4.0         NaN      NaN   \n",
       "5537   86800.0             48.0          1.0         NaN      NaN   \n",
       "\n",
       "      valorPorMetro  floor  \n",
       "0       2428.571429    NaN  \n",
       "1       2057.142857    NaN  \n",
       "2       4400.000000    NaN  \n",
       "3       2263.157895    NaN  \n",
       "4       1787.878788    NaN  \n",
       "...             ...    ...  \n",
       "5533    2345.679012    7.0  \n",
       "5534    3260.869565    7.0  \n",
       "5535    2698.412698    2.0  \n",
       "5536    3256.097561    1.0  \n",
       "5537    1808.333333    6.0  \n",
       "\n",
       "[5538 rows x 7 columns]"
      ]
     },
     "execution_count": 109,
     "metadata": {},
     "output_type": "execute_result"
    }
   ],
   "source": [
    "# CONCATENAMOS LOS DOS DATAFRAME\n",
    "dff = pd.concat([dfArgenenprop, df], ignore_index=True)\n",
    "dff"
   ]
  },
  {
   "cell_type": "code",
   "execution_count": 110,
   "id": "ad394a5b",
   "metadata": {},
   "outputs": [
    {
     "name": "stdout",
     "output_type": "stream",
     "text": [
      "[40858.17971919]\n",
      "[[1572.93478657]]\n"
     ]
    }
   ],
   "source": [
    "# vamos hacer una regresion ya con los dos dataset unidos\n",
    "# Creamos X e y con el dataframe \n",
    "X3 = dff[[\"metrosCubiertos\"]]\n",
    "y3 = dff[[\"price\"]]\n",
    "# Instanciamos el modelo\n",
    "linreg = LinearRegression()\n",
    "# Entrenamos el modelo \n",
    "linreg.fit(X3, y3)\n",
    "# Imprimimos coeficientes\n",
    "print (linreg.intercept_)\n",
    "print (linreg.coef_)"
   ]
  },
  {
   "cell_type": "markdown",
   "id": "675834e2",
   "metadata": {},
   "source": [
    "Ahora vamos hacer una funcion que nos prediga el precio de un inmueble"
   ]
  },
  {
   "cell_type": "code",
   "execution_count": 111,
   "id": "71dd545e",
   "metadata": {},
   "outputs": [],
   "source": [
    "# creamos una funcion para predecir el precio y si el inmueble es de lujo o NO\n",
    "def prediccion(n):\n",
    "    slope = linreg.coef_[0][0]\n",
    "    intercept = linreg.intercept_[0]\n",
    "    precio = intercept + slope * n\n",
    "    \n",
    "    #if precio > 250000:\n",
    "        #print(\"dependiendo de la zona sabremos si su piso es o no de lujo\")\n",
    "        #if n < 150:\n",
    "            #print(\"su piso SI es de LUJO\")\n",
    "        #else:\n",
    "            #print(\"Lo sentimos NO es de lujo\")\n",
    "    #else:\n",
    "        #print(\"NO es de LUJO\")\n",
    "    #print(precio)\n",
    "    \n",
    "    return(precio)"
   ]
  },
  {
   "cell_type": "code",
   "execution_count": 112,
   "id": "ea4666d8",
   "metadata": {},
   "outputs": [
    {
     "data": {
      "text/plain": [
       "95910.89724912234"
      ]
     },
     "execution_count": 112,
     "metadata": {},
     "output_type": "execute_result"
    }
   ],
   "source": [
    "# generamos con las 10 primeras filas de un dataset para comparar si el precio se acerca o no al originalA\n",
    "prediccionPrecio1 = prediccion(dff.loc[0].metrosCubiertos)\n",
    "prediccionPrecio1"
   ]
  },
  {
   "cell_type": "code",
   "execution_count": 113,
   "id": "0377afb5",
   "metadata": {},
   "outputs": [
    {
     "name": "stdout",
     "output_type": "stream",
     "text": [
      "[95910.89724912234]\n"
     ]
    }
   ],
   "source": [
    "# generamos con las 10 primeras filas de un dataset para comparar si el precio se acerca o no al originalA\n",
    "listaError = []\n",
    "prediccionPrecio1 = prediccion(dff.loc[0].metrosCubiertos)\n",
    "listaError.append(prediccionPrecio1)\n",
    "print(listaError)"
   ]
  },
  {
   "cell_type": "code",
   "execution_count": 114,
   "id": "75e7096e",
   "metadata": {},
   "outputs": [
    {
     "name": "stdout",
     "output_type": "stream",
     "text": [
      "[95910.89724912234, 261069.04983891282]\n"
     ]
    }
   ],
   "source": [
    "prediccionPrecio2 = prediccion(dff.loc[1].metrosCubiertos)\n",
    "listaError.append(prediccionPrecio2)\n",
    "print(listaError)"
   ]
  },
  {
   "cell_type": "code",
   "execution_count": 115,
   "id": "5a086133",
   "metadata": {},
   "outputs": [
    {
     "name": "stdout",
     "output_type": "stream",
     "text": [
      "[95910.89724912234, 261069.04983891282, 158828.28871189966]\n"
     ]
    }
   ],
   "source": [
    "prediccionPrecio3 = prediccion(dff.loc[2].metrosCubiertos)\n",
    "listaError.append(prediccionPrecio3)\n",
    "print(listaError)"
   ]
  },
  {
   "cell_type": "code",
   "execution_count": 116,
   "id": "4aed9aa2",
   "metadata": {},
   "outputs": [
    {
     "name": "stdout",
     "output_type": "stream",
     "text": [
      "[95910.89724912234, 261069.04983891282, 158828.28871189966, 190286.98444328833]\n"
     ]
    }
   ],
   "source": [
    "prediccionPrecio4 = prediccion(dff.loc[3].metrosCubiertos)\n",
    "listaError.append(prediccionPrecio4)\n",
    "print(listaError)"
   ]
  },
  {
   "cell_type": "code",
   "execution_count": 117,
   "id": "f0b9b7a2",
   "metadata": {},
   "outputs": [
    {
     "name": "stdout",
     "output_type": "stream",
     "text": [
      "[95910.89724912234, 261069.04983891282, 158828.28871189966, 190286.98444328833, 300392.41950314865]\n"
     ]
    }
   ],
   "source": [
    "prediccionPrecio5 = prediccion(dff.loc[4].metrosCubiertos)\n",
    "listaError.append(prediccionPrecio5)\n",
    "print(listaError)"
   ]
  },
  {
   "cell_type": "code",
   "execution_count": 118,
   "id": "2199cf38",
   "metadata": {},
   "outputs": [
    {
     "name": "stdout",
     "output_type": "stream",
     "text": [
      "[95910.89724912234, 261069.04983891282, 158828.28871189966, 190286.98444328833, 300392.41950314865, 261069.04983891282]\n"
     ]
    }
   ],
   "source": [
    "prediccionPrecio6 = prediccion(dff.loc[5].metrosCubiertos)\n",
    "listaError.append(prediccionPrecio6)\n",
    "print(listaError)"
   ]
  },
  {
   "cell_type": "code",
   "execution_count": 119,
   "id": "bfcc5dfb",
   "metadata": {},
   "outputs": [
    {
     "name": "stdout",
     "output_type": "stream",
     "text": [
      "[95910.89724912234, 261069.04983891282, 158828.28871189966, 190286.98444328833, 300392.41950314865, 261069.04983891282, 276798.3977046071]\n"
     ]
    }
   ],
   "source": [
    "prediccionPrecio7 = prediccion(dff.loc[6].metrosCubiertos)\n",
    "listaError.append(prediccionPrecio7)\n",
    "print(listaError)"
   ]
  },
  {
   "cell_type": "code",
   "execution_count": 120,
   "id": "85b76d11",
   "metadata": {},
   "outputs": [
    {
     "name": "stdout",
     "output_type": "stream",
     "text": [
      "[95910.89724912234, 261069.04983891282, 158828.28871189966, 190286.98444328833, 300392.41950314865, 261069.04983891282, 276798.3977046071, 143098.94084620534]\n"
     ]
    }
   ],
   "source": [
    "prediccionPrecio8 = prediccion(dff.loc[7].metrosCubiertos)\n",
    "listaError.append(prediccionPrecio8)\n",
    "print(listaError)"
   ]
  },
  {
   "cell_type": "code",
   "execution_count": 121,
   "id": "054f3717",
   "metadata": {},
   "outputs": [
    {
     "name": "stdout",
     "output_type": "stream",
     "text": [
      "[95910.89724912234, 261069.04983891282, 158828.28871189966, 190286.98444328833, 300392.41950314865, 261069.04983891282, 276798.3977046071, 143098.94084620534, 119504.91904766383]\n"
     ]
    }
   ],
   "source": [
    "prediccionPrecio9 = prediccion(dff.loc[8].metrosCubiertos)\n",
    "listaError.append(prediccionPrecio9)\n",
    "print(listaError)"
   ]
  },
  {
   "cell_type": "code",
   "execution_count": 122,
   "id": "99560f99",
   "metadata": {},
   "outputs": [
    {
     "name": "stdout",
     "output_type": "stream",
     "text": [
      "[95910.89724912234, 261069.04983891282, 158828.28871189966, 190286.98444328833, 300392.41950314865, 261069.04983891282, 276798.3977046071, 143098.94084620534, 119504.91904766383, 207589.2670955521]\n"
     ]
    }
   ],
   "source": [
    "prediccionPrecio10 = prediccion(dff.loc[9].metrosCubiertos)\n",
    "listaError.append(prediccionPrecio10)\n",
    "print(listaError)"
   ]
  },
  {
   "cell_type": "code",
   "execution_count": 123,
   "id": "531afcae",
   "metadata": {},
   "outputs": [],
   "source": [
    "#dfError = pd.DataFrame(listaError) "
   ]
  },
  {
   "cell_type": "code",
   "execution_count": 124,
   "id": "abed4e67",
   "metadata": {
    "scrolled": true
   },
   "outputs": [
    {
     "name": "stdout",
     "output_type": "stream",
     "text": [
      "         price  metrosCubiertos  dormitorios  antiguedad  toilets  \\\n",
      "0      85000.0             35.0          1.0        40.0      1.0   \n",
      "1     288000.0            140.0          2.0        10.0      2.0   \n",
      "2     330000.0             75.0          2.0         2.0      3.0   \n",
      "3     215000.0             95.0          3.0        40.0      2.0   \n",
      "4     295000.0            165.0          4.0        40.0      4.0   \n",
      "...        ...              ...          ...         ...      ...   \n",
      "5533  380000.0            162.0          5.0         NaN      NaN   \n",
      "5534   75000.0             23.0          1.0         NaN      NaN   \n",
      "5535  170000.0             63.0          3.0         NaN      NaN   \n",
      "5536  267000.0             82.0          4.0         NaN      NaN   \n",
      "5537   86800.0             48.0          1.0         NaN      NaN   \n",
      "\n",
      "      valorPorMetro  floor  valorPredicho  \n",
      "0       2428.571429    NaN   95910.897249  \n",
      "1       2057.142857    NaN  261069.049839  \n",
      "2       4400.000000    NaN  158828.288712  \n",
      "3       2263.157895    NaN  190286.984443  \n",
      "4       1787.878788    NaN  300392.419503  \n",
      "...             ...    ...            ...  \n",
      "5533    2345.679012    7.0  295673.615143  \n",
      "5534    3260.869565    7.0   77035.679810  \n",
      "5535    2698.412698    2.0  139953.071273  \n",
      "5536    3256.097561    1.0  169838.832218  \n",
      "5537    1808.333333    6.0  116359.049475  \n",
      "\n",
      "[5538 rows x 8 columns]\n"
     ]
    }
   ],
   "source": [
    "# hacemos con la funcion MAP() lambda, a toda la columna de metrosCubiertos la prediccion del precio.\n",
    "dff[\"valorPredicho\"] = dff['metrosCubiertos'].map(lambda x: prediccion(x))\n",
    "print(dff)"
   ]
  },
  {
   "cell_type": "code",
   "execution_count": 125,
   "id": "d4ecbf37",
   "metadata": {},
   "outputs": [
    {
     "data": {
      "text/html": [
       "<div>\n",
       "<style scoped>\n",
       "    .dataframe tbody tr th:only-of-type {\n",
       "        vertical-align: middle;\n",
       "    }\n",
       "\n",
       "    .dataframe tbody tr th {\n",
       "        vertical-align: top;\n",
       "    }\n",
       "\n",
       "    .dataframe thead th {\n",
       "        text-align: right;\n",
       "    }\n",
       "</style>\n",
       "<table border=\"1\" class=\"dataframe\">\n",
       "  <thead>\n",
       "    <tr style=\"text-align: right;\">\n",
       "      <th></th>\n",
       "      <th>price</th>\n",
       "      <th>metrosCubiertos</th>\n",
       "      <th>dormitorios</th>\n",
       "      <th>antiguedad</th>\n",
       "      <th>toilets</th>\n",
       "      <th>valorPorMetro</th>\n",
       "      <th>floor</th>\n",
       "      <th>valorPredicho</th>\n",
       "      <th>ErrorDelValor</th>\n",
       "    </tr>\n",
       "  </thead>\n",
       "  <tbody>\n",
       "    <tr>\n",
       "      <th>0</th>\n",
       "      <td>85000.0</td>\n",
       "      <td>35.0</td>\n",
       "      <td>1.0</td>\n",
       "      <td>40.0</td>\n",
       "      <td>1.0</td>\n",
       "      <td>2428.571429</td>\n",
       "      <td>NaN</td>\n",
       "      <td>95910.897249</td>\n",
       "      <td>-10910.897249</td>\n",
       "    </tr>\n",
       "    <tr>\n",
       "      <th>1</th>\n",
       "      <td>288000.0</td>\n",
       "      <td>140.0</td>\n",
       "      <td>2.0</td>\n",
       "      <td>10.0</td>\n",
       "      <td>2.0</td>\n",
       "      <td>2057.142857</td>\n",
       "      <td>NaN</td>\n",
       "      <td>261069.049839</td>\n",
       "      <td>26930.950161</td>\n",
       "    </tr>\n",
       "    <tr>\n",
       "      <th>2</th>\n",
       "      <td>330000.0</td>\n",
       "      <td>75.0</td>\n",
       "      <td>2.0</td>\n",
       "      <td>2.0</td>\n",
       "      <td>3.0</td>\n",
       "      <td>4400.000000</td>\n",
       "      <td>NaN</td>\n",
       "      <td>158828.288712</td>\n",
       "      <td>171171.711288</td>\n",
       "    </tr>\n",
       "    <tr>\n",
       "      <th>3</th>\n",
       "      <td>215000.0</td>\n",
       "      <td>95.0</td>\n",
       "      <td>3.0</td>\n",
       "      <td>40.0</td>\n",
       "      <td>2.0</td>\n",
       "      <td>2263.157895</td>\n",
       "      <td>NaN</td>\n",
       "      <td>190286.984443</td>\n",
       "      <td>24713.015557</td>\n",
       "    </tr>\n",
       "    <tr>\n",
       "      <th>4</th>\n",
       "      <td>295000.0</td>\n",
       "      <td>165.0</td>\n",
       "      <td>4.0</td>\n",
       "      <td>40.0</td>\n",
       "      <td>4.0</td>\n",
       "      <td>1787.878788</td>\n",
       "      <td>NaN</td>\n",
       "      <td>300392.419503</td>\n",
       "      <td>-5392.419503</td>\n",
       "    </tr>\n",
       "    <tr>\n",
       "      <th>...</th>\n",
       "      <td>...</td>\n",
       "      <td>...</td>\n",
       "      <td>...</td>\n",
       "      <td>...</td>\n",
       "      <td>...</td>\n",
       "      <td>...</td>\n",
       "      <td>...</td>\n",
       "      <td>...</td>\n",
       "      <td>...</td>\n",
       "    </tr>\n",
       "    <tr>\n",
       "      <th>5533</th>\n",
       "      <td>380000.0</td>\n",
       "      <td>162.0</td>\n",
       "      <td>5.0</td>\n",
       "      <td>NaN</td>\n",
       "      <td>NaN</td>\n",
       "      <td>2345.679012</td>\n",
       "      <td>7.0</td>\n",
       "      <td>295673.615143</td>\n",
       "      <td>84326.384857</td>\n",
       "    </tr>\n",
       "    <tr>\n",
       "      <th>5534</th>\n",
       "      <td>75000.0</td>\n",
       "      <td>23.0</td>\n",
       "      <td>1.0</td>\n",
       "      <td>NaN</td>\n",
       "      <td>NaN</td>\n",
       "      <td>3260.869565</td>\n",
       "      <td>7.0</td>\n",
       "      <td>77035.679810</td>\n",
       "      <td>-2035.679810</td>\n",
       "    </tr>\n",
       "    <tr>\n",
       "      <th>5535</th>\n",
       "      <td>170000.0</td>\n",
       "      <td>63.0</td>\n",
       "      <td>3.0</td>\n",
       "      <td>NaN</td>\n",
       "      <td>NaN</td>\n",
       "      <td>2698.412698</td>\n",
       "      <td>2.0</td>\n",
       "      <td>139953.071273</td>\n",
       "      <td>30046.928727</td>\n",
       "    </tr>\n",
       "    <tr>\n",
       "      <th>5536</th>\n",
       "      <td>267000.0</td>\n",
       "      <td>82.0</td>\n",
       "      <td>4.0</td>\n",
       "      <td>NaN</td>\n",
       "      <td>NaN</td>\n",
       "      <td>3256.097561</td>\n",
       "      <td>1.0</td>\n",
       "      <td>169838.832218</td>\n",
       "      <td>97161.167782</td>\n",
       "    </tr>\n",
       "    <tr>\n",
       "      <th>5537</th>\n",
       "      <td>86800.0</td>\n",
       "      <td>48.0</td>\n",
       "      <td>1.0</td>\n",
       "      <td>NaN</td>\n",
       "      <td>NaN</td>\n",
       "      <td>1808.333333</td>\n",
       "      <td>6.0</td>\n",
       "      <td>116359.049475</td>\n",
       "      <td>-29559.049475</td>\n",
       "    </tr>\n",
       "  </tbody>\n",
       "</table>\n",
       "<p>5538 rows × 9 columns</p>\n",
       "</div>"
      ],
      "text/plain": [
       "         price  metrosCubiertos  dormitorios  antiguedad  toilets  \\\n",
       "0      85000.0             35.0          1.0        40.0      1.0   \n",
       "1     288000.0            140.0          2.0        10.0      2.0   \n",
       "2     330000.0             75.0          2.0         2.0      3.0   \n",
       "3     215000.0             95.0          3.0        40.0      2.0   \n",
       "4     295000.0            165.0          4.0        40.0      4.0   \n",
       "...        ...              ...          ...         ...      ...   \n",
       "5533  380000.0            162.0          5.0         NaN      NaN   \n",
       "5534   75000.0             23.0          1.0         NaN      NaN   \n",
       "5535  170000.0             63.0          3.0         NaN      NaN   \n",
       "5536  267000.0             82.0          4.0         NaN      NaN   \n",
       "5537   86800.0             48.0          1.0         NaN      NaN   \n",
       "\n",
       "      valorPorMetro  floor  valorPredicho  ErrorDelValor  \n",
       "0       2428.571429    NaN   95910.897249  -10910.897249  \n",
       "1       2057.142857    NaN  261069.049839   26930.950161  \n",
       "2       4400.000000    NaN  158828.288712  171171.711288  \n",
       "3       2263.157895    NaN  190286.984443   24713.015557  \n",
       "4       1787.878788    NaN  300392.419503   -5392.419503  \n",
       "...             ...    ...            ...            ...  \n",
       "5533    2345.679012    7.0  295673.615143   84326.384857  \n",
       "5534    3260.869565    7.0   77035.679810   -2035.679810  \n",
       "5535    2698.412698    2.0  139953.071273   30046.928727  \n",
       "5536    3256.097561    1.0  169838.832218   97161.167782  \n",
       "5537    1808.333333    6.0  116359.049475  -29559.049475  \n",
       "\n",
       "[5538 rows x 9 columns]"
      ]
     },
     "execution_count": 125,
     "metadata": {},
     "output_type": "execute_result"
    }
   ],
   "source": [
    "# calculamos la diferencia entre el valor original y el valor que nos da la funcion de prediccion, creamos una columna nueva\n",
    "dff[\"ErrorDelValor\"] = dff[\"price\"] - dff[\"valorPredicho\"]\n",
    "dff"
   ]
  },
  {
   "cell_type": "code",
   "execution_count": 126,
   "id": "98579c4b",
   "metadata": {},
   "outputs": [
    {
     "data": {
      "text/html": [
       "<div>\n",
       "<style scoped>\n",
       "    .dataframe tbody tr th:only-of-type {\n",
       "        vertical-align: middle;\n",
       "    }\n",
       "\n",
       "    .dataframe tbody tr th {\n",
       "        vertical-align: top;\n",
       "    }\n",
       "\n",
       "    .dataframe thead th {\n",
       "        text-align: right;\n",
       "    }\n",
       "</style>\n",
       "<table border=\"1\" class=\"dataframe\">\n",
       "  <thead>\n",
       "    <tr style=\"text-align: right;\">\n",
       "      <th></th>\n",
       "      <th>price</th>\n",
       "      <th>metrosCubiertos</th>\n",
       "      <th>dormitorios</th>\n",
       "      <th>antiguedad</th>\n",
       "      <th>toilets</th>\n",
       "      <th>valorPorMetro</th>\n",
       "      <th>floor</th>\n",
       "      <th>valorPredicho</th>\n",
       "      <th>ErrorDelValor</th>\n",
       "      <th>R2</th>\n",
       "    </tr>\n",
       "  </thead>\n",
       "  <tbody>\n",
       "    <tr>\n",
       "      <th>0</th>\n",
       "      <td>85000.0</td>\n",
       "      <td>35.0</td>\n",
       "      <td>1.0</td>\n",
       "      <td>40.0</td>\n",
       "      <td>1.0</td>\n",
       "      <td>2428.571429</td>\n",
       "      <td>NaN</td>\n",
       "      <td>95910.897249</td>\n",
       "      <td>-10910.897249</td>\n",
       "      <td>-0.128363</td>\n",
       "    </tr>\n",
       "    <tr>\n",
       "      <th>1</th>\n",
       "      <td>288000.0</td>\n",
       "      <td>140.0</td>\n",
       "      <td>2.0</td>\n",
       "      <td>10.0</td>\n",
       "      <td>2.0</td>\n",
       "      <td>2057.142857</td>\n",
       "      <td>NaN</td>\n",
       "      <td>261069.049839</td>\n",
       "      <td>26930.950161</td>\n",
       "      <td>0.093510</td>\n",
       "    </tr>\n",
       "    <tr>\n",
       "      <th>2</th>\n",
       "      <td>330000.0</td>\n",
       "      <td>75.0</td>\n",
       "      <td>2.0</td>\n",
       "      <td>2.0</td>\n",
       "      <td>3.0</td>\n",
       "      <td>4400.000000</td>\n",
       "      <td>NaN</td>\n",
       "      <td>158828.288712</td>\n",
       "      <td>171171.711288</td>\n",
       "      <td>0.518702</td>\n",
       "    </tr>\n",
       "    <tr>\n",
       "      <th>3</th>\n",
       "      <td>215000.0</td>\n",
       "      <td>95.0</td>\n",
       "      <td>3.0</td>\n",
       "      <td>40.0</td>\n",
       "      <td>2.0</td>\n",
       "      <td>2263.157895</td>\n",
       "      <td>NaN</td>\n",
       "      <td>190286.984443</td>\n",
       "      <td>24713.015557</td>\n",
       "      <td>0.114944</td>\n",
       "    </tr>\n",
       "    <tr>\n",
       "      <th>4</th>\n",
       "      <td>295000.0</td>\n",
       "      <td>165.0</td>\n",
       "      <td>4.0</td>\n",
       "      <td>40.0</td>\n",
       "      <td>4.0</td>\n",
       "      <td>1787.878788</td>\n",
       "      <td>NaN</td>\n",
       "      <td>300392.419503</td>\n",
       "      <td>-5392.419503</td>\n",
       "      <td>-0.018279</td>\n",
       "    </tr>\n",
       "    <tr>\n",
       "      <th>...</th>\n",
       "      <td>...</td>\n",
       "      <td>...</td>\n",
       "      <td>...</td>\n",
       "      <td>...</td>\n",
       "      <td>...</td>\n",
       "      <td>...</td>\n",
       "      <td>...</td>\n",
       "      <td>...</td>\n",
       "      <td>...</td>\n",
       "      <td>...</td>\n",
       "    </tr>\n",
       "    <tr>\n",
       "      <th>5533</th>\n",
       "      <td>380000.0</td>\n",
       "      <td>162.0</td>\n",
       "      <td>5.0</td>\n",
       "      <td>NaN</td>\n",
       "      <td>NaN</td>\n",
       "      <td>2345.679012</td>\n",
       "      <td>7.0</td>\n",
       "      <td>295673.615143</td>\n",
       "      <td>84326.384857</td>\n",
       "      <td>0.221912</td>\n",
       "    </tr>\n",
       "    <tr>\n",
       "      <th>5534</th>\n",
       "      <td>75000.0</td>\n",
       "      <td>23.0</td>\n",
       "      <td>1.0</td>\n",
       "      <td>NaN</td>\n",
       "      <td>NaN</td>\n",
       "      <td>3260.869565</td>\n",
       "      <td>7.0</td>\n",
       "      <td>77035.679810</td>\n",
       "      <td>-2035.679810</td>\n",
       "      <td>-0.027142</td>\n",
       "    </tr>\n",
       "    <tr>\n",
       "      <th>5535</th>\n",
       "      <td>170000.0</td>\n",
       "      <td>63.0</td>\n",
       "      <td>3.0</td>\n",
       "      <td>NaN</td>\n",
       "      <td>NaN</td>\n",
       "      <td>2698.412698</td>\n",
       "      <td>2.0</td>\n",
       "      <td>139953.071273</td>\n",
       "      <td>30046.928727</td>\n",
       "      <td>0.176747</td>\n",
       "    </tr>\n",
       "    <tr>\n",
       "      <th>5536</th>\n",
       "      <td>267000.0</td>\n",
       "      <td>82.0</td>\n",
       "      <td>4.0</td>\n",
       "      <td>NaN</td>\n",
       "      <td>NaN</td>\n",
       "      <td>3256.097561</td>\n",
       "      <td>1.0</td>\n",
       "      <td>169838.832218</td>\n",
       "      <td>97161.167782</td>\n",
       "      <td>0.363900</td>\n",
       "    </tr>\n",
       "    <tr>\n",
       "      <th>5537</th>\n",
       "      <td>86800.0</td>\n",
       "      <td>48.0</td>\n",
       "      <td>1.0</td>\n",
       "      <td>NaN</td>\n",
       "      <td>NaN</td>\n",
       "      <td>1808.333333</td>\n",
       "      <td>6.0</td>\n",
       "      <td>116359.049475</td>\n",
       "      <td>-29559.049475</td>\n",
       "      <td>-0.340542</td>\n",
       "    </tr>\n",
       "  </tbody>\n",
       "</table>\n",
       "<p>5538 rows × 10 columns</p>\n",
       "</div>"
      ],
      "text/plain": [
       "         price  metrosCubiertos  dormitorios  antiguedad  toilets  \\\n",
       "0      85000.0             35.0          1.0        40.0      1.0   \n",
       "1     288000.0            140.0          2.0        10.0      2.0   \n",
       "2     330000.0             75.0          2.0         2.0      3.0   \n",
       "3     215000.0             95.0          3.0        40.0      2.0   \n",
       "4     295000.0            165.0          4.0        40.0      4.0   \n",
       "...        ...              ...          ...         ...      ...   \n",
       "5533  380000.0            162.0          5.0         NaN      NaN   \n",
       "5534   75000.0             23.0          1.0         NaN      NaN   \n",
       "5535  170000.0             63.0          3.0         NaN      NaN   \n",
       "5536  267000.0             82.0          4.0         NaN      NaN   \n",
       "5537   86800.0             48.0          1.0         NaN      NaN   \n",
       "\n",
       "      valorPorMetro  floor  valorPredicho  ErrorDelValor        R2  \n",
       "0       2428.571429    NaN   95910.897249  -10910.897249 -0.128363  \n",
       "1       2057.142857    NaN  261069.049839   26930.950161  0.093510  \n",
       "2       4400.000000    NaN  158828.288712  171171.711288  0.518702  \n",
       "3       2263.157895    NaN  190286.984443   24713.015557  0.114944  \n",
       "4       1787.878788    NaN  300392.419503   -5392.419503 -0.018279  \n",
       "...             ...    ...            ...            ...       ...  \n",
       "5533    2345.679012    7.0  295673.615143   84326.384857  0.221912  \n",
       "5534    3260.869565    7.0   77035.679810   -2035.679810 -0.027142  \n",
       "5535    2698.412698    2.0  139953.071273   30046.928727  0.176747  \n",
       "5536    3256.097561    1.0  169838.832218   97161.167782  0.363900  \n",
       "5537    1808.333333    6.0  116359.049475  -29559.049475 -0.340542  \n",
       "\n",
       "[5538 rows x 10 columns]"
      ]
     },
     "execution_count": 126,
     "metadata": {},
     "output_type": "execute_result"
    }
   ],
   "source": [
    "# tenemos que calcular el r2 de cada inmueble, dividimos la columna ErrorDelValor y la dividimos por el precio\n",
    "dff[\"R2\"] = dff[\"ErrorDelValor\"] / dff[\"price\"]\n",
    "dff"
   ]
  },
  {
   "cell_type": "code",
   "execution_count": 127,
   "id": "e6ba66c1",
   "metadata": {},
   "outputs": [
    {
     "data": {
      "text/html": [
       "<div>\n",
       "<style scoped>\n",
       "    .dataframe tbody tr th:only-of-type {\n",
       "        vertical-align: middle;\n",
       "    }\n",
       "\n",
       "    .dataframe tbody tr th {\n",
       "        vertical-align: top;\n",
       "    }\n",
       "\n",
       "    .dataframe thead th {\n",
       "        text-align: right;\n",
       "    }\n",
       "</style>\n",
       "<table border=\"1\" class=\"dataframe\">\n",
       "  <thead>\n",
       "    <tr style=\"text-align: right;\">\n",
       "      <th></th>\n",
       "      <th>price</th>\n",
       "      <th>metrosCubiertos</th>\n",
       "      <th>dormitorios</th>\n",
       "      <th>antiguedad</th>\n",
       "      <th>toilets</th>\n",
       "      <th>valorPorMetro</th>\n",
       "      <th>floor</th>\n",
       "      <th>valorPredicho</th>\n",
       "      <th>ErrorDelValor</th>\n",
       "      <th>R2</th>\n",
       "      <th>R2Multiplicado</th>\n",
       "    </tr>\n",
       "  </thead>\n",
       "  <tbody>\n",
       "    <tr>\n",
       "      <th>0</th>\n",
       "      <td>85000.0</td>\n",
       "      <td>35.0</td>\n",
       "      <td>1.0</td>\n",
       "      <td>40.0</td>\n",
       "      <td>1.0</td>\n",
       "      <td>2428.571429</td>\n",
       "      <td>NaN</td>\n",
       "      <td>95910.897249</td>\n",
       "      <td>-10910.897249</td>\n",
       "      <td>-0.128363</td>\n",
       "      <td>0.016477</td>\n",
       "    </tr>\n",
       "    <tr>\n",
       "      <th>1</th>\n",
       "      <td>288000.0</td>\n",
       "      <td>140.0</td>\n",
       "      <td>2.0</td>\n",
       "      <td>10.0</td>\n",
       "      <td>2.0</td>\n",
       "      <td>2057.142857</td>\n",
       "      <td>NaN</td>\n",
       "      <td>261069.049839</td>\n",
       "      <td>26930.950161</td>\n",
       "      <td>0.093510</td>\n",
       "      <td>0.008744</td>\n",
       "    </tr>\n",
       "    <tr>\n",
       "      <th>2</th>\n",
       "      <td>330000.0</td>\n",
       "      <td>75.0</td>\n",
       "      <td>2.0</td>\n",
       "      <td>2.0</td>\n",
       "      <td>3.0</td>\n",
       "      <td>4400.000000</td>\n",
       "      <td>NaN</td>\n",
       "      <td>158828.288712</td>\n",
       "      <td>171171.711288</td>\n",
       "      <td>0.518702</td>\n",
       "      <td>0.269052</td>\n",
       "    </tr>\n",
       "    <tr>\n",
       "      <th>3</th>\n",
       "      <td>215000.0</td>\n",
       "      <td>95.0</td>\n",
       "      <td>3.0</td>\n",
       "      <td>40.0</td>\n",
       "      <td>2.0</td>\n",
       "      <td>2263.157895</td>\n",
       "      <td>NaN</td>\n",
       "      <td>190286.984443</td>\n",
       "      <td>24713.015557</td>\n",
       "      <td>0.114944</td>\n",
       "      <td>0.013212</td>\n",
       "    </tr>\n",
       "    <tr>\n",
       "      <th>4</th>\n",
       "      <td>295000.0</td>\n",
       "      <td>165.0</td>\n",
       "      <td>4.0</td>\n",
       "      <td>40.0</td>\n",
       "      <td>4.0</td>\n",
       "      <td>1787.878788</td>\n",
       "      <td>NaN</td>\n",
       "      <td>300392.419503</td>\n",
       "      <td>-5392.419503</td>\n",
       "      <td>-0.018279</td>\n",
       "      <td>0.000334</td>\n",
       "    </tr>\n",
       "    <tr>\n",
       "      <th>...</th>\n",
       "      <td>...</td>\n",
       "      <td>...</td>\n",
       "      <td>...</td>\n",
       "      <td>...</td>\n",
       "      <td>...</td>\n",
       "      <td>...</td>\n",
       "      <td>...</td>\n",
       "      <td>...</td>\n",
       "      <td>...</td>\n",
       "      <td>...</td>\n",
       "      <td>...</td>\n",
       "    </tr>\n",
       "    <tr>\n",
       "      <th>5533</th>\n",
       "      <td>380000.0</td>\n",
       "      <td>162.0</td>\n",
       "      <td>5.0</td>\n",
       "      <td>NaN</td>\n",
       "      <td>NaN</td>\n",
       "      <td>2345.679012</td>\n",
       "      <td>7.0</td>\n",
       "      <td>295673.615143</td>\n",
       "      <td>84326.384857</td>\n",
       "      <td>0.221912</td>\n",
       "      <td>0.049245</td>\n",
       "    </tr>\n",
       "    <tr>\n",
       "      <th>5534</th>\n",
       "      <td>75000.0</td>\n",
       "      <td>23.0</td>\n",
       "      <td>1.0</td>\n",
       "      <td>NaN</td>\n",
       "      <td>NaN</td>\n",
       "      <td>3260.869565</td>\n",
       "      <td>7.0</td>\n",
       "      <td>77035.679810</td>\n",
       "      <td>-2035.679810</td>\n",
       "      <td>-0.027142</td>\n",
       "      <td>0.000737</td>\n",
       "    </tr>\n",
       "    <tr>\n",
       "      <th>5535</th>\n",
       "      <td>170000.0</td>\n",
       "      <td>63.0</td>\n",
       "      <td>3.0</td>\n",
       "      <td>NaN</td>\n",
       "      <td>NaN</td>\n",
       "      <td>2698.412698</td>\n",
       "      <td>2.0</td>\n",
       "      <td>139953.071273</td>\n",
       "      <td>30046.928727</td>\n",
       "      <td>0.176747</td>\n",
       "      <td>0.031239</td>\n",
       "    </tr>\n",
       "    <tr>\n",
       "      <th>5536</th>\n",
       "      <td>267000.0</td>\n",
       "      <td>82.0</td>\n",
       "      <td>4.0</td>\n",
       "      <td>NaN</td>\n",
       "      <td>NaN</td>\n",
       "      <td>3256.097561</td>\n",
       "      <td>1.0</td>\n",
       "      <td>169838.832218</td>\n",
       "      <td>97161.167782</td>\n",
       "      <td>0.363900</td>\n",
       "      <td>0.132423</td>\n",
       "    </tr>\n",
       "    <tr>\n",
       "      <th>5537</th>\n",
       "      <td>86800.0</td>\n",
       "      <td>48.0</td>\n",
       "      <td>1.0</td>\n",
       "      <td>NaN</td>\n",
       "      <td>NaN</td>\n",
       "      <td>1808.333333</td>\n",
       "      <td>6.0</td>\n",
       "      <td>116359.049475</td>\n",
       "      <td>-29559.049475</td>\n",
       "      <td>-0.340542</td>\n",
       "      <td>0.115969</td>\n",
       "    </tr>\n",
       "  </tbody>\n",
       "</table>\n",
       "<p>5538 rows × 11 columns</p>\n",
       "</div>"
      ],
      "text/plain": [
       "         price  metrosCubiertos  dormitorios  antiguedad  toilets  \\\n",
       "0      85000.0             35.0          1.0        40.0      1.0   \n",
       "1     288000.0            140.0          2.0        10.0      2.0   \n",
       "2     330000.0             75.0          2.0         2.0      3.0   \n",
       "3     215000.0             95.0          3.0        40.0      2.0   \n",
       "4     295000.0            165.0          4.0        40.0      4.0   \n",
       "...        ...              ...          ...         ...      ...   \n",
       "5533  380000.0            162.0          5.0         NaN      NaN   \n",
       "5534   75000.0             23.0          1.0         NaN      NaN   \n",
       "5535  170000.0             63.0          3.0         NaN      NaN   \n",
       "5536  267000.0             82.0          4.0         NaN      NaN   \n",
       "5537   86800.0             48.0          1.0         NaN      NaN   \n",
       "\n",
       "      valorPorMetro  floor  valorPredicho  ErrorDelValor        R2  \\\n",
       "0       2428.571429    NaN   95910.897249  -10910.897249 -0.128363   \n",
       "1       2057.142857    NaN  261069.049839   26930.950161  0.093510   \n",
       "2       4400.000000    NaN  158828.288712  171171.711288  0.518702   \n",
       "3       2263.157895    NaN  190286.984443   24713.015557  0.114944   \n",
       "4       1787.878788    NaN  300392.419503   -5392.419503 -0.018279   \n",
       "...             ...    ...            ...            ...       ...   \n",
       "5533    2345.679012    7.0  295673.615143   84326.384857  0.221912   \n",
       "5534    3260.869565    7.0   77035.679810   -2035.679810 -0.027142   \n",
       "5535    2698.412698    2.0  139953.071273   30046.928727  0.176747   \n",
       "5536    3256.097561    1.0  169838.832218   97161.167782  0.363900   \n",
       "5537    1808.333333    6.0  116359.049475  -29559.049475 -0.340542   \n",
       "\n",
       "      R2Multiplicado  \n",
       "0           0.016477  \n",
       "1           0.008744  \n",
       "2           0.269052  \n",
       "3           0.013212  \n",
       "4           0.000334  \n",
       "...              ...  \n",
       "5533        0.049245  \n",
       "5534        0.000737  \n",
       "5535        0.031239  \n",
       "5536        0.132423  \n",
       "5537        0.115969  \n",
       "\n",
       "[5538 rows x 11 columns]"
      ]
     },
     "execution_count": 127,
     "metadata": {},
     "output_type": "execute_result"
    }
   ],
   "source": [
    "# multiplicamos la columna r2 por r2\n",
    "dff[\"R2Multiplicado\"] = dff[\"R2\"] * dff[\"R2\"]\n",
    "dff"
   ]
  },
  {
   "cell_type": "code",
   "execution_count": 128,
   "id": "9088f276",
   "metadata": {},
   "outputs": [
    {
     "data": {
      "text/plain": [
       "1455.165002197238"
      ]
     },
     "execution_count": 128,
     "metadata": {},
     "output_type": "execute_result"
    }
   ],
   "source": [
    "# sumamos todos toda la columna R2Multiplicado\n",
    "Total = dff['R2Multiplicado'].sum()\n",
    "Total"
   ]
  },
  {
   "cell_type": "code",
   "execution_count": 129,
   "id": "9924028e",
   "metadata": {},
   "outputs": [
    {
     "data": {
      "text/plain": [
       "0.26276002206522897"
      ]
     },
     "execution_count": 129,
     "metadata": {},
     "output_type": "execute_result"
    }
   ],
   "source": [
    "# sacamos el r2 medio del dataframe, dividiendo el total por el numero de inmuebles\n",
    "totalDeError = Total / 5538\n",
    "totalDeError"
   ]
  },
  {
   "cell_type": "code",
   "execution_count": 130,
   "id": "74716e7c",
   "metadata": {},
   "outputs": [
    {
     "name": "stdout",
     "output_type": "stream",
     "text": [
      "Intercepto=   40858.17971919218\n",
      "RM=   [1572.93478657]\n",
      "R2_train=   0.4832667440585946\n"
     ]
    }
   ],
   "source": [
    "# realizamos con otro modelo de regresion lineal o otra forma de realizarla\n",
    "# Generamos las matrices y el target\n",
    "\n",
    "X4 = dff[[\"metrosCubiertos\"]]\n",
    "y4 = dff[\"price\"]\n",
    "\n",
    "# Importamos, Instanciamos, Fiteamos, etc..\n",
    "\n",
    "lm = linear_model.LinearRegression()\n",
    "\n",
    "model = lm.fit(X4, y4)\n",
    "predictions = lm.predict(X4)\n",
    "\n",
    "print ('Intercepto=', ' ', model.intercept_)\n",
    "print ('RM=', ' ', model.coef_)\n",
    "print ('R2_train=', ' ', model.score(X4, y4))\n",
    "\n",
    "#vamos a compara este R2 que nos da esta funcion con el que generamos manualmente en el anterior codigo"
   ]
  },
  {
   "cell_type": "code",
   "execution_count": 131,
   "id": "cd5ac744",
   "metadata": {},
   "outputs": [
    {
     "data": {
      "text/plain": [
       "<matplotlib.collections.PathCollection at 0x18212b20880>"
      ]
     },
     "execution_count": 131,
     "metadata": {},
     "output_type": "execute_result"
    },
    {
     "data": {
      "image/png": "[encoded data removed]",
      "text/plain": [
       "<Figure size 432x288 with 1 Axes>"
      ]
     },
     "metadata": {
      "needs_background": "light"
     },
     "output_type": "display_data"
    }
   ],
   "source": [
    "# hacemos un  scatter del dataset final\n",
    "b, m = polyfit(dff[\"metrosCubiertos\"], dff[\"price\"], 1)\n",
    "\n",
    "plt.scatter(dff[\"metrosCubiertos\"], dff[\"price\"], s=2.5)\n",
    "plt.scatter(dff[\"metrosCubiertos\"], b + m * dff[\"metrosCubiertos\"], s=1.5, color=\"red\")"
   ]
  },
  {
   "cell_type": "code",
   "execution_count": 150,
   "id": "11c8cc87",
   "metadata": {},
   "outputs": [
    {
     "name": "stdout",
     "output_type": "stream",
     "text": [
      "r^2: 0.4832666809090951\n"
     ]
    },
    {
     "data": {
      "image/png": "[encoded data removed]",
      "text/plain": [
       "<Figure size 432x288 with 1 Axes>"
      ]
     },
     "metadata": {
      "needs_background": "light"
     },
     "output_type": "display_data"
    }
   ],
   "source": [
    "lasso = linear_model.Lasso(alpha=0.5, normalize=True)\n",
    "\n",
    "# Ajustamos nuevamente, esta vez con regularizacion\n",
    "X4 = dff[[\"metrosCubiertos\"]]\n",
    "y4 = dff[[\"price\"]]\n",
    "lasso_model =lasso.fit(X4, y4)\n",
    "predictions = lasso_model.predict(X4)\n",
    "\n",
    "plt.scatter(dff[\"metrosCubiertos\"], y4, s=1)\n",
    "plt.title(\"Muestra de datos #1\")\n",
    "plt.scatter(dff[\"metrosCubiertos\"], predictions, c='r', s=0.5)\n",
    "\n",
    "print (\"r^2:\", lasso_model.score(X4, y4))"
   ]
  },
  {
   "cell_type": "code",
   "execution_count": null,
   "id": "bb071494",
   "metadata": {},
   "outputs": [],
   "source": []
  },
  {
   "cell_type": "code",
   "execution_count": null,
   "id": "56c0dfcd",
   "metadata": {},
   "outputs": [],
   "source": []
  },
  {
   "cell_type": "code",
   "execution_count": null,
   "id": "94c2dc3c",
   "metadata": {},
   "outputs": [],
   "source": []
  },
  {
   "cell_type": "code",
   "execution_count": null,
   "id": "5ce1756f",
   "metadata": {},
   "outputs": [],
   "source": []
  }
 ],
 "metadata": {
  "kernelspec": {
   "display_name": "Python 3 (ipykernel)",
   "language": "python",
   "name": "python3"
  },
  "language_info": {
   "codemirror_mode": {
    "name": "ipython",
    "version": 3
   },
   "file_extension": ".py",
   "mimetype": "text/x-python",
   "name": "python",
   "nbconvert_exporter": "python",
   "pygments_lexer": "ipython3",
   "version": "3.9.12"
  }
 },
 "nbformat": 4,
 "nbformat_minor": 5
}
