{
 "cells": [
  {
   "cell_type": "markdown",
   "id": "ed2c57cb",
   "metadata": {},
   "source": [
    "1.- Escribe una función que extraiga de una lista de números el menor y el mayor.\n",
    "\n",
    "2.- Escribe otra función que haga de test de la primera con los siguientes casos:\n",
    "\n",
    "    [1,2,3,4,5,6,7,8,9]\n",
    "    [9,8,7,6,5,4,3,2,1]\n",
    "    [0,-1,9,-12]\n",
    "    [0, 0, 0]\n",
    "    [-1]\n",
    "    []\n",
    "\n",
    "    La función de test dará un ok por cada respuesta correcta y un fail en caso contrario.\n",
    "\n",
    "3.- Escribe una función que sume los números de una lista.\n",
    "\n",
    "4.- Escribe su función de test\n",
    "\n",
    "Suerte!"
   ]
  },
  {
   "cell_type": "code",
   "execution_count": 1,
   "id": "b8fab483",
   "metadata": {},
   "outputs": [],
   "source": [
    "import pandas as pd\n",
    "import numpy as np\n",
    "import matplotlib.pyplot as plt\n",
    "import numpy as np\n",
    "%matplotlib inline\n",
    "import random"
   ]
  },
  {
   "cell_type": "code",
   "execution_count": 2,
   "id": "373b4397",
   "metadata": {},
   "outputs": [],
   "source": [
    "def numeroMayor(listaNumeros):\n",
    "    mayor = 0\n",
    "    for n in listaNumeros:\n",
    "        if n > mayor:\n",
    "            mayor = n\n",
    "\n",
    "    return(mayor)"
   ]
  },
  {
   "cell_type": "code",
   "execution_count": 3,
   "id": "59751bbf",
   "metadata": {},
   "outputs": [],
   "source": [
    "lista = [1, 2, 3, 4, 5, 6, 7, 8, 9]"
   ]
  },
  {
   "cell_type": "code",
   "execution_count": 4,
   "id": "641be26f",
   "metadata": {},
   "outputs": [
    {
     "data": {
      "text/plain": [
       "9"
      ]
     },
     "execution_count": 4,
     "metadata": {},
     "output_type": "execute_result"
    }
   ],
   "source": [
    "numeroMayor(lista)"
   ]
  },
  {
   "cell_type": "code",
   "execution_count": 5,
   "id": "071e60ae",
   "metadata": {},
   "outputs": [],
   "source": [
    "def numerosMyM(listaNumeros):\n",
    "    if len(listaNumeros) == 0:\n",
    "        return(0, 0)   \n",
    "    mayor = listaNumeros[0]\n",
    "    menor = listaNumeros[0]\n",
    "    for n in listaNumeros:\n",
    "        if n > mayor:\n",
    "            mayor = n\n",
    "        if n < menor:\n",
    "            menor = n\n",
    "\n",
    "    return(menor, mayor)"
   ]
  },
  {
   "cell_type": "code",
   "execution_count": 6,
   "id": "280de486",
   "metadata": {},
   "outputs": [],
   "source": [
    "lista = [1, 2, 3, 4, 5, 6, 7, 8, 9]"
   ]
  },
  {
   "cell_type": "code",
   "execution_count": 7,
   "id": "fd405c0b",
   "metadata": {},
   "outputs": [
    {
     "data": {
      "text/plain": [
       "(1, 9)"
      ]
     },
     "execution_count": 7,
     "metadata": {},
     "output_type": "execute_result"
    }
   ],
   "source": [
    "numerosMyM(lista)"
   ]
  },
  {
   "cell_type": "code",
   "execution_count": 8,
   "id": "c0eb0993",
   "metadata": {},
   "outputs": [],
   "source": [
    "lista2 = [9, 8, 7, 6, 5, 4, 3, 2, 1]"
   ]
  },
  {
   "cell_type": "code",
   "execution_count": 9,
   "id": "172d603a",
   "metadata": {},
   "outputs": [
    {
     "data": {
      "text/plain": [
       "(1, 9)"
      ]
     },
     "execution_count": 9,
     "metadata": {},
     "output_type": "execute_result"
    }
   ],
   "source": [
    "numerosMyM(lista2)"
   ]
  },
  {
   "cell_type": "code",
   "execution_count": 10,
   "id": "bb5f3a2b",
   "metadata": {},
   "outputs": [],
   "source": [
    "lista3 = [0,-1, 9,-12]"
   ]
  },
  {
   "cell_type": "code",
   "execution_count": 11,
   "id": "45d125fc",
   "metadata": {},
   "outputs": [
    {
     "data": {
      "text/plain": [
       "(-12, 9)"
      ]
     },
     "execution_count": 11,
     "metadata": {},
     "output_type": "execute_result"
    }
   ],
   "source": [
    "numerosMyM(lista3)"
   ]
  },
  {
   "cell_type": "code",
   "execution_count": 12,
   "id": "cd3b9d21",
   "metadata": {},
   "outputs": [],
   "source": [
    "lista4 = [0, 0, 0]"
   ]
  },
  {
   "cell_type": "code",
   "execution_count": 13,
   "id": "8df3e8a5",
   "metadata": {},
   "outputs": [
    {
     "data": {
      "text/plain": [
       "(0, 0)"
      ]
     },
     "execution_count": 13,
     "metadata": {},
     "output_type": "execute_result"
    }
   ],
   "source": [
    "numerosMyM(lista4)"
   ]
  },
  {
   "cell_type": "code",
   "execution_count": 14,
   "id": "03dd6e84",
   "metadata": {},
   "outputs": [],
   "source": [
    "lista5 = [-1]"
   ]
  },
  {
   "cell_type": "code",
   "execution_count": 15,
   "id": "0600e055",
   "metadata": {},
   "outputs": [
    {
     "data": {
      "text/plain": [
       "(-1, -1)"
      ]
     },
     "execution_count": 15,
     "metadata": {},
     "output_type": "execute_result"
    }
   ],
   "source": [
    "numerosMyM(lista5)"
   ]
  },
  {
   "cell_type": "code",
   "execution_count": 16,
   "id": "4d26b688",
   "metadata": {},
   "outputs": [],
   "source": [
    "lista6 = []"
   ]
  },
  {
   "cell_type": "code",
   "execution_count": 17,
   "id": "7b9658f8",
   "metadata": {},
   "outputs": [
    {
     "data": {
      "text/plain": [
       "(0, 0)"
      ]
     },
     "execution_count": 17,
     "metadata": {},
     "output_type": "execute_result"
    }
   ],
   "source": [
    "numerosMyM(lista6)"
   ]
  },
  {
   "cell_type": "code",
   "execution_count": 18,
   "id": "7723738b",
   "metadata": {},
   "outputs": [],
   "source": [
    "\n",
    "def numerosMyM_test():\n",
    "    lista = [1, 2, 3, 4, 5, 6, 7, 8, 9]\n",
    "    numerosMyM(lista)\n",
    "    if numerosMyM(lista) == (1, 9):\n",
    "        print( \"ok\")\n",
    "    else:\n",
    "        print(\"fail\")\n",
    "    "
   ]
  },
  {
   "cell_type": "code",
   "execution_count": 19,
   "id": "a3770b51",
   "metadata": {},
   "outputs": [
    {
     "name": "stdout",
     "output_type": "stream",
     "text": [
      "ok\n"
     ]
    }
   ],
   "source": [
    "numerosMyM_test()"
   ]
  },
  {
   "cell_type": "code",
   "execution_count": 20,
   "id": "ba4e088d",
   "metadata": {},
   "outputs": [],
   "source": [
    "def suma(notas):\n",
    "    \n",
    "    # variable que contendrá el resultado de la suma de las notas \n",
    "    # con el valor 0, lo que indica que la suma aún no se ha realizado\n",
    "    sumaDeNotas = 0\n",
    "    \n",
    "    # A partir de ahí, un enfoque que podemos seguir es a través de una\n",
    "    # iteración sobre la lista de notas. Es decir para cada nota, su valor se\n",
    "    # agrega a la variable suma_de_notas, de la siguiente manera\n",
    "    for nota in notas:\n",
    "        sumaDeNotas += nota\n",
    "\n",
    "    return(sumaDeNotas)\n"
   ]
  },
  {
   "cell_type": "code",
   "execution_count": 21,
   "id": "939b1035",
   "metadata": {},
   "outputs": [],
   "source": [
    "notas = [1,2,3,4,5,6,7,8,9]\n",
    "notas1 = [9,8,7,6,5,4,3,2,1]\n",
    "notas2 = [0,-1,9,-12]\n",
    "notas3 = [0, 0, 0]\n",
    "notas4 = [-1]\n",
    "notas5 = []"
   ]
  },
  {
   "cell_type": "code",
   "execution_count": 22,
   "id": "3a2becd0",
   "metadata": {
    "scrolled": true
   },
   "outputs": [
    {
     "name": "stdout",
     "output_type": "stream",
     "text": [
      "45\n"
     ]
    }
   ],
   "source": [
    "sumaDeNotas = suma(notas)\n",
    "print(sumaDeNotas)"
   ]
  },
  {
   "cell_type": "code",
   "execution_count": 23,
   "id": "a7e1b0cd",
   "metadata": {},
   "outputs": [
    {
     "name": "stdout",
     "output_type": "stream",
     "text": [
      "45\n"
     ]
    }
   ],
   "source": [
    "sumaDeNotas = suma(notas1)\n",
    "print(sumaDeNotas)"
   ]
  },
  {
   "cell_type": "code",
   "execution_count": 24,
   "id": "c544b0d0",
   "metadata": {},
   "outputs": [
    {
     "name": "stdout",
     "output_type": "stream",
     "text": [
      "-4\n"
     ]
    }
   ],
   "source": [
    "sumaDeNotas = suma(notas2)\n",
    "print(sumaDeNotas)"
   ]
  },
  {
   "cell_type": "code",
   "execution_count": 25,
   "id": "a7e4d7fb",
   "metadata": {},
   "outputs": [
    {
     "name": "stdout",
     "output_type": "stream",
     "text": [
      "0\n"
     ]
    }
   ],
   "source": [
    "sumaDeNotas = suma(notas3)\n",
    "print(sumaDeNotas)"
   ]
  },
  {
   "cell_type": "code",
   "execution_count": 26,
   "id": "b81fbfbc",
   "metadata": {},
   "outputs": [
    {
     "name": "stdout",
     "output_type": "stream",
     "text": [
      "-1\n"
     ]
    }
   ],
   "source": [
    "sumaDeNotas = suma(notas4)\n",
    "print(sumaDeNotas)"
   ]
  },
  {
   "cell_type": "code",
   "execution_count": 27,
   "id": "36894aca",
   "metadata": {},
   "outputs": [
    {
     "name": "stdout",
     "output_type": "stream",
     "text": [
      "0\n"
     ]
    }
   ],
   "source": [
    "sumaDeNotas = suma(notas5)\n",
    "print(sumaDeNotas)"
   ]
  },
  {
   "cell_type": "code",
   "execution_count": 28,
   "id": "10f7b2ed",
   "metadata": {},
   "outputs": [
    {
     "name": "stdout",
     "output_type": "stream",
     "text": [
      "-4\n"
     ]
    }
   ],
   "source": [
    "# otra opcion de sumar una lista es con la funcion de python sum()\n",
    "laSuma = sum(notas2)\n",
    "print(laSuma)"
   ]
  },
  {
   "cell_type": "code",
   "execution_count": 29,
   "id": "c8bc0b73",
   "metadata": {},
   "outputs": [],
   "source": [
    "# Hcemos el test de la funcion de suma.\n",
    "def suma_test():\n",
    "    notas = [1, 2, 3, 4, 5, 6, 7, 8, 9]\n",
    "    if suma(notas) == 45:\n",
    "        print( \"ok\")\n",
    "    else:\n",
    "        print(\"fail\")\n",
    "    \n",
    "    notas1 = [9,8,7,6,5,4,3,2,1]\n",
    "    if suma(notas1) == 45:\n",
    "        print( \"ok\")\n",
    "    else:\n",
    "        print(\"fail\")\n",
    "        \n",
    "    notas2 = [0,-1,9,-12]\n",
    "    if suma(notas2) == -4:\n",
    "        print( \"ok\")\n",
    "    else:\n",
    "        print(\"fail\")\n",
    "    \n",
    "    notas3 = [0, 0, 0]\n",
    "    if suma(notas3) == 0:\n",
    "        print( \"ok\")\n",
    "    else:\n",
    "        print(\"fail\")\n",
    "        \n",
    "    notas4 = [-1]\n",
    "    if suma(notas4) == -1:\n",
    "        print( \"ok\")\n",
    "    else:\n",
    "        print(\"fail\")\n",
    "    \n",
    "    notas5 = []\n",
    "    if suma(notas5) == 0:\n",
    "        print( \"ok\")\n",
    "    else:\n",
    "        print(\"fail\")\n",
    "        "
   ]
  },
  {
   "cell_type": "code",
   "execution_count": 30,
   "id": "5aee3837",
   "metadata": {},
   "outputs": [
    {
     "name": "stdout",
     "output_type": "stream",
     "text": [
      "ok\n",
      "ok\n",
      "ok\n",
      "ok\n",
      "ok\n",
      "ok\n"
     ]
    }
   ],
   "source": [
    "suma_test()"
   ]
  },
  {
   "cell_type": "code",
   "execution_count": 31,
   "id": "855c912b",
   "metadata": {},
   "outputs": [],
   "source": [
    "# Funcion de pares e impares\n",
    "def numeroPar(n):\n",
    "    if n % 2 == 0:\n",
    "        return(True)\n",
    "    else:\n",
    "        return(False)\n",
    "    "
   ]
  },
  {
   "cell_type": "code",
   "execution_count": 32,
   "id": "09505b90",
   "metadata": {},
   "outputs": [
    {
     "name": "stdout",
     "output_type": "stream",
     "text": [
      "True\n"
     ]
    }
   ],
   "source": [
    "par = numeroPar(2)\n",
    "print(par)"
   ]
  },
  {
   "cell_type": "code",
   "execution_count": 33,
   "id": "7e7c7faa",
   "metadata": {},
   "outputs": [
    {
     "name": "stdout",
     "output_type": "stream",
     "text": [
      "False\n"
     ]
    }
   ],
   "source": [
    "par = numeroPar(1)\n",
    "print(par)"
   ]
  },
  {
   "cell_type": "code",
   "execution_count": 34,
   "id": "10374754",
   "metadata": {},
   "outputs": [
    {
     "name": "stdout",
     "output_type": "stream",
     "text": [
      "True\n"
     ]
    }
   ],
   "source": [
    "par = numeroPar(0)\n",
    "print(par)"
   ]
  },
  {
   "cell_type": "code",
   "execution_count": 35,
   "id": "3a675821",
   "metadata": {},
   "outputs": [
    {
     "name": "stdout",
     "output_type": "stream",
     "text": [
      "False\n"
     ]
    }
   ],
   "source": [
    "par = numeroPar(-1)\n",
    "print(par)"
   ]
  },
  {
   "cell_type": "code",
   "execution_count": 36,
   "id": "d4f5a2af",
   "metadata": {},
   "outputs": [],
   "source": [
    "# Hcemos el test de la funcion de numeros pares.\n",
    "def numeroPar_test():\n",
    "    n1 = 2\n",
    "    if numeroPar(n1) == True:\n",
    "        print(\"ok\")\n",
    "    else:\n",
    "        print(\"fail\")\n",
    "        \n",
    "    n2 = 1\n",
    "    if numeroPar(n2) == False:\n",
    "        print(\"ok\")\n",
    "    else:\n",
    "        print(\"fail\")\n",
    "        \n",
    "    n3 = 0\n",
    "    if numeroPar(n3) == True:\n",
    "        print(\"ok\")\n",
    "    else:\n",
    "        print(\"fail\")\n",
    "        \n",
    "    n4 = -1\n",
    "    if numeroPar(n4) == False:\n",
    "        print(\"ok\")\n",
    "    else:\n",
    "        print(\"fail\")\n",
    "    \n",
    "        "
   ]
  },
  {
   "cell_type": "code",
   "execution_count": 37,
   "id": "85bea174",
   "metadata": {},
   "outputs": [
    {
     "name": "stdout",
     "output_type": "stream",
     "text": [
      "ok\n",
      "ok\n",
      "ok\n",
      "ok\n"
     ]
    }
   ],
   "source": [
    "numeroPar_test()"
   ]
  },
  {
   "cell_type": "code",
   "execution_count": 38,
   "id": "3e9ea36a",
   "metadata": {},
   "outputs": [],
   "source": [
    "# vamos a crear una funcion que convioerta los grados celsius a Fahrenheit\n",
    "def celsiusAfahrenheit(c):\n",
    "    return (c * 1.8) + 32"
   ]
  },
  {
   "cell_type": "code",
   "execution_count": 39,
   "id": "a5ef1c7c",
   "metadata": {},
   "outputs": [
    {
     "name": "stdout",
     "output_type": "stream",
     "text": [
      "68.0\n"
     ]
    }
   ],
   "source": [
    "GradosFa = celsiusAfahrenheit(20)\n",
    "print(GradosFa)"
   ]
  },
  {
   "cell_type": "code",
   "execution_count": 40,
   "id": "bd8a8ddc",
   "metadata": {},
   "outputs": [
    {
     "name": "stdout",
     "output_type": "stream",
     "text": [
      "50.0\n"
     ]
    }
   ],
   "source": [
    "GradosFa = celsiusAfahrenheit(10)\n",
    "print(GradosFa)"
   ]
  },
  {
   "cell_type": "code",
   "execution_count": 41,
   "id": "a6cc7036",
   "metadata": {},
   "outputs": [
    {
     "name": "stdout",
     "output_type": "stream",
     "text": [
      "104.0\n"
     ]
    }
   ],
   "source": [
    "GradosFa = celsiusAfahrenheit(40)\n",
    "print(GradosFa)"
   ]
  },
  {
   "cell_type": "code",
   "execution_count": 42,
   "id": "5f4792ca",
   "metadata": {},
   "outputs": [],
   "source": [
    "# creamos la funcion de test de celsius a fahrenheit\n",
    "def celsiusAfahrenheit_test():\n",
    "    n1 = 20\n",
    "    if celsiusAfahrenheit(n1) == 68.0:\n",
    "        print(\"ok\")\n",
    "    else:\n",
    "        print(\"fail\")\n",
    "        \n",
    "    n2 = 10\n",
    "    if celsiusAfahrenheit(n2) == 50.0:\n",
    "        print(\"ok\")\n",
    "    else:\n",
    "        print(\"fail\")\n",
    "        \n",
    "    n3 = 40\n",
    "    if celsiusAfahrenheit(n3) == 104.0:\n",
    "        print(\"ok\")\n",
    "    else:\n",
    "        print(\"fail\")"
   ]
  },
  {
   "cell_type": "code",
   "execution_count": 43,
   "id": "6d80c90d",
   "metadata": {},
   "outputs": [
    {
     "name": "stdout",
     "output_type": "stream",
     "text": [
      "ok\n",
      "ok\n",
      "ok\n"
     ]
    }
   ],
   "source": [
    "# llamamos la funcion para verificar si los datos son correctos\n",
    "celsiusAfahrenheit_test()"
   ]
  },
  {
   "cell_type": "code",
   "execution_count": 44,
   "id": "2707f077",
   "metadata": {},
   "outputs": [],
   "source": [
    "# vamos a crear una funcion que convioerta los grados Fahrenheit a celsius.\n",
    "def fahrenheitAcelsius(f):\n",
    "    return (f - 32) / 1.8"
   ]
  },
  {
   "cell_type": "code",
   "execution_count": 45,
   "id": "bd0e619c",
   "metadata": {},
   "outputs": [
    {
     "name": "stdout",
     "output_type": "stream",
     "text": [
      "-12.222222222222221\n"
     ]
    }
   ],
   "source": [
    "GradosCel = fahrenheitAcelsius(10)\n",
    "print(GradosCel)"
   ]
  },
  {
   "cell_type": "code",
   "execution_count": 46,
   "id": "05625ffc",
   "metadata": {},
   "outputs": [
    {
     "name": "stdout",
     "output_type": "stream",
     "text": [
      "26.666666666666664\n"
     ]
    }
   ],
   "source": [
    "GradosCel = fahrenheitAcelsius(80)\n",
    "print(GradosCel)"
   ]
  },
  {
   "cell_type": "code",
   "execution_count": 47,
   "id": "fcb70fc5",
   "metadata": {},
   "outputs": [
    {
     "name": "stdout",
     "output_type": "stream",
     "text": [
      "10.0\n"
     ]
    }
   ],
   "source": [
    "GradosCel = fahrenheitAcelsius(50)\n",
    "print(GradosCel)"
   ]
  },
  {
   "cell_type": "code",
   "execution_count": 48,
   "id": "8fa24bf1",
   "metadata": {},
   "outputs": [],
   "source": [
    "# creamos la funcion de test de celsius a fahrenheit\n",
    "def fahrenheitAcelsius_test():\n",
    "    n1 = 10\n",
    "    if fahrenheitAcelsius(n1) == -12.222222222222221:\n",
    "        print(\"ok\")\n",
    "    else:\n",
    "        print(\"fail\")\n",
    "        \n",
    "    n2 = 80\n",
    "    if fahrenheitAcelsius(n2) == 26.666666666666664:\n",
    "        print(\"ok\")\n",
    "    else:\n",
    "        print(\"fail\")\n",
    "        \n",
    "    n3 = 50\n",
    "    if fahrenheitAcelsius(n3) == 10.0:\n",
    "        print(\"ok\")\n",
    "    else:\n",
    "        print(\"fail\")"
   ]
  },
  {
   "cell_type": "code",
   "execution_count": 49,
   "id": "efb6f7a9",
   "metadata": {},
   "outputs": [
    {
     "name": "stdout",
     "output_type": "stream",
     "text": [
      "ok\n",
      "ok\n",
      "ok\n"
     ]
    }
   ],
   "source": [
    "# llamamos la funcion para verificar si los datos son correctos\n",
    "fahrenheitAcelsius_test()"
   ]
  },
  {
   "cell_type": "code",
   "execution_count": 50,
   "id": "1b38549e",
   "metadata": {},
   "outputs": [
    {
     "name": "stdout",
     "output_type": "stream",
     "text": [
      "Factorial de 8 es 40320\n"
     ]
    }
   ],
   "source": [
    "# creamos una funcion de factorial usando un ciclo WHILE\n",
    "def factorial(num): \n",
    "    if num < 0: \n",
    "        print(\"El número factorial es negativo\")\n",
    "\n",
    "    elif num == 0: \n",
    "        return 1\n",
    "        \n",
    "    else: \n",
    "        fact = 1\n",
    "        while(num > 1): \n",
    "            fact *= num \n",
    "            num -= 1\n",
    "        return fact \n",
    "\n",
    "num = 8; \n",
    "\n",
    "print(\"Factorial de\", num, \"es\", factorial(num))     "
   ]
  },
  {
   "cell_type": "code",
   "execution_count": 51,
   "id": "817db848",
   "metadata": {},
   "outputs": [],
   "source": [
    "# o la creamos la funcion de factorial con un ciclo FOR\n",
    "def facty(num):\n",
    "    resultado = 1\n",
    "    for i in range(1, num+1):\n",
    "        \n",
    "        resultado = i * resultado\n",
    "        \n",
    "    return(resultado) \n",
    "    "
   ]
  },
  {
   "cell_type": "code",
   "execution_count": 52,
   "id": "b1c51d75",
   "metadata": {},
   "outputs": [
    {
     "data": {
      "text/plain": [
       "40320"
      ]
     },
     "execution_count": 52,
     "metadata": {},
     "output_type": "execute_result"
    }
   ],
   "source": [
    "numero = facty(8)\n",
    "numero"
   ]
  },
  {
   "cell_type": "code",
   "execution_count": 53,
   "id": "e0c27b86",
   "metadata": {},
   "outputs": [
    {
     "data": {
      "text/plain": [
       "720"
      ]
     },
     "execution_count": 53,
     "metadata": {},
     "output_type": "execute_result"
    }
   ],
   "source": [
    "numero2 = facty(6)\n",
    "numero2"
   ]
  },
  {
   "cell_type": "code",
   "execution_count": 54,
   "id": "3d3c4743",
   "metadata": {},
   "outputs": [
    {
     "data": {
      "text/plain": [
       "120"
      ]
     },
     "execution_count": 54,
     "metadata": {},
     "output_type": "execute_result"
    }
   ],
   "source": [
    "numero3 = facty(5)\n",
    "numero3"
   ]
  },
  {
   "cell_type": "code",
   "execution_count": 55,
   "id": "cf31d573",
   "metadata": {},
   "outputs": [
    {
     "data": {
      "text/plain": [
       "24"
      ]
     },
     "execution_count": 55,
     "metadata": {},
     "output_type": "execute_result"
    }
   ],
   "source": [
    "numero4 = facty(4)\n",
    "numero4"
   ]
  },
  {
   "cell_type": "code",
   "execution_count": 56,
   "id": "045d35c0",
   "metadata": {},
   "outputs": [],
   "source": [
    "# creamos la funcion de test de factorial\n",
    "def facty_test():\n",
    "    numero = 8\n",
    "    if facty(numero) == 40320:\n",
    "        print(\"ok\")\n",
    "    else:\n",
    "        print(\"fail\")\n",
    "        \n",
    "    numero2 = 6\n",
    "    if facty(numero2) == 720:\n",
    "        print(\"ok\")\n",
    "    else:\n",
    "        print(\"fail\")\n",
    "        \n",
    "    numero3 = 5\n",
    "    if facty(numero3) == 120:\n",
    "        print(\"ok\")\n",
    "    else:\n",
    "        print(\"fail\")\n",
    "        \n",
    "    numero4 = 4\n",
    "    if facty(numero4) == 24:\n",
    "        print(\"ok\")\n",
    "    else:\n",
    "        print(\"fail\")"
   ]
  },
  {
   "cell_type": "code",
   "execution_count": 57,
   "id": "025c25b7",
   "metadata": {},
   "outputs": [
    {
     "name": "stdout",
     "output_type": "stream",
     "text": [
      "ok\n",
      "ok\n",
      "ok\n",
      "ok\n"
     ]
    }
   ],
   "source": [
    "# llamamos la funcion para verificar si los datos son correctos\n",
    "facty_test()"
   ]
  },
  {
   "cell_type": "code",
   "execution_count": 58,
   "id": "b3590395",
   "metadata": {},
   "outputs": [
    {
     "name": "stdout",
     "output_type": "stream",
     "text": [
      "     dado1  dado2  dado3  dado4  resultado  resultado2\n",
      "0        1      6      1      5         13         NaN\n",
      "1        3      2      4      1         10         NaN\n",
      "2        6      6      2      1         15         NaN\n",
      "3        2      1      1      2          6         NaN\n",
      "4        2      5      3      5         15         NaN\n",
      "..     ...    ...    ...    ...        ...         ...\n",
      "995      5      4      6      1         16         NaN\n",
      "996      2      3      2      3         10         NaN\n",
      "997      6      5      1      3         15         NaN\n",
      "998      5      4      2      2         13         NaN\n",
      "999      2      6      3      5         16         NaN\n",
      "\n",
      "[1000 rows x 6 columns]\n"
     ]
    }
   ],
   "source": [
    "#Funciones de distribución Distribución Gaussiana o Normal\n",
    "# Creamos dataframe con 1000 tiradas dobles de dado\n",
    "n = 5\n",
    "df = pd.DataFrame(np.random.randint(1, 7, size=(1000, 4)), columns=['dado1', 'dado2', \"dado3\", \"dado4\"])\n",
    "df['resultado'] = df.dado1 + df.dado2 + df.dado3 + df.dado4\n",
    "df[\"resultado2\"] = df.iloc[0] + df.iloc[1] + df.iloc[2] + df.iloc[3]\n",
    "print(df)"
   ]
  },
  {
   "cell_type": "code",
   "execution_count": 66,
   "id": "7bc79352",
   "metadata": {},
   "outputs": [
    {
     "data": {
      "text/plain": [
       "Text(0.5, 0, 'Resultado de los dos dados')"
      ]
     },
     "execution_count": 66,
     "metadata": {},
     "output_type": "execute_result"
    },
    {
     "data": {
      "image/png": "[encoded data removed]",
      "text/plain": [
       "<Figure size 432x288 with 1 Axes>"
      ]
     },
     "metadata": {
      "needs_background": "light"
     },
     "output_type": "display_data"
    }
   ],
   "source": [
    "plt.hist(df.resultado, bins=20, density=True)\n",
    "plt.ylabel('Probabilidad del evento')\n",
    "plt.xlabel('Resultado de los dos dados')"
   ]
  },
  {
   "cell_type": "code",
   "execution_count": 60,
   "id": "345445c7",
   "metadata": {},
   "outputs": [],
   "source": [
    "# Crear una función que genere (devuelva) un número aleatorio con media = 0 y desviación estándard = 1 \n",
    "mu, sigma = 0, 1\n",
    "noise1 = np.random.normal(mu, sigma, 1000)"
   ]
  },
  {
   "cell_type": "code",
   "execution_count": 61,
   "id": "e4dd6fcf",
   "metadata": {},
   "outputs": [],
   "source": [
    "def random01():\n",
    "    mu, sigma = 0, 1\n",
    "    r = np.random.normal(mu, sigma, 1)\n",
    "    return r[0]"
   ]
  },
  {
   "cell_type": "code",
   "execution_count": 62,
   "id": "93d8dc3f",
   "metadata": {},
   "outputs": [
    {
     "data": {
      "text/plain": [
       "-0.26152529481281783"
      ]
     },
     "execution_count": 62,
     "metadata": {},
     "output_type": "execute_result"
    }
   ],
   "source": [
    "random01()"
   ]
  },
  {
   "cell_type": "code",
   "execution_count": 63,
   "id": "a5e56670",
   "metadata": {},
   "outputs": [],
   "source": [
    "def randomIn():\n",
    "    r = random01()\n",
    "    print(r)\n",
    "    if r > -1 and r < 1:\n",
    "        return True\n",
    "    else:\n",
    "        return False"
   ]
  },
  {
   "cell_type": "code",
   "execution_count": 64,
   "id": "486391eb",
   "metadata": {},
   "outputs": [
    {
     "name": "stdout",
     "output_type": "stream",
     "text": [
      "-1.495518045374706\n"
     ]
    },
    {
     "data": {
      "text/plain": [
       "False"
      ]
     },
     "execution_count": 64,
     "metadata": {},
     "output_type": "execute_result"
    }
   ],
   "source": [
    "randomIn()"
   ]
  },
  {
   "cell_type": "code",
   "execution_count": 65,
   "id": "19893a42",
   "metadata": {},
   "outputs": [
    {
     "name": "stdout",
     "output_type": "stream",
     "text": [
      "0.4544627447543337\n",
      "0.18090737097017187\n",
      "2.144019048276561\n",
      "0.16424177958110364\n",
      "1.3894534528954436\n",
      "-0.28563942004313503\n",
      "-0.5189946746000716\n",
      "-1.6073722160988149\n",
      "-1.3963108933514692\n",
      "1.8927859352798333\n",
      "-1.8455469564549107\n",
      "0.8113074313874461\n",
      "0.7450976710523513\n",
      "0.7331144161280849\n",
      "-1.269446599672214\n",
      "1.0409834942458251\n",
      "-1.80064900533284\n",
      "0.46841607268751434\n",
      "-0.9020147647859708\n",
      "-0.5289336555370061\n",
      "0.485508201983466\n",
      "-0.5685674600551002\n",
      "0.39979880183586414\n",
      "1.0658538439437568\n",
      "-1.1127820101408683\n",
      "-1.585243562396548\n",
      "1.5255196955343306\n",
      "-1.1808641600549876\n",
      "1.5365466848990588\n",
      "0.9120230137062215\n",
      "0.5126675272857223\n",
      "0.6974988284866382\n",
      "0.9186641393177898\n",
      "-1.0168573322431491\n",
      "-1.1802944148515029\n",
      "-1.0323700470542365\n",
      "-0.36485274068931584\n",
      "-0.9678724338330552\n",
      "-1.4038422146435594\n",
      "0.8714250380233892\n",
      "-0.0819227359428551\n",
      "-0.2280527317051163\n",
      "-0.39571093689854875\n",
      "-1.0001729841480136\n",
      "-0.49685941325953353\n",
      "-0.7593215856645524\n",
      "-0.23747215676294461\n",
      "-0.7384851765157877\n",
      "0.9256010323918342\n",
      "2.190852370880257\n",
      "-0.622221129920597\n",
      "0.40951727785836267\n",
      "-0.34980980973766707\n",
      "-0.5529054692762042\n",
      "-0.36880964154628576\n",
      "0.3207859288350018\n",
      "0.43250538813991046\n",
      "-0.5264450048408313\n",
      "0.11834373219135183\n",
      "0.5527551940331924\n",
      "0.2719882036217142\n",
      "1.4742144212261235\n",
      "-0.14677355397525765\n",
      "-2.5644649065965677\n",
      "0.864339232651928\n",
      "0.5567484377644213\n",
      "-0.5962590720621481\n",
      "1.3565542044745824\n",
      "-0.48312207032208626\n",
      "-0.8004825143286702\n",
      "-0.8159984767133462\n",
      "0.041900204971093785\n",
      "-1.2961875308271527\n",
      "-1.369201149486365\n",
      "0.2755315675549376\n",
      "-1.3947450141812627\n",
      "-1.2738594149752651\n",
      "0.6723295359489523\n",
      "0.8119659232829107\n",
      "-0.6169280059267186\n",
      "-0.05839909122898221\n",
      "-1.7937813677862642\n",
      "-0.3854678770761923\n",
      "-0.02594640654757791\n",
      "-0.1234809167717883\n",
      "1.1866229942579112\n",
      "0.6380480037631738\n",
      "1.6451255187096263\n",
      "0.19445364087489278\n",
      "-1.206328638971701\n",
      "-1.482924106855512\n",
      "0.4933308473657315\n",
      "0.8430062241206868\n",
      "-0.43726368716996006\n",
      "-0.6843701564531467\n",
      "-0.13916523641414486\n",
      "-0.7372888961466473\n",
      "1.2372693127924366\n",
      "0.5809019959837015\n",
      "-0.040641783588130115\n",
      "-1.8448421232584848\n",
      "0.6079372955554565\n",
      "0.44089995555664496\n",
      "1.1287522761949964\n",
      "0.6434549736639767\n",
      "-0.41564474679042585\n",
      "0.24275945352381403\n",
      "1.2373511666776684\n",
      "1.4548484967294861\n",
      "-1.0593455138265975\n",
      "1.4085524567157746\n",
      "0.1456372021590861\n",
      "-1.3997347119218853\n",
      "-0.5881287008416465\n",
      "0.870609398072141\n",
      "0.652832562965058\n",
      "-0.4208514381814356\n",
      "0.7175056197409402\n",
      "-0.03282692069599377\n",
      "-0.3376295411444998\n",
      "0.33465437281149124\n",
      "0.038779666841713564\n",
      "-0.7054117758427138\n",
      "0.5940947251827255\n",
      "0.9580841254788924\n",
      "2.033702488264891\n",
      "0.490738188520059\n",
      "-1.1310959137892944\n",
      "0.8706384592219445\n",
      "-2.0607495400902294\n",
      "-0.005655826767092617\n",
      "-0.9531729915936488\n",
      "0.20299602945600592\n",
      "0.5010994903902809\n",
      "-0.20794390474611063\n",
      "-0.23584638244569645\n",
      "-0.0500471356742387\n",
      "0.23851093270811666\n",
      "0.3373616674771217\n",
      "0.659701687956231\n",
      "0.43366804441009177\n",
      "1.701269413528741\n",
      "1.0201763721195851\n",
      "-1.0358998829608017\n",
      "0.20689032396730123\n",
      "0.35674524448824846\n",
      "-0.37975620807856797\n",
      "-1.7327575758279812\n",
      "0.5215257320093948\n",
      "-0.5906625694201538\n",
      "2.4024920335299735\n",
      "0.03624950751522082\n",
      "0.1130013780107584\n",
      "1.0539493508507785\n",
      "-2.1978592877931735\n",
      "-1.0871729594140165\n",
      "-0.5532345426732032\n",
      "-0.5706353169705914\n",
      "-0.012366994155921409\n",
      "-1.2475017509711024\n",
      "0.006599772273432238\n",
      "0.268341690607646\n",
      "0.6049617090008514\n",
      "0.46353178801933637\n",
      "2.1937981069734893\n",
      "2.216595885391212\n",
      "-1.3664191925453184\n",
      "0.38204460732060885\n",
      "0.7084363967677096\n",
      "0.6905154616011645\n",
      "0.8595299650959352\n",
      "0.4485322362245127\n",
      "0.17044824202985867\n",
      "0.5755518086680564\n",
      "0.008438657073516263\n",
      "-2.61821033336752\n",
      "-0.45743785499118933\n",
      "0.4690694289841659\n",
      "-0.7451474704791927\n",
      "0.5323421336849473\n",
      "-1.7651875456168393\n",
      "0.5231939052428973\n",
      "-0.3327019879010163\n",
      "-0.1715995899800728\n",
      "-0.7864805752850963\n",
      "1.496047174821816\n",
      "-1.4993957044498636\n",
      "0.9347958438167373\n",
      "-0.1504199229015447\n",
      "0.31886425443431343\n",
      "-0.8404805634095572\n",
      "0.2592550209681172\n",
      "-1.7451803114526763\n",
      "-0.4547785859220237\n",
      "-0.4566230291195228\n",
      "1.094761237440859\n",
      "-1.312885876538981\n",
      "-1.7196322972760845\n",
      "0.1682601834509\n",
      "-1.6117503313066892\n",
      "0.10737569082497911\n",
      "1.7140528380171627\n",
      "0.03312263262550359\n",
      "-0.9678001489153376\n",
      "0.6333394753798892\n",
      "-0.19937691713798955\n",
      "-0.8310256316637163\n",
      "-0.982545532471717\n",
      "0.2681498544357409\n",
      "0.13603717647952174\n",
      "-0.42896947316707207\n",
      "1.218330986323643\n",
      "-2.390529151172097\n",
      "0.5064236402042481\n",
      "-1.7036493823386514\n",
      "-1.000178690826803\n",
      "0.14999481433110365\n",
      "0.22677301496797186\n",
      "-0.40552763434205036\n",
      "-0.471943833271542\n",
      "-1.9085488973188778\n",
      "0.5732441337963459\n",
      "-0.5137913834017187\n",
      "0.40946957616188084\n",
      "0.45503075001525306\n",
      "-0.38805391099155595\n",
      "-2.1342631956347224\n",
      "1.799944003814065\n",
      "-0.8950420704078498\n",
      "1.452620787009754\n",
      "1.2310319627735442\n",
      "1.959663036019913\n",
      "-0.9634555119606\n",
      "1.0714545194052325\n",
      "-1.4757977999452552\n",
      "-0.316539515410012\n",
      "-1.9142105971825574\n",
      "-2.0008406105430794\n",
      "0.005156284935563008\n",
      "1.38763459889319\n",
      "-0.8122538024651775\n",
      "1.2481869288284118\n",
      "0.7887424415090984\n",
      "-0.6838922470681323\n",
      "-0.28444130880862706\n",
      "-1.3761339656638165\n",
      "0.9817959814726146\n",
      "-0.10837458414941609\n",
      "0.3227740145695608\n",
      "-1.2425408365159138\n",
      "1.593608506983338\n",
      "0.5848735629491105\n",
      "0.5780268941720064\n",
      "0.321889971422778\n",
      "1.4467235590633627\n",
      "-0.8071247277223199\n",
      "0.9937903274335381\n",
      "3.3129857201441757\n",
      "0.9093286626981776\n",
      "-2.1934668162546767\n",
      "-0.16607580126786464\n",
      "-0.7701678848692701\n",
      "-0.6939287887062828\n",
      "-1.3643856062118598\n",
      "0.1430806416134862\n",
      "-0.813493023895676\n",
      "-0.29031592868768513\n",
      "0.6002514461494771\n",
      "1.4987733200846216\n",
      "0.6489371447173808\n",
      "0.2597318359214144\n",
      "-0.4802068499658861\n",
      "-0.4361299083498376\n",
      "0.18341009932331673\n",
      "-1.1808518026909993\n",
      "0.5548541946319705\n",
      "1.8043634927587302\n",
      "-0.23303510652606726\n",
      "1.6350809014226442\n",
      "0.36481205999057537\n",
      "0.11248269335369691\n",
      "-1.6172060635348182\n",
      "-2.0964682270646517\n",
      "-0.3092473759843264\n",
      "-0.9374954067769238\n",
      "0.33448629784165734\n",
      "0.5069656096412025\n",
      "2.2559922698055894\n",
      "0.46405333614375643\n",
      "1.3799694728796637\n",
      "1.1506276870241123\n",
      "0.8133189258595769\n",
      "0.6861563030183345\n",
      "-0.39665363812998977\n",
      "-0.17114452951770062\n",
      "-1.301940788978483\n",
      "0.9038266367238258\n",
      "-1.4999561076309522\n",
      "0.37274571049325983\n",
      "-0.3757559674560367\n",
      "0.23264075671488313\n",
      "0.14739928060295554\n",
      "-0.9523248611667581\n",
      "0.7040332498121082\n",
      "-1.2502112308618787\n",
      "2.2925132750512804\n",
      "2.2801819021317704\n",
      "1.1510682860203816\n",
      "0.2088697740167245\n",
      "1.0625841234280016\n",
      "-0.757784479301759\n",
      "0.18989510082743843\n",
      "0.02220242598089643\n",
      "1.2812396627482037\n",
      "1.2476788366926657\n",
      "-0.36979861539747017\n",
      "0.6367594212350769\n",
      "0.20687881831929072\n",
      "-1.0673879616057216\n",
      "-0.8305868735500543\n",
      "1.385239004227704\n",
      "0.29009661782475543\n",
      "-0.004815465922264622\n",
      "-0.10453665285781279\n",
      "0.11202472067315736\n",
      "1.0979963065490088\n",
      "0.5207101644319628\n",
      "1.0422609705863026\n",
      "0.3127895505278301\n",
      "-0.18433895479862197\n",
      "-0.3466083721826464\n",
      "-0.5414138518984905\n",
      "1.598999967600691\n",
      "1.0147959171392291\n",
      "0.17305033848391346\n",
      "-0.8476164399967325\n",
      "0.8740080485365436\n",
      "2.1943387800967393\n",
      "-2.490476664729311\n",
      "0.3945448142854415\n",
      "-0.6978713495388051\n",
      "-0.9248939695799746\n",
      "1.463171693273699\n",
      "-0.2293042485481586\n",
      "1.8377351266977218\n",
      "1.8593662837948477\n",
      "-0.1644321494141885\n",
      "-0.025796340744554103\n",
      "-0.5329621087596622\n",
      "-0.6300202050421164\n",
      "-0.6402961715081341\n",
      "-0.2971867834520336\n",
      "0.12873058354247918\n",
      "0.35960034399718316\n",
      "-0.6026087201423033\n",
      "0.29985429011441855\n",
      "-1.119532502078872\n",
      "0.26241669871680334\n",
      "-0.04848839891788364\n",
      "0.31876140514513623\n",
      "-1.3333146278877788\n",
      "1.606584702616357\n",
      "-0.060172054043586935\n",
      "0.8318727575680481\n",
      "0.1942768631987655\n",
      "-0.7555038726728879\n",
      "0.11386098373999823\n",
      "-0.09750472011627252\n",
      "0.9778413706147355\n",
      "0.07590816564804863\n",
      "0.17258449762456368\n",
      "-0.7280642742219947\n",
      "0.5232065329441226\n",
      "0.014964687312925381\n",
      "0.018776762150452656\n",
      "0.05867498018772466\n",
      "0.9829488938455769\n",
      "0.21741498792247246\n",
      "-0.9817284066788116\n",
      "0.07869241487377944\n",
      "-0.5667573067270231\n",
      "0.4508574434475754\n",
      "-0.39574993403888276\n",
      "-2.3903845525583147\n",
      "0.15282247485419298\n",
      "-2.070039654484989\n",
      "0.19101974065415794\n",
      "0.19047523886279158\n",
      "0.4389693951801566\n",
      "2.109880618701081\n",
      "1.0801737361338002\n",
      "0.3253617910560112\n",
      "-1.862081354492789\n",
      "-0.7320510356410592\n",
      "-1.1528778431713127\n",
      "-0.6098647459945465\n",
      "-1.2742828544136708\n",
      "0.08682320786003607\n",
      "-1.8071003290478966\n",
      "-0.4545703915394591\n",
      "0.841039987555255\n",
      "-1.2435747165604822\n",
      "0.772863653805671\n",
      "-0.48817832796424226\n",
      "-0.19485056331437636\n",
      "1.4822439690902478\n",
      "-0.22795846047885096\n",
      "1.52829577727122\n",
      "0.6922161503429138\n",
      "1.1129736433366735\n",
      "0.31547525608741905\n",
      "0.5760263499522484\n",
      "0.1349383977043217\n",
      "-0.1075336667256075\n",
      "2.001811741146948\n",
      "0.4909900194722266\n",
      "-0.47696991598481825\n",
      "-0.6673724290220429\n",
      "0.8193830877659362\n",
      "-1.7174339008206514\n",
      "1.1067313137536041\n",
      "-1.6017044514220333\n",
      "0.473921019955865\n",
      "0.024096687025820303\n",
      "-0.6314689946550738\n",
      "1.520220102325165\n",
      "0.8772295887680058\n",
      "0.4018078653676107\n",
      "-0.5346582959424793\n",
      "0.4107282465060589\n",
      "-0.7443795953121191\n",
      "0.8284418426181636\n",
      "1.439218483069186\n",
      "0.26133821909651644\n",
      "-0.11170985628092282\n",
      "-2.3486607866209597\n",
      "-0.07157210161804295\n",
      "-0.15394291264041904\n",
      "0.2631663339750068\n",
      "-2.207729458299819\n",
      "0.325218476357714\n",
      "-0.8544508986988752\n",
      "0.8026363231773779\n",
      "-2.4316834366261615\n",
      "2.2063482780857546\n",
      "-0.4198345175514579\n",
      "0.6116703534053985\n",
      "-1.0479364274838592\n",
      "0.9995444272008445\n",
      "-0.7283456281623614\n",
      "-0.7581585299257816\n",
      "-0.16477853621471053\n",
      "-0.15000361895455513\n",
      "1.591196725227668\n",
      "-2.0077494318984344\n",
      "-1.4080747550840438\n",
      "-0.29788305580270547\n",
      "-0.7971895486199599\n",
      "0.1343468483594943\n",
      "2.0189762914956826\n",
      "0.07708963552341287\n",
      "0.5366087635312585\n",
      "-1.4253628777491678\n",
      "0.07481764372699719\n",
      "-0.4887239258929456\n",
      "1.1074721154849656\n",
      "0.24394671761253153\n",
      "0.6073443590790917\n",
      "-1.594902348275288\n",
      "-0.650859711106786\n",
      "-1.240956454050956\n",
      "0.2277861683657888\n",
      "-1.5874156545117866\n",
      "1.3054324326571747\n",
      "0.8598483766921566\n",
      "2.053258658424407\n",
      "0.49858227633444013\n",
      "2.811936483987258\n",
      "0.46314452808361806\n",
      "-1.5528843399968582\n",
      "1.807217370331077\n",
      "-0.1730349985005655\n",
      "0.14225912935453305\n",
      "-0.2518762603683473\n",
      "1.0252803383349314\n",
      "-0.13977824731487312\n",
      "-0.07143924167218423\n",
      "1.0765554158704609\n",
      "-1.802498441232979\n",
      "0.3744568567003716\n",
      "-2.870891862430646\n",
      "-1.941539959415787\n",
      "1.2452934732306506\n",
      "0.8794499671956053\n",
      "0.03518415960966804\n",
      "-0.05204517594015663\n",
      "0.4680538990648813\n",
      "-2.3659580798642565\n",
      "-0.08431890132427541\n",
      "-1.1339396082376665\n",
      "-1.2886620877244004\n",
      "-0.028630582093487875\n",
      "1.8188562075486796\n",
      "-1.8726307596621992\n",
      "-0.4646209122940817\n",
      "-0.37500314014037545\n",
      "-1.9118492621738867\n",
      "0.629070134771227\n",
      "-0.3821746945798012\n",
      "0.6167838866576192\n",
      "-0.843199725061676\n",
      "1.1069932608948252\n",
      "1.1070539869038234\n",
      "-0.7168516615685407\n",
      "-1.9242297421065058\n",
      "-0.17127481703854341\n",
      "-0.4609130125871639\n",
      "1.2325887341742512\n",
      "0.17708252029227176\n",
      "1.067457873915857\n",
      "-1.3314444361282838\n",
      "-0.845526235887362\n",
      "1.6743587196082879\n",
      "0.6730905303461865\n",
      "-1.9930569468779953\n",
      "-1.6984740493442496\n",
      "0.3548281797976039\n",
      "-1.1762738865765174\n",
      "-0.9650983528258693\n",
      "-0.8789990661761816\n",
      "-1.219093998499481\n",
      "0.7296344302524314\n",
      "1.9842769426923592\n",
      "1.6024848794470183\n",
      "-0.9879225768739797\n",
      "0.998323321523417\n",
      "1.1856661244811617\n",
      "0.637498473983711\n",
      "1.0724241629726352\n",
      "0.5209202846789562\n",
      "-1.5160976480271777\n",
      "-1.4294995835890196\n",
      "0.17039049595724357\n",
      "0.7570218706115515\n",
      "-0.8062103017501402\n",
      "-0.4764177853293621\n",
      "-1.4345549759194538\n",
      "-1.6367697108885733\n",
      "-1.460325631909314\n",
      "0.5251983548109801\n",
      "0.3574564734090412\n",
      "-1.0939958167287767\n",
      "-0.20143149520804385\n",
      "-0.7288182699903238\n",
      "-0.18752468961248048\n",
      "-1.580347582737865\n",
      "0.6101489663944406\n",
      "-1.3337218102791242\n",
      "1.5254161493139171\n",
      "0.7570271852029711\n",
      "1.0322294086677462\n",
      "0.07341547412714344\n",
      "0.8442572399859363\n",
      "-0.3049867211343989\n",
      "0.13414342836140716\n",
      "-0.5534369528141849\n",
      "-0.5428247592779156\n",
      "-0.5100028536987071\n",
      "0.34413657980887397\n",
      "0.6010834487578645\n",
      "-0.6309972661927183\n",
      "0.7946571893099941\n",
      "-1.5644467448546366\n",
      "1.5579375871047123\n",
      "-1.0074713848077814\n",
      "-1.6696041971530593\n",
      "0.8342761200580907\n",
      "-0.7991122731608181\n",
      "-0.30402198887672743\n",
      "0.9872860961683053\n",
      "-0.9100522596857187\n",
      "0.8418995131183541\n",
      "-0.47255829375317826\n",
      "-1.085191111415287\n",
      "0.04468918715810917\n",
      "0.021327560941066904\n",
      "-0.6200941746404777\n",
      "0.5245010851188604\n",
      "-2.6583824532451215\n",
      "-0.329381946140106\n",
      "0.8290268348947208\n",
      "-0.511052760013322\n",
      "0.07710620674118432\n",
      "0.4418836998462484\n",
      "-2.577568630356716\n",
      "1.1396146182221283\n",
      "-1.4858536010175305\n",
      "1.1703372509002747\n",
      "-1.4379309292385105\n",
      "1.5132599981309962\n",
      "-1.14947059200405\n",
      "0.5781109492125787\n",
      "-0.06065446690906746\n",
      "1.132059405063498\n",
      "-0.7864979695769602\n",
      "0.7388136770311841\n",
      "-1.093709779238223\n",
      "-0.02065923674702014\n",
      "-2.1279610863945737\n",
      "-0.9747423996570543\n",
      "0.5699614282236041\n",
      "2.5031742717354337\n",
      "0.09754769326671393\n",
      "1.0581073568429296\n",
      "-0.516634708348038\n",
      "-0.5152273978171121\n",
      "-0.14819358831804852\n",
      "-0.33258842212382156\n",
      "0.6711728446354022\n",
      "-0.8072687349766076\n",
      "-0.6188668941829465\n",
      "1.1062695348435962\n",
      "-0.9416351805267215\n",
      "-0.604421645065003\n",
      "0.10575237441033136\n",
      "-0.1966053426958055\n",
      "-0.20987118961967188\n",
      "2.255268191344467\n",
      "1.401674509035808\n",
      "0.5625205648188504\n",
      "-0.5265792218949309\n",
      "-0.2997294416167302\n",
      "-0.5702381966341861\n",
      "-0.6353358968856249\n",
      "-0.8614797946486692\n",
      "1.2981548744031564\n",
      "-1.1423269973869932\n",
      "0.7790168907815824\n",
      "1.4401390317518357\n",
      "0.13099243831661556\n",
      "1.86264500022304\n",
      "0.9017633301511617\n",
      "-0.14682511272781557\n",
      "-0.288222694160501\n",
      "0.5088265998218329\n",
      "0.7908254684247877\n",
      "-0.285602147893182\n",
      "1.5220419653699702\n",
      "1.9309762074996804\n",
      "-0.5326406308983133\n",
      "0.013162080623490207\n",
      "0.3044948284257841\n",
      "-0.7929113355791889\n",
      "-1.323471643115843\n",
      "-0.38593303244638166\n",
      "-0.5070560172992152\n",
      "1.085996722386058\n",
      "0.1412548691545236\n",
      "-0.07143078871577349\n",
      "-2.631414944460139\n",
      "0.5376044531955098\n",
      "0.39524200634390927\n",
      "-0.07350816833163393\n",
      "-0.3135290567157796\n",
      "-1.4042938153218694\n",
      "0.9546317014566735\n",
      "-2.4121056614424408\n",
      "1.2696968603262648\n",
      "0.646051289088942\n",
      "-0.06565680939326922\n",
      "-0.6514534730515094\n",
      "0.4541493413301752\n",
      "0.6116390441455133\n",
      "-0.26994096368224607\n",
      "-0.2657066709210546\n",
      "0.5949332421076708\n",
      "-0.2788462181091967\n",
      "-0.6828018424155006\n",
      "0.08694963668109604\n",
      "-0.051376461508291026\n",
      "-1.091950093305759\n",
      "1.3805111025779722\n",
      "0.2656380925311977\n",
      "1.2747971551439954\n",
      "-1.1548177206690289\n",
      "2.5643358068818545\n",
      "-0.5850678274615746\n",
      "-0.6615837204147561\n",
      "-1.5465673914003206\n",
      "-1.135567215203586\n",
      "1.2224354260763421\n",
      "0.7151287590428923\n",
      "-0.8717843539407791\n",
      "-1.478178569188715\n",
      "0.3422133693292557\n",
      "-0.6927899346857621\n",
      "-0.06142572374230268\n",
      "-1.3948441527027828\n",
      "0.1144349442334855\n",
      "0.3088443820120817\n",
      "0.29977485804840115\n",
      "-1.7037339659852018\n",
      "0.8862314855699205\n",
      "-0.3717570975743829\n",
      "-1.0934899120533794\n",
      "0.4409198128175416\n",
      "0.179357156967402\n",
      "-0.36452390986615385\n",
      "0.730052503330363\n",
      "0.06719925712788909\n",
      "-2.029471517135829\n",
      "-1.5608713952250546\n",
      "1.2859393521699638\n",
      "0.019885670076841836\n",
      "2.532098633174284\n",
      "-0.10145334574619629\n",
      "-0.5489729714262715\n",
      "-0.401362070869842\n",
      "-0.07110571202310663\n",
      "0.27502677939892717\n",
      "-1.578419196850094\n",
      "0.47427726579286217\n",
      "0.28714195965375816\n",
      "1.0870826055803031\n",
      "-0.3603295347248813\n",
      "0.7369263813790742\n",
      "0.5914614408686703\n",
      "-1.5193415238436607\n",
      "1.7814183266913717\n",
      "-0.30772132161370125\n",
      "1.0718963849906329\n",
      "0.011635496865127387\n",
      "-0.7686317724020924\n",
      "-0.8342192034857577\n",
      "-0.5660108160186977\n",
      "0.8433377475243817\n",
      "0.07412713047829876\n",
      "-0.47518301043331557\n",
      "0.3622125326280276\n",
      "-0.9218223100254986\n",
      "1.2216354362096993\n",
      "0.26061563952999056\n",
      "-1.051631668030707\n",
      "0.2298054663508443\n",
      "-0.17024568934357157\n",
      "0.2882514437751217\n",
      "-0.3772414508193182\n",
      "1.1481562575648003\n",
      "-1.8384919749596424\n",
      "0.47659099534308963\n",
      "0.5904026953956057\n",
      "0.5592078294754698\n",
      "-0.7923649950143825\n",
      "-1.6587201148468382\n",
      "-2.040488777145771\n",
      "1.8284473567881558\n",
      "0.015048434233888951\n",
      "-2.0258053082044567\n",
      "1.8006562012008136\n",
      "0.15823849812134952\n",
      "0.1755909455083123\n",
      "-0.40017234493416376\n",
      "0.5063053403912376\n",
      "0.08287104853774284\n",
      "-0.31540559513396615\n",
      "0.911397014384697\n",
      "-0.35145681263699663\n",
      "-1.457978482231547\n",
      "-1.2985818595284926\n",
      "0.6239198030607258\n",
      "-0.9647155962928666\n",
      "1.1947258612513132\n",
      "-1.3981534123728954\n",
      "1.0514789900090817\n",
      "-0.1982340078061436\n",
      "1.1608230461861706\n",
      "0.041909297630309504\n",
      "-1.3092760572026347\n",
      "-0.7298496602897262\n",
      "0.5836479471095819\n",
      "-0.5551387991306587\n",
      "-0.8195444724306642\n",
      "-0.1860538045388914\n",
      "-0.173843743068933\n",
      "0.01121834261971607\n",
      "-0.41361771342913384\n",
      "1.1838722634151768\n",
      "0.6238622359152339\n",
      "-0.972897283334201\n",
      "-0.06171728504443039\n",
      "0.20344364898982767\n",
      "-0.16428686834297873\n",
      "-0.4622051686088094\n",
      "-1.1481245928996697\n",
      "0.505128046219985\n",
      "2.0964655134892807\n",
      "0.6650645305103281\n",
      "-0.20395487934577222\n",
      "-0.6263985253499132\n",
      "1.3490817631312197\n",
      "-0.4400956528478276\n",
      "-2.5235212431290988\n",
      "-0.6400916937853505\n",
      "-0.0530995451254872\n",
      "-0.00030342594836652525\n",
      "1.3769058226135642\n",
      "1.415764560481974\n",
      "1.1659112561134215\n",
      "-1.8493902038824748\n",
      "0.8505175302480621\n",
      "-0.9504632787528609\n",
      "-0.41100766940209826\n",
      "-0.008258347977352167\n",
      "-0.1327881923759562\n",
      "-2.086922554598842\n",
      "-0.6904344331417412\n",
      "-0.08767036840863493\n",
      "0.3222191951177467\n",
      "0.048447065674568086\n",
      "0.46505782598388423\n",
      "-0.6917894148547756\n",
      "1.5465684932966182\n",
      "-1.8419442704143876\n",
      "0.2917461233056114\n",
      "0.17710061526631415\n",
      "-1.552886722363853\n",
      "-0.07173920759302832\n",
      "0.5667822358015315\n",
      "0.0010359152155951373\n",
      "0.44789651070424974\n",
      "-1.1011486517597133\n",
      "0.4898292864871501\n",
      "0.22460855820731085\n",
      "-1.647268965604124\n",
      "-1.1434595862734764\n",
      "-0.08231682437287301\n",
      "0.11043283972991509\n",
      "-0.7966350800884853\n",
      "0.5233552242949365\n",
      "0.1387377670309805\n",
      "0.11478138581134538\n",
      "2.640728470793163\n",
      "-1.242146401947282\n",
      "0.6345369423119473\n",
      "0.2737832075231469\n",
      "-0.7749793011048998\n",
      "-0.2659760521726076\n",
      "0.40422139160497844\n",
      "1.2699619799748514\n",
      "0.9765519846877064\n",
      "-0.9401084233996775\n",
      "0.8932888359637837\n",
      "-0.901752323812561\n",
      "0.39276974293488415\n",
      "0.07812106038886758\n",
      "-0.22000079194383523\n",
      "-0.9271173383028767\n",
      "-0.34144761328519974\n",
      "-0.6071111667938471\n",
      "-1.271020014395558\n",
      "-0.5979367153690667\n",
      "0.3627528155192164\n",
      "-0.10398538976680882\n",
      "0.7035570383714156\n",
      "-0.7135178177147291\n",
      "0.25828590296729703\n",
      "-0.05140654367202045\n",
      "2.2307785202905217\n",
      "-0.9866606424921702\n",
      "0.1116628744715671\n",
      "1.0733594824227533\n",
      "-0.42809723900326835\n",
      "-0.7464943786732643\n",
      "-0.4305264872154301\n",
      "-0.925955535276958\n",
      "0.3655554116403615\n",
      "0.8019346544949316\n",
      "-0.8784429163277406\n",
      "-1.8692417962099777\n",
      "2.225692590486354\n",
      "0.20803801561180965\n",
      "1.9425268181200699\n",
      "-0.2103233416537953\n",
      "-0.21986124634250626\n",
      "-0.2397958868948924\n",
      "-1.7962202590719085\n",
      "0.8742979847816773\n",
      "0.38134560899989184\n",
      "-1.104702934082705\n",
      "-0.9833136287579712\n",
      "-1.3108570724062476\n",
      "-1.085538181628305\n",
      "0.16632939542720282\n",
      "-0.3622604049652586\n",
      "-0.9327671234875985\n",
      "-0.8574765232041254\n",
      "0.28379807170511906\n",
      "0.6090579684348526\n",
      "0.3853196959382237\n",
      "0.06991856738882848\n",
      "0.9958422905535925\n",
      "-0.6785561461195581\n",
      "0.6754806232638356\n",
      "0.10883128011427164\n",
      "-0.5237325679318683\n",
      "0.2346342523979527\n",
      "0.8671474799618514\n",
      "-0.18241987797362053\n",
      "0.26772516859644163\n",
      "2.1772507001898527\n",
      "1.8302020880544942\n",
      "0.873132892388818\n",
      "-1.4347140183163511\n",
      "1.496911739574577\n",
      "-0.2644312633727413\n",
      "-1.5799960501128272\n",
      "-0.925088473796211\n",
      "0.5272785787638736\n",
      "0.16831358647117936\n",
      "0.8190923428271333\n",
      "0.43358946898735096\n",
      "1.8087554754801962\n",
      "-0.6472123257744715\n",
      "-1.7899683685237235\n",
      "-2.122955811603049\n",
      "-0.9389196428922542\n",
      "1.3128200759403057\n",
      "-0.20383327736497797\n",
      "0.06600641996928303\n",
      "0.7078792159275012\n",
      "2.3375675355250407\n",
      "-0.3586365243831281\n",
      "-0.10127927630752363\n",
      "1.0615071121418327\n",
      "-0.02941723870022419\n",
      "0.3523296309090536\n",
      "1.047883068863941\n",
      "0.41594925142435146\n",
      "-0.15582918654449593\n",
      "0.388043602436445\n",
      "-0.0821796885880967\n",
      "0.13380690511750762\n",
      "1.142487860021908\n",
      "-0.06436824892252846\n",
      "0.833141794504267\n",
      "1.4706771250564616\n",
      "1.2807226025806813\n",
      "-0.6694984428641093\n",
      "0.20745210519889065\n",
      "-0.8313782874863708\n",
      "0.36452334039655415\n",
      "-0.2435436152824979\n",
      "-1.0446675906677\n",
      "-0.44379406020002865\n",
      "0.09637859630280016\n",
      "0.5724987249602315\n",
      "0.7411254478422534\n",
      "0.015120021471547677\n",
      "-1.1676213932989434\n",
      "-0.41775618978028933\n",
      "-2.131202516865947\n",
      "-0.2531322893191354\n",
      "-0.41666720728650636\n",
      "-1.1337511430089344\n",
      "0.27320313382924855\n",
      "0.20111739147290272\n",
      "-1.1270881478045118\n",
      "1.164232280175905\n",
      "-1.0904278079924976\n",
      "0.8568881158223506\n",
      "0.7002935899766844\n",
      "-0.5683930327591235\n",
      "-1.3005236187573268\n",
      "-1.7326071764075903\n",
      "-0.037131580003491205\n",
      "-0.10529342880154219\n",
      "0.1458498640740832\n",
      "1.346791443332\n",
      "-0.8440764719123713\n",
      "-0.02402541787680768\n",
      "-0.7733174862505156\n",
      "-0.8596745639097773\n",
      "-0.4094221854335981\n",
      "1.3031158701928653\n",
      "0.12863665841755953\n",
      "0.1402546627328582\n",
      "-0.09940772272077342\n",
      "-0.5863179937080139\n",
      "-1.4345707628684132\n",
      "0.42744338539587556\n",
      "0.3263335765009055\n",
      "-0.3709429146137209\n",
      "0.2811545346115188\n",
      "1.2341737907949304\n",
      "-1.763825338804979\n",
      "0.5777022305526092\n",
      "0.833730605103207\n",
      "-0.7305404849403203\n",
      "-0.8796939149087402\n",
      "-0.012576640608127103\n",
      "677\n",
      "323\n"
     ]
    }
   ],
   "source": [
    "contadorTrue = 0\n",
    "contadorFalse = 0\n",
    "for i in range(0, 1000):\n",
    "    resultado = randomIn()\n",
    "    if resultado == True:\n",
    "        contadorTrue = contadorTrue + 1\n",
    "    else:\n",
    "        contadorFalse = contadorFalse + 1\n",
    "print(contadorTrue)\n",
    "print(contadorFalse)"
   ]
  },
  {
   "cell_type": "code",
   "execution_count": null,
   "id": "3bd9365e",
   "metadata": {},
   "outputs": [],
   "source": [
    "#Funciones de distribución Distribución Gaussiana o Normal\n",
    "# Creamos dataframe con 1000 tiradas dobles de dado\n",
    "n = 5\n",
    "df = pd.DataFrame(np.random.randint(1, 7, size=(1000, 4)), columns=['dado1', 'dado2', \"dado3\", \"dado4\"])\n",
    "df['resultado'] = df.dado1 + df.dado2 + df.dado3 + df.dado4\n",
    "df[\"resultado2\"] = df.iloc[0] + df.iloc[1] + df.iloc[2] + df.iloc[3]\n",
    "print(df)"
   ]
  },
  {
   "cell_type": "code",
   "execution_count": 129,
   "id": "38a8684f",
   "metadata": {},
   "outputs": [],
   "source": [
    "def dados(n):\n",
    "    df = pd.DataFrame(np.random.randint(1, 7, size=(100000, n)))\n",
    "    df['resultado'] = df.iloc[:, 0:n].sum(axis= 1) \n",
    "    return df\n",
    "    "
   ]
  },
  {
   "cell_type": "code",
   "execution_count": 130,
   "id": "ed8490d3",
   "metadata": {},
   "outputs": [
    {
     "data": {
      "text/html": [
       "<div>\n",
       "<style scoped>\n",
       "    .dataframe tbody tr th:only-of-type {\n",
       "        vertical-align: middle;\n",
       "    }\n",
       "\n",
       "    .dataframe tbody tr th {\n",
       "        vertical-align: top;\n",
       "    }\n",
       "\n",
       "    .dataframe thead th {\n",
       "        text-align: right;\n",
       "    }\n",
       "</style>\n",
       "<table border=\"1\" class=\"dataframe\">\n",
       "  <thead>\n",
       "    <tr style=\"text-align: right;\">\n",
       "      <th></th>\n",
       "      <th>0</th>\n",
       "      <th>resultado</th>\n",
       "    </tr>\n",
       "  </thead>\n",
       "  <tbody>\n",
       "    <tr>\n",
       "      <th>0</th>\n",
       "      <td>6</td>\n",
       "      <td>6</td>\n",
       "    </tr>\n",
       "    <tr>\n",
       "      <th>1</th>\n",
       "      <td>2</td>\n",
       "      <td>2</td>\n",
       "    </tr>\n",
       "    <tr>\n",
       "      <th>2</th>\n",
       "      <td>4</td>\n",
       "      <td>4</td>\n",
       "    </tr>\n",
       "    <tr>\n",
       "      <th>3</th>\n",
       "      <td>4</td>\n",
       "      <td>4</td>\n",
       "    </tr>\n",
       "    <tr>\n",
       "      <th>4</th>\n",
       "      <td>2</td>\n",
       "      <td>2</td>\n",
       "    </tr>\n",
       "    <tr>\n",
       "      <th>...</th>\n",
       "      <td>...</td>\n",
       "      <td>...</td>\n",
       "    </tr>\n",
       "    <tr>\n",
       "      <th>99995</th>\n",
       "      <td>1</td>\n",
       "      <td>1</td>\n",
       "    </tr>\n",
       "    <tr>\n",
       "      <th>99996</th>\n",
       "      <td>2</td>\n",
       "      <td>2</td>\n",
       "    </tr>\n",
       "    <tr>\n",
       "      <th>99997</th>\n",
       "      <td>5</td>\n",
       "      <td>5</td>\n",
       "    </tr>\n",
       "    <tr>\n",
       "      <th>99998</th>\n",
       "      <td>6</td>\n",
       "      <td>6</td>\n",
       "    </tr>\n",
       "    <tr>\n",
       "      <th>99999</th>\n",
       "      <td>4</td>\n",
       "      <td>4</td>\n",
       "    </tr>\n",
       "  </tbody>\n",
       "</table>\n",
       "<p>100000 rows × 2 columns</p>\n",
       "</div>"
      ],
      "text/plain": [
       "       0  resultado\n",
       "0      6          6\n",
       "1      2          2\n",
       "2      4          4\n",
       "3      4          4\n",
       "4      2          2\n",
       "...   ..        ...\n",
       "99995  1          1\n",
       "99996  2          2\n",
       "99997  5          5\n",
       "99998  6          6\n",
       "99999  4          4\n",
       "\n",
       "[100000 rows x 2 columns]"
      ]
     },
     "execution_count": 130,
     "metadata": {},
     "output_type": "execute_result"
    }
   ],
   "source": [
    "result = dados(1)\n",
    "result"
   ]
  },
  {
   "cell_type": "code",
   "execution_count": 131,
   "id": "36698dbe",
   "metadata": {},
   "outputs": [
    {
     "data": {
      "text/plain": [
       "Text(0.5, 0, 'Resultado de los dos dados')"
      ]
     },
     "execution_count": 131,
     "metadata": {},
     "output_type": "execute_result"
    },
    {
     "data": {
      "image/png": "[encoded data removed]",
      "text/plain": [
       "<Figure size 432x288 with 1 Axes>"
      ]
     },
     "metadata": {
      "needs_background": "light"
     },
     "output_type": "display_data"
    }
   ],
   "source": [
    "plt.hist(result.resultado, bins=27, density=True)\n",
    "plt.ylabel('Probabilidad del evento')\n",
    "plt.xlabel('Resultado de los dos dados')"
   ]
  },
  {
   "cell_type": "code",
   "execution_count": 132,
   "id": "1cc7a23d",
   "metadata": {},
   "outputs": [
    {
     "data": {
      "text/html": [
       "<div>\n",
       "<style scoped>\n",
       "    .dataframe tbody tr th:only-of-type {\n",
       "        vertical-align: middle;\n",
       "    }\n",
       "\n",
       "    .dataframe tbody tr th {\n",
       "        vertical-align: top;\n",
       "    }\n",
       "\n",
       "    .dataframe thead th {\n",
       "        text-align: right;\n",
       "    }\n",
       "</style>\n",
       "<table border=\"1\" class=\"dataframe\">\n",
       "  <thead>\n",
       "    <tr style=\"text-align: right;\">\n",
       "      <th></th>\n",
       "      <th>0</th>\n",
       "      <th>resultado</th>\n",
       "    </tr>\n",
       "  </thead>\n",
       "  <tbody>\n",
       "    <tr>\n",
       "      <th>count</th>\n",
       "      <td>100000.000000</td>\n",
       "      <td>100000.000000</td>\n",
       "    </tr>\n",
       "    <tr>\n",
       "      <th>mean</th>\n",
       "      <td>3.500430</td>\n",
       "      <td>3.500430</td>\n",
       "    </tr>\n",
       "    <tr>\n",
       "      <th>std</th>\n",
       "      <td>1.706602</td>\n",
       "      <td>1.706602</td>\n",
       "    </tr>\n",
       "    <tr>\n",
       "      <th>min</th>\n",
       "      <td>1.000000</td>\n",
       "      <td>1.000000</td>\n",
       "    </tr>\n",
       "    <tr>\n",
       "      <th>25%</th>\n",
       "      <td>2.000000</td>\n",
       "      <td>2.000000</td>\n",
       "    </tr>\n",
       "    <tr>\n",
       "      <th>50%</th>\n",
       "      <td>4.000000</td>\n",
       "      <td>4.000000</td>\n",
       "    </tr>\n",
       "    <tr>\n",
       "      <th>75%</th>\n",
       "      <td>5.000000</td>\n",
       "      <td>5.000000</td>\n",
       "    </tr>\n",
       "    <tr>\n",
       "      <th>max</th>\n",
       "      <td>6.000000</td>\n",
       "      <td>6.000000</td>\n",
       "    </tr>\n",
       "  </tbody>\n",
       "</table>\n",
       "</div>"
      ],
      "text/plain": [
       "                   0      resultado\n",
       "count  100000.000000  100000.000000\n",
       "mean        3.500430       3.500430\n",
       "std         1.706602       1.706602\n",
       "min         1.000000       1.000000\n",
       "25%         2.000000       2.000000\n",
       "50%         4.000000       4.000000\n",
       "75%         5.000000       5.000000\n",
       "max         6.000000       6.000000"
      ]
     },
     "execution_count": 132,
     "metadata": {},
     "output_type": "execute_result"
    }
   ],
   "source": [
    "result.describe()"
   ]
  },
  {
   "cell_type": "code",
   "execution_count": 133,
   "id": "a691b29a",
   "metadata": {},
   "outputs": [],
   "source": [
    "def esPar(n):\n",
    "    if n % 2 == 0:\n",
    "        return True\n",
    "    else:\n",
    "        return False     "
   ]
  },
  {
   "cell_type": "code",
   "execution_count": 134,
   "id": "d11987ee",
   "metadata": {},
   "outputs": [
    {
     "data": {
      "text/plain": [
       "True"
      ]
     },
     "execution_count": 134,
     "metadata": {},
     "output_type": "execute_result"
    }
   ],
   "source": [
    "paridad = esPar(12)\n",
    "paridad"
   ]
  },
  {
   "cell_type": "code",
   "execution_count": 135,
   "id": "b46e8778",
   "metadata": {},
   "outputs": [
    {
     "name": "stdout",
     "output_type": "stream",
     "text": [
      "       0  resultado  paridad\n",
      "0      6          6     True\n",
      "1      2          2     True\n",
      "2      4          4     True\n",
      "3      4          4     True\n",
      "4      2          2     True\n",
      "...   ..        ...      ...\n",
      "99995  1          1    False\n",
      "99996  2          2     True\n",
      "99997  5          5    False\n",
      "99998  6          6     True\n",
      "99999  4          4     True\n",
      "\n",
      "[100000 rows x 3 columns]\n"
     ]
    }
   ],
   "source": [
    "result[\"paridad\"] = result[0].map(lambda x: esPar(x))\n",
    "print(result)"
   ]
  },
  {
   "cell_type": "code",
   "execution_count": 138,
   "id": "e3d50dfd",
   "metadata": {},
   "outputs": [
    {
     "data": {
      "text/plain": [
       "0  resultado  paridad\n",
       "3  3          False      16782\n",
       "5  5          False      16737\n",
       "1  1          False      16732\n",
       "4  4          True       16725\n",
       "6  6          True       16583\n",
       "2  2          True       16441\n",
       "dtype: int64"
      ]
     },
     "execution_count": 138,
     "metadata": {},
     "output_type": "execute_result"
    }
   ],
   "source": [
    "result.value_counts()"
   ]
  },
  {
   "cell_type": "code",
   "execution_count": null,
   "id": "7e79a9af",
   "metadata": {},
   "outputs": [],
   "source": []
  },
  {
   "cell_type": "code",
   "execution_count": null,
   "id": "9559bd61",
   "metadata": {},
   "outputs": [],
   "source": []
  }
 ],
 "metadata": {
  "kernelspec": {
   "display_name": "Python 3 (ipykernel)",
   "language": "python",
   "name": "python3"
  },
  "language_info": {
   "codemirror_mode": {
    "name": "ipython",
    "version": 3
   },
   "file_extension": ".py",
   "mimetype": "text/x-python",
   "name": "python",
   "nbconvert_exporter": "python",
   "pygments_lexer": "ipython3",
   "version": "3.9.12"
  }
 },
 "nbformat": 4,
 "nbformat_minor": 5
}
