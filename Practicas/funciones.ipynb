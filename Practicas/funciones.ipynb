{
 "cells": [
  {
   "cell_type": "markdown",
   "id": "ed2c57cb",
   "metadata": {},
   "source": [
    "1.- Escribe una función que extraiga de una lista de números el menor y el mayor.\n",
    "\n",
    "2.- Escribe otra función que haga de test de la primera con los siguientes casos:\n",
    "\n",
    "    [1,2,3,4,5,6,7,8,9]\n",
    "    [9,8,7,6,5,4,3,2,1]\n",
    "    [0,-1,9,-12]\n",
    "    [0, 0, 0]\n",
    "    [-1]\n",
    "    []\n",
    "\n",
    "    La función de test dará un ok por cada respuesta correcta y un fail en caso contrario.\n",
    "\n",
    "3.- Escribe una función que sume los números de una lista.\n",
    "\n",
    "4.- Escribe su función de test\n",
    "\n",
    "Suerte!"
   ]
  },
  {
   "cell_type": "code",
   "execution_count": 59,
   "id": "b8fab483",
   "metadata": {},
   "outputs": [],
   "source": [
    "import pandas as pd\n",
    "import numpy as np\n",
    "import matplotlib.pyplot as plt\n",
    "import numpy as np\n",
    "%matplotlib inline\n",
    "import random"
   ]
  },
  {
   "cell_type": "code",
   "execution_count": 2,
   "id": "373b4397",
   "metadata": {},
   "outputs": [],
   "source": [
    "def numeroMayor(listaNumeros):\n",
    "    mayor = 0\n",
    "    for n in listaNumeros:\n",
    "        if n > mayor:\n",
    "            mayor = n\n",
    "\n",
    "    return(mayor)"
   ]
  },
  {
   "cell_type": "code",
   "execution_count": 3,
   "id": "59751bbf",
   "metadata": {},
   "outputs": [],
   "source": [
    "lista = [1, 2, 3, 4, 5, 6, 7, 8, 9]"
   ]
  },
  {
   "cell_type": "code",
   "execution_count": 4,
   "id": "641be26f",
   "metadata": {},
   "outputs": [
    {
     "data": {
      "text/plain": [
       "9"
      ]
     },
     "execution_count": 4,
     "metadata": {},
     "output_type": "execute_result"
    }
   ],
   "source": [
    "numeroMayor(lista)"
   ]
  },
  {
   "cell_type": "code",
   "execution_count": 5,
   "id": "071e60ae",
   "metadata": {},
   "outputs": [],
   "source": [
    "def numerosMyM(listaNumeros):\n",
    "    if len(listaNumeros) == 0:\n",
    "        return(0, 0)   \n",
    "    mayor = listaNumeros[0]\n",
    "    menor = listaNumeros[0]\n",
    "    for n in listaNumeros:\n",
    "        if n > mayor:\n",
    "            mayor = n\n",
    "        if n < menor:\n",
    "            menor = n\n",
    "\n",
    "    return(menor, mayor)"
   ]
  },
  {
   "cell_type": "code",
   "execution_count": 6,
   "id": "280de486",
   "metadata": {},
   "outputs": [],
   "source": [
    "lista = [1, 2, 3, 4, 5, 6, 7, 8, 9]"
   ]
  },
  {
   "cell_type": "code",
   "execution_count": 7,
   "id": "fd405c0b",
   "metadata": {},
   "outputs": [
    {
     "data": {
      "text/plain": [
       "(1, 9)"
      ]
     },
     "execution_count": 7,
     "metadata": {},
     "output_type": "execute_result"
    }
   ],
   "source": [
    "numerosMyM(lista)"
   ]
  },
  {
   "cell_type": "code",
   "execution_count": 8,
   "id": "c0eb0993",
   "metadata": {},
   "outputs": [],
   "source": [
    "lista2 = [9, 8, 7, 6, 5, 4, 3, 2, 1]"
   ]
  },
  {
   "cell_type": "code",
   "execution_count": 9,
   "id": "172d603a",
   "metadata": {},
   "outputs": [
    {
     "data": {
      "text/plain": [
       "(1, 9)"
      ]
     },
     "execution_count": 9,
     "metadata": {},
     "output_type": "execute_result"
    }
   ],
   "source": [
    "numerosMyM(lista2)"
   ]
  },
  {
   "cell_type": "code",
   "execution_count": 10,
   "id": "bb5f3a2b",
   "metadata": {},
   "outputs": [],
   "source": [
    "lista3 = [0,-1, 9,-12]"
   ]
  },
  {
   "cell_type": "code",
   "execution_count": 11,
   "id": "45d125fc",
   "metadata": {},
   "outputs": [
    {
     "data": {
      "text/plain": [
       "(-12, 9)"
      ]
     },
     "execution_count": 11,
     "metadata": {},
     "output_type": "execute_result"
    }
   ],
   "source": [
    "numerosMyM(lista3)"
   ]
  },
  {
   "cell_type": "code",
   "execution_count": 12,
   "id": "cd3b9d21",
   "metadata": {},
   "outputs": [],
   "source": [
    "lista4 = [0, 0, 0]"
   ]
  },
  {
   "cell_type": "code",
   "execution_count": 13,
   "id": "8df3e8a5",
   "metadata": {},
   "outputs": [
    {
     "data": {
      "text/plain": [
       "(0, 0)"
      ]
     },
     "execution_count": 13,
     "metadata": {},
     "output_type": "execute_result"
    }
   ],
   "source": [
    "numerosMyM(lista4)"
   ]
  },
  {
   "cell_type": "code",
   "execution_count": 14,
   "id": "03dd6e84",
   "metadata": {},
   "outputs": [],
   "source": [
    "lista5 = [-1]"
   ]
  },
  {
   "cell_type": "code",
   "execution_count": 15,
   "id": "0600e055",
   "metadata": {},
   "outputs": [
    {
     "data": {
      "text/plain": [
       "(-1, -1)"
      ]
     },
     "execution_count": 15,
     "metadata": {},
     "output_type": "execute_result"
    }
   ],
   "source": [
    "numerosMyM(lista5)"
   ]
  },
  {
   "cell_type": "code",
   "execution_count": 16,
   "id": "4d26b688",
   "metadata": {},
   "outputs": [],
   "source": [
    "lista6 = []"
   ]
  },
  {
   "cell_type": "code",
   "execution_count": 17,
   "id": "7b9658f8",
   "metadata": {},
   "outputs": [
    {
     "data": {
      "text/plain": [
       "(0, 0)"
      ]
     },
     "execution_count": 17,
     "metadata": {},
     "output_type": "execute_result"
    }
   ],
   "source": [
    "numerosMyM(lista6)"
   ]
  },
  {
   "cell_type": "code",
   "execution_count": 18,
   "id": "7723738b",
   "metadata": {},
   "outputs": [],
   "source": [
    "\n",
    "def numerosMyM_test():\n",
    "    lista = [1, 2, 3, 4, 5, 6, 7, 8, 9]\n",
    "    numerosMyM(lista)\n",
    "    if numerosMyM(lista) == (1, 9):\n",
    "        print( \"ok\")\n",
    "    else:\n",
    "        print(\"fail\")\n",
    "    "
   ]
  },
  {
   "cell_type": "code",
   "execution_count": 19,
   "id": "a3770b51",
   "metadata": {},
   "outputs": [
    {
     "name": "stdout",
     "output_type": "stream",
     "text": [
      "ok\n"
     ]
    }
   ],
   "source": [
    "numerosMyM_test()"
   ]
  },
  {
   "cell_type": "code",
   "execution_count": 20,
   "id": "ba4e088d",
   "metadata": {},
   "outputs": [],
   "source": [
    "def suma(notas):\n",
    "    \n",
    "    # variable que contendrá el resultado de la suma de las notas \n",
    "    # con el valor 0, lo que indica que la suma aún no se ha realizado\n",
    "    sumaDeNotas = 0\n",
    "    \n",
    "    # A partir de ahí, un enfoque que podemos seguir es a través de una\n",
    "    # iteración sobre la lista de notas. Es decir para cada nota, su valor se\n",
    "    # agrega a la variable suma_de_notas, de la siguiente manera\n",
    "    for nota in notas:\n",
    "        sumaDeNotas += nota\n",
    "\n",
    "    return(sumaDeNotas)\n"
   ]
  },
  {
   "cell_type": "code",
   "execution_count": 21,
   "id": "939b1035",
   "metadata": {},
   "outputs": [],
   "source": [
    "notas = [1,2,3,4,5,6,7,8,9]\n",
    "notas1 = [9,8,7,6,5,4,3,2,1]\n",
    "notas2 = [0,-1,9,-12]\n",
    "notas3 = [0, 0, 0]\n",
    "notas4 = [-1]\n",
    "notas5 = []"
   ]
  },
  {
   "cell_type": "code",
   "execution_count": 22,
   "id": "3a2becd0",
   "metadata": {
    "scrolled": true
   },
   "outputs": [
    {
     "name": "stdout",
     "output_type": "stream",
     "text": [
      "45\n"
     ]
    }
   ],
   "source": [
    "sumaDeNotas = suma(notas)\n",
    "print(sumaDeNotas)"
   ]
  },
  {
   "cell_type": "code",
   "execution_count": 23,
   "id": "a7e1b0cd",
   "metadata": {},
   "outputs": [
    {
     "name": "stdout",
     "output_type": "stream",
     "text": [
      "45\n"
     ]
    }
   ],
   "source": [
    "sumaDeNotas = suma(notas1)\n",
    "print(sumaDeNotas)"
   ]
  },
  {
   "cell_type": "code",
   "execution_count": 24,
   "id": "c544b0d0",
   "metadata": {},
   "outputs": [
    {
     "name": "stdout",
     "output_type": "stream",
     "text": [
      "-4\n"
     ]
    }
   ],
   "source": [
    "sumaDeNotas = suma(notas2)\n",
    "print(sumaDeNotas)"
   ]
  },
  {
   "cell_type": "code",
   "execution_count": 25,
   "id": "a7e4d7fb",
   "metadata": {},
   "outputs": [
    {
     "name": "stdout",
     "output_type": "stream",
     "text": [
      "0\n"
     ]
    }
   ],
   "source": [
    "sumaDeNotas = suma(notas3)\n",
    "print(sumaDeNotas)"
   ]
  },
  {
   "cell_type": "code",
   "execution_count": 26,
   "id": "b81fbfbc",
   "metadata": {},
   "outputs": [
    {
     "name": "stdout",
     "output_type": "stream",
     "text": [
      "-1\n"
     ]
    }
   ],
   "source": [
    "sumaDeNotas = suma(notas4)\n",
    "print(sumaDeNotas)"
   ]
  },
  {
   "cell_type": "code",
   "execution_count": 27,
   "id": "36894aca",
   "metadata": {},
   "outputs": [
    {
     "name": "stdout",
     "output_type": "stream",
     "text": [
      "0\n"
     ]
    }
   ],
   "source": [
    "sumaDeNotas = suma(notas5)\n",
    "print(sumaDeNotas)"
   ]
  },
  {
   "cell_type": "code",
   "execution_count": 28,
   "id": "10f7b2ed",
   "metadata": {},
   "outputs": [
    {
     "name": "stdout",
     "output_type": "stream",
     "text": [
      "-4\n"
     ]
    }
   ],
   "source": [
    "# otra opcion de sumar una lista es con la funcion de python sum()\n",
    "laSuma = sum(notas2)\n",
    "print(laSuma)"
   ]
  },
  {
   "cell_type": "code",
   "execution_count": 29,
   "id": "c8bc0b73",
   "metadata": {},
   "outputs": [],
   "source": [
    "# Hcemos el test de la funcion de suma.\n",
    "def suma_test():\n",
    "    notas = [1, 2, 3, 4, 5, 6, 7, 8, 9]\n",
    "    if suma(notas) == 45:\n",
    "        print( \"ok\")\n",
    "    else:\n",
    "        print(\"fail\")\n",
    "    \n",
    "    notas1 = [9,8,7,6,5,4,3,2,1]\n",
    "    if suma(notas1) == 45:\n",
    "        print( \"ok\")\n",
    "    else:\n",
    "        print(\"fail\")\n",
    "        \n",
    "    notas2 = [0,-1,9,-12]\n",
    "    if suma(notas2) == -4:\n",
    "        print( \"ok\")\n",
    "    else:\n",
    "        print(\"fail\")\n",
    "    \n",
    "    notas3 = [0, 0, 0]\n",
    "    if suma(notas3) == 0:\n",
    "        print( \"ok\")\n",
    "    else:\n",
    "        print(\"fail\")\n",
    "        \n",
    "    notas4 = [-1]\n",
    "    if suma(notas4) == -1:\n",
    "        print( \"ok\")\n",
    "    else:\n",
    "        print(\"fail\")\n",
    "    \n",
    "    notas5 = []\n",
    "    if suma(notas5) == 0:\n",
    "        print( \"ok\")\n",
    "    else:\n",
    "        print(\"fail\")\n",
    "        "
   ]
  },
  {
   "cell_type": "code",
   "execution_count": 30,
   "id": "5aee3837",
   "metadata": {},
   "outputs": [
    {
     "name": "stdout",
     "output_type": "stream",
     "text": [
      "ok\n",
      "ok\n",
      "ok\n",
      "ok\n",
      "ok\n",
      "ok\n"
     ]
    }
   ],
   "source": [
    "suma_test()"
   ]
  },
  {
   "cell_type": "code",
   "execution_count": 31,
   "id": "855c912b",
   "metadata": {},
   "outputs": [],
   "source": [
    "# Funcion de pares e impares\n",
    "def numeroPar(n):\n",
    "    if n % 2 == 0:\n",
    "        return(True)\n",
    "    else:\n",
    "        return(False)\n",
    "    "
   ]
  },
  {
   "cell_type": "code",
   "execution_count": 32,
   "id": "09505b90",
   "metadata": {},
   "outputs": [
    {
     "name": "stdout",
     "output_type": "stream",
     "text": [
      "True\n"
     ]
    }
   ],
   "source": [
    "par = numeroPar(2)\n",
    "print(par)"
   ]
  },
  {
   "cell_type": "code",
   "execution_count": 33,
   "id": "7e7c7faa",
   "metadata": {},
   "outputs": [
    {
     "name": "stdout",
     "output_type": "stream",
     "text": [
      "False\n"
     ]
    }
   ],
   "source": [
    "par = numeroPar(1)\n",
    "print(par)"
   ]
  },
  {
   "cell_type": "code",
   "execution_count": 34,
   "id": "10374754",
   "metadata": {},
   "outputs": [
    {
     "name": "stdout",
     "output_type": "stream",
     "text": [
      "True\n"
     ]
    }
   ],
   "source": [
    "par = numeroPar(0)\n",
    "print(par)"
   ]
  },
  {
   "cell_type": "code",
   "execution_count": 35,
   "id": "3a675821",
   "metadata": {},
   "outputs": [
    {
     "name": "stdout",
     "output_type": "stream",
     "text": [
      "False\n"
     ]
    }
   ],
   "source": [
    "par = numeroPar(-1)\n",
    "print(par)"
   ]
  },
  {
   "cell_type": "code",
   "execution_count": 36,
   "id": "d4f5a2af",
   "metadata": {},
   "outputs": [],
   "source": [
    "# Hcemos el test de la funcion de numeros pares.\n",
    "def numeroPar_test():\n",
    "    n1 = 2\n",
    "    if numeroPar(n1) == True:\n",
    "        print(\"ok\")\n",
    "    else:\n",
    "        print(\"fail\")\n",
    "        \n",
    "    n2 = 1\n",
    "    if numeroPar(n2) == False:\n",
    "        print(\"ok\")\n",
    "    else:\n",
    "        print(\"fail\")\n",
    "        \n",
    "    n3 = 0\n",
    "    if numeroPar(n3) == True:\n",
    "        print(\"ok\")\n",
    "    else:\n",
    "        print(\"fail\")\n",
    "        \n",
    "    n4 = -1\n",
    "    if numeroPar(n4) == False:\n",
    "        print(\"ok\")\n",
    "    else:\n",
    "        print(\"fail\")\n",
    "    \n",
    "        "
   ]
  },
  {
   "cell_type": "code",
   "execution_count": 37,
   "id": "85bea174",
   "metadata": {},
   "outputs": [
    {
     "name": "stdout",
     "output_type": "stream",
     "text": [
      "ok\n",
      "ok\n",
      "ok\n",
      "ok\n"
     ]
    }
   ],
   "source": [
    "numeroPar_test()"
   ]
  },
  {
   "cell_type": "code",
   "execution_count": 38,
   "id": "3e9ea36a",
   "metadata": {},
   "outputs": [],
   "source": [
    "# vamos a crear una funcion que convioerta los grados celsius a Fahrenheit\n",
    "def celsiusAfahrenheit(c):\n",
    "    return (c * 1.8) + 32"
   ]
  },
  {
   "cell_type": "code",
   "execution_count": 39,
   "id": "a5ef1c7c",
   "metadata": {},
   "outputs": [
    {
     "name": "stdout",
     "output_type": "stream",
     "text": [
      "68.0\n"
     ]
    }
   ],
   "source": [
    "GradosFa = celsiusAfahrenheit(20)\n",
    "print(GradosFa)"
   ]
  },
  {
   "cell_type": "code",
   "execution_count": 40,
   "id": "bd8a8ddc",
   "metadata": {},
   "outputs": [
    {
     "name": "stdout",
     "output_type": "stream",
     "text": [
      "50.0\n"
     ]
    }
   ],
   "source": [
    "GradosFa = celsiusAfahrenheit(10)\n",
    "print(GradosFa)"
   ]
  },
  {
   "cell_type": "code",
   "execution_count": 41,
   "id": "a6cc7036",
   "metadata": {},
   "outputs": [
    {
     "name": "stdout",
     "output_type": "stream",
     "text": [
      "104.0\n"
     ]
    }
   ],
   "source": [
    "GradosFa = celsiusAfahrenheit(40)\n",
    "print(GradosFa)"
   ]
  },
  {
   "cell_type": "code",
   "execution_count": 42,
   "id": "5f4792ca",
   "metadata": {},
   "outputs": [],
   "source": [
    "# creamos la funcion de test de celsius a fahrenheit\n",
    "def celsiusAfahrenheit_test():\n",
    "    n1 = 20\n",
    "    if celsiusAfahrenheit(n1) == 68.0:\n",
    "        print(\"ok\")\n",
    "    else:\n",
    "        print(\"fail\")\n",
    "        \n",
    "    n2 = 10\n",
    "    if celsiusAfahrenheit(n2) == 50.0:\n",
    "        print(\"ok\")\n",
    "    else:\n",
    "        print(\"fail\")\n",
    "        \n",
    "    n3 = 40\n",
    "    if celsiusAfahrenheit(n3) == 104.0:\n",
    "        print(\"ok\")\n",
    "    else:\n",
    "        print(\"fail\")"
   ]
  },
  {
   "cell_type": "code",
   "execution_count": 43,
   "id": "6d80c90d",
   "metadata": {},
   "outputs": [
    {
     "name": "stdout",
     "output_type": "stream",
     "text": [
      "ok\n",
      "ok\n",
      "ok\n"
     ]
    }
   ],
   "source": [
    "# llamamos la funcion para verificar si los datos son correctos\n",
    "celsiusAfahrenheit_test()"
   ]
  },
  {
   "cell_type": "code",
   "execution_count": 44,
   "id": "2707f077",
   "metadata": {},
   "outputs": [],
   "source": [
    "# vamos a crear una funcion que convioerta los grados Fahrenheit a celsius.\n",
    "def fahrenheitAcelsius(f):\n",
    "    return (f - 32) / 1.8"
   ]
  },
  {
   "cell_type": "code",
   "execution_count": 45,
   "id": "bd0e619c",
   "metadata": {},
   "outputs": [
    {
     "name": "stdout",
     "output_type": "stream",
     "text": [
      "-12.222222222222221\n"
     ]
    }
   ],
   "source": [
    "GradosCel = fahrenheitAcelsius(10)\n",
    "print(GradosCel)"
   ]
  },
  {
   "cell_type": "code",
   "execution_count": 46,
   "id": "05625ffc",
   "metadata": {},
   "outputs": [
    {
     "name": "stdout",
     "output_type": "stream",
     "text": [
      "26.666666666666664\n"
     ]
    }
   ],
   "source": [
    "GradosCel = fahrenheitAcelsius(80)\n",
    "print(GradosCel)"
   ]
  },
  {
   "cell_type": "code",
   "execution_count": 47,
   "id": "fcb70fc5",
   "metadata": {},
   "outputs": [
    {
     "name": "stdout",
     "output_type": "stream",
     "text": [
      "10.0\n"
     ]
    }
   ],
   "source": [
    "GradosCel = fahrenheitAcelsius(50)\n",
    "print(GradosCel)"
   ]
  },
  {
   "cell_type": "code",
   "execution_count": 48,
   "id": "8fa24bf1",
   "metadata": {},
   "outputs": [],
   "source": [
    "# creamos la funcion de test de celsius a fahrenheit\n",
    "def fahrenheitAcelsius_test():\n",
    "    n1 = 10\n",
    "    if fahrenheitAcelsius(n1) == -12.222222222222221:\n",
    "        print(\"ok\")\n",
    "    else:\n",
    "        print(\"fail\")\n",
    "        \n",
    "    n2 = 80\n",
    "    if fahrenheitAcelsius(n2) == 26.666666666666664:\n",
    "        print(\"ok\")\n",
    "    else:\n",
    "        print(\"fail\")\n",
    "        \n",
    "    n3 = 50\n",
    "    if fahrenheitAcelsius(n3) == 10.0:\n",
    "        print(\"ok\")\n",
    "    else:\n",
    "        print(\"fail\")"
   ]
  },
  {
   "cell_type": "code",
   "execution_count": 49,
   "id": "efb6f7a9",
   "metadata": {},
   "outputs": [
    {
     "name": "stdout",
     "output_type": "stream",
     "text": [
      "ok\n",
      "ok\n",
      "ok\n"
     ]
    }
   ],
   "source": [
    "# llamamos la funcion para verificar si los datos son correctos\n",
    "fahrenheitAcelsius_test()"
   ]
  },
  {
   "cell_type": "code",
   "execution_count": 50,
   "id": "1b38549e",
   "metadata": {},
   "outputs": [
    {
     "name": "stdout",
     "output_type": "stream",
     "text": [
      "Factorial de 8 es 40320\n"
     ]
    }
   ],
   "source": [
    "# creamos una funcion de factorial usando un ciclo WHILE\n",
    "def factorial(num): \n",
    "    if num < 0: \n",
    "        print(\"El número factorial es negativo\")\n",
    "\n",
    "    elif num == 0: \n",
    "        return 1\n",
    "        \n",
    "    else: \n",
    "        fact = 1\n",
    "        while(num > 1): \n",
    "            fact *= num \n",
    "            num -= 1\n",
    "        return fact \n",
    "\n",
    "num = 8; \n",
    "\n",
    "print(\"Factorial de\", num, \"es\", factorial(num))     "
   ]
  },
  {
   "cell_type": "code",
   "execution_count": 51,
   "id": "817db848",
   "metadata": {},
   "outputs": [],
   "source": [
    "# o la creamos la funcion de factorial con un ciclo FOR\n",
    "def facty(num):\n",
    "    resultado = 1\n",
    "    for i in range(1, num+1):\n",
    "        \n",
    "        resultado = i * resultado\n",
    "        \n",
    "    return(resultado) \n",
    "    "
   ]
  },
  {
   "cell_type": "code",
   "execution_count": 52,
   "id": "b1c51d75",
   "metadata": {},
   "outputs": [
    {
     "data": {
      "text/plain": [
       "40320"
      ]
     },
     "execution_count": 52,
     "metadata": {},
     "output_type": "execute_result"
    }
   ],
   "source": [
    "numero = facty(8)\n",
    "numero"
   ]
  },
  {
   "cell_type": "code",
   "execution_count": 53,
   "id": "e0c27b86",
   "metadata": {},
   "outputs": [
    {
     "data": {
      "text/plain": [
       "720"
      ]
     },
     "execution_count": 53,
     "metadata": {},
     "output_type": "execute_result"
    }
   ],
   "source": [
    "numero2 = facty(6)\n",
    "numero2"
   ]
  },
  {
   "cell_type": "code",
   "execution_count": 54,
   "id": "3d3c4743",
   "metadata": {},
   "outputs": [
    {
     "data": {
      "text/plain": [
       "120"
      ]
     },
     "execution_count": 54,
     "metadata": {},
     "output_type": "execute_result"
    }
   ],
   "source": [
    "numero3 = facty(5)\n",
    "numero3"
   ]
  },
  {
   "cell_type": "code",
   "execution_count": 55,
   "id": "cf31d573",
   "metadata": {},
   "outputs": [
    {
     "data": {
      "text/plain": [
       "24"
      ]
     },
     "execution_count": 55,
     "metadata": {},
     "output_type": "execute_result"
    }
   ],
   "source": [
    "numero4 = facty(4)\n",
    "numero4"
   ]
  },
  {
   "cell_type": "code",
   "execution_count": 56,
   "id": "045d35c0",
   "metadata": {},
   "outputs": [],
   "source": [
    "# creamos la funcion de test de factorial\n",
    "def facty_test():\n",
    "    numero = 8\n",
    "    if facty(numero) == 40320:\n",
    "        print(\"ok\")\n",
    "    else:\n",
    "        print(\"fail\")\n",
    "        \n",
    "    numero2 = 6\n",
    "    if facty(numero2) == 720:\n",
    "        print(\"ok\")\n",
    "    else:\n",
    "        print(\"fail\")\n",
    "        \n",
    "    numero3 = 5\n",
    "    if facty(numero3) == 120:\n",
    "        print(\"ok\")\n",
    "    else:\n",
    "        print(\"fail\")\n",
    "        \n",
    "    numero4 = 4\n",
    "    if facty(numero4) == 24:\n",
    "        print(\"ok\")\n",
    "    else:\n",
    "        print(\"fail\")"
   ]
  },
  {
   "cell_type": "code",
   "execution_count": 57,
   "id": "025c25b7",
   "metadata": {},
   "outputs": [
    {
     "name": "stdout",
     "output_type": "stream",
     "text": [
      "ok\n",
      "ok\n",
      "ok\n",
      "ok\n"
     ]
    }
   ],
   "source": [
    "# llamamos la funcion para verificar si los datos son correctos\n",
    "facty_test()"
   ]
  },
  {
   "cell_type": "code",
   "execution_count": 78,
   "id": "b3590395",
   "metadata": {},
   "outputs": [
    {
     "name": "stdout",
     "output_type": "stream",
     "text": [
      "     dado1  dado2  dado3  dado4  resultado  resultado2\n",
      "0        2      4      4      6         16         NaN\n",
      "1        5      4      4      2         15         NaN\n",
      "2        4      1      4      2         11         NaN\n",
      "3        1      6      6      6         19         NaN\n",
      "4        4      6      2      1         13         NaN\n",
      "..     ...    ...    ...    ...        ...         ...\n",
      "995      4      4      1      4         13         NaN\n",
      "996      6      2      4      6         18         NaN\n",
      "997      2      1      4      2          9         NaN\n",
      "998      6      2      6      4         18         NaN\n",
      "999      6      4      1      2         13         NaN\n",
      "\n",
      "[1000 rows x 6 columns]\n"
     ]
    }
   ],
   "source": [
    "#Funciones de distribución Distribución Gaussiana o Normal\n",
    "# Creamos dataframe con 1000 tiradas dobles de dado\n",
    "n = 5\n",
    "df = pd.DataFrame(np.random.randint(1, 7, size=(1000, 4)), columns=['dado1', 'dado2', \"dado3\", \"dado4\"])\n",
    "df['resultado'] = df.dado1 + df.dado2 + df.dado3 + df.dado4\n",
    "df[\"resultado2\"] = df.iloc[0] + df.iloc[1] + df.iloc[2] + df.iloc[3]\n",
    "print(df)"
   ]
  },
  {
   "cell_type": "code",
   "execution_count": 75,
   "id": "7bc79352",
   "metadata": {},
   "outputs": [
    {
     "data": {
      "text/plain": [
       "Text(0.5, 0, 'Resultado de los dos dados')"
      ]
     },
     "execution_count": 75,
     "metadata": {},
     "output_type": "execute_result"
    },
    {
     "data": {
      "image/png": "[encoded data removed]",
      "text/plain": [
       "<Figure size 432x288 with 1 Axes>"
      ]
     },
     "metadata": {
      "needs_background": "light"
     },
     "output_type": "display_data"
    }
   ],
   "source": [
    "plt.hist(df.resultado, bins=21, density=True)\n",
    "plt.ylabel('Probabilidad del evento')\n",
    "plt.xlabel('Resultado de los dos dados')"
   ]
  },
  {
   "cell_type": "code",
   "execution_count": null,
   "id": "345445c7",
   "metadata": {},
   "outputs": [],
   "source": []
  }
 ],
 "metadata": {
  "kernelspec": {
   "display_name": "Python 3 (ipykernel)",
   "language": "python",
   "name": "python3"
  },
  "language_info": {
   "codemirror_mode": {
    "name": "ipython",
    "version": 3
   },
   "file_extension": ".py",
   "mimetype": "text/x-python",
   "name": "python",
   "nbconvert_exporter": "python",
   "pygments_lexer": "ipython3",
   "version": "3.9.12"
  }
 },
 "nbformat": 4,
 "nbformat_minor": 5
}
