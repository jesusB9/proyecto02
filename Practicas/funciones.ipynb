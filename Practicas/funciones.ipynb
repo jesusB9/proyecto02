{
 "cells": [
  {
   "cell_type": "markdown",
   "id": "ed2c57cb",
   "metadata": {},
   "source": [
    "1.- Escribe una función que extraiga de una lista de números el menor y el mayor.\n",
    "\n",
    "2.- Escribe otra función que haga de test de la primera con los siguientes casos:\n",
    "\n",
    "    [1,2,3,4,5,6,7,8,9]\n",
    "    [9,8,7,6,5,4,3,2,1]\n",
    "    [0,-1,9,-12]\n",
    "    [0, 0, 0]\n",
    "    [-1]\n",
    "    []\n",
    "\n",
    "    La función de test dará un ok por cada respuesta correcta y un fail en caso contrario.\n",
    "\n",
    "3.- Escribe una función que sume los números de una lista.\n",
    "\n",
    "4.- Escribe su función de test\n",
    "\n",
    "Suerte!"
   ]
  },
  {
   "cell_type": "code",
   "execution_count": 1,
   "id": "b8fab483",
   "metadata": {},
   "outputs": [],
   "source": [
    "import pandas as pd\n",
    "import numpy as np\n",
    "import matplotlib.pyplot as plt\n",
    "import numpy as np\n",
    "%matplotlib inline\n",
    "import random"
   ]
  },
  {
   "cell_type": "code",
   "execution_count": 2,
   "id": "373b4397",
   "metadata": {},
   "outputs": [],
   "source": [
    "def numeroMayor(listaNumeros):\n",
    "    mayor = 0\n",
    "    for n in listaNumeros:\n",
    "        if n > mayor:\n",
    "            mayor = n\n",
    "\n",
    "    return(mayor)"
   ]
  },
  {
   "cell_type": "code",
   "execution_count": 3,
   "id": "59751bbf",
   "metadata": {},
   "outputs": [],
   "source": [
    "lista = [1, 2, 3, 4, 5, 6, 7, 8, 9]"
   ]
  },
  {
   "cell_type": "code",
   "execution_count": 4,
   "id": "641be26f",
   "metadata": {},
   "outputs": [
    {
     "data": {
      "text/plain": [
       "9"
      ]
     },
     "execution_count": 4,
     "metadata": {},
     "output_type": "execute_result"
    }
   ],
   "source": [
    "numeroMayor(lista)"
   ]
  },
  {
   "cell_type": "code",
   "execution_count": 5,
   "id": "071e60ae",
   "metadata": {},
   "outputs": [],
   "source": [
    "def numerosMyM(listaNumeros):\n",
    "    if len(listaNumeros) == 0:\n",
    "        return(0, 0)   \n",
    "    mayor = listaNumeros[0]\n",
    "    menor = listaNumeros[0]\n",
    "    for n in listaNumeros:\n",
    "        if n > mayor:\n",
    "            mayor = n\n",
    "        if n < menor:\n",
    "            menor = n\n",
    "\n",
    "    return(menor, mayor)"
   ]
  },
  {
   "cell_type": "code",
   "execution_count": 6,
   "id": "280de486",
   "metadata": {},
   "outputs": [],
   "source": [
    "lista = [1, 2, 3, 4, 5, 6, 7, 8, 9]"
   ]
  },
  {
   "cell_type": "code",
   "execution_count": 7,
   "id": "fd405c0b",
   "metadata": {},
   "outputs": [
    {
     "data": {
      "text/plain": [
       "(1, 9)"
      ]
     },
     "execution_count": 7,
     "metadata": {},
     "output_type": "execute_result"
    }
   ],
   "source": [
    "numerosMyM(lista)"
   ]
  },
  {
   "cell_type": "code",
   "execution_count": 8,
   "id": "c0eb0993",
   "metadata": {},
   "outputs": [],
   "source": [
    "lista2 = [9, 8, 7, 6, 5, 4, 3, 2, 1]"
   ]
  },
  {
   "cell_type": "code",
   "execution_count": 9,
   "id": "172d603a",
   "metadata": {},
   "outputs": [
    {
     "data": {
      "text/plain": [
       "(1, 9)"
      ]
     },
     "execution_count": 9,
     "metadata": {},
     "output_type": "execute_result"
    }
   ],
   "source": [
    "numerosMyM(lista2)"
   ]
  },
  {
   "cell_type": "code",
   "execution_count": 10,
   "id": "bb5f3a2b",
   "metadata": {},
   "outputs": [],
   "source": [
    "lista3 = [0,-1, 9,-12]"
   ]
  },
  {
   "cell_type": "code",
   "execution_count": 11,
   "id": "45d125fc",
   "metadata": {},
   "outputs": [
    {
     "data": {
      "text/plain": [
       "(-12, 9)"
      ]
     },
     "execution_count": 11,
     "metadata": {},
     "output_type": "execute_result"
    }
   ],
   "source": [
    "numerosMyM(lista3)"
   ]
  },
  {
   "cell_type": "code",
   "execution_count": 12,
   "id": "cd3b9d21",
   "metadata": {},
   "outputs": [],
   "source": [
    "lista4 = [0, 0, 0]"
   ]
  },
  {
   "cell_type": "code",
   "execution_count": 13,
   "id": "8df3e8a5",
   "metadata": {},
   "outputs": [
    {
     "data": {
      "text/plain": [
       "(0, 0)"
      ]
     },
     "execution_count": 13,
     "metadata": {},
     "output_type": "execute_result"
    }
   ],
   "source": [
    "numerosMyM(lista4)"
   ]
  },
  {
   "cell_type": "code",
   "execution_count": 14,
   "id": "03dd6e84",
   "metadata": {},
   "outputs": [],
   "source": [
    "lista5 = [-1]"
   ]
  },
  {
   "cell_type": "code",
   "execution_count": 15,
   "id": "0600e055",
   "metadata": {},
   "outputs": [
    {
     "data": {
      "text/plain": [
       "(-1, -1)"
      ]
     },
     "execution_count": 15,
     "metadata": {},
     "output_type": "execute_result"
    }
   ],
   "source": [
    "numerosMyM(lista5)"
   ]
  },
  {
   "cell_type": "code",
   "execution_count": 16,
   "id": "4d26b688",
   "metadata": {},
   "outputs": [],
   "source": [
    "lista6 = []"
   ]
  },
  {
   "cell_type": "code",
   "execution_count": 17,
   "id": "7b9658f8",
   "metadata": {},
   "outputs": [
    {
     "data": {
      "text/plain": [
       "(0, 0)"
      ]
     },
     "execution_count": 17,
     "metadata": {},
     "output_type": "execute_result"
    }
   ],
   "source": [
    "numerosMyM(lista6)"
   ]
  },
  {
   "cell_type": "code",
   "execution_count": 18,
   "id": "7723738b",
   "metadata": {},
   "outputs": [],
   "source": [
    "\n",
    "def numerosMyM_test():\n",
    "    lista = [1, 2, 3, 4, 5, 6, 7, 8, 9]\n",
    "    numerosMyM(lista)\n",
    "    if numerosMyM(lista) == (1, 9):\n",
    "        print( \"ok\")\n",
    "    else:\n",
    "        print(\"fail\")\n",
    "    "
   ]
  },
  {
   "cell_type": "code",
   "execution_count": 19,
   "id": "a3770b51",
   "metadata": {},
   "outputs": [
    {
     "name": "stdout",
     "output_type": "stream",
     "text": [
      "ok\n"
     ]
    }
   ],
   "source": [
    "numerosMyM_test()"
   ]
  },
  {
   "cell_type": "code",
   "execution_count": 20,
   "id": "ba4e088d",
   "metadata": {},
   "outputs": [],
   "source": [
    "def suma(notas):\n",
    "    \n",
    "    # variable que contendrá el resultado de la suma de las notas \n",
    "    # con el valor 0, lo que indica que la suma aún no se ha realizado\n",
    "    sumaDeNotas = 0\n",
    "    \n",
    "    # A partir de ahí, un enfoque que podemos seguir es a través de una\n",
    "    # iteración sobre la lista de notas. Es decir para cada nota, su valor se\n",
    "    # agrega a la variable suma_de_notas, de la siguiente manera\n",
    "    for nota in notas:\n",
    "        sumaDeNotas += nota\n",
    "\n",
    "    return(sumaDeNotas)\n"
   ]
  },
  {
   "cell_type": "code",
   "execution_count": 21,
   "id": "939b1035",
   "metadata": {},
   "outputs": [],
   "source": [
    "notas = [1,2,3,4,5,6,7,8,9]\n",
    "notas1 = [9,8,7,6,5,4,3,2,1]\n",
    "notas2 = [0,-1,9,-12]\n",
    "notas3 = [0, 0, 0]\n",
    "notas4 = [-1]\n",
    "notas5 = []"
   ]
  },
  {
   "cell_type": "code",
   "execution_count": 22,
   "id": "3a2becd0",
   "metadata": {
    "scrolled": true
   },
   "outputs": [
    {
     "name": "stdout",
     "output_type": "stream",
     "text": [
      "45\n"
     ]
    }
   ],
   "source": [
    "sumaDeNotas = suma(notas)\n",
    "print(sumaDeNotas)"
   ]
  },
  {
   "cell_type": "code",
   "execution_count": 23,
   "id": "a7e1b0cd",
   "metadata": {},
   "outputs": [
    {
     "name": "stdout",
     "output_type": "stream",
     "text": [
      "45\n"
     ]
    }
   ],
   "source": [
    "sumaDeNotas = suma(notas1)\n",
    "print(sumaDeNotas)"
   ]
  },
  {
   "cell_type": "code",
   "execution_count": 24,
   "id": "c544b0d0",
   "metadata": {},
   "outputs": [
    {
     "name": "stdout",
     "output_type": "stream",
     "text": [
      "-4\n"
     ]
    }
   ],
   "source": [
    "sumaDeNotas = suma(notas2)\n",
    "print(sumaDeNotas)"
   ]
  },
  {
   "cell_type": "code",
   "execution_count": 25,
   "id": "a7e4d7fb",
   "metadata": {},
   "outputs": [
    {
     "name": "stdout",
     "output_type": "stream",
     "text": [
      "0\n"
     ]
    }
   ],
   "source": [
    "sumaDeNotas = suma(notas3)\n",
    "print(sumaDeNotas)"
   ]
  },
  {
   "cell_type": "code",
   "execution_count": 26,
   "id": "b81fbfbc",
   "metadata": {},
   "outputs": [
    {
     "name": "stdout",
     "output_type": "stream",
     "text": [
      "-1\n"
     ]
    }
   ],
   "source": [
    "sumaDeNotas = suma(notas4)\n",
    "print(sumaDeNotas)"
   ]
  },
  {
   "cell_type": "code",
   "execution_count": 27,
   "id": "36894aca",
   "metadata": {},
   "outputs": [
    {
     "name": "stdout",
     "output_type": "stream",
     "text": [
      "0\n"
     ]
    }
   ],
   "source": [
    "sumaDeNotas = suma(notas5)\n",
    "print(sumaDeNotas)"
   ]
  },
  {
   "cell_type": "code",
   "execution_count": 28,
   "id": "10f7b2ed",
   "metadata": {},
   "outputs": [
    {
     "name": "stdout",
     "output_type": "stream",
     "text": [
      "-4\n"
     ]
    }
   ],
   "source": [
    "# otra opcion de sumar una lista es con la funcion de python sum()\n",
    "laSuma = sum(notas2)\n",
    "print(laSuma)"
   ]
  },
  {
   "cell_type": "code",
   "execution_count": 29,
   "id": "c8bc0b73",
   "metadata": {},
   "outputs": [],
   "source": [
    "# Hcemos el test de la funcion de suma.\n",
    "def suma_test():\n",
    "    notas = [1, 2, 3, 4, 5, 6, 7, 8, 9]\n",
    "    if suma(notas) == 45:\n",
    "        print( \"ok\")\n",
    "    else:\n",
    "        print(\"fail\")\n",
    "    \n",
    "    notas1 = [9,8,7,6,5,4,3,2,1]\n",
    "    if suma(notas1) == 45:\n",
    "        print( \"ok\")\n",
    "    else:\n",
    "        print(\"fail\")\n",
    "        \n",
    "    notas2 = [0,-1,9,-12]\n",
    "    if suma(notas2) == -4:\n",
    "        print( \"ok\")\n",
    "    else:\n",
    "        print(\"fail\")\n",
    "    \n",
    "    notas3 = [0, 0, 0]\n",
    "    if suma(notas3) == 0:\n",
    "        print( \"ok\")\n",
    "    else:\n",
    "        print(\"fail\")\n",
    "        \n",
    "    notas4 = [-1]\n",
    "    if suma(notas4) == -1:\n",
    "        print( \"ok\")\n",
    "    else:\n",
    "        print(\"fail\")\n",
    "    \n",
    "    notas5 = []\n",
    "    if suma(notas5) == 0:\n",
    "        print( \"ok\")\n",
    "    else:\n",
    "        print(\"fail\")\n",
    "        "
   ]
  },
  {
   "cell_type": "code",
   "execution_count": 30,
   "id": "5aee3837",
   "metadata": {},
   "outputs": [
    {
     "name": "stdout",
     "output_type": "stream",
     "text": [
      "ok\n",
      "ok\n",
      "ok\n",
      "ok\n",
      "ok\n",
      "ok\n"
     ]
    }
   ],
   "source": [
    "suma_test()"
   ]
  },
  {
   "cell_type": "code",
   "execution_count": 31,
   "id": "855c912b",
   "metadata": {},
   "outputs": [],
   "source": [
    "# Funcion de pares e impares\n",
    "def numeroPar(n):\n",
    "    if n % 2 == 0:\n",
    "        return(True)\n",
    "    else:\n",
    "        return(False)\n",
    "    "
   ]
  },
  {
   "cell_type": "code",
   "execution_count": 32,
   "id": "09505b90",
   "metadata": {},
   "outputs": [
    {
     "name": "stdout",
     "output_type": "stream",
     "text": [
      "True\n"
     ]
    }
   ],
   "source": [
    "par = numeroPar(2)\n",
    "print(par)"
   ]
  },
  {
   "cell_type": "code",
   "execution_count": 33,
   "id": "7e7c7faa",
   "metadata": {},
   "outputs": [
    {
     "name": "stdout",
     "output_type": "stream",
     "text": [
      "False\n"
     ]
    }
   ],
   "source": [
    "par = numeroPar(1)\n",
    "print(par)"
   ]
  },
  {
   "cell_type": "code",
   "execution_count": 34,
   "id": "10374754",
   "metadata": {},
   "outputs": [
    {
     "name": "stdout",
     "output_type": "stream",
     "text": [
      "True\n"
     ]
    }
   ],
   "source": [
    "par = numeroPar(0)\n",
    "print(par)"
   ]
  },
  {
   "cell_type": "code",
   "execution_count": 35,
   "id": "3a675821",
   "metadata": {},
   "outputs": [
    {
     "name": "stdout",
     "output_type": "stream",
     "text": [
      "False\n"
     ]
    }
   ],
   "source": [
    "par = numeroPar(-1)\n",
    "print(par)"
   ]
  },
  {
   "cell_type": "code",
   "execution_count": 36,
   "id": "d4f5a2af",
   "metadata": {},
   "outputs": [],
   "source": [
    "# Hcemos el test de la funcion de numeros pares.\n",
    "def numeroPar_test():\n",
    "    n1 = 2\n",
    "    if numeroPar(n1) == True:\n",
    "        print(\"ok\")\n",
    "    else:\n",
    "        print(\"fail\")\n",
    "        \n",
    "    n2 = 1\n",
    "    if numeroPar(n2) == False:\n",
    "        print(\"ok\")\n",
    "    else:\n",
    "        print(\"fail\")\n",
    "        \n",
    "    n3 = 0\n",
    "    if numeroPar(n3) == True:\n",
    "        print(\"ok\")\n",
    "    else:\n",
    "        print(\"fail\")\n",
    "        \n",
    "    n4 = -1\n",
    "    if numeroPar(n4) == False:\n",
    "        print(\"ok\")\n",
    "    else:\n",
    "        print(\"fail\")\n",
    "    \n",
    "        "
   ]
  },
  {
   "cell_type": "code",
   "execution_count": 37,
   "id": "85bea174",
   "metadata": {},
   "outputs": [
    {
     "name": "stdout",
     "output_type": "stream",
     "text": [
      "ok\n",
      "ok\n",
      "ok\n",
      "ok\n"
     ]
    }
   ],
   "source": [
    "numeroPar_test()"
   ]
  },
  {
   "cell_type": "code",
   "execution_count": 38,
   "id": "3e9ea36a",
   "metadata": {},
   "outputs": [],
   "source": [
    "# vamos a crear una funcion que convioerta los grados celsius a Fahrenheit\n",
    "def celsiusAfahrenheit(c):\n",
    "    return (c * 1.8) + 32"
   ]
  },
  {
   "cell_type": "code",
   "execution_count": 39,
   "id": "a5ef1c7c",
   "metadata": {},
   "outputs": [
    {
     "name": "stdout",
     "output_type": "stream",
     "text": [
      "68.0\n"
     ]
    }
   ],
   "source": [
    "GradosFa = celsiusAfahrenheit(20)\n",
    "print(GradosFa)"
   ]
  },
  {
   "cell_type": "code",
   "execution_count": 40,
   "id": "bd8a8ddc",
   "metadata": {},
   "outputs": [
    {
     "name": "stdout",
     "output_type": "stream",
     "text": [
      "50.0\n"
     ]
    }
   ],
   "source": [
    "GradosFa = celsiusAfahrenheit(10)\n",
    "print(GradosFa)"
   ]
  },
  {
   "cell_type": "code",
   "execution_count": 41,
   "id": "a6cc7036",
   "metadata": {},
   "outputs": [
    {
     "name": "stdout",
     "output_type": "stream",
     "text": [
      "104.0\n"
     ]
    }
   ],
   "source": [
    "GradosFa = celsiusAfahrenheit(40)\n",
    "print(GradosFa)"
   ]
  },
  {
   "cell_type": "code",
   "execution_count": 42,
   "id": "5f4792ca",
   "metadata": {},
   "outputs": [],
   "source": [
    "# creamos la funcion de test de celsius a fahrenheit\n",
    "def celsiusAfahrenheit_test():\n",
    "    n1 = 20\n",
    "    if celsiusAfahrenheit(n1) == 68.0:\n",
    "        print(\"ok\")\n",
    "    else:\n",
    "        print(\"fail\")\n",
    "        \n",
    "    n2 = 10\n",
    "    if celsiusAfahrenheit(n2) == 50.0:\n",
    "        print(\"ok\")\n",
    "    else:\n",
    "        print(\"fail\")\n",
    "        \n",
    "    n3 = 40\n",
    "    if celsiusAfahrenheit(n3) == 104.0:\n",
    "        print(\"ok\")\n",
    "    else:\n",
    "        print(\"fail\")"
   ]
  },
  {
   "cell_type": "code",
   "execution_count": 43,
   "id": "6d80c90d",
   "metadata": {},
   "outputs": [
    {
     "name": "stdout",
     "output_type": "stream",
     "text": [
      "ok\n",
      "ok\n",
      "ok\n"
     ]
    }
   ],
   "source": [
    "# llamamos la funcion para verificar si los datos son correctos\n",
    "celsiusAfahrenheit_test()"
   ]
  },
  {
   "cell_type": "code",
   "execution_count": 44,
   "id": "2707f077",
   "metadata": {},
   "outputs": [],
   "source": [
    "# vamos a crear una funcion que convioerta los grados Fahrenheit a celsius.\n",
    "def fahrenheitAcelsius(f):\n",
    "    return (f - 32) / 1.8"
   ]
  },
  {
   "cell_type": "code",
   "execution_count": 45,
   "id": "bd0e619c",
   "metadata": {},
   "outputs": [
    {
     "name": "stdout",
     "output_type": "stream",
     "text": [
      "-12.222222222222221\n"
     ]
    }
   ],
   "source": [
    "GradosCel = fahrenheitAcelsius(10)\n",
    "print(GradosCel)"
   ]
  },
  {
   "cell_type": "code",
   "execution_count": 46,
   "id": "05625ffc",
   "metadata": {},
   "outputs": [
    {
     "name": "stdout",
     "output_type": "stream",
     "text": [
      "26.666666666666664\n"
     ]
    }
   ],
   "source": [
    "GradosCel = fahrenheitAcelsius(80)\n",
    "print(GradosCel)"
   ]
  },
  {
   "cell_type": "code",
   "execution_count": 47,
   "id": "fcb70fc5",
   "metadata": {},
   "outputs": [
    {
     "name": "stdout",
     "output_type": "stream",
     "text": [
      "10.0\n"
     ]
    }
   ],
   "source": [
    "GradosCel = fahrenheitAcelsius(50)\n",
    "print(GradosCel)"
   ]
  },
  {
   "cell_type": "code",
   "execution_count": 48,
   "id": "8fa24bf1",
   "metadata": {},
   "outputs": [],
   "source": [
    "# creamos la funcion de test de celsius a fahrenheit\n",
    "def fahrenheitAcelsius_test():\n",
    "    n1 = 10\n",
    "    if fahrenheitAcelsius(n1) == -12.222222222222221:\n",
    "        print(\"ok\")\n",
    "    else:\n",
    "        print(\"fail\")\n",
    "        \n",
    "    n2 = 80\n",
    "    if fahrenheitAcelsius(n2) == 26.666666666666664:\n",
    "        print(\"ok\")\n",
    "    else:\n",
    "        print(\"fail\")\n",
    "        \n",
    "    n3 = 50\n",
    "    if fahrenheitAcelsius(n3) == 10.0:\n",
    "        print(\"ok\")\n",
    "    else:\n",
    "        print(\"fail\")"
   ]
  },
  {
   "cell_type": "code",
   "execution_count": 49,
   "id": "efb6f7a9",
   "metadata": {},
   "outputs": [
    {
     "name": "stdout",
     "output_type": "stream",
     "text": [
      "ok\n",
      "ok\n",
      "ok\n"
     ]
    }
   ],
   "source": [
    "# llamamos la funcion para verificar si los datos son correctos\n",
    "fahrenheitAcelsius_test()"
   ]
  },
  {
   "cell_type": "code",
   "execution_count": 50,
   "id": "1b38549e",
   "metadata": {},
   "outputs": [
    {
     "name": "stdout",
     "output_type": "stream",
     "text": [
      "Factorial de 8 es 40320\n"
     ]
    }
   ],
   "source": [
    "# creamos una funcion de factorial usando un ciclo WHILE\n",
    "def factorial(num): \n",
    "    if num < 0: \n",
    "        print(\"El número factorial es negativo\")\n",
    "\n",
    "    elif num == 0: \n",
    "        return 1\n",
    "        \n",
    "    else: \n",
    "        fact = 1\n",
    "        while(num > 1): \n",
    "            fact *= num \n",
    "            num -= 1\n",
    "        return fact \n",
    "\n",
    "num = 8; \n",
    "\n",
    "print(\"Factorial de\", num, \"es\", factorial(num))     "
   ]
  },
  {
   "cell_type": "code",
   "execution_count": 51,
   "id": "817db848",
   "metadata": {},
   "outputs": [],
   "source": [
    "# o la creamos la funcion de factorial con un ciclo FOR\n",
    "def facty(num):\n",
    "    resultado = 1\n",
    "    for i in range(1, num+1):\n",
    "        \n",
    "        resultado = i * resultado\n",
    "        \n",
    "    return(resultado) \n",
    "    "
   ]
  },
  {
   "cell_type": "code",
   "execution_count": 52,
   "id": "b1c51d75",
   "metadata": {},
   "outputs": [
    {
     "data": {
      "text/plain": [
       "40320"
      ]
     },
     "execution_count": 52,
     "metadata": {},
     "output_type": "execute_result"
    }
   ],
   "source": [
    "numero = facty(8)\n",
    "numero"
   ]
  },
  {
   "cell_type": "code",
   "execution_count": 53,
   "id": "e0c27b86",
   "metadata": {},
   "outputs": [
    {
     "data": {
      "text/plain": [
       "720"
      ]
     },
     "execution_count": 53,
     "metadata": {},
     "output_type": "execute_result"
    }
   ],
   "source": [
    "numero2 = facty(6)\n",
    "numero2"
   ]
  },
  {
   "cell_type": "code",
   "execution_count": 54,
   "id": "3d3c4743",
   "metadata": {},
   "outputs": [
    {
     "data": {
      "text/plain": [
       "120"
      ]
     },
     "execution_count": 54,
     "metadata": {},
     "output_type": "execute_result"
    }
   ],
   "source": [
    "numero3 = facty(5)\n",
    "numero3"
   ]
  },
  {
   "cell_type": "code",
   "execution_count": 55,
   "id": "cf31d573",
   "metadata": {},
   "outputs": [
    {
     "data": {
      "text/plain": [
       "24"
      ]
     },
     "execution_count": 55,
     "metadata": {},
     "output_type": "execute_result"
    }
   ],
   "source": [
    "numero4 = facty(4)\n",
    "numero4"
   ]
  },
  {
   "cell_type": "code",
   "execution_count": 56,
   "id": "045d35c0",
   "metadata": {},
   "outputs": [],
   "source": [
    "# creamos la funcion de test de factorial\n",
    "def facty_test():\n",
    "    numero = 8\n",
    "    if facty(numero) == 40320:\n",
    "        print(\"ok\")\n",
    "    else:\n",
    "        print(\"fail\")\n",
    "        \n",
    "    numero2 = 6\n",
    "    if facty(numero2) == 720:\n",
    "        print(\"ok\")\n",
    "    else:\n",
    "        print(\"fail\")\n",
    "        \n",
    "    numero3 = 5\n",
    "    if facty(numero3) == 120:\n",
    "        print(\"ok\")\n",
    "    else:\n",
    "        print(\"fail\")\n",
    "        \n",
    "    numero4 = 4\n",
    "    if facty(numero4) == 24:\n",
    "        print(\"ok\")\n",
    "    else:\n",
    "        print(\"fail\")"
   ]
  },
  {
   "cell_type": "code",
   "execution_count": 57,
   "id": "025c25b7",
   "metadata": {},
   "outputs": [
    {
     "name": "stdout",
     "output_type": "stream",
     "text": [
      "ok\n",
      "ok\n",
      "ok\n",
      "ok\n"
     ]
    }
   ],
   "source": [
    "# llamamos la funcion para verificar si los datos son correctos\n",
    "facty_test()"
   ]
  },
  {
   "cell_type": "code",
   "execution_count": 58,
   "id": "b3590395",
   "metadata": {},
   "outputs": [
    {
     "name": "stdout",
     "output_type": "stream",
     "text": [
      "     dado1  dado2  dado3  dado4  resultado  resultado2\n",
      "0        6      6      5      1         18         NaN\n",
      "1        6      4      5      4         19         NaN\n",
      "2        3      1      4      3         11         NaN\n",
      "3        1      2      6      1         10         NaN\n",
      "4        4      4      3      4         15         NaN\n",
      "..     ...    ...    ...    ...        ...         ...\n",
      "995      1      5      6      6         18         NaN\n",
      "996      6      1      2      3         12         NaN\n",
      "997      3      6      3      2         14         NaN\n",
      "998      4      3      5      1         13         NaN\n",
      "999      4      6      1      6         17         NaN\n",
      "\n",
      "[1000 rows x 6 columns]\n"
     ]
    }
   ],
   "source": [
    "#Funciones de distribución Distribución Gaussiana o Normal\n",
    "# Creamos dataframe con 1000 tiradas dobles de dado\n",
    "n = 5\n",
    "df = pd.DataFrame(np.random.randint(1, 7, size=(1000, 4)), columns=['dado1', 'dado2', \"dado3\", \"dado4\"])\n",
    "df['resultado'] = df.dado1 + df.dado2 + df.dado3 + df.dado4\n",
    "df[\"resultado2\"] = df.iloc[0] + df.iloc[1] + df.iloc[2] + df.iloc[3]\n",
    "print(df)"
   ]
  },
  {
   "cell_type": "code",
   "execution_count": 59,
   "id": "7bc79352",
   "metadata": {},
   "outputs": [
    {
     "data": {
      "text/plain": [
       "Text(0.5, 0, 'Resultado de los dos dados')"
      ]
     },
     "execution_count": 59,
     "metadata": {},
     "output_type": "execute_result"
    },
    {
     "data": {
      "image/png": "[encoded data removed]",
      "text/plain": [
       "<Figure size 432x288 with 1 Axes>"
      ]
     },
     "metadata": {
      "needs_background": "light"
     },
     "output_type": "display_data"
    }
   ],
   "source": [
    "plt.hist(df.resultado, bins=20, density=True)\n",
    "plt.ylabel('Probabilidad del evento')\n",
    "plt.xlabel('Resultado de los dos dados')"
   ]
  },
  {
   "cell_type": "code",
   "execution_count": 60,
   "id": "345445c7",
   "metadata": {},
   "outputs": [],
   "source": [
    "# Crear una función que genere (devuelva) un número aleatorio con media = 0 y desviación estándard = 1 \n",
    "mu, sigma = 0, 1\n",
    "noise1 = np.random.normal(mu, sigma, 1000)"
   ]
  },
  {
   "cell_type": "code",
   "execution_count": 61,
   "id": "e4dd6fcf",
   "metadata": {},
   "outputs": [],
   "source": [
    "def random01():\n",
    "    mu, sigma = 0, 1\n",
    "    r = np.random.normal(mu, sigma, 1)\n",
    "    return r[0]"
   ]
  },
  {
   "cell_type": "code",
   "execution_count": 62,
   "id": "93d8dc3f",
   "metadata": {},
   "outputs": [
    {
     "data": {
      "text/plain": [
       "-0.8304484237984014"
      ]
     },
     "execution_count": 62,
     "metadata": {},
     "output_type": "execute_result"
    }
   ],
   "source": [
    "random01()"
   ]
  },
  {
   "cell_type": "code",
   "execution_count": 63,
   "id": "a5e56670",
   "metadata": {},
   "outputs": [],
   "source": [
    "def randomIn():\n",
    "    r = random01()\n",
    "    print(r)\n",
    "    if r > -1 and r < 1:\n",
    "        return True\n",
    "    else:\n",
    "        return False"
   ]
  },
  {
   "cell_type": "code",
   "execution_count": 64,
   "id": "486391eb",
   "metadata": {},
   "outputs": [
    {
     "name": "stdout",
     "output_type": "stream",
     "text": [
      "2.288297430429866\n"
     ]
    },
    {
     "data": {
      "text/plain": [
       "False"
      ]
     },
     "execution_count": 64,
     "metadata": {},
     "output_type": "execute_result"
    }
   ],
   "source": [
    "randomIn()"
   ]
  },
  {
   "cell_type": "code",
   "execution_count": 65,
   "id": "19893a42",
   "metadata": {},
   "outputs": [
    {
     "name": "stdout",
     "output_type": "stream",
     "text": [
      "-1.1009183758359988\n",
      "-2.404084936922011\n",
      "0.16606906108654526\n",
      "1.162197397596842\n",
      "-0.8811193699951286\n",
      "-1.472061734367805\n",
      "-1.1775585290483173\n",
      "-0.3556121310335819\n",
      "-1.135390473229854\n",
      "-1.0359146083153938\n",
      "0.825718833243462\n",
      "0.504240875572831\n",
      "0.9068713005387115\n",
      "0.6619290653287261\n",
      "-1.1515232690876338\n",
      "-0.33230594450210155\n",
      "-0.13946399507727325\n",
      "0.9471320718988319\n",
      "-0.9217449534538055\n",
      "1.0431815808034504\n",
      "-0.025830480083602676\n",
      "0.9469091637795658\n",
      "-0.4735790462716078\n",
      "-0.4015005447029883\n",
      "-1.5490738290311974\n",
      "-0.3292180355780844\n",
      "-1.5656856321664825\n",
      "1.0662067556501909\n",
      "0.8829540480503321\n",
      "-0.6772321298499374\n",
      "1.0589499163984937\n",
      "0.5587898925158707\n",
      "1.3207145389216566\n",
      "-1.1018329688804456\n",
      "-0.7194175024566927\n",
      "0.6546299980296679\n",
      "0.2846646681796628\n",
      "0.08552346554923346\n",
      "0.17088993526760154\n",
      "-1.769613796654824\n",
      "-0.11345823664027124\n",
      "-0.5149780211638351\n",
      "1.4160200640102136\n",
      "-1.1758701556028992\n",
      "-1.81119472300702\n",
      "0.2463948897525733\n",
      "-0.06290490651465447\n",
      "-1.3159310814992788\n",
      "-0.5105634571015216\n",
      "-0.7361414351381146\n",
      "0.8161647779723636\n",
      "-0.03536082740873637\n",
      "0.3820813397378059\n",
      "-0.33020729716559283\n",
      "-0.6644872399687732\n",
      "0.50221137763254\n",
      "0.29597888342388334\n",
      "-0.5701192333378626\n",
      "-1.222063846351462\n",
      "-0.28852907076454426\n",
      "0.4367719508171511\n",
      "0.45214048361506654\n",
      "-0.2881368237457535\n",
      "-2.0475552933593666\n",
      "-0.722009737845797\n",
      "0.9594789775586645\n",
      "1.6496666920138847\n",
      "-2.1908926215757467\n",
      "-0.37589848274818327\n",
      "-0.19411141453811578\n",
      "0.6565501015716189\n",
      "0.8758973826249012\n",
      "1.523026703498614\n",
      "-1.7040131766806332\n",
      "0.22288937802106223\n",
      "0.2311964428141193\n",
      "0.24189992570184782\n",
      "-0.959336429737478\n",
      "-0.05177973705861596\n",
      "-1.1046175410008379\n",
      "1.0180339098088829\n",
      "1.4515429533112727\n",
      "-0.5034827515105494\n",
      "-0.4347496496716328\n",
      "0.39074088107733984\n",
      "-0.526363330231826\n",
      "0.45224385057672106\n",
      "0.9117947916355723\n",
      "-1.05078807755062\n",
      "0.401686798036638\n",
      "-0.1586368918284117\n",
      "0.757899789393533\n",
      "1.4349855825863471\n",
      "0.7822958383662126\n",
      "0.7037507918205459\n",
      "0.1365192150589662\n",
      "0.2302296589451743\n",
      "-1.0241679763126423\n",
      "-0.07185040997585791\n",
      "-2.514637431033448\n",
      "-1.4316292602835234\n",
      "-0.6624354190469008\n",
      "1.2517127621384692\n",
      "-0.7732327455389582\n",
      "0.47555526049888736\n",
      "0.5317373034433894\n",
      "-0.2582974216206264\n",
      "0.9943540620376942\n",
      "1.9303175491106093\n",
      "-1.4178843218692276\n",
      "0.20527074881113674\n",
      "-0.6525229096968874\n",
      "0.8341538299486402\n",
      "1.5791123191542875\n",
      "1.3698070193903253\n",
      "-0.680017563098103\n",
      "0.7439968555411207\n",
      "1.7785460394559918\n",
      "0.22475010788152003\n",
      "0.405567562345924\n",
      "-0.11328746479761662\n",
      "-0.44414071373811514\n",
      "-0.36585821961752785\n",
      "0.14961082117700072\n",
      "0.2009020436760285\n",
      "1.7927078838151158\n",
      "1.458446496623751\n",
      "-2.7386988910816856\n",
      "-0.6527953307776633\n",
      "-0.985773571439739\n",
      "-0.05219886999717568\n",
      "-0.6122703891630441\n",
      "-0.42990368326391315\n",
      "1.4044982967815771\n",
      "0.008060367571333308\n",
      "-0.23230748988894637\n",
      "0.7190931767178971\n",
      "-0.3369663422649513\n",
      "0.32454886855531034\n",
      "-0.3422801828381801\n",
      "-0.17887146555532632\n",
      "-1.554754995520687\n",
      "-0.15109355044468648\n",
      "0.1941110061000244\n",
      "1.088048049659976\n",
      "-1.031477358008802\n",
      "-0.01736148201806497\n",
      "0.19659198333452677\n",
      "-1.7101759150555758\n",
      "1.3886791603608408\n",
      "0.568132277557327\n",
      "1.4052563617135736\n",
      "1.058550799944166\n",
      "0.46957699093883515\n",
      "0.10901202094354144\n",
      "0.015577526718664808\n",
      "-0.14765753558096817\n",
      "0.12341802546912448\n",
      "-1.8283388240651282\n",
      "1.2567546728226904\n",
      "-0.8517749825225867\n",
      "0.44531045299923183\n",
      "0.04661943016077032\n",
      "1.8562484898750398\n",
      "-0.6056929923687394\n",
      "-0.5393292992414481\n",
      "0.7547705188282907\n",
      "-1.1479767482262673\n",
      "-0.47490972058354697\n",
      "-0.909535431394445\n",
      "-0.91653907336963\n",
      "1.5241054709015347\n",
      "0.12132887377022344\n",
      "0.23496781737590872\n",
      "-1.5056803939641015\n",
      "0.840395862968549\n",
      "-0.0597702625485946\n",
      "-0.5306570328453175\n",
      "-0.4108131733049297\n",
      "2.232062181528631\n",
      "0.9540008991002251\n",
      "-0.6916730906316462\n",
      "0.33481395888026927\n",
      "1.2404887296350606\n",
      "1.1955929979109425\n",
      "0.5844408686938165\n",
      "0.5288427934860945\n",
      "-1.210548917819706\n",
      "-0.41087838805097215\n",
      "-0.3868633086275606\n",
      "-0.13789858846428832\n",
      "-0.590490624610736\n",
      "0.9033306844384535\n",
      "0.04742517752611298\n",
      "0.8710286692595032\n",
      "-0.8597469034584597\n",
      "1.4949807496845942\n",
      "0.04420559283215782\n",
      "-0.9844726219126783\n",
      "-0.17059806226908558\n",
      "2.8425694147338505\n",
      "-0.6466761725783524\n",
      "-0.46333938808789094\n",
      "-0.023390832613792437\n",
      "0.23933660745553698\n",
      "0.5189800354991154\n",
      "0.9131685750349334\n",
      "-0.2860423231684075\n",
      "-0.786732996758892\n",
      "-0.08082813612747104\n",
      "-1.8634983028123675\n",
      "-1.0984663327899558\n",
      "-0.16642282242933312\n",
      "-0.4052245583237854\n",
      "-1.3895492213812506\n",
      "-1.2195980628183714\n",
      "-0.38169056850766864\n",
      "-1.0179772390378319\n",
      "-0.16618802794910975\n",
      "-0.5108796940909057\n",
      "-1.066854443936203\n",
      "-1.0541971489491746\n",
      "1.5215012373845338\n",
      "-0.40040711364472237\n",
      "0.575037217930263\n",
      "-0.703404802755954\n",
      "-1.3818849008574317\n",
      "1.146326036900001\n",
      "-1.7896188501159271\n",
      "-0.19989438038254892\n",
      "-0.29597004146357003\n",
      "-0.032963329204445065\n",
      "-0.043068987867273645\n",
      "0.6204949192745546\n",
      "1.0612280406547345\n",
      "1.1385007782489802\n",
      "0.646797630426491\n",
      "-2.864032756704159\n",
      "-2.14194400790928\n",
      "-1.7546401723479155\n",
      "-1.1488355149138718\n",
      "-1.3788218487957653\n",
      "0.4589870286023445\n",
      "-0.8760481642892071\n",
      "-0.1615754708916222\n",
      "0.5373939350648386\n",
      "-0.2585055541118975\n",
      "1.3685772330639527\n",
      "-0.3014737127440868\n",
      "0.2311102237703721\n",
      "0.9491398541838925\n",
      "0.5065407534647379\n",
      "0.12643282801051753\n",
      "-0.3937522103822101\n",
      "-2.7146635949187625\n",
      "1.2348973406553847\n",
      "-2.5447670144245955\n",
      "-1.0971512125593135\n",
      "0.2497612904454029\n",
      "-2.321606519685689\n",
      "-0.6613142987702814\n",
      "-0.5239571854466504\n",
      "0.5398550519626062\n",
      "-1.1754743069932831\n",
      "0.2786002200087437\n",
      "-0.13281634463601355\n",
      "-0.19947686193436265\n",
      "-1.1201563448238114\n",
      "0.5637326338812716\n",
      "1.073405865335669\n",
      "0.9978910832479383\n",
      "-0.2631200116798409\n",
      "2.864067665860066\n",
      "0.7460955242568325\n",
      "-0.3282564222803296\n",
      "1.7791923346580296\n",
      "-0.44060413538941817\n",
      "1.3265399346066216\n",
      "0.5875897830689766\n",
      "0.4664141511038237\n",
      "0.09027398050219193\n",
      "-0.3876884011948197\n",
      "-1.8651703787749156\n",
      "0.554707501952489\n",
      "-0.11086968480957696\n",
      "-0.9458148293026201\n",
      "-0.30916724288913405\n",
      "0.6999001260186494\n",
      "-0.8649503017843604\n",
      "0.6893384746705921\n",
      "-0.632593866809543\n",
      "0.0361710079681794\n",
      "1.2101213957512464\n",
      "0.5600699646449755\n",
      "-0.2002195668515958\n",
      "1.9146935017367996\n",
      "0.995365352110011\n",
      "1.1058845682392215\n",
      "-0.548970546025939\n",
      "-0.31921385402313246\n",
      "-1.085114934482705\n",
      "0.68111865478149\n",
      "1.0317799450406737\n",
      "0.20877507794821087\n",
      "-0.6575939113958664\n",
      "-0.5758918008337649\n",
      "0.09701945255690951\n",
      "-1.064775050710286\n",
      "-1.8231108783490193\n",
      "-0.3456771069164389\n",
      "2.020478724447199\n",
      "0.3978185610336815\n",
      "-1.3573713621378891\n",
      "1.095545199060155\n",
      "0.6455642923386993\n",
      "-0.2031878423856626\n",
      "-1.8336663638136355\n",
      "0.2635234588733077\n",
      "0.5732336950216881\n",
      "0.968854983965957\n",
      "-2.034382670270816\n",
      "0.023698120321755077\n",
      "-0.1809955559453956\n",
      "0.6196952349082471\n",
      "0.3419697172695442\n",
      "-0.3279337141311808\n",
      "-0.3377144996709764\n",
      "-0.2596532324405556\n",
      "-0.450814172673719\n",
      "-1.0897570758914314\n",
      "-1.7666538342478284\n",
      "0.040719804507953955\n",
      "-0.4149829179953352\n",
      "0.3783753878784164\n",
      "0.33224609626980867\n",
      "1.8957820671263106\n",
      "-0.8090583069014474\n",
      "-1.2702297631437343\n",
      "-2.5221936326065735\n",
      "0.05930782663748212\n",
      "0.45464508694308436\n",
      "1.101215648209657\n",
      "0.20655327459687112\n",
      "-0.13156146433610202\n",
      "-0.16401761875825666\n",
      "0.33661506714887235\n",
      "0.30489199312315324\n",
      "0.03886255904684142\n",
      "0.8951423510126688\n",
      "0.5214624082348249\n",
      "0.18088442941242017\n",
      "0.4700173907410003\n",
      "-1.0088912994049009\n",
      "0.3863011249412731\n",
      "1.0919113972495007\n",
      "0.01982970417972917\n",
      "-0.8705455002578745\n",
      "0.4936318565112022\n",
      "0.82466791403942\n",
      "1.2227330990685947\n",
      "-0.492402073338962\n",
      "-0.4875461661092313\n",
      "-1.0721029556099266\n",
      "0.6668613071705553\n",
      "-0.65195395583836\n",
      "0.4188515990909322\n",
      "1.8304475864655845\n",
      "-0.40697574989320284\n",
      "0.3973684331483785\n",
      "1.5104698517746054\n",
      "-0.28216897641300687\n",
      "0.24419903389034975\n",
      "-1.1445476688004843\n",
      "-0.8092105445188511\n",
      "2.103122805667657\n",
      "-2.2807572103965374\n",
      "-0.8197227101148581\n",
      "-1.1452294851666367\n",
      "0.6496931055253489\n",
      "0.09120883927326012\n",
      "-0.13028437484470862\n",
      "2.1739708125357797\n",
      "0.5569351205841022\n",
      "-0.0451748982792403\n",
      "-0.5891878432632469\n",
      "1.1126253296189847\n",
      "-1.113867502468831\n",
      "0.4992235426275268\n",
      "-1.0749716957484403\n",
      "-0.16314545241248085\n",
      "-1.50745919185603\n",
      "0.12191913803502416\n",
      "0.047036050226439655\n",
      "0.9776523256492419\n",
      "-0.5935974064738289\n",
      "0.6270644392708802\n",
      "-0.1558492962755006\n",
      "-0.8191864889280125\n",
      "0.4726284534383621\n",
      "-0.3551627543232482\n",
      "-0.11472498192642382\n",
      "1.0492964318759144\n",
      "-0.7358407005695609\n",
      "-0.43750228466883934\n",
      "1.6249607607273062\n",
      "-1.4899646937166455\n",
      "-0.3438472339495506\n",
      "-1.4681356702372794\n",
      "1.3836039789607373\n",
      "0.7924291816209869\n",
      "0.5247053946437225\n",
      "-0.3030314720874523\n",
      "0.6671609881858431\n",
      "-2.5411437695958505\n",
      "-1.4239678597788799\n",
      "-1.6500963655999143\n",
      "1.0705824389899319\n",
      "1.2896703371408023\n",
      "0.45976669255465297\n",
      "-0.0089501757550595\n",
      "0.3540762989184593\n",
      "-1.0669941846633475\n",
      "1.5349537684525503\n",
      "1.0624885104437554\n",
      "1.2453409415556311\n",
      "0.8641438801318346\n",
      "-1.9968454686986306\n",
      "-0.25049206709355454\n",
      "-0.7828040472288338\n",
      "-1.6532350183420494\n",
      "-1.1236776471610104\n",
      "0.9203206515645629\n",
      "1.344601555863031\n",
      "1.1070094724343822\n",
      "0.9831206652203991\n",
      "0.01780890456072532\n",
      "0.9780356366836886\n",
      "-0.09807338988068165\n",
      "-0.7145389891163179\n",
      "0.5033792756324116\n",
      "-0.4712211594479999\n",
      "0.8506903375323754\n",
      "-0.19565679716915774\n",
      "0.5073996908536411\n",
      "0.25730399970968876\n",
      "0.6312357336878832\n",
      "0.15077278926502274\n",
      "-0.49661878805510473\n",
      "0.45247189501378443\n",
      "-1.252101721768721\n",
      "-0.4024008536264383\n",
      "-0.5090871454585231\n",
      "0.5300370152682892\n",
      "-0.9886596114647105\n",
      "-0.07119926399396594\n",
      "0.8309867627652804\n",
      "1.6346396101415936\n",
      "-1.138205033058723\n",
      "0.3446650989832475\n",
      "0.4373505504780285\n",
      "0.37602909328429235\n",
      "0.4339700571026233\n",
      "-1.01810509216855\n",
      "0.9728890081116468\n",
      "-0.18222691008113243\n",
      "1.0916102763527054\n",
      "0.9192396847584278\n",
      "-0.9275923661255885\n",
      "0.19767392504615255\n",
      "-0.5668584675667816\n",
      "-1.1935350656910113\n",
      "-0.4940097541551295\n",
      "-0.43683113691978337\n",
      "0.9952813211817384\n",
      "1.2579430158935005\n",
      "0.18018695683870495\n",
      "0.4330146962547995\n",
      "0.09629248070328414\n",
      "0.5185597430111654\n",
      "0.21404760657535782\n",
      "-1.2600570165352647\n",
      "0.33925737240411286\n",
      "0.330879778273139\n",
      "0.08110452842777191\n",
      "0.25665156471274647\n",
      "0.2568927547090414\n",
      "1.459121300008675\n",
      "2.305015298113417\n",
      "-0.9149579434139515\n",
      "1.3502269306334835\n",
      "-0.5256473471503331\n",
      "-0.14848320951285854\n",
      "-0.6920629704220884\n",
      "-0.36598617697825775\n",
      "-0.16984771886401603\n",
      "-1.096220669499236\n",
      "-0.6135186777141941\n",
      "-0.608737126337786\n",
      "-1.1862992220650577\n",
      "1.7830296778050554\n",
      "0.2516338664360938\n",
      "0.13568969731184072\n",
      "-0.8074737961163596\n",
      "-0.5048790103175983\n",
      "1.7003754214472468\n",
      "0.7175104333681791\n",
      "-0.476357730171866\n",
      "-1.2319689224675592\n",
      "-1.6466845885481238\n",
      "0.24484754300213474\n",
      "0.8559478818844232\n",
      "1.079683478918796\n",
      "2.1961495195125527\n",
      "0.15012407525796612\n",
      "1.3316685855285593\n",
      "2.324444945298732\n",
      "0.5032505715441004\n",
      "-1.1364980111205747\n",
      "-0.9707874735777506\n",
      "1.2377578077929132\n",
      "-0.9544300401475695\n",
      "0.5283788856212683\n",
      "0.3230333281193124\n",
      "-0.2033612286947024\n",
      "-0.07333254023435565\n",
      "-1.2704456880686967\n",
      "0.563673367440097\n",
      "2.165226899536088\n",
      "-1.1408582276012158\n",
      "0.5652956604070104\n",
      "-0.5903726235465213\n",
      "-0.6520614190139777\n",
      "-0.41301339059489384\n",
      "-1.4466076381437574\n",
      "0.29245735915998766\n",
      "0.49397906245515577\n",
      "1.2820627284335568\n",
      "-0.45479933661513444\n",
      "-0.5270390991482871\n",
      "0.17227889654963852\n",
      "0.2956620592723453\n",
      "0.7331330668134853\n",
      "-0.04083207751763621\n",
      "-0.19888088549497013\n",
      "0.8166665832594636\n",
      "0.6953284160400262\n",
      "-0.5130127156774991\n",
      "0.6617861679207443\n",
      "-0.4301065352095044\n",
      "-1.0232420712881252\n",
      "0.0813385373260165\n",
      "-1.7521040802544232\n",
      "0.6585333536261065\n",
      "-0.520264147110481\n",
      "0.6715956682206402\n",
      "1.5986770757962399\n",
      "1.968108612083777\n",
      "-0.016186066862877296\n",
      "0.5496205287477632\n",
      "-0.843639288485153\n",
      "0.6731471341179888\n",
      "-1.3247504215607717\n",
      "-0.5924518648404268\n",
      "-0.1625675537400765\n",
      "-1.2824395488635072\n",
      "-0.3064536267257684\n",
      "1.4662846425400295\n",
      "-0.298842278455985\n",
      "-0.4496959927022815\n",
      "2.2669026886091688\n",
      "-0.42078004519355827\n",
      "-2.4531181529200636\n",
      "-0.06476432707335064\n",
      "-0.021798719860127887\n",
      "1.1083516964020115\n",
      "-0.3031096465759558\n",
      "1.7409892721672124\n",
      "0.34679856520487434\n",
      "1.6057601043558891\n",
      "-1.5682798662147615\n",
      "-1.3697017644279241\n",
      "0.016617888501267438\n",
      "-1.019470742992785\n",
      "-1.256956656795891\n",
      "-1.914141925729457\n",
      "-1.2452999014179722\n",
      "0.8815031361714949\n",
      "1.004405767464557\n",
      "-0.3950235851966807\n",
      "-0.5008971874447434\n",
      "-1.6536655581471933\n",
      "0.9880759514330067\n",
      "-0.24969321290031524\n",
      "0.7828993361342653\n",
      "-0.3466093605947633\n",
      "0.05514067322403823\n",
      "1.263428723457993\n",
      "1.237596278678735\n",
      "-0.9025190088529506\n",
      "2.220740522980492\n",
      "0.12025134336502259\n",
      "0.03810118922769613\n",
      "-1.5201227360769796\n",
      "-0.740173806463077\n",
      "0.05941920533306749\n",
      "0.0855859177155373\n",
      "-0.5130165287393877\n",
      "-1.1404513849576463\n",
      "-0.7008615730902725\n",
      "-0.542541728084088\n",
      "-0.3998643199285041\n",
      "0.12512799515211637\n",
      "-0.054756884848544164\n",
      "-1.2740739005916446\n",
      "-0.8950506110104433\n",
      "0.7644314922045957\n",
      "-0.8738046873463813\n",
      "-0.797772048206276\n",
      "1.47005572629814\n",
      "1.3922238125281736\n",
      "1.0352968298826577\n",
      "0.4350169526824899\n",
      "-0.08501322711770955\n",
      "0.8818518701084785\n",
      "-0.4223766011460363\n",
      "-0.2604966343974885\n",
      "1.336236338024733\n",
      "2.0195286186365284\n",
      "0.3967530554589842\n",
      "-1.1633759177717704\n",
      "0.15087233231884392\n",
      "-0.31520740812396697\n",
      "2.2849199650131955\n",
      "-0.3809075657703222\n",
      "0.14193112059072852\n",
      "0.530931200648692\n",
      "-1.2807810415356957\n",
      "0.24393581451985558\n",
      "0.5189016137947083\n",
      "0.40393482398359093\n",
      "-0.017073008645064836\n",
      "0.15481709303495048\n",
      "-1.1497858277273303\n",
      "1.4116796725631502\n",
      "-0.7948838022810016\n",
      "1.0046148232481569\n",
      "-0.056613725889536844\n",
      "-0.3381653174423592\n",
      "2.6523162730912966\n",
      "1.6483316580052576\n",
      "1.0415068809934909\n",
      "0.7947368116020574\n",
      "0.7318434599461399\n",
      "0.5206886339435061\n",
      "1.7405302533168776\n",
      "-1.1440694388698551\n",
      "0.5841580967636727\n",
      "-0.7749236847458387\n",
      "-0.20021647391510877\n",
      "0.1353883607881002\n",
      "-0.09260051085466411\n",
      "-0.08022620296764514\n",
      "1.1688555481747178\n",
      "-0.717800535822994\n",
      "-0.9612446125689872\n",
      "0.8612839512819727\n",
      "-1.0860559365144886\n",
      "-0.8847587193319365\n",
      "-0.41686077051165277\n",
      "-1.1805779038216553\n",
      "-0.05455164131386215\n",
      "-1.0155186624130015\n",
      "0.052162910447508856\n",
      "0.2995802827591609\n",
      "-0.3098349770636338\n",
      "0.16768546550104976\n",
      "-0.0008824104221760897\n",
      "-0.42297529378510623\n",
      "-0.4383240738188272\n",
      "-0.974540762699775\n",
      "-1.416518339366655\n",
      "1.8360630404333942\n",
      "1.0401177165457771\n",
      "-0.09769904898786749\n",
      "0.14425601005803235\n",
      "-2.20257337189233\n",
      "-1.5688728612345597\n",
      "1.8660338556678175\n",
      "-1.3927613250196464\n",
      "1.1143564857037225\n",
      "-0.981748103531747\n",
      "-0.18913099512805004\n",
      "0.6807330634856862\n",
      "-0.5185244856859329\n",
      "-0.15939855646235462\n",
      "-0.35390034522739405\n",
      "2.3006790612023265\n",
      "0.08154264380464712\n",
      "-0.01384971851728198\n",
      "-0.30319182437895537\n",
      "-0.6855636472246099\n",
      "-0.8920360264378177\n",
      "0.11149615948280486\n",
      "-0.4891713098714248\n",
      "0.5655277596901891\n",
      "-1.5709765376451204\n",
      "-0.9132182164963198\n",
      "-0.862727216633356\n",
      "1.603774173786905\n",
      "1.184092134133552\n",
      "0.6703852609139108\n",
      "0.2457999514111373\n",
      "0.026350569701301334\n",
      "0.5453612106253725\n",
      "-0.25906923362855244\n",
      "0.600991311776184\n",
      "-0.5723118522564236\n",
      "-0.5260311531862117\n",
      "0.5686265538254524\n",
      "0.2037330323735446\n",
      "-1.9722294177102024\n",
      "0.21422909742602458\n",
      "0.9163720643538067\n",
      "0.3416310899873438\n",
      "0.4942345115730111\n",
      "0.15986803474570976\n",
      "0.12073231343161962\n",
      "0.8092284612743048\n",
      "-0.5289872899720447\n",
      "0.41568850669238894\n",
      "-1.7265525119905312\n",
      "-1.1570290330307342\n",
      "-1.1384793967032851\n",
      "-0.6503625639953958\n",
      "1.2130769604157023\n",
      "0.006407141590694837\n",
      "1.5165887787805294\n",
      "1.6119346296039982\n",
      "0.42436526016970794\n",
      "-1.438584166778281\n",
      "0.22029202741895895\n",
      "0.47960773779122745\n",
      "0.6633280897926713\n",
      "-2.4955875849977813\n",
      "0.48215931265173795\n",
      "-1.0272579479544381\n",
      "0.41171420532396635\n",
      "-0.6596679272598338\n",
      "-0.4614996026225278\n",
      "-0.27594259510917307\n",
      "-0.6227306357801744\n",
      "1.2079987133375287\n",
      "0.9880575357271972\n",
      "-0.9003706196430676\n",
      "2.9547183458501696\n",
      "-0.2495281500991345\n",
      "0.3342832291800742\n",
      "0.8293079762405021\n",
      "-1.1045138520847513\n",
      "0.822674452374163\n",
      "0.9181178991596198\n",
      "-1.0426143900770917\n",
      "1.220302069986943\n",
      "-0.183186967572014\n",
      "-1.0139174583255233\n",
      "-0.7623179141690503\n",
      "-0.5017709697651962\n",
      "1.0842496695006252\n",
      "-0.34352681872905866\n",
      "0.2636124644678743\n",
      "0.5247393848417382\n",
      "-0.16157733001679772\n",
      "-2.589788913152493\n",
      "-1.2824753390245427\n",
      "-0.62088714749369\n",
      "-0.17561517501539164\n",
      "-0.3784836566326361\n",
      "-1.2108772263361793\n",
      "0.3411218237498872\n",
      "0.23403428873700516\n",
      "1.1456675850642333\n",
      "0.16321569862181498\n",
      "-0.5355038610395955\n",
      "0.20939051188355948\n",
      "-0.22233373787833363\n",
      "-1.437599524824976\n",
      "-0.14672972355481065\n",
      "0.27483901324916593\n",
      "-0.5407883098078021\n",
      "-0.12146923416426658\n",
      "0.663600886302478\n",
      "-1.1356853453500066\n",
      "-0.7987653927835119\n",
      "-1.486740331789571\n",
      "0.26181612496602696\n",
      "3.401505444297769\n",
      "2.1738891258427944\n",
      "0.011282649197863199\n",
      "0.4724227263176446\n",
      "2.109990389182129\n",
      "0.2970969917424201\n",
      "0.06204947179484888\n",
      "0.5908555803872162\n",
      "0.09217572097715682\n",
      "-1.8930708126377556\n",
      "-0.19259203628962956\n",
      "0.27774758883879463\n",
      "-1.4500040124257954\n",
      "0.39038322099165434\n",
      "-0.35562093257215155\n",
      "-1.3195677586279033\n",
      "-1.9657348883912862\n",
      "1.103118152970119\n",
      "-1.1316644018571105\n",
      "0.2583122404330619\n",
      "-0.11454537816614642\n",
      "-0.46526808532280706\n",
      "0.10389036055548495\n",
      "-1.3250933511597676\n",
      "-1.2819498271634513\n",
      "-1.4800856960900206\n",
      "0.39046828136272155\n",
      "-0.8658255250915313\n",
      "0.8168085534127464\n",
      "1.2002631597546871\n",
      "-0.3451503784302097\n",
      "-0.3131610080330407\n",
      "1.1150262071680146\n",
      "0.5213454560517539\n",
      "2.0341431748482264\n",
      "0.7425265572311468\n",
      "1.0540251576972797\n",
      "0.1974613012037934\n",
      "0.49479803019351765\n",
      "-1.7575953855739608\n",
      "0.20919833084307032\n",
      "0.9724351332573914\n",
      "0.7293980019666212\n",
      "1.8935755074756435\n",
      "0.20750490183332873\n",
      "-0.827641035095943\n",
      "-0.6869411118367655\n",
      "-0.6324733900694571\n",
      "1.0391512739212592\n",
      "-0.3384352242347719\n",
      "0.35981009244677314\n",
      "-0.9420489927622185\n",
      "0.4542882823343052\n",
      "1.6409092490309132\n",
      "-0.6461974120837904\n",
      "1.2627799045650039\n",
      "0.17573297011250497\n",
      "0.4070569087835286\n",
      "-1.0049379428491254\n",
      "-0.5241498955557709\n",
      "2.1870418186494893\n",
      "0.3304290823364081\n",
      "0.7551081609787423\n",
      "0.06739044311786856\n",
      "1.617139593047499\n",
      "-0.9486833123585702\n",
      "-1.3915796022404692\n",
      "-0.601320590274273\n",
      "-0.518019295397324\n",
      "-0.8886554202970833\n",
      "-1.304005037266415\n",
      "-0.9628385192455767\n",
      "0.3177709262385396\n",
      "-0.9141525119984082\n",
      "1.8080695730592617\n",
      "-0.9509123775077927\n",
      "0.17723530072173838\n",
      "0.3071841660066364\n",
      "0.0007911796319489514\n",
      "0.44110370863185155\n",
      "-1.1633098707953267\n",
      "1.197775750247818\n",
      "-2.2515855876402053\n",
      "-0.16105417259562668\n",
      "-1.7095774261435126\n",
      "-0.027235778315164026\n",
      "-1.520537480014016\n",
      "0.5014306280861887\n",
      "-0.007974757140637551\n",
      "1.2475401316213506\n",
      "0.6209844341878352\n",
      "1.0517196419518136\n",
      "1.693326300822741\n",
      "0.8239884886008367\n",
      "0.8383531853152\n",
      "0.018530341691121367\n",
      "-0.4670413156872449\n",
      "-0.01791781757899776\n",
      "0.4855731596114518\n",
      "-0.2982065476250025\n",
      "-0.22843957740799659\n",
      "-1.3139815450083172\n",
      "-0.49536176461474274\n",
      "1.8209790687512069\n",
      "-0.07754988847953832\n",
      "1.978536590371735\n",
      "1.1082150079633657\n",
      "0.4006766146252996\n",
      "1.837688825369774\n",
      "-2.877154382799257\n",
      "-0.7802574533397707\n",
      "0.18458425213802382\n",
      "0.5376896393469456\n",
      "0.39641600084278983\n",
      "-2.128611029977913\n",
      "1.2467897244630437\n",
      "-1.4349424424165007\n",
      "2.137471414028425\n",
      "-1.4468258181026128\n",
      "-0.35777404912503014\n",
      "-1.1411057919829226\n",
      "0.06657347600783786\n",
      "0.13112469327875867\n",
      "2.448802195239795\n",
      "-1.7513034998212926\n",
      "-0.05296142118984817\n",
      "0.7696013841943522\n",
      "1.2746659562403282\n",
      "1.7626273295803785\n",
      "-1.0496723756363624\n",
      "1.6105653061951912\n",
      "1.0388128915006252\n",
      "0.7629618341266503\n",
      "0.3133944910331505\n",
      "1.5268884186232141\n",
      "0.5807243331869444\n",
      "0.45591121009755214\n",
      "-0.4476441121413313\n",
      "-0.40111279252759924\n",
      "-0.21044634788397984\n",
      "-0.28738595623183427\n",
      "-1.1200432164804885\n",
      "-1.4456534213459997\n",
      "0.44928771426812614\n",
      "-2.39570213022821\n",
      "-0.4352144362748259\n",
      "0.7751017575225668\n",
      "-0.8374279059703508\n",
      "-0.3088081764682542\n",
      "1.0237100970515858\n",
      "-0.36641705430179144\n",
      "0.7689967337572597\n",
      "-1.3783553721472257\n",
      "-1.7782232554474218\n",
      "-0.3654029788458885\n",
      "-1.0863608061088443\n",
      "-0.7743346937838804\n",
      "1.1541050626643516\n",
      "-0.005531317909017201\n",
      "-0.4689761385099947\n",
      "0.6326272028218975\n",
      "0.9952056865769497\n",
      "0.7728993091054265\n",
      "-1.3527607108127475\n",
      "-0.24025476904796833\n",
      "0.046531173402463905\n",
      "-0.427106400906122\n",
      "0.2157120533724428\n",
      "-0.8132161866422222\n",
      "0.3394424301790013\n",
      "0.9787766860028563\n",
      "-1.0964962315586124\n",
      "1.0370950880329781\n",
      "0.5133769875744864\n",
      "-0.22514840273472528\n",
      "1.056245884316626\n",
      "0.3805071351321282\n",
      "-1.1123460076125382\n",
      "1.6816452187687754\n",
      "-0.3589690277135452\n",
      "0.3826266312084097\n",
      "-0.2164004304141348\n",
      "0.06352292467755863\n",
      "-1.083038471564932\n",
      "1.9120589242674848\n",
      "-1.7415788724580301\n",
      "-0.8660173410675659\n",
      "-0.08459599727596646\n",
      "-0.6256795367005691\n",
      "-0.5385997230193516\n",
      "1.0269484948930887\n",
      "-1.112276187475653\n",
      "0.8901647311950482\n",
      "-0.5972034011624403\n",
      "1.4717645570704754\n",
      "-0.943402466205875\n",
      "0.8023364693080688\n",
      "0.058835592540278384\n",
      "-0.09162990111559645\n",
      "-0.6753053540805418\n",
      "-0.7214837806194351\n",
      "1.177629269756782\n",
      "-2.3032050557667674\n",
      "0.15227352365901758\n",
      "-0.42023203092440714\n",
      "667\n",
      "333\n"
     ]
    }
   ],
   "source": [
    "contadorTrue = 0\n",
    "contadorFalse = 0\n",
    "for i in range(0, 1000):\n",
    "    resultado = randomIn()\n",
    "    if resultado == True:\n",
    "        contadorTrue = contadorTrue + 1\n",
    "    else:\n",
    "        contadorFalse = contadorFalse + 1\n",
    "print(contadorTrue)\n",
    "print(contadorFalse)"
   ]
  },
  {
   "cell_type": "code",
   "execution_count": 66,
   "id": "3bd9365e",
   "metadata": {},
   "outputs": [
    {
     "name": "stdout",
     "output_type": "stream",
     "text": [
      "     dado1  dado2  dado3  dado4  resultado  resultado2\n",
      "0        6      5      2      4         17         NaN\n",
      "1        3      6      3      2         14         NaN\n",
      "2        3      1      3      5         12         NaN\n",
      "3        2      1      4      2          9         NaN\n",
      "4        2      3      2      2          9         NaN\n",
      "..     ...    ...    ...    ...        ...         ...\n",
      "995      1      5      1      5         12         NaN\n",
      "996      2      1      1      5          9         NaN\n",
      "997      5      5      3      2         15         NaN\n",
      "998      3      5      5      5         18         NaN\n",
      "999      1      1      4      3          9         NaN\n",
      "\n",
      "[1000 rows x 6 columns]\n"
     ]
    }
   ],
   "source": [
    "#Funciones de distribución Distribución Gaussiana o Normal\n",
    "# Creamos dataframe con 1000 tiradas dobles de dado\n",
    "n = 5\n",
    "df = pd.DataFrame(np.random.randint(1, 7, size=(1000, 4)), columns=['dado1', 'dado2', \"dado3\", \"dado4\"])\n",
    "df['resultado'] = df.dado1 + df.dado2 + df.dado3 + df.dado4\n",
    "df[\"resultado2\"] = df.iloc[0] + df.iloc[1] + df.iloc[2] + df.iloc[3]\n",
    "print(df)"
   ]
  },
  {
   "cell_type": "code",
   "execution_count": 67,
   "id": "38a8684f",
   "metadata": {},
   "outputs": [],
   "source": [
    "def dados(n):\n",
    "    df = pd.DataFrame(np.random.randint(1, 7, size=(100000, n)))\n",
    "    df['resultado'] = df.iloc[:, 0:n].sum(axis= 1) \n",
    "    return df\n",
    "    "
   ]
  },
  {
   "cell_type": "code",
   "execution_count": 68,
   "id": "ed8490d3",
   "metadata": {},
   "outputs": [
    {
     "data": {
      "text/html": [
       "<div>\n",
       "<style scoped>\n",
       "    .dataframe tbody tr th:only-of-type {\n",
       "        vertical-align: middle;\n",
       "    }\n",
       "\n",
       "    .dataframe tbody tr th {\n",
       "        vertical-align: top;\n",
       "    }\n",
       "\n",
       "    .dataframe thead th {\n",
       "        text-align: right;\n",
       "    }\n",
       "</style>\n",
       "<table border=\"1\" class=\"dataframe\">\n",
       "  <thead>\n",
       "    <tr style=\"text-align: right;\">\n",
       "      <th></th>\n",
       "      <th>0</th>\n",
       "      <th>resultado</th>\n",
       "    </tr>\n",
       "  </thead>\n",
       "  <tbody>\n",
       "    <tr>\n",
       "      <th>0</th>\n",
       "      <td>4</td>\n",
       "      <td>4</td>\n",
       "    </tr>\n",
       "    <tr>\n",
       "      <th>1</th>\n",
       "      <td>5</td>\n",
       "      <td>5</td>\n",
       "    </tr>\n",
       "    <tr>\n",
       "      <th>2</th>\n",
       "      <td>6</td>\n",
       "      <td>6</td>\n",
       "    </tr>\n",
       "    <tr>\n",
       "      <th>3</th>\n",
       "      <td>6</td>\n",
       "      <td>6</td>\n",
       "    </tr>\n",
       "    <tr>\n",
       "      <th>4</th>\n",
       "      <td>4</td>\n",
       "      <td>4</td>\n",
       "    </tr>\n",
       "    <tr>\n",
       "      <th>...</th>\n",
       "      <td>...</td>\n",
       "      <td>...</td>\n",
       "    </tr>\n",
       "    <tr>\n",
       "      <th>99995</th>\n",
       "      <td>4</td>\n",
       "      <td>4</td>\n",
       "    </tr>\n",
       "    <tr>\n",
       "      <th>99996</th>\n",
       "      <td>3</td>\n",
       "      <td>3</td>\n",
       "    </tr>\n",
       "    <tr>\n",
       "      <th>99997</th>\n",
       "      <td>5</td>\n",
       "      <td>5</td>\n",
       "    </tr>\n",
       "    <tr>\n",
       "      <th>99998</th>\n",
       "      <td>6</td>\n",
       "      <td>6</td>\n",
       "    </tr>\n",
       "    <tr>\n",
       "      <th>99999</th>\n",
       "      <td>4</td>\n",
       "      <td>4</td>\n",
       "    </tr>\n",
       "  </tbody>\n",
       "</table>\n",
       "<p>100000 rows × 2 columns</p>\n",
       "</div>"
      ],
      "text/plain": [
       "       0  resultado\n",
       "0      4          4\n",
       "1      5          5\n",
       "2      6          6\n",
       "3      6          6\n",
       "4      4          4\n",
       "...   ..        ...\n",
       "99995  4          4\n",
       "99996  3          3\n",
       "99997  5          5\n",
       "99998  6          6\n",
       "99999  4          4\n",
       "\n",
       "[100000 rows x 2 columns]"
      ]
     },
     "execution_count": 68,
     "metadata": {},
     "output_type": "execute_result"
    }
   ],
   "source": [
    "result = dados(1)\n",
    "result"
   ]
  },
  {
   "cell_type": "code",
   "execution_count": 69,
   "id": "36698dbe",
   "metadata": {},
   "outputs": [
    {
     "data": {
      "text/plain": [
       "Text(0.5, 0, 'Resultado de los dos dados')"
      ]
     },
     "execution_count": 69,
     "metadata": {},
     "output_type": "execute_result"
    },
    {
     "data": {
      "image/png": "[encoded data removed]",
      "text/plain": [
       "<Figure size 432x288 with 1 Axes>"
      ]
     },
     "metadata": {
      "needs_background": "light"
     },
     "output_type": "display_data"
    }
   ],
   "source": [
    "plt.hist(result.resultado, bins=27, density=True)\n",
    "plt.ylabel('Probabilidad del evento')\n",
    "plt.xlabel('Resultado de los dos dados')"
   ]
  },
  {
   "cell_type": "code",
   "execution_count": 70,
   "id": "1cc7a23d",
   "metadata": {},
   "outputs": [
    {
     "data": {
      "text/html": [
       "<div>\n",
       "<style scoped>\n",
       "    .dataframe tbody tr th:only-of-type {\n",
       "        vertical-align: middle;\n",
       "    }\n",
       "\n",
       "    .dataframe tbody tr th {\n",
       "        vertical-align: top;\n",
       "    }\n",
       "\n",
       "    .dataframe thead th {\n",
       "        text-align: right;\n",
       "    }\n",
       "</style>\n",
       "<table border=\"1\" class=\"dataframe\">\n",
       "  <thead>\n",
       "    <tr style=\"text-align: right;\">\n",
       "      <th></th>\n",
       "      <th>0</th>\n",
       "      <th>resultado</th>\n",
       "    </tr>\n",
       "  </thead>\n",
       "  <tbody>\n",
       "    <tr>\n",
       "      <th>count</th>\n",
       "      <td>100000.00000</td>\n",
       "      <td>100000.00000</td>\n",
       "    </tr>\n",
       "    <tr>\n",
       "      <th>mean</th>\n",
       "      <td>3.49697</td>\n",
       "      <td>3.49697</td>\n",
       "    </tr>\n",
       "    <tr>\n",
       "      <th>std</th>\n",
       "      <td>1.70962</td>\n",
       "      <td>1.70962</td>\n",
       "    </tr>\n",
       "    <tr>\n",
       "      <th>min</th>\n",
       "      <td>1.00000</td>\n",
       "      <td>1.00000</td>\n",
       "    </tr>\n",
       "    <tr>\n",
       "      <th>25%</th>\n",
       "      <td>2.00000</td>\n",
       "      <td>2.00000</td>\n",
       "    </tr>\n",
       "    <tr>\n",
       "      <th>50%</th>\n",
       "      <td>3.00000</td>\n",
       "      <td>3.00000</td>\n",
       "    </tr>\n",
       "    <tr>\n",
       "      <th>75%</th>\n",
       "      <td>5.00000</td>\n",
       "      <td>5.00000</td>\n",
       "    </tr>\n",
       "    <tr>\n",
       "      <th>max</th>\n",
       "      <td>6.00000</td>\n",
       "      <td>6.00000</td>\n",
       "    </tr>\n",
       "  </tbody>\n",
       "</table>\n",
       "</div>"
      ],
      "text/plain": [
       "                  0     resultado\n",
       "count  100000.00000  100000.00000\n",
       "mean        3.49697       3.49697\n",
       "std         1.70962       1.70962\n",
       "min         1.00000       1.00000\n",
       "25%         2.00000       2.00000\n",
       "50%         3.00000       3.00000\n",
       "75%         5.00000       5.00000\n",
       "max         6.00000       6.00000"
      ]
     },
     "execution_count": 70,
     "metadata": {},
     "output_type": "execute_result"
    }
   ],
   "source": [
    "result.describe()"
   ]
  },
  {
   "cell_type": "code",
   "execution_count": 71,
   "id": "a691b29a",
   "metadata": {},
   "outputs": [],
   "source": [
    "def esPar(n):\n",
    "    if n % 2 == 0:\n",
    "        return True\n",
    "    else:\n",
    "        return False     "
   ]
  },
  {
   "cell_type": "code",
   "execution_count": 72,
   "id": "d11987ee",
   "metadata": {},
   "outputs": [
    {
     "data": {
      "text/plain": [
       "True"
      ]
     },
     "execution_count": 72,
     "metadata": {},
     "output_type": "execute_result"
    }
   ],
   "source": [
    "paridad = esPar(12)\n",
    "paridad"
   ]
  },
  {
   "cell_type": "code",
   "execution_count": 73,
   "id": "b46e8778",
   "metadata": {},
   "outputs": [
    {
     "name": "stdout",
     "output_type": "stream",
     "text": [
      "       0  resultado  paridad\n",
      "0      4          4     True\n",
      "1      5          5    False\n",
      "2      6          6     True\n",
      "3      6          6     True\n",
      "4      4          4     True\n",
      "...   ..        ...      ...\n",
      "99995  4          4     True\n",
      "99996  3          3    False\n",
      "99997  5          5    False\n",
      "99998  6          6     True\n",
      "99999  4          4     True\n",
      "\n",
      "[100000 rows x 3 columns]\n"
     ]
    }
   ],
   "source": [
    "result[\"paridad\"] = result[0].map(lambda x: esPar(x))\n",
    "print(result)"
   ]
  },
  {
   "cell_type": "code",
   "execution_count": 74,
   "id": "e3d50dfd",
   "metadata": {},
   "outputs": [
    {
     "data": {
      "text/plain": [
       "0  resultado  paridad\n",
       "1  1          False      16781\n",
       "6  6          True       16682\n",
       "4  4          True       16672\n",
       "2  2          True       16653\n",
       "3  3          False      16615\n",
       "5  5          False      16597\n",
       "dtype: int64"
      ]
     },
     "execution_count": 74,
     "metadata": {},
     "output_type": "execute_result"
    }
   ],
   "source": [
    "result.value_counts()"
   ]
  },
  {
   "cell_type": "code",
   "execution_count": null,
   "id": "7e79a9af",
   "metadata": {},
   "outputs": [],
   "source": [
    "# Ejercicio 2a: c\n",
    "\n",
    "# Ejercicio 2b: calcula cuál es la probabilidad de obtener un número\n",
    "# entero aleatorio entre 0 y 9 inclusives\n",
    "\n",
    "# Ejercicio 2c: calcula cuál es la probabilidad de obtener un número\n",
    "# entero aleatorio entre -1 y 8 inclusives\n",
    "\n",
    "# Ejercicio 2d: calcula cuál es la probabilidad de obtener un número\n",
    "# entero aleatorio entre -5 y 4 inclusives\n",
    "\n",
    "# Ejercicio 2e: calcula cuál es la probabilidad de que el módulo (abs)\n",
    "# de un número entero aleatorio entre -5 y 4 inclusives, sea 1"
   ]
  },
  {
   "cell_type": "code",
   "execution_count": 110,
   "id": "cc79dcac",
   "metadata": {},
   "outputs": [],
   "source": [
    "def numEntero(n):\n",
    "    df = pd.DataFrame(np.random.randint(-5, 5, size=(10000, n)))\n",
    "    df[\"abs\"] = df[0].map(lambda x: abs(x))\n",
    "    return df"
   ]
  },
  {
   "cell_type": "code",
   "execution_count": 111,
   "id": "48decfd0",
   "metadata": {},
   "outputs": [
    {
     "data": {
      "text/html": [
       "<div>\n",
       "<style scoped>\n",
       "    .dataframe tbody tr th:only-of-type {\n",
       "        vertical-align: middle;\n",
       "    }\n",
       "\n",
       "    .dataframe tbody tr th {\n",
       "        vertical-align: top;\n",
       "    }\n",
       "\n",
       "    .dataframe thead th {\n",
       "        text-align: right;\n",
       "    }\n",
       "</style>\n",
       "<table border=\"1\" class=\"dataframe\">\n",
       "  <thead>\n",
       "    <tr style=\"text-align: right;\">\n",
       "      <th></th>\n",
       "      <th>0</th>\n",
       "      <th>abs</th>\n",
       "    </tr>\n",
       "  </thead>\n",
       "  <tbody>\n",
       "    <tr>\n",
       "      <th>0</th>\n",
       "      <td>-3</td>\n",
       "      <td>3</td>\n",
       "    </tr>\n",
       "    <tr>\n",
       "      <th>1</th>\n",
       "      <td>-4</td>\n",
       "      <td>4</td>\n",
       "    </tr>\n",
       "    <tr>\n",
       "      <th>2</th>\n",
       "      <td>4</td>\n",
       "      <td>4</td>\n",
       "    </tr>\n",
       "    <tr>\n",
       "      <th>3</th>\n",
       "      <td>-2</td>\n",
       "      <td>2</td>\n",
       "    </tr>\n",
       "    <tr>\n",
       "      <th>4</th>\n",
       "      <td>3</td>\n",
       "      <td>3</td>\n",
       "    </tr>\n",
       "    <tr>\n",
       "      <th>...</th>\n",
       "      <td>...</td>\n",
       "      <td>...</td>\n",
       "    </tr>\n",
       "    <tr>\n",
       "      <th>9995</th>\n",
       "      <td>-3</td>\n",
       "      <td>3</td>\n",
       "    </tr>\n",
       "    <tr>\n",
       "      <th>9996</th>\n",
       "      <td>4</td>\n",
       "      <td>4</td>\n",
       "    </tr>\n",
       "    <tr>\n",
       "      <th>9997</th>\n",
       "      <td>-2</td>\n",
       "      <td>2</td>\n",
       "    </tr>\n",
       "    <tr>\n",
       "      <th>9998</th>\n",
       "      <td>-5</td>\n",
       "      <td>5</td>\n",
       "    </tr>\n",
       "    <tr>\n",
       "      <th>9999</th>\n",
       "      <td>4</td>\n",
       "      <td>4</td>\n",
       "    </tr>\n",
       "  </tbody>\n",
       "</table>\n",
       "<p>10000 rows × 2 columns</p>\n",
       "</div>"
      ],
      "text/plain": [
       "      0  abs\n",
       "0    -3    3\n",
       "1    -4    4\n",
       "2     4    4\n",
       "3    -2    2\n",
       "4     3    3\n",
       "...  ..  ...\n",
       "9995 -3    3\n",
       "9996  4    4\n",
       "9997 -2    2\n",
       "9998 -5    5\n",
       "9999  4    4\n",
       "\n",
       "[10000 rows x 2 columns]"
      ]
     },
     "execution_count": 111,
     "metadata": {},
     "output_type": "execute_result"
    }
   ],
   "source": [
    "ejercicio = numEntero(1)\n",
    "ejercicio"
   ]
  },
  {
   "cell_type": "code",
   "execution_count": 112,
   "id": "97a40bf5",
   "metadata": {},
   "outputs": [
    {
     "data": {
      "text/plain": [
       "3    2045\n",
       "1    2045\n",
       "2    2013\n",
       "4    1899\n",
       "0    1003\n",
       "5     995\n",
       "Name: abs, dtype: int64"
      ]
     },
     "execution_count": 112,
     "metadata": {},
     "output_type": "execute_result"
    }
   ],
   "source": [
    "ejercicio[\"abs\"].value_counts()"
   ]
  },
  {
   "cell_type": "code",
   "execution_count": null,
   "id": "234f7fa7",
   "metadata": {},
   "outputs": [],
   "source": []
  },
  {
   "cell_type": "code",
   "execution_count": null,
   "id": "d77aff17",
   "metadata": {},
   "outputs": [],
   "source": []
  },
  {
   "cell_type": "code",
   "execution_count": null,
   "id": "b41dc22e",
   "metadata": {},
   "outputs": [],
   "source": []
  }
 ],
 "metadata": {
  "kernelspec": {
   "display_name": "Python 3 (ipykernel)",
   "language": "python",
   "name": "python3"
  },
  "language_info": {
   "codemirror_mode": {
    "name": "ipython",
    "version": 3
   },
   "file_extension": ".py",
   "mimetype": "text/x-python",
   "name": "python",
   "nbconvert_exporter": "python",
   "pygments_lexer": "ipython3",
   "version": "3.9.12"
  }
 },
 "nbformat": 4,
 "nbformat_minor": 5
}
