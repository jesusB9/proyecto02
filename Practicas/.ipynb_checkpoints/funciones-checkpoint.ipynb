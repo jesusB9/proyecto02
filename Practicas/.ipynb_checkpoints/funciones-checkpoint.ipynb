{
 "cells": [
  {
   "cell_type": "markdown",
   "id": "ed2c57cb",
   "metadata": {},
   "source": [
    "1.- Escribe una función que extraiga de una lista de números el menor y el mayor.\n",
    "\n",
    "2.- Escribe otra función que haga de test de la primera con los siguientes casos:\n",
    "\n",
    "    [1,2,3,4,5,6,7,8,9]\n",
    "    [9,8,7,6,5,4,3,2,1]\n",
    "    [0,-1,9,-12]\n",
    "    [0, 0, 0]\n",
    "    [-1]\n",
    "    []\n",
    "\n",
    "    La función de test dará un ok por cada respuesta correcta y un fail en caso contrario.\n",
    "\n",
    "3.- Escribe una función que sume los números de una lista.\n",
    "\n",
    "4.- Escribe su función de test\n",
    "\n",
    "Suerte!"
   ]
  },
  {
   "cell_type": "code",
   "execution_count": 1,
   "id": "b8fab483",
   "metadata": {},
   "outputs": [],
   "source": [
    "import pandas as pd\n",
    "import numpy as np\n",
    "import matplotlib.pyplot as plt\n",
    "import numpy as np\n",
    "%matplotlib inline\n",
    "import random"
   ]
  },
  {
   "cell_type": "code",
   "execution_count": 2,
   "id": "373b4397",
   "metadata": {},
   "outputs": [],
   "source": [
    "def numeroMayor(listaNumeros):\n",
    "    mayor = 0\n",
    "    for n in listaNumeros:\n",
    "        if n > mayor:\n",
    "            mayor = n\n",
    "\n",
    "    return(mayor)"
   ]
  },
  {
   "cell_type": "code",
   "execution_count": 3,
   "id": "59751bbf",
   "metadata": {},
   "outputs": [],
   "source": [
    "lista = [1, 2, 3, 4, 5, 6, 7, 8, 9]"
   ]
  },
  {
   "cell_type": "code",
   "execution_count": 4,
   "id": "641be26f",
   "metadata": {},
   "outputs": [
    {
     "data": {
      "text/plain": [
       "9"
      ]
     },
     "execution_count": 4,
     "metadata": {},
     "output_type": "execute_result"
    }
   ],
   "source": [
    "numeroMayor(lista)"
   ]
  },
  {
   "cell_type": "code",
   "execution_count": 5,
   "id": "071e60ae",
   "metadata": {},
   "outputs": [],
   "source": [
    "def numerosMyM(listaNumeros):\n",
    "    if len(listaNumeros) == 0:\n",
    "        return(0, 0)   \n",
    "    mayor = listaNumeros[0]\n",
    "    menor = listaNumeros[0]\n",
    "    for n in listaNumeros:\n",
    "        if n > mayor:\n",
    "            mayor = n\n",
    "        if n < menor:\n",
    "            menor = n\n",
    "\n",
    "    return(menor, mayor)"
   ]
  },
  {
   "cell_type": "code",
   "execution_count": 6,
   "id": "280de486",
   "metadata": {},
   "outputs": [],
   "source": [
    "lista = [1, 2, 3, 4, 5, 6, 7, 8, 9]"
   ]
  },
  {
   "cell_type": "code",
   "execution_count": 7,
   "id": "fd405c0b",
   "metadata": {},
   "outputs": [
    {
     "data": {
      "text/plain": [
       "(1, 9)"
      ]
     },
     "execution_count": 7,
     "metadata": {},
     "output_type": "execute_result"
    }
   ],
   "source": [
    "numerosMyM(lista)"
   ]
  },
  {
   "cell_type": "code",
   "execution_count": 8,
   "id": "c0eb0993",
   "metadata": {},
   "outputs": [],
   "source": [
    "lista2 = [9, 8, 7, 6, 5, 4, 3, 2, 1]"
   ]
  },
  {
   "cell_type": "code",
   "execution_count": 9,
   "id": "172d603a",
   "metadata": {},
   "outputs": [
    {
     "data": {
      "text/plain": [
       "(1, 9)"
      ]
     },
     "execution_count": 9,
     "metadata": {},
     "output_type": "execute_result"
    }
   ],
   "source": [
    "numerosMyM(lista2)"
   ]
  },
  {
   "cell_type": "code",
   "execution_count": 10,
   "id": "bb5f3a2b",
   "metadata": {},
   "outputs": [],
   "source": [
    "lista3 = [0,-1, 9,-12]"
   ]
  },
  {
   "cell_type": "code",
   "execution_count": 11,
   "id": "45d125fc",
   "metadata": {},
   "outputs": [
    {
     "data": {
      "text/plain": [
       "(-12, 9)"
      ]
     },
     "execution_count": 11,
     "metadata": {},
     "output_type": "execute_result"
    }
   ],
   "source": [
    "numerosMyM(lista3)"
   ]
  },
  {
   "cell_type": "code",
   "execution_count": 12,
   "id": "cd3b9d21",
   "metadata": {},
   "outputs": [],
   "source": [
    "lista4 = [0, 0, 0]"
   ]
  },
  {
   "cell_type": "code",
   "execution_count": 13,
   "id": "8df3e8a5",
   "metadata": {},
   "outputs": [
    {
     "data": {
      "text/plain": [
       "(0, 0)"
      ]
     },
     "execution_count": 13,
     "metadata": {},
     "output_type": "execute_result"
    }
   ],
   "source": [
    "numerosMyM(lista4)"
   ]
  },
  {
   "cell_type": "code",
   "execution_count": 14,
   "id": "03dd6e84",
   "metadata": {},
   "outputs": [],
   "source": [
    "lista5 = [-1]"
   ]
  },
  {
   "cell_type": "code",
   "execution_count": 15,
   "id": "0600e055",
   "metadata": {},
   "outputs": [
    {
     "data": {
      "text/plain": [
       "(-1, -1)"
      ]
     },
     "execution_count": 15,
     "metadata": {},
     "output_type": "execute_result"
    }
   ],
   "source": [
    "numerosMyM(lista5)"
   ]
  },
  {
   "cell_type": "code",
   "execution_count": 16,
   "id": "4d26b688",
   "metadata": {},
   "outputs": [],
   "source": [
    "lista6 = []"
   ]
  },
  {
   "cell_type": "code",
   "execution_count": 17,
   "id": "7b9658f8",
   "metadata": {},
   "outputs": [
    {
     "data": {
      "text/plain": [
       "(0, 0)"
      ]
     },
     "execution_count": 17,
     "metadata": {},
     "output_type": "execute_result"
    }
   ],
   "source": [
    "numerosMyM(lista6)"
   ]
  },
  {
   "cell_type": "code",
   "execution_count": 18,
   "id": "7723738b",
   "metadata": {},
   "outputs": [],
   "source": [
    "\n",
    "def numerosMyM_test():\n",
    "    lista = [1, 2, 3, 4, 5, 6, 7, 8, 9]\n",
    "    numerosMyM(lista)\n",
    "    if numerosMyM(lista) == (1, 9):\n",
    "        print( \"ok\")\n",
    "    else:\n",
    "        print(\"fail\")\n",
    "    "
   ]
  },
  {
   "cell_type": "code",
   "execution_count": 19,
   "id": "a3770b51",
   "metadata": {},
   "outputs": [
    {
     "name": "stdout",
     "output_type": "stream",
     "text": [
      "ok\n"
     ]
    }
   ],
   "source": [
    "numerosMyM_test()"
   ]
  },
  {
   "cell_type": "code",
   "execution_count": 20,
   "id": "ba4e088d",
   "metadata": {},
   "outputs": [],
   "source": [
    "def suma(notas):\n",
    "    \n",
    "    # variable que contendrá el resultado de la suma de las notas \n",
    "    # con el valor 0, lo que indica que la suma aún no se ha realizado\n",
    "    sumaDeNotas = 0\n",
    "    \n",
    "    # A partir de ahí, un enfoque que podemos seguir es a través de una\n",
    "    # iteración sobre la lista de notas. Es decir para cada nota, su valor se\n",
    "    # agrega a la variable suma_de_notas, de la siguiente manera\n",
    "    for nota in notas:\n",
    "        sumaDeNotas += nota\n",
    "\n",
    "    return(sumaDeNotas)\n"
   ]
  },
  {
   "cell_type": "code",
   "execution_count": 21,
   "id": "939b1035",
   "metadata": {},
   "outputs": [],
   "source": [
    "notas = [1,2,3,4,5,6,7,8,9]\n",
    "notas1 = [9,8,7,6,5,4,3,2,1]\n",
    "notas2 = [0,-1,9,-12]\n",
    "notas3 = [0, 0, 0]\n",
    "notas4 = [-1]\n",
    "notas5 = []"
   ]
  },
  {
   "cell_type": "code",
   "execution_count": 22,
   "id": "3a2becd0",
   "metadata": {
    "scrolled": true
   },
   "outputs": [
    {
     "name": "stdout",
     "output_type": "stream",
     "text": [
      "45\n"
     ]
    }
   ],
   "source": [
    "sumaDeNotas = suma(notas)\n",
    "print(sumaDeNotas)"
   ]
  },
  {
   "cell_type": "code",
   "execution_count": 23,
   "id": "a7e1b0cd",
   "metadata": {},
   "outputs": [
    {
     "name": "stdout",
     "output_type": "stream",
     "text": [
      "45\n"
     ]
    }
   ],
   "source": [
    "sumaDeNotas = suma(notas1)\n",
    "print(sumaDeNotas)"
   ]
  },
  {
   "cell_type": "code",
   "execution_count": 24,
   "id": "c544b0d0",
   "metadata": {},
   "outputs": [
    {
     "name": "stdout",
     "output_type": "stream",
     "text": [
      "-4\n"
     ]
    }
   ],
   "source": [
    "sumaDeNotas = suma(notas2)\n",
    "print(sumaDeNotas)"
   ]
  },
  {
   "cell_type": "code",
   "execution_count": 25,
   "id": "a7e4d7fb",
   "metadata": {},
   "outputs": [
    {
     "name": "stdout",
     "output_type": "stream",
     "text": [
      "0\n"
     ]
    }
   ],
   "source": [
    "sumaDeNotas = suma(notas3)\n",
    "print(sumaDeNotas)"
   ]
  },
  {
   "cell_type": "code",
   "execution_count": 26,
   "id": "b81fbfbc",
   "metadata": {},
   "outputs": [
    {
     "name": "stdout",
     "output_type": "stream",
     "text": [
      "-1\n"
     ]
    }
   ],
   "source": [
    "sumaDeNotas = suma(notas4)\n",
    "print(sumaDeNotas)"
   ]
  },
  {
   "cell_type": "code",
   "execution_count": 27,
   "id": "36894aca",
   "metadata": {},
   "outputs": [
    {
     "name": "stdout",
     "output_type": "stream",
     "text": [
      "0\n"
     ]
    }
   ],
   "source": [
    "sumaDeNotas = suma(notas5)\n",
    "print(sumaDeNotas)"
   ]
  },
  {
   "cell_type": "code",
   "execution_count": 28,
   "id": "10f7b2ed",
   "metadata": {},
   "outputs": [
    {
     "name": "stdout",
     "output_type": "stream",
     "text": [
      "-4\n"
     ]
    }
   ],
   "source": [
    "# otra opcion de sumar una lista es con la funcion de python sum()\n",
    "laSuma = sum(notas2)\n",
    "print(laSuma)"
   ]
  },
  {
   "cell_type": "code",
   "execution_count": 29,
   "id": "c8bc0b73",
   "metadata": {},
   "outputs": [],
   "source": [
    "# Hcemos el test de la funcion de suma.\n",
    "def suma_test():\n",
    "    notas = [1, 2, 3, 4, 5, 6, 7, 8, 9]\n",
    "    if suma(notas) == 45:\n",
    "        print( \"ok\")\n",
    "    else:\n",
    "        print(\"fail\")\n",
    "    \n",
    "    notas1 = [9,8,7,6,5,4,3,2,1]\n",
    "    if suma(notas1) == 45:\n",
    "        print( \"ok\")\n",
    "    else:\n",
    "        print(\"fail\")\n",
    "        \n",
    "    notas2 = [0,-1,9,-12]\n",
    "    if suma(notas2) == -4:\n",
    "        print( \"ok\")\n",
    "    else:\n",
    "        print(\"fail\")\n",
    "    \n",
    "    notas3 = [0, 0, 0]\n",
    "    if suma(notas3) == 0:\n",
    "        print( \"ok\")\n",
    "    else:\n",
    "        print(\"fail\")\n",
    "        \n",
    "    notas4 = [-1]\n",
    "    if suma(notas4) == -1:\n",
    "        print( \"ok\")\n",
    "    else:\n",
    "        print(\"fail\")\n",
    "    \n",
    "    notas5 = []\n",
    "    if suma(notas5) == 0:\n",
    "        print( \"ok\")\n",
    "    else:\n",
    "        print(\"fail\")\n",
    "        "
   ]
  },
  {
   "cell_type": "code",
   "execution_count": 30,
   "id": "5aee3837",
   "metadata": {},
   "outputs": [
    {
     "name": "stdout",
     "output_type": "stream",
     "text": [
      "ok\n",
      "ok\n",
      "ok\n",
      "ok\n",
      "ok\n",
      "ok\n"
     ]
    }
   ],
   "source": [
    "suma_test()"
   ]
  },
  {
   "cell_type": "code",
   "execution_count": 31,
   "id": "855c912b",
   "metadata": {},
   "outputs": [],
   "source": [
    "# Funcion de pares e impares\n",
    "def numeroPar(n):\n",
    "    if n % 2 == 0:\n",
    "        return(True)\n",
    "    else:\n",
    "        return(False)\n",
    "    "
   ]
  },
  {
   "cell_type": "code",
   "execution_count": 32,
   "id": "09505b90",
   "metadata": {},
   "outputs": [
    {
     "name": "stdout",
     "output_type": "stream",
     "text": [
      "True\n"
     ]
    }
   ],
   "source": [
    "par = numeroPar(2)\n",
    "print(par)"
   ]
  },
  {
   "cell_type": "code",
   "execution_count": 33,
   "id": "7e7c7faa",
   "metadata": {},
   "outputs": [
    {
     "name": "stdout",
     "output_type": "stream",
     "text": [
      "False\n"
     ]
    }
   ],
   "source": [
    "par = numeroPar(1)\n",
    "print(par)"
   ]
  },
  {
   "cell_type": "code",
   "execution_count": 34,
   "id": "10374754",
   "metadata": {},
   "outputs": [
    {
     "name": "stdout",
     "output_type": "stream",
     "text": [
      "True\n"
     ]
    }
   ],
   "source": [
    "par = numeroPar(0)\n",
    "print(par)"
   ]
  },
  {
   "cell_type": "code",
   "execution_count": 35,
   "id": "3a675821",
   "metadata": {},
   "outputs": [
    {
     "name": "stdout",
     "output_type": "stream",
     "text": [
      "False\n"
     ]
    }
   ],
   "source": [
    "par = numeroPar(-1)\n",
    "print(par)"
   ]
  },
  {
   "cell_type": "code",
   "execution_count": 36,
   "id": "d4f5a2af",
   "metadata": {},
   "outputs": [],
   "source": [
    "# Hcemos el test de la funcion de numeros pares.\n",
    "def numeroPar_test():\n",
    "    n1 = 2\n",
    "    if numeroPar(n1) == True:\n",
    "        print(\"ok\")\n",
    "    else:\n",
    "        print(\"fail\")\n",
    "        \n",
    "    n2 = 1\n",
    "    if numeroPar(n2) == False:\n",
    "        print(\"ok\")\n",
    "    else:\n",
    "        print(\"fail\")\n",
    "        \n",
    "    n3 = 0\n",
    "    if numeroPar(n3) == True:\n",
    "        print(\"ok\")\n",
    "    else:\n",
    "        print(\"fail\")\n",
    "        \n",
    "    n4 = -1\n",
    "    if numeroPar(n4) == False:\n",
    "        print(\"ok\")\n",
    "    else:\n",
    "        print(\"fail\")\n",
    "    \n",
    "        "
   ]
  },
  {
   "cell_type": "code",
   "execution_count": 37,
   "id": "85bea174",
   "metadata": {},
   "outputs": [
    {
     "name": "stdout",
     "output_type": "stream",
     "text": [
      "ok\n",
      "ok\n",
      "ok\n",
      "ok\n"
     ]
    }
   ],
   "source": [
    "numeroPar_test()"
   ]
  },
  {
   "cell_type": "code",
   "execution_count": 38,
   "id": "3e9ea36a",
   "metadata": {},
   "outputs": [],
   "source": [
    "# vamos a crear una funcion que convioerta los grados celsius a Fahrenheit\n",
    "def celsiusAfahrenheit(c):\n",
    "    return (c * 1.8) + 32"
   ]
  },
  {
   "cell_type": "code",
   "execution_count": 39,
   "id": "a5ef1c7c",
   "metadata": {},
   "outputs": [
    {
     "name": "stdout",
     "output_type": "stream",
     "text": [
      "68.0\n"
     ]
    }
   ],
   "source": [
    "GradosFa = celsiusAfahrenheit(20)\n",
    "print(GradosFa)"
   ]
  },
  {
   "cell_type": "code",
   "execution_count": 40,
   "id": "bd8a8ddc",
   "metadata": {},
   "outputs": [
    {
     "name": "stdout",
     "output_type": "stream",
     "text": [
      "50.0\n"
     ]
    }
   ],
   "source": [
    "GradosFa = celsiusAfahrenheit(10)\n",
    "print(GradosFa)"
   ]
  },
  {
   "cell_type": "code",
   "execution_count": 41,
   "id": "a6cc7036",
   "metadata": {},
   "outputs": [
    {
     "name": "stdout",
     "output_type": "stream",
     "text": [
      "104.0\n"
     ]
    }
   ],
   "source": [
    "GradosFa = celsiusAfahrenheit(40)\n",
    "print(GradosFa)"
   ]
  },
  {
   "cell_type": "code",
   "execution_count": 42,
   "id": "5f4792ca",
   "metadata": {},
   "outputs": [],
   "source": [
    "# creamos la funcion de test de celsius a fahrenheit\n",
    "def celsiusAfahrenheit_test():\n",
    "    n1 = 20\n",
    "    if celsiusAfahrenheit(n1) == 68.0:\n",
    "        print(\"ok\")\n",
    "    else:\n",
    "        print(\"fail\")\n",
    "        \n",
    "    n2 = 10\n",
    "    if celsiusAfahrenheit(n2) == 50.0:\n",
    "        print(\"ok\")\n",
    "    else:\n",
    "        print(\"fail\")\n",
    "        \n",
    "    n3 = 40\n",
    "    if celsiusAfahrenheit(n3) == 104.0:\n",
    "        print(\"ok\")\n",
    "    else:\n",
    "        print(\"fail\")"
   ]
  },
  {
   "cell_type": "code",
   "execution_count": 43,
   "id": "6d80c90d",
   "metadata": {},
   "outputs": [
    {
     "name": "stdout",
     "output_type": "stream",
     "text": [
      "ok\n",
      "ok\n",
      "ok\n"
     ]
    }
   ],
   "source": [
    "# llamamos la funcion para verificar si los datos son correctos\n",
    "celsiusAfahrenheit_test()"
   ]
  },
  {
   "cell_type": "code",
   "execution_count": 44,
   "id": "2707f077",
   "metadata": {},
   "outputs": [],
   "source": [
    "# vamos a crear una funcion que convioerta los grados Fahrenheit a celsius.\n",
    "def fahrenheitAcelsius(f):\n",
    "    return (f - 32) / 1.8"
   ]
  },
  {
   "cell_type": "code",
   "execution_count": 45,
   "id": "bd0e619c",
   "metadata": {},
   "outputs": [
    {
     "name": "stdout",
     "output_type": "stream",
     "text": [
      "-12.222222222222221\n"
     ]
    }
   ],
   "source": [
    "GradosCel = fahrenheitAcelsius(10)\n",
    "print(GradosCel)"
   ]
  },
  {
   "cell_type": "code",
   "execution_count": 46,
   "id": "05625ffc",
   "metadata": {},
   "outputs": [
    {
     "name": "stdout",
     "output_type": "stream",
     "text": [
      "26.666666666666664\n"
     ]
    }
   ],
   "source": [
    "GradosCel = fahrenheitAcelsius(80)\n",
    "print(GradosCel)"
   ]
  },
  {
   "cell_type": "code",
   "execution_count": 47,
   "id": "fcb70fc5",
   "metadata": {},
   "outputs": [
    {
     "name": "stdout",
     "output_type": "stream",
     "text": [
      "10.0\n"
     ]
    }
   ],
   "source": [
    "GradosCel = fahrenheitAcelsius(50)\n",
    "print(GradosCel)"
   ]
  },
  {
   "cell_type": "code",
   "execution_count": 48,
   "id": "8fa24bf1",
   "metadata": {},
   "outputs": [],
   "source": [
    "# creamos la funcion de test de celsius a fahrenheit\n",
    "def fahrenheitAcelsius_test():\n",
    "    n1 = 10\n",
    "    if fahrenheitAcelsius(n1) == -12.222222222222221:\n",
    "        print(\"ok\")\n",
    "    else:\n",
    "        print(\"fail\")\n",
    "        \n",
    "    n2 = 80\n",
    "    if fahrenheitAcelsius(n2) == 26.666666666666664:\n",
    "        print(\"ok\")\n",
    "    else:\n",
    "        print(\"fail\")\n",
    "        \n",
    "    n3 = 50\n",
    "    if fahrenheitAcelsius(n3) == 10.0:\n",
    "        print(\"ok\")\n",
    "    else:\n",
    "        print(\"fail\")"
   ]
  },
  {
   "cell_type": "code",
   "execution_count": 49,
   "id": "efb6f7a9",
   "metadata": {},
   "outputs": [
    {
     "name": "stdout",
     "output_type": "stream",
     "text": [
      "ok\n",
      "ok\n",
      "ok\n"
     ]
    }
   ],
   "source": [
    "# llamamos la funcion para verificar si los datos son correctos\n",
    "fahrenheitAcelsius_test()"
   ]
  },
  {
   "cell_type": "code",
   "execution_count": 50,
   "id": "1b38549e",
   "metadata": {},
   "outputs": [
    {
     "name": "stdout",
     "output_type": "stream",
     "text": [
      "Factorial de 8 es 40320\n"
     ]
    }
   ],
   "source": [
    "# creamos una funcion de factorial usando un ciclo WHILE\n",
    "def factorial(num): \n",
    "    if num < 0: \n",
    "        print(\"El número factorial es negativo\")\n",
    "\n",
    "    elif num == 0: \n",
    "        return 1\n",
    "        \n",
    "    else: \n",
    "        fact = 1\n",
    "        while(num > 1): \n",
    "            fact *= num \n",
    "            num -= 1\n",
    "        return fact \n",
    "\n",
    "num = 8; \n",
    "\n",
    "print(\"Factorial de\", num, \"es\", factorial(num))     "
   ]
  },
  {
   "cell_type": "code",
   "execution_count": 51,
   "id": "817db848",
   "metadata": {},
   "outputs": [],
   "source": [
    "# o la creamos la funcion de factorial con un ciclo FOR\n",
    "def facty(num):\n",
    "    resultado = 1\n",
    "    for i in range(1, num+1):\n",
    "        \n",
    "        resultado = i * resultado\n",
    "        \n",
    "    return(resultado) \n",
    "    "
   ]
  },
  {
   "cell_type": "code",
   "execution_count": 52,
   "id": "b1c51d75",
   "metadata": {},
   "outputs": [
    {
     "data": {
      "text/plain": [
       "40320"
      ]
     },
     "execution_count": 52,
     "metadata": {},
     "output_type": "execute_result"
    }
   ],
   "source": [
    "numero = facty(8)\n",
    "numero"
   ]
  },
  {
   "cell_type": "code",
   "execution_count": 53,
   "id": "e0c27b86",
   "metadata": {},
   "outputs": [
    {
     "data": {
      "text/plain": [
       "720"
      ]
     },
     "execution_count": 53,
     "metadata": {},
     "output_type": "execute_result"
    }
   ],
   "source": [
    "numero2 = facty(6)\n",
    "numero2"
   ]
  },
  {
   "cell_type": "code",
   "execution_count": 54,
   "id": "3d3c4743",
   "metadata": {},
   "outputs": [
    {
     "data": {
      "text/plain": [
       "120"
      ]
     },
     "execution_count": 54,
     "metadata": {},
     "output_type": "execute_result"
    }
   ],
   "source": [
    "numero3 = facty(5)\n",
    "numero3"
   ]
  },
  {
   "cell_type": "code",
   "execution_count": 55,
   "id": "cf31d573",
   "metadata": {},
   "outputs": [
    {
     "data": {
      "text/plain": [
       "24"
      ]
     },
     "execution_count": 55,
     "metadata": {},
     "output_type": "execute_result"
    }
   ],
   "source": [
    "numero4 = facty(4)\n",
    "numero4"
   ]
  },
  {
   "cell_type": "code",
   "execution_count": 56,
   "id": "045d35c0",
   "metadata": {},
   "outputs": [],
   "source": [
    "# creamos la funcion de test de factorial\n",
    "def facty_test():\n",
    "    numero = 8\n",
    "    if facty(numero) == 40320:\n",
    "        print(\"ok\")\n",
    "    else:\n",
    "        print(\"fail\")\n",
    "        \n",
    "    numero2 = 6\n",
    "    if facty(numero2) == 720:\n",
    "        print(\"ok\")\n",
    "    else:\n",
    "        print(\"fail\")\n",
    "        \n",
    "    numero3 = 5\n",
    "    if facty(numero3) == 120:\n",
    "        print(\"ok\")\n",
    "    else:\n",
    "        print(\"fail\")\n",
    "        \n",
    "    numero4 = 4\n",
    "    if facty(numero4) == 24:\n",
    "        print(\"ok\")\n",
    "    else:\n",
    "        print(\"fail\")"
   ]
  },
  {
   "cell_type": "code",
   "execution_count": 57,
   "id": "025c25b7",
   "metadata": {},
   "outputs": [
    {
     "name": "stdout",
     "output_type": "stream",
     "text": [
      "ok\n",
      "ok\n",
      "ok\n",
      "ok\n"
     ]
    }
   ],
   "source": [
    "# llamamos la funcion para verificar si los datos son correctos\n",
    "facty_test()"
   ]
  },
  {
   "cell_type": "code",
   "execution_count": 58,
   "id": "b3590395",
   "metadata": {},
   "outputs": [
    {
     "name": "stdout",
     "output_type": "stream",
     "text": [
      "     dado1  dado2  dado3  dado4  resultado  resultado2\n",
      "0        1      5      6      3         15         NaN\n",
      "1        1      4      2      6         13         NaN\n",
      "2        3      3      2      1          9         NaN\n",
      "3        5      6      3      1         15         NaN\n",
      "4        3      1      5      5         14         NaN\n",
      "..     ...    ...    ...    ...        ...         ...\n",
      "995      3      2      4      1         10         NaN\n",
      "996      2      2      6      2         12         NaN\n",
      "997      5      1      6      4         16         NaN\n",
      "998      3      1      5      6         15         NaN\n",
      "999      4      6      6      4         20         NaN\n",
      "\n",
      "[1000 rows x 6 columns]\n"
     ]
    }
   ],
   "source": [
    "#Funciones de distribución Distribución Gaussiana o Normal\n",
    "# Creamos dataframe con 1000 tiradas dobles de dado\n",
    "n = 5\n",
    "df = pd.DataFrame(np.random.randint(1, 7, size=(1000, 4)), columns=['dado1', 'dado2', \"dado3\", \"dado4\"])\n",
    "df['resultado'] = df.dado1 + df.dado2 + df.dado3 + df.dado4\n",
    "df[\"resultado2\"] = df.iloc[0] + df.iloc[1] + df.iloc[2] + df.iloc[3]\n",
    "print(df)"
   ]
  },
  {
   "cell_type": "code",
   "execution_count": 59,
   "id": "7bc79352",
   "metadata": {},
   "outputs": [
    {
     "data": {
      "text/plain": [
       "Text(0.5, 0, 'Resultado de los dos dados')"
      ]
     },
     "execution_count": 59,
     "metadata": {},
     "output_type": "execute_result"
    },
    {
     "data": {
      "image/png": "[encoded data removed]",
      "text/plain": [
       "<Figure size 432x288 with 1 Axes>"
      ]
     },
     "metadata": {
      "needs_background": "light"
     },
     "output_type": "display_data"
    }
   ],
   "source": [
    "plt.hist(df.resultado, bins=21, density=True)\n",
    "plt.ylabel('Probabilidad del evento')\n",
    "plt.xlabel('Resultado de los dos dados')"
   ]
  },
  {
   "cell_type": "code",
   "execution_count": null,
   "id": "345445c7",
   "metadata": {},
   "outputs": [],
   "source": [
    "# Crear una función que genere (devuelva) un número aleatorio con media = 0 y desviación estándard = 1 \n",
    "mu, sigma = 0, 1\n",
    "noise1 = np.random.normal(mu, sigma, 1000)"
   ]
  },
  {
   "cell_type": "code",
   "execution_count": 62,
   "id": "bb66ac3b",
   "metadata": {},
   "outputs": [],
   "source": [
    "def random01():\n",
    "    mu, sigma = 0, 1\n",
    "    r = np.random.normal(mu, sigma, 1)\n",
    "    return r[0]"
   ]
  },
  {
   "cell_type": "code",
   "execution_count": 75,
   "id": "519f8ee3",
   "metadata": {},
   "outputs": [
    {
     "data": {
      "text/plain": [
       "-0.23806375765709895"
      ]
     },
     "execution_count": 75,
     "metadata": {},
     "output_type": "execute_result"
    }
   ],
   "source": [
    "random01()"
   ]
  },
  {
   "cell_type": "code",
   "execution_count": 98,
   "id": "43f3324f",
   "metadata": {},
   "outputs": [],
   "source": [
    "def randomIn():\n",
    "    r = random01()\n",
    "    print(r)\n",
    "    if r > -1 and r < 1:\n",
    "        return True\n",
    "    else:\n",
    "        return False"
   ]
  },
  {
   "cell_type": "code",
   "execution_count": 100,
   "id": "ade8d0dc",
   "metadata": {},
   "outputs": [
    {
     "name": "stdout",
     "output_type": "stream",
     "text": [
      "0.477672367073231\n"
     ]
    },
    {
     "data": {
      "text/plain": [
       "True"
      ]
     },
     "execution_count": 100,
     "metadata": {},
     "output_type": "execute_result"
    }
   ],
   "source": [
    "randomIn()"
   ]
  },
  {
   "cell_type": "code",
   "execution_count": 103,
   "id": "2c61742a",
   "metadata": {},
   "outputs": [
    {
     "name": "stdout",
     "output_type": "stream",
     "text": [
      "0.500184484189128\n",
      "-0.24747498543592053\n",
      "-0.9410431157640573\n",
      "-0.8033860700404363\n",
      "-0.8777841806207615\n",
      "0.03541769051518463\n",
      "-1.108562555293463\n",
      "-0.39683228709488577\n",
      "1.1716734448273745\n",
      "0.14903717544438663\n",
      "1.345708768795438\n",
      "-0.5191771958105543\n",
      "-2.044904540862556\n",
      "-1.727997615647635\n",
      "-0.6400082920584206\n",
      "0.4929146973305727\n",
      "1.0665594903240583\n",
      "-0.9358169887066512\n",
      "0.7606684569111578\n",
      "1.5787523402592512\n",
      "0.8012147752369546\n",
      "-1.4190518157799266\n",
      "0.5871527670813915\n",
      "1.5336352407452054\n",
      "-0.846437749462495\n",
      "-1.6106386953135141\n",
      "-1.1415099610461659\n",
      "-0.39593315692266035\n",
      "0.14601097380900732\n",
      "-0.6285224942116163\n",
      "-0.33146021769168105\n",
      "0.5732336440814335\n",
      "-0.6879797475278601\n",
      "-0.12632229692155533\n",
      "-0.04838922433762408\n",
      "2.2149775205933357\n",
      "-2.342945747417601\n",
      "0.08780842701744883\n",
      "0.5058074698793389\n",
      "-0.40142745738704866\n",
      "-0.15928503321834356\n",
      "1.4605286494731735\n",
      "-1.4183874144589408\n",
      "1.0971304562820194\n",
      "-0.5945570747956986\n",
      "-1.0880310112308518\n",
      "-0.41188357176634305\n",
      "-0.6914650461414136\n",
      "-0.09331577120203731\n",
      "-0.16867297396604417\n",
      "-0.9656321264628588\n",
      "0.2806373442027581\n",
      "1.27416615054296\n",
      "-1.0397906824212118\n",
      "-1.690426216743897\n",
      "-0.569653034367006\n",
      "-0.21998256076925643\n",
      "-0.5571061397813036\n",
      "-0.18740450121214414\n",
      "0.029553380105135984\n",
      "1.2939117918601557\n",
      "0.5632371130291861\n",
      "-1.01155480246057\n",
      "0.4991586348319684\n",
      "-0.25436297788805773\n",
      "0.047711268954730233\n",
      "0.6936192879607058\n",
      "-0.10510647495243487\n",
      "-1.1416590773823876\n",
      "0.6636291300839119\n",
      "-0.893750486212934\n",
      "-0.9791292429410291\n",
      "0.88697393703903\n",
      "-0.9488565241232189\n",
      "-0.6254333270247545\n",
      "-0.061443348816882966\n",
      "-0.1885689074508295\n",
      "1.397447568854737\n",
      "0.08287715185392604\n",
      "-0.679756074765513\n",
      "-1.8699181827151343\n",
      "-0.6650731416401223\n",
      "0.7007388111874572\n",
      "0.06574142763486236\n",
      "0.14255653425060347\n",
      "-0.8319686412104909\n",
      "0.31225551527467316\n",
      "0.05487715798229053\n",
      "1.7087906389248806\n",
      "1.3333599021291245\n",
      "0.25905535422814874\n",
      "0.45342187695225317\n",
      "0.11109012069469429\n",
      "0.13808449401275344\n",
      "1.6145839487959623\n",
      "-1.6962471741083387\n",
      "-0.04760919596773279\n",
      "0.04079391666169916\n",
      "1.5785691476734114\n",
      "-0.2649490031460454\n",
      "-0.6510050672615713\n",
      "0.8816594770156009\n",
      "-0.9175010613358288\n",
      "-0.1903548506473258\n",
      "-1.927973825422619\n",
      "0.39275691878860197\n",
      "-0.45672255608447687\n",
      "-0.9889797138360281\n",
      "-0.5517183323988608\n",
      "-0.020733745843416206\n",
      "0.35844866482527704\n",
      "-0.6188885481210431\n",
      "0.37680422169466093\n",
      "-0.2009334225073042\n",
      "-0.6298595108496345\n",
      "-0.8408329290737632\n",
      "-0.10990980231930682\n",
      "-1.0843872585219418\n",
      "-0.6933505318253945\n",
      "0.9555382448794323\n",
      "-0.6313057528019291\n",
      "1.0150213308162597\n",
      "-0.23014787930363378\n",
      "-0.1519363557917449\n",
      "0.5749377872536563\n",
      "1.817133179530633\n",
      "-0.4241020630187516\n",
      "-1.599948549631796\n",
      "0.13690640684312924\n",
      "-0.2442778684422961\n",
      "-0.5839535380060488\n",
      "0.32734353197916083\n",
      "-0.005973485502931376\n",
      "1.1934950238719833\n",
      "0.15276809564901556\n",
      "-0.10555068947560595\n",
      "-0.9307503240800584\n",
      "-0.5236716690603296\n",
      "0.8311409611484918\n",
      "0.10658044161574894\n",
      "-1.8878177248742696\n",
      "-1.0861671282601657\n",
      "-1.276530230574015\n",
      "1.4945342304925775\n",
      "2.4582706439581847\n",
      "0.20189988739115253\n",
      "-0.61428220181686\n",
      "-0.2915913626426619\n",
      "-0.32341546177548813\n",
      "0.40715714944038917\n",
      "-0.5629072459801479\n",
      "-0.29306960364680534\n",
      "-1.5542909730191705\n",
      "0.4524121997028779\n",
      "0.29409271729290204\n",
      "1.4688825217477635\n",
      "0.40402794356875027\n",
      "-0.09033480392727182\n",
      "-0.7683519020758086\n",
      "0.5164008103239391\n",
      "-0.5673592107601146\n",
      "0.20679895731780024\n",
      "-1.0521003387967123\n",
      "-0.895659170297839\n",
      "0.07734063835496277\n",
      "0.5276827356271203\n",
      "-0.7489711858730299\n",
      "0.9754169078101868\n",
      "-0.18968664486174472\n",
      "0.7402701487598407\n",
      "1.0613108031991063\n",
      "1.209552812276764\n",
      "0.4489962646990018\n",
      "0.4851559917704114\n",
      "-0.834991722328677\n",
      "-2.4918108670801593\n",
      "0.566388556247095\n",
      "-1.8204251428840035\n",
      "-0.45372125086452914\n",
      "0.3315401606813158\n",
      "0.6087410133616491\n",
      "0.9126970043655034\n",
      "-0.867648566742336\n",
      "-1.0268203439859043\n",
      "-0.23123567717020127\n",
      "0.7728066508245599\n",
      "0.24902911270145797\n",
      "-0.8975868614661429\n",
      "0.5384669647425736\n",
      "-0.5918507521848049\n",
      "0.008972997123212345\n",
      "-0.35939252803052807\n",
      "-1.348940828562832\n",
      "-1.760401143460557\n",
      "-0.11606262865228971\n",
      "1.530878972001336\n",
      "0.8357447103421487\n",
      "-1.4129413402876891\n",
      "-0.21308641954808208\n",
      "0.42732821725469844\n",
      "0.2823498606318672\n",
      "-1.6799826433567508\n",
      "-0.389222033615853\n",
      "2.069154658953293\n",
      "1.2598834730461088\n",
      "-0.3157126912241741\n",
      "0.016628309868088668\n",
      "-0.019715716298544073\n",
      "1.056572381427984\n",
      "1.3376816259077076\n",
      "-0.7158822848976434\n",
      "-0.14891584631949767\n",
      "-0.0025431659740744747\n",
      "-0.29811553265703045\n",
      "-0.7864156058395351\n",
      "-0.15728523371035827\n",
      "0.16519107928415935\n",
      "-1.8050846658394342\n",
      "-0.036446035166445886\n",
      "-1.3704588644092426\n",
      "1.4933530870925502\n",
      "0.2545546196319111\n",
      "-0.13310475706387756\n",
      "-0.49341253117047074\n",
      "-0.06185342071000733\n",
      "-1.8593013832479177\n",
      "0.6486659439269724\n",
      "-0.7367475916744931\n",
      "-1.4442953974389026\n",
      "1.129136090750797\n",
      "-0.23843171512359654\n",
      "0.8303748701484553\n",
      "0.4446442667604102\n",
      "-0.1498416392816357\n",
      "2.526114161371652\n",
      "-1.2164815492521697\n",
      "-0.9574324900793396\n",
      "0.39982348481482644\n",
      "0.6121723648008117\n",
      "1.0348673527777967\n",
      "-0.5996395738443921\n",
      "2.556254054551105\n",
      "-0.9363357335244988\n",
      "0.3280450399526756\n",
      "-1.105064979098586\n",
      "-0.2583427068330335\n",
      "-0.7943522023869306\n",
      "-0.9324510704203255\n",
      "-1.5894084655392484\n",
      "0.5144319084464755\n",
      "-0.9352909353363973\n",
      "-0.3414593342141312\n",
      "-0.22204073234113844\n",
      "-1.2472563846886828\n",
      "-1.4416480413596264\n",
      "0.8575294011022834\n",
      "-0.9595885856971234\n",
      "1.4789944494679543\n",
      "-0.844483173864687\n",
      "1.2807679767844995\n",
      "1.771488290161466\n",
      "0.019462425869452033\n",
      "0.9664398909988354\n",
      "-0.06341466953659544\n",
      "-0.7352556459910577\n",
      "0.8692500709544745\n",
      "-1.586196576860925\n",
      "1.0729298333498412\n",
      "0.7781791666500044\n",
      "0.23680560987573182\n",
      "-0.7248973617062812\n",
      "-0.2630232942896726\n",
      "-0.11903759853815558\n",
      "-0.6414323505840497\n",
      "0.864851489561222\n",
      "-1.6617886409566163\n",
      "-1.112982466586458\n",
      "-0.8048685124947758\n",
      "-0.022569227130328235\n",
      "-0.3262835932726084\n",
      "-0.11127684669098137\n",
      "0.24043037213752028\n",
      "0.9487250661098436\n",
      "0.1858178627611204\n",
      "0.07665265645203748\n",
      "0.8806991160458556\n",
      "0.5656869067536197\n",
      "0.30934430286142484\n",
      "0.14982404558717022\n",
      "-1.1257521085607374\n",
      "-0.06862867359414401\n",
      "1.1694409512450403\n",
      "-0.5327493515229984\n",
      "0.2757080785690448\n",
      "0.6129773960528644\n",
      "0.40297143899420035\n",
      "1.0018116024818924\n",
      "-1.0879049697649488\n",
      "-0.32088844460116017\n",
      "0.18938358994922622\n",
      "-0.5232765614001135\n",
      "-0.28898574748695094\n",
      "0.14200611560048104\n",
      "1.4251139426665003\n",
      "0.198149891447887\n",
      "-1.3594364027133614\n",
      "0.1778625804381272\n",
      "0.6958691156150593\n",
      "0.35206186690912517\n",
      "-0.9030567812452819\n",
      "-1.1282524570648462\n",
      "-0.24879782222775093\n",
      "0.07889920881136006\n",
      "-0.9297664519678547\n",
      "0.23168236077482093\n",
      "0.09539875060594415\n",
      "-1.076909959433105\n",
      "-0.6051756408701574\n",
      "-0.9109094957968998\n",
      "-0.26467915205368137\n",
      "0.14765509516716618\n",
      "-0.7856841379670509\n",
      "0.022352606575737382\n",
      "-0.18958555680575753\n",
      "-0.6352363771760113\n",
      "-0.10376273634107896\n",
      "-1.4008010682859753\n",
      "0.37429063793236056\n",
      "0.0143807766164974\n",
      "-0.062060882602119706\n",
      "-0.870249888424205\n",
      "-1.3718194213566846\n",
      "-0.18284232272353554\n",
      "0.8170072156966905\n",
      "-0.7157870685658065\n",
      "-0.5279894864145623\n",
      "1.1717938956223868\n",
      "-1.3850937963990888\n",
      "0.8170556891555012\n",
      "-1.9763247650923321\n",
      "0.1471445173440938\n",
      "0.027503147895033154\n",
      "1.0567320359907817\n",
      "-0.011721341524805293\n",
      "1.0882663246099447\n",
      "-0.6307880813206836\n",
      "-0.9408089860921522\n",
      "-0.6749819965608341\n",
      "1.6631636282917268\n",
      "0.24636789221032016\n",
      "0.4263240275369276\n",
      "-0.7550637754011655\n",
      "-3.3348735524125357\n",
      "-0.5109172091648503\n",
      "-0.0500436896634055\n",
      "-2.0501602700142683\n",
      "-0.05127809115004897\n",
      "-0.5359972440304227\n",
      "-1.315666238678768\n",
      "0.24558646202011325\n",
      "2.42407652251594\n",
      "1.8678081724193516\n",
      "-0.7908525855283125\n",
      "-0.4185158708775534\n",
      "2.068455709549705\n",
      "0.8307938234680174\n",
      "0.06469616095015802\n",
      "0.8084200055138624\n",
      "0.6075236956139689\n",
      "-0.7363316438068659\n",
      "-1.1675444316396468\n",
      "1.0847308497066515\n",
      "0.5642730829708597\n",
      "1.0778055001950724\n",
      "1.310520310645161\n",
      "1.275974166587363\n",
      "0.6020589346964165\n",
      "0.7514229827660056\n",
      "1.1385455223545073\n",
      "-0.7272926915879018\n",
      "0.5421609991766353\n",
      "-0.09339178357749962\n",
      "0.3638236229174066\n",
      "-0.45418514641235297\n",
      "-1.85024303406595\n",
      "-0.6006245534343357\n",
      "0.5097660743830943\n",
      "0.17423282717203645\n",
      "-0.8100483639767624\n",
      "0.42070887083183445\n",
      "0.9015601573087868\n",
      "-0.0034127742185173673\n",
      "-0.9043472672203479\n",
      "-0.8801453758278516\n",
      "-1.6128074661265341\n",
      "0.9455258309656321\n",
      "0.2882982024316622\n",
      "-0.1997049240872377\n",
      "0.31834797920564234\n",
      "0.061166284716143056\n",
      "1.979027134674714\n",
      "1.038937646178163\n",
      "-1.0514525458708548\n",
      "1.8696813568362698\n",
      "-1.2770677742413452\n",
      "-1.6902642581202114\n",
      "-0.12481483951545116\n",
      "-0.053470718405672406\n",
      "0.06468228746111812\n",
      "0.6462906446522769\n",
      "-0.5996026880056529\n",
      "0.3271530293332515\n",
      "0.7420089065503715\n",
      "0.007906993398042966\n",
      "-1.491884195299042\n",
      "-0.9002035379389872\n",
      "0.3309211818226942\n",
      "-2.171796037288183\n",
      "1.3496192226559063\n",
      "0.27541139515597185\n",
      "-1.1562313482550493\n",
      "0.3188451798726462\n",
      "-0.3379041832212724\n",
      "0.35472794962504495\n",
      "-0.8714499912437115\n",
      "-0.3387151428128809\n",
      "1.259637617751558\n",
      "0.24066411524408457\n",
      "-1.6039959943766329\n",
      "1.8991127275140853\n",
      "0.4855009521034984\n",
      "-0.3536646261808345\n",
      "0.6921943246054809\n",
      "0.89896983059263\n",
      "-0.42299207929106536\n",
      "1.1525850667008513\n",
      "1.9160871991080137\n",
      "0.36547017313385705\n",
      "0.24516959917739053\n",
      "2.9283197331673803\n",
      "1.67694849172899\n",
      "0.46946138058466846\n",
      "-0.2594443029902821\n",
      "-0.728238705547406\n",
      "1.049078305234587\n",
      "0.5926865835820913\n",
      "1.5850751469505018\n",
      "-0.03745486900759331\n",
      "0.2605831182660295\n",
      "0.8124301462266351\n",
      "0.33517279738983086\n",
      "-0.16459937571813582\n",
      "2.29973934259257\n",
      "0.2973139551171713\n",
      "-0.8146409682700089\n",
      "-1.1049675376392532\n",
      "0.07291520411869984\n",
      "-0.8544287732948382\n",
      "-0.3846807061205394\n",
      "0.5331578695634205\n",
      "0.5232597012717751\n",
      "0.20938730172708064\n",
      "1.842421815140412\n",
      "-1.0117109425575948\n",
      "0.15845277373149164\n",
      "0.5335367601059534\n",
      "0.06751016824498716\n",
      "2.3927583976459372\n",
      "0.1937588500443538\n",
      "-0.36502347212394\n",
      "-1.2200031511554663\n",
      "2.1404332735660296\n",
      "1.6277069488910603\n",
      "0.03701240497291461\n",
      "1.2035971217509185\n",
      "0.12359380551336951\n",
      "0.05501797762651106\n",
      "-2.1581049021885503\n",
      "-0.8442483905042829\n",
      "0.9900166364543077\n",
      "-0.5690571031890709\n",
      "2.1731378047143033\n",
      "0.2826736175683425\n",
      "-0.1930184192853626\n",
      "0.7597139130955147\n",
      "0.7614292746703084\n",
      "1.8261120259249677\n",
      "-1.3399007887467587\n",
      "-0.9787919139809068\n",
      "0.25891732656705263\n",
      "-1.332102256170176\n",
      "0.1618941372262438\n",
      "-1.4687394932517865\n",
      "-1.3938022073839067\n",
      "-1.2351592141604797\n",
      "0.8743906512646832\n",
      "-1.7691840227668898\n",
      "0.15450473583396837\n",
      "-2.6957363834441943\n",
      "1.209739403737433\n",
      "-0.6036320311505052\n",
      "3.058717061042555\n",
      "0.9261452760958292\n",
      "-1.2424613915188787\n",
      "-0.34789573377517563\n",
      "-1.4760573122627725\n",
      "-0.33300053266481705\n",
      "-1.3837780510837818\n",
      "0.9151748424710044\n",
      "-1.6735858615849468\n",
      "1.151765438283471\n",
      "0.9226460374115767\n",
      "0.773355392859406\n",
      "-0.23142046522357418\n",
      "0.09889448089153034\n",
      "-0.4118547483608492\n",
      "-0.8045393429498184\n",
      "1.194751468715115\n",
      "0.7158433281799877\n",
      "0.8047281718456976\n",
      "-0.8182575729950734\n",
      "0.35409389006883313\n",
      "0.37074134988816426\n",
      "0.6788633650109334\n",
      "-0.516474632103648\n",
      "-0.15107340051725335\n",
      "0.4359026556105048\n",
      "-1.978048934637989\n",
      "-0.6380748203103803\n",
      "1.3918019612465125\n",
      "-1.7034765305591966\n",
      "-0.20055242746238683\n",
      "-1.821782565037446\n",
      "0.12883560613141645\n",
      "0.6306634992065113\n",
      "0.04420324073296874\n",
      "0.274240148589849\n",
      "0.2780417827388938\n",
      "0.2354772647909801\n",
      "0.2304457860690801\n",
      "0.8473236455128345\n",
      "0.032577755715648644\n",
      "-0.5906662832330791\n",
      "0.5040234537941043\n",
      "-0.548354108235207\n",
      "0.19738409304184798\n",
      "-0.4777656300097634\n",
      "0.6994258625249481\n",
      "0.3214008907287089\n",
      "-0.592648756532911\n",
      "0.4753080033002389\n",
      "0.7919650059594893\n",
      "0.62856850473507\n",
      "0.8272784145132053\n",
      "-1.737558924096015\n",
      "2.4310701560962658\n",
      "-1.5496703007723025\n",
      "1.1026182925854913\n",
      "0.6013119539051773\n",
      "-0.04855605984195127\n",
      "0.15214074996346305\n",
      "0.4962249831673846\n",
      "-1.6516355024684968\n",
      "0.21154725636360042\n",
      "1.9147598907906698\n",
      "-0.06847302128061751\n",
      "0.26770190445566666\n",
      "1.7673805293301084\n",
      "-0.551027910607301\n",
      "0.12233994960293988\n",
      "-1.1876289047031507\n",
      "-1.5461173850385463\n",
      "-0.09137850694490443\n",
      "-1.0242443737071514\n",
      "0.9803588360694202\n",
      "-0.42791509911012493\n",
      "0.06913277493362964\n",
      "1.21029600658107\n",
      "-0.8332479411309469\n",
      "1.6864196392889228\n",
      "0.5320417157627549\n",
      "-0.0420634537835943\n",
      "1.675456705201775\n",
      "-0.27787796406288096\n",
      "0.46880464485397205\n",
      "2.9141890932543935\n",
      "0.8846152811989338\n",
      "-0.30123300166967204\n",
      "-0.029760179858019927\n",
      "-0.08927904121408088\n",
      "-0.48341739959718616\n",
      "-1.1954157459396355\n",
      "-0.41005491398168703\n",
      "-0.47025864894318514\n",
      "-1.485398891498077\n",
      "1.3706489144861214\n",
      "-0.7217127354070035\n",
      "0.6860476216443333\n",
      "-0.2220372170748623\n",
      "-0.19306291517019994\n",
      "1.419642681100119\n",
      "-1.7770917707364056\n",
      "-0.12594687924335027\n",
      "-1.3749806454222386\n",
      "2.3168458270090113\n",
      "0.25205147550003504\n",
      "0.6808337406929307\n",
      "0.8470206895385765\n",
      "1.779905124028043\n",
      "-0.807612020734287\n",
      "-1.2467217731402196\n",
      "-0.5723981553840277\n",
      "-0.7174132484248972\n",
      "0.30576985679919305\n",
      "-1.5733437357085653\n",
      "0.9519511228941261\n",
      "0.680902707175899\n",
      "-0.6988966881779504\n",
      "-1.4410391271187166\n",
      "-0.8486938420862657\n",
      "-0.7707860707153215\n",
      "-0.6292915001261368\n",
      "-0.4917420273080224\n",
      "0.24221246956166814\n",
      "-0.037817348212526566\n",
      "-1.411078821305404\n",
      "0.3188860108149486\n",
      "0.9135053583378246\n",
      "1.5827074745777077\n",
      "-0.4194815429037969\n",
      "0.35556529432322287\n",
      "2.27847195654491\n",
      "0.5504634186047016\n",
      "-0.3411901301004367\n",
      "-0.6379262024847766\n",
      "0.4804023759201415\n",
      "-1.3892660363690008\n",
      "-0.6911051721561098\n",
      "0.3082660547073713\n",
      "0.6998487690676791\n",
      "0.3277083488337972\n",
      "1.2478445057802563\n",
      "-0.04948369297615461\n",
      "-0.5225601814713093\n",
      "1.4185551921033308\n",
      "-0.26410207815664855\n",
      "0.8166947127295996\n",
      "1.9252710958985555\n",
      "0.11344291963542047\n",
      "0.41292059326649505\n",
      "-0.1850657763980339\n",
      "-1.145913778744209\n",
      "-1.7049112024788076\n",
      "0.2950575078896302\n",
      "-1.1543694417102732\n",
      "-0.6925480966306251\n",
      "1.6102649405264375\n",
      "-0.5212110092471198\n",
      "-0.4524326637518496\n",
      "-1.7040205626680567\n",
      "1.005407816383557\n",
      "0.4354179648584254\n",
      "-2.951612277968358\n",
      "-1.64369257164966\n",
      "0.12456527029101716\n",
      "-1.0846861746379686\n",
      "-0.44127613261412263\n",
      "-0.6991203532287277\n",
      "0.4374380137282522\n",
      "1.3352140532441696\n",
      "-0.9501419698060045\n",
      "0.41130757648961774\n",
      "0.5329858509193756\n",
      "0.17522507726056444\n",
      "-0.3055066634125854\n",
      "-0.609257369478065\n",
      "-0.10450966572754448\n",
      "-0.04826535732292573\n",
      "-0.864800197868731\n",
      "-2.1258196319894718\n",
      "-0.03441642100058268\n",
      "0.631496144944774\n",
      "-1.1169609668457203\n",
      "-0.9829579232239254\n",
      "0.10673375357719123\n",
      "-0.9527643474246179\n",
      "-0.04500148228392085\n",
      "0.4936823138708146\n",
      "0.6546298184806987\n",
      "-0.19296089241320788\n",
      "-0.05240530294934848\n",
      "2.099311249498321\n",
      "-0.007944643985373069\n",
      "-0.005701518519116116\n",
      "-0.723317874942938\n",
      "0.4351489238737509\n",
      "-0.6147016844520381\n",
      "0.34576467992298654\n",
      "0.24535679117080586\n",
      "0.005372257307269431\n",
      "-0.6695324517186995\n",
      "0.9555330872990384\n",
      "1.4134617917671368\n",
      "0.5088225849406803\n",
      "0.28953970462720274\n",
      "-2.061063839074346\n",
      "0.017762894718120502\n",
      "-0.7017238496538526\n",
      "-0.6634926149079656\n",
      "-1.193476736185029\n",
      "0.7353195899948564\n",
      "-1.1458282801459263\n",
      "0.8418332260025085\n",
      "0.751205603255749\n",
      "0.2846195958458171\n",
      "-0.947948793325147\n",
      "0.8008235291874413\n",
      "0.8187072090317672\n",
      "-2.051279973184707\n",
      "-0.4629350198179565\n",
      "-0.37157459542188953\n",
      "1.0865585333182828\n",
      "0.12469505351768513\n",
      "-0.09166422400139494\n",
      "-0.13633071988477743\n",
      "0.7413687083078618\n",
      "0.16030697790628948\n",
      "0.31688635603529286\n",
      "0.09559619121521636\n",
      "0.6296816338913995\n",
      "-0.2703450307845743\n",
      "0.6218377555759586\n",
      "0.027969877410912093\n",
      "0.8496901399713526\n",
      "0.9469379301546227\n",
      "-1.04832527419439\n",
      "-1.9707418525942548\n",
      "0.1845710171098404\n",
      "-0.6456437477586082\n",
      "-0.635985198894179\n",
      "0.20278162212279152\n",
      "2.745691782496415\n",
      "-0.026474363324436197\n",
      "0.33778960354935167\n",
      "1.5903840070012094\n",
      "0.2688855396580752\n",
      "-0.21122852496689698\n",
      "2.056317683554569\n",
      "-0.25874366299345647\n",
      "-2.0525696766275514\n",
      "0.4979282183338917\n",
      "0.022719388655957424\n",
      "1.3804410880721254\n",
      "0.651060768188058\n",
      "0.6500123502713759\n",
      "-0.945219603704869\n",
      "1.2611498731586057\n",
      "0.8998333398744417\n",
      "-0.29207911877990567\n",
      "0.16057655957560654\n",
      "-0.289282072808626\n",
      "-0.6773580541512327\n",
      "1.597199972000886\n",
      "-0.4352621946828543\n",
      "0.8074313862116106\n",
      "-0.8444719439031229\n",
      "-1.2385847470745823\n",
      "0.6179463740039953\n",
      "-0.33880999921446897\n",
      "-0.7432564988203576\n",
      "-1.0444955103993316\n",
      "-0.694306546466408\n",
      "1.0854623687849547\n",
      "-4.054639043060656\n",
      "-0.09648852466411505\n",
      "-1.7244862545870954\n",
      "-0.3881772042777824\n",
      "0.293562151687403\n",
      "0.4195584427067368\n",
      "0.1582810769529809\n",
      "-2.249616968047301\n",
      "0.8959670420410595\n",
      "0.34552975024273425\n",
      "-0.31362921966399854\n",
      "-0.5469123848233846\n",
      "1.1562366049233337\n",
      "0.02121421175335702\n",
      "-0.390821322233914\n",
      "0.26752486014788673\n",
      "1.3197461704094666\n",
      "-0.4989030627747729\n",
      "-1.7033062825291185\n",
      "0.9474579177374783\n",
      "-0.6600869277402942\n",
      "-1.2062423096058854\n",
      "-0.962551358965141\n",
      "0.4526701642225519\n",
      "-2.866114661541713\n",
      "1.4713372632338797\n",
      "-2.059373043362682\n",
      "0.8987711566863306\n",
      "1.7484260432112342\n",
      "0.4269320539198251\n",
      "-0.13470483193370006\n",
      "-0.37541795567877195\n",
      "0.09687720269365133\n",
      "-0.9316881087268908\n",
      "0.7165678317533685\n",
      "0.7369275898284087\n",
      "1.5644588247086426\n",
      "0.4164183903863373\n",
      "0.24632883464220606\n",
      "0.36399190344542115\n",
      "-1.6601004469322516\n",
      "1.813004365043844\n",
      "0.023680477042660558\n",
      "-0.47372729038557243\n",
      "0.6507017468753586\n",
      "0.40419862460360395\n",
      "0.3500601233743897\n",
      "0.8423196565466549\n",
      "0.8081318710737854\n",
      "0.8506227918590847\n",
      "-0.8536456343263473\n",
      "-0.6199735852510053\n",
      "0.1835904137761574\n",
      "0.3071840510675616\n",
      "-1.524106254439609\n",
      "-0.8624737234198638\n",
      "0.5149051392482864\n",
      "1.0147495354880214\n",
      "1.9131493059895228\n",
      "0.6275247127727441\n",
      "1.215116347418437\n",
      "-0.09936482505283363\n",
      "-0.18069263288689733\n",
      "-1.4429268967427118\n",
      "0.305199987375849\n",
      "-0.4056148471138876\n",
      "-1.0910018692665768\n",
      "-0.5314463686648122\n",
      "-0.5478592510960326\n",
      "0.7148500851637146\n",
      "-1.0179078225849336\n",
      "-0.12443062628002545\n",
      "-0.1485172562110345\n",
      "-0.8584171401481986\n",
      "-0.6304655513611441\n",
      "-1.34896408862703\n",
      "-0.0341343756100089\n",
      "-0.5919398989845078\n",
      "1.1117495812199258\n",
      "0.8033092961810984\n",
      "-0.39263685527393155\n",
      "2.0585897798322796\n",
      "-0.9067186871996726\n",
      "0.6407845760989174\n",
      "1.3400829583983542\n",
      "0.48005627178476323\n",
      "1.6792762180415186\n",
      "0.12735364116410736\n",
      "0.2791147484466699\n",
      "-1.479946526003238\n",
      "0.10096519973450688\n",
      "-2.5367841933257202\n",
      "-0.8228993943083565\n",
      "1.9272561075526589\n",
      "1.180664616694843\n",
      "0.04543196154448123\n",
      "-1.1934137862070355\n",
      "0.019097262866215412\n",
      "-2.175938611487894\n",
      "0.35627204802220064\n",
      "-0.43994512384137174\n",
      "-1.0708303119090472\n",
      "0.5693365681033596\n",
      "0.33386127979214425\n",
      "-0.6800393306567197\n",
      "-0.6869706859825339\n",
      "-0.5641607686995567\n",
      "-0.13192936346915712\n",
      "3.5026087303931877\n",
      "1.047728175156177\n",
      "-0.3761528327946488\n",
      "0.6941149171231545\n",
      "-0.4498419133290542\n",
      "-0.27415542752218724\n",
      "0.4815121351519351\n",
      "0.7447422689227219\n",
      "0.15000892894593892\n",
      "0.3653978806238535\n",
      "-0.8347915084450315\n",
      "-1.3508677324538354\n",
      "1.2842218407003985\n",
      "0.09251837057049646\n",
      "0.6992240434912237\n",
      "-0.3477130799524567\n",
      "-0.30588856731951675\n",
      "0.3323025156945505\n",
      "-1.2999028496855125\n",
      "0.003970985928796193\n",
      "-0.8527293458190116\n",
      "-0.36233444628065054\n",
      "0.22249102019401365\n",
      "-0.03655129370698069\n",
      "-0.8926869991109484\n",
      "-0.2970778772161085\n",
      "-0.7336671576034995\n",
      "-0.42568612369860215\n",
      "-1.1255386122082092\n",
      "0.1446304262845957\n",
      "0.7122667733228344\n",
      "0.37317179020729135\n",
      "0.4805462754974474\n",
      "-1.630181206329381\n",
      "-0.4413197680705917\n",
      "1.3445259635516595\n",
      "0.4004082515301267\n",
      "-0.0721635583456608\n",
      "1.7873070419794614\n",
      "-1.0581001140909558\n",
      "0.40423679652689615\n",
      "0.18107715205596409\n",
      "0.933314525785206\n",
      "1.9763816276332054\n",
      "-0.8521410189141887\n",
      "1.921386746371977\n",
      "-1.8024817532398802\n",
      "-0.4683878246424973\n",
      "-0.5494983357867738\n",
      "-1.6371939769288777\n",
      "-2.1501226644791154\n",
      "0.1715710263665\n",
      "-1.0848264584082628\n",
      "-1.120350187146216\n",
      "-1.2118061252789702\n",
      "1.3703480460963655\n",
      "1.2772484201984318\n",
      "-0.18248577015944376\n",
      "-0.8726252642904\n",
      "0.5398710465017237\n",
      "-1.7144639144412115\n",
      "0.7062465959426302\n",
      "0.8582142965959582\n",
      "-0.6662260381780647\n",
      "-0.3489347812543613\n",
      "-0.9898500777909316\n",
      "1.3736440293914065\n",
      "1.0270586114999223\n",
      "-1.3638198913822936\n",
      "0.42883880455746043\n",
      "-1.4567350534880334\n",
      "0.024164861293803016\n",
      "0.42796852476224956\n",
      "0.37798636284152987\n",
      "0.12848460583750362\n",
      "0.04941484198911984\n",
      "-0.15791462214938196\n",
      "0.06326498263705402\n",
      "-1.08840205053361\n",
      "-0.8022007462044191\n",
      "-0.06320776432297964\n",
      "1.5039627828582238\n",
      "-0.17276119699711096\n",
      "1.794195243304282\n",
      "1.1008348056656352\n",
      "-0.5672509071353171\n",
      "0.3920641187711394\n",
      "0.12994642432849124\n",
      "1.943817314950008\n",
      "0.9204343139620595\n",
      "-0.2852023511758003\n",
      "-1.013971575359946\n",
      "1.283500315136767\n",
      "0.5936484556254308\n",
      "-0.23214770142036079\n",
      "-0.071459384316685\n",
      "0.4456655314024145\n",
      "1.450595716148979\n",
      "0.24553430538574791\n",
      "0.3631371613404174\n",
      "1.758913944019394\n",
      "-0.15490388177073247\n",
      "-0.06762438211006683\n",
      "-0.5419826458009853\n",
      "0.6623712017789444\n",
      "-0.7960241761282677\n",
      "2.579108360730396\n",
      "0.8394990911097528\n",
      "0.6993218459917929\n",
      "1.3922392312022227\n",
      "-0.0058661782215631555\n",
      "2.567993737600953\n",
      "1.0652377424558557\n",
      "-0.3107739950199002\n",
      "-1.7481625977407669\n",
      "1.8680891380626663\n",
      "-0.2610290739548293\n",
      "0.23859041072362516\n",
      "1.4655284621444404\n",
      "704\n",
      "296\n"
     ]
    }
   ],
   "source": [
    "contadorTrue = 0\n",
    "contadorFalse = 0\n",
    "for i in range(0, 1000):\n",
    "    resultado = randomIn()\n",
    "    if resultado == True:\n",
    "        contadorTrue = contadorTrue + 1\n",
    "    else:\n",
    "        contadorFalse = contadorFalse + 1\n",
    "print(contadorTrue)\n",
    "print(contadorFalse)"
   ]
  },
  {
   "cell_type": "code",
   "execution_count": null,
   "id": "a7ebbdf5",
   "metadata": {},
   "outputs": [],
   "source": []
  }
 ],
 "metadata": {
  "kernelspec": {
   "display_name": "Python 3 (ipykernel)",
   "language": "python",
   "name": "python3"
  },
  "language_info": {
   "codemirror_mode": {
    "name": "ipython",
    "version": 3
   },
   "file_extension": ".py",
   "mimetype": "text/x-python",
   "name": "python",
   "nbconvert_exporter": "python",
   "pygments_lexer": "ipython3",
   "version": "3.9.12"
  }
 },
 "nbformat": 4,
 "nbformat_minor": 5
}
