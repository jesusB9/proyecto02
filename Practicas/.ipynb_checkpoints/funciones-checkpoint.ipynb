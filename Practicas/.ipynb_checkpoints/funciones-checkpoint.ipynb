{
 "cells": [
  {
   "cell_type": "markdown",
   "id": "ed2c57cb",
   "metadata": {},
   "source": [
    "1.- Escribe una función que extraiga de una lista de números el menor y el mayor.\n",
    "\n",
    "2.- Escribe otra función que haga de test de la primera con los siguientes casos:\n",
    "\n",
    "    [1,2,3,4,5,6,7,8,9]\n",
    "    [9,8,7,6,5,4,3,2,1]\n",
    "    [0,-1,9,-12]\n",
    "    [0, 0, 0]\n",
    "    [-1]\n",
    "    []\n",
    "\n",
    "    La función de test dará un ok por cada respuesta correcta y un fail en caso contrario.\n",
    "\n",
    "3.- Escribe una función que sume los números de una lista.\n",
    "\n",
    "4.- Escribe su función de test\n",
    "\n",
    "Suerte!"
   ]
  },
  {
   "cell_type": "code",
   "execution_count": 1,
   "id": "b8fab483",
   "metadata": {},
   "outputs": [],
   "source": [
    "import pandas as pd\n",
    "import numpy as np\n",
    "import matplotlib.pyplot as plt\n",
    "import numpy as np\n",
    "%matplotlib inline\n",
    "import random"
   ]
  },
  {
   "cell_type": "code",
   "execution_count": 2,
   "id": "373b4397",
   "metadata": {},
   "outputs": [],
   "source": [
    "def numeroMayor(listaNumeros):\n",
    "    mayor = 0\n",
    "    for n in listaNumeros:\n",
    "        if n > mayor:\n",
    "            mayor = n\n",
    "\n",
    "    return(mayor)"
   ]
  },
  {
   "cell_type": "code",
   "execution_count": 3,
   "id": "59751bbf",
   "metadata": {},
   "outputs": [],
   "source": [
    "lista = [1, 2, 3, 4, 5, 6, 7, 8, 9]"
   ]
  },
  {
   "cell_type": "code",
   "execution_count": 4,
   "id": "641be26f",
   "metadata": {},
   "outputs": [
    {
     "data": {
      "text/plain": [
       "9"
      ]
     },
     "execution_count": 4,
     "metadata": {},
     "output_type": "execute_result"
    }
   ],
   "source": [
    "numeroMayor(lista)"
   ]
  },
  {
   "cell_type": "code",
   "execution_count": 5,
   "id": "071e60ae",
   "metadata": {},
   "outputs": [],
   "source": [
    "def numerosMyM(listaNumeros):\n",
    "    if len(listaNumeros) == 0:\n",
    "        return(0, 0)   \n",
    "    mayor = listaNumeros[0]\n",
    "    menor = listaNumeros[0]\n",
    "    for n in listaNumeros:\n",
    "        if n > mayor:\n",
    "            mayor = n\n",
    "        if n < menor:\n",
    "            menor = n\n",
    "\n",
    "    return(menor, mayor)"
   ]
  },
  {
   "cell_type": "code",
   "execution_count": 6,
   "id": "280de486",
   "metadata": {},
   "outputs": [],
   "source": [
    "lista = [1, 2, 3, 4, 5, 6, 7, 8, 9]"
   ]
  },
  {
   "cell_type": "code",
   "execution_count": 7,
   "id": "fd405c0b",
   "metadata": {},
   "outputs": [
    {
     "data": {
      "text/plain": [
       "(1, 9)"
      ]
     },
     "execution_count": 7,
     "metadata": {},
     "output_type": "execute_result"
    }
   ],
   "source": [
    "numerosMyM(lista)"
   ]
  },
  {
   "cell_type": "code",
   "execution_count": 8,
   "id": "c0eb0993",
   "metadata": {},
   "outputs": [],
   "source": [
    "lista2 = [9, 8, 7, 6, 5, 4, 3, 2, 1]"
   ]
  },
  {
   "cell_type": "code",
   "execution_count": 9,
   "id": "172d603a",
   "metadata": {},
   "outputs": [
    {
     "data": {
      "text/plain": [
       "(1, 9)"
      ]
     },
     "execution_count": 9,
     "metadata": {},
     "output_type": "execute_result"
    }
   ],
   "source": [
    "numerosMyM(lista2)"
   ]
  },
  {
   "cell_type": "code",
   "execution_count": 10,
   "id": "bb5f3a2b",
   "metadata": {},
   "outputs": [],
   "source": [
    "lista3 = [0,-1, 9,-12]"
   ]
  },
  {
   "cell_type": "code",
   "execution_count": 11,
   "id": "45d125fc",
   "metadata": {},
   "outputs": [
    {
     "data": {
      "text/plain": [
       "(-12, 9)"
      ]
     },
     "execution_count": 11,
     "metadata": {},
     "output_type": "execute_result"
    }
   ],
   "source": [
    "numerosMyM(lista3)"
   ]
  },
  {
   "cell_type": "code",
   "execution_count": 12,
   "id": "cd3b9d21",
   "metadata": {},
   "outputs": [],
   "source": [
    "lista4 = [0, 0, 0]"
   ]
  },
  {
   "cell_type": "code",
   "execution_count": 13,
   "id": "8df3e8a5",
   "metadata": {},
   "outputs": [
    {
     "data": {
      "text/plain": [
       "(0, 0)"
      ]
     },
     "execution_count": 13,
     "metadata": {},
     "output_type": "execute_result"
    }
   ],
   "source": [
    "numerosMyM(lista4)"
   ]
  },
  {
   "cell_type": "code",
   "execution_count": 14,
   "id": "03dd6e84",
   "metadata": {},
   "outputs": [],
   "source": [
    "lista5 = [-1]"
   ]
  },
  {
   "cell_type": "code",
   "execution_count": 15,
   "id": "0600e055",
   "metadata": {},
   "outputs": [
    {
     "data": {
      "text/plain": [
       "(-1, -1)"
      ]
     },
     "execution_count": 15,
     "metadata": {},
     "output_type": "execute_result"
    }
   ],
   "source": [
    "numerosMyM(lista5)"
   ]
  },
  {
   "cell_type": "code",
   "execution_count": 16,
   "id": "4d26b688",
   "metadata": {},
   "outputs": [],
   "source": [
    "lista6 = []"
   ]
  },
  {
   "cell_type": "code",
   "execution_count": 17,
   "id": "7b9658f8",
   "metadata": {},
   "outputs": [
    {
     "data": {
      "text/plain": [
       "(0, 0)"
      ]
     },
     "execution_count": 17,
     "metadata": {},
     "output_type": "execute_result"
    }
   ],
   "source": [
    "numerosMyM(lista6)"
   ]
  },
  {
   "cell_type": "code",
   "execution_count": 18,
   "id": "7723738b",
   "metadata": {},
   "outputs": [],
   "source": [
    "\n",
    "def numerosMyM_test():\n",
    "    lista = [1, 2, 3, 4, 5, 6, 7, 8, 9]\n",
    "    numerosMyM(lista)\n",
    "    if numerosMyM(lista) == (1, 9):\n",
    "        print( \"ok\")\n",
    "    else:\n",
    "        print(\"fail\")\n",
    "    "
   ]
  },
  {
   "cell_type": "code",
   "execution_count": 19,
   "id": "a3770b51",
   "metadata": {},
   "outputs": [
    {
     "name": "stdout",
     "output_type": "stream",
     "text": [
      "ok\n"
     ]
    }
   ],
   "source": [
    "numerosMyM_test()"
   ]
  },
  {
   "cell_type": "code",
   "execution_count": 20,
   "id": "ba4e088d",
   "metadata": {},
   "outputs": [],
   "source": [
    "def suma(notas):\n",
    "    \n",
    "    # variable que contendrá el resultado de la suma de las notas \n",
    "    # con el valor 0, lo que indica que la suma aún no se ha realizado\n",
    "    sumaDeNotas = 0\n",
    "    \n",
    "    # A partir de ahí, un enfoque que podemos seguir es a través de una\n",
    "    # iteración sobre la lista de notas. Es decir para cada nota, su valor se\n",
    "    # agrega a la variable suma_de_notas, de la siguiente manera\n",
    "    for nota in notas:\n",
    "        sumaDeNotas += nota\n",
    "\n",
    "    return(sumaDeNotas)\n"
   ]
  },
  {
   "cell_type": "code",
   "execution_count": 21,
   "id": "939b1035",
   "metadata": {},
   "outputs": [],
   "source": [
    "notas = [1,2,3,4,5,6,7,8,9]\n",
    "notas1 = [9,8,7,6,5,4,3,2,1]\n",
    "notas2 = [0,-1,9,-12]\n",
    "notas3 = [0, 0, 0]\n",
    "notas4 = [-1]\n",
    "notas5 = []"
   ]
  },
  {
   "cell_type": "code",
   "execution_count": 22,
   "id": "3a2becd0",
   "metadata": {
    "scrolled": true
   },
   "outputs": [
    {
     "name": "stdout",
     "output_type": "stream",
     "text": [
      "45\n"
     ]
    }
   ],
   "source": [
    "sumaDeNotas = suma(notas)\n",
    "print(sumaDeNotas)"
   ]
  },
  {
   "cell_type": "code",
   "execution_count": 23,
   "id": "a7e1b0cd",
   "metadata": {},
   "outputs": [
    {
     "name": "stdout",
     "output_type": "stream",
     "text": [
      "45\n"
     ]
    }
   ],
   "source": [
    "sumaDeNotas = suma(notas1)\n",
    "print(sumaDeNotas)"
   ]
  },
  {
   "cell_type": "code",
   "execution_count": 24,
   "id": "c544b0d0",
   "metadata": {},
   "outputs": [
    {
     "name": "stdout",
     "output_type": "stream",
     "text": [
      "-4\n"
     ]
    }
   ],
   "source": [
    "sumaDeNotas = suma(notas2)\n",
    "print(sumaDeNotas)"
   ]
  },
  {
   "cell_type": "code",
   "execution_count": 25,
   "id": "a7e4d7fb",
   "metadata": {},
   "outputs": [
    {
     "name": "stdout",
     "output_type": "stream",
     "text": [
      "0\n"
     ]
    }
   ],
   "source": [
    "sumaDeNotas = suma(notas3)\n",
    "print(sumaDeNotas)"
   ]
  },
  {
   "cell_type": "code",
   "execution_count": 26,
   "id": "b81fbfbc",
   "metadata": {},
   "outputs": [
    {
     "name": "stdout",
     "output_type": "stream",
     "text": [
      "-1\n"
     ]
    }
   ],
   "source": [
    "sumaDeNotas = suma(notas4)\n",
    "print(sumaDeNotas)"
   ]
  },
  {
   "cell_type": "code",
   "execution_count": 27,
   "id": "36894aca",
   "metadata": {},
   "outputs": [
    {
     "name": "stdout",
     "output_type": "stream",
     "text": [
      "0\n"
     ]
    }
   ],
   "source": [
    "sumaDeNotas = suma(notas5)\n",
    "print(sumaDeNotas)"
   ]
  },
  {
   "cell_type": "code",
   "execution_count": 28,
   "id": "10f7b2ed",
   "metadata": {},
   "outputs": [
    {
     "name": "stdout",
     "output_type": "stream",
     "text": [
      "-4\n"
     ]
    }
   ],
   "source": [
    "# otra opcion de sumar una lista es con la funcion de python sum()\n",
    "laSuma = sum(notas2)\n",
    "print(laSuma)"
   ]
  },
  {
   "cell_type": "code",
   "execution_count": 29,
   "id": "c8bc0b73",
   "metadata": {},
   "outputs": [],
   "source": [
    "# Hcemos el test de la funcion de suma.\n",
    "def suma_test():\n",
    "    notas = [1, 2, 3, 4, 5, 6, 7, 8, 9]\n",
    "    if suma(notas) == 45:\n",
    "        print( \"ok\")\n",
    "    else:\n",
    "        print(\"fail\")\n",
    "    \n",
    "    notas1 = [9,8,7,6,5,4,3,2,1]\n",
    "    if suma(notas1) == 45:\n",
    "        print( \"ok\")\n",
    "    else:\n",
    "        print(\"fail\")\n",
    "        \n",
    "    notas2 = [0,-1,9,-12]\n",
    "    if suma(notas2) == -4:\n",
    "        print( \"ok\")\n",
    "    else:\n",
    "        print(\"fail\")\n",
    "    \n",
    "    notas3 = [0, 0, 0]\n",
    "    if suma(notas3) == 0:\n",
    "        print( \"ok\")\n",
    "    else:\n",
    "        print(\"fail\")\n",
    "        \n",
    "    notas4 = [-1]\n",
    "    if suma(notas4) == -1:\n",
    "        print( \"ok\")\n",
    "    else:\n",
    "        print(\"fail\")\n",
    "    \n",
    "    notas5 = []\n",
    "    if suma(notas5) == 0:\n",
    "        print( \"ok\")\n",
    "    else:\n",
    "        print(\"fail\")\n",
    "        "
   ]
  },
  {
   "cell_type": "code",
   "execution_count": 30,
   "id": "5aee3837",
   "metadata": {},
   "outputs": [
    {
     "name": "stdout",
     "output_type": "stream",
     "text": [
      "ok\n",
      "ok\n",
      "ok\n",
      "ok\n",
      "ok\n",
      "ok\n"
     ]
    }
   ],
   "source": [
    "suma_test()"
   ]
  },
  {
   "cell_type": "code",
   "execution_count": 31,
   "id": "855c912b",
   "metadata": {},
   "outputs": [],
   "source": [
    "# Funcion de pares e impares\n",
    "def numeroPar(n):\n",
    "    if n % 2 == 0:\n",
    "        return(True)\n",
    "    else:\n",
    "        return(False)\n",
    "    "
   ]
  },
  {
   "cell_type": "code",
   "execution_count": 32,
   "id": "09505b90",
   "metadata": {},
   "outputs": [
    {
     "name": "stdout",
     "output_type": "stream",
     "text": [
      "True\n"
     ]
    }
   ],
   "source": [
    "par = numeroPar(2)\n",
    "print(par)"
   ]
  },
  {
   "cell_type": "code",
   "execution_count": 33,
   "id": "7e7c7faa",
   "metadata": {},
   "outputs": [
    {
     "name": "stdout",
     "output_type": "stream",
     "text": [
      "False\n"
     ]
    }
   ],
   "source": [
    "par = numeroPar(1)\n",
    "print(par)"
   ]
  },
  {
   "cell_type": "code",
   "execution_count": 34,
   "id": "10374754",
   "metadata": {},
   "outputs": [
    {
     "name": "stdout",
     "output_type": "stream",
     "text": [
      "True\n"
     ]
    }
   ],
   "source": [
    "par = numeroPar(0)\n",
    "print(par)"
   ]
  },
  {
   "cell_type": "code",
   "execution_count": 35,
   "id": "3a675821",
   "metadata": {},
   "outputs": [
    {
     "name": "stdout",
     "output_type": "stream",
     "text": [
      "False\n"
     ]
    }
   ],
   "source": [
    "par = numeroPar(-1)\n",
    "print(par)"
   ]
  },
  {
   "cell_type": "code",
   "execution_count": 36,
   "id": "d4f5a2af",
   "metadata": {},
   "outputs": [],
   "source": [
    "# Hcemos el test de la funcion de numeros pares.\n",
    "def numeroPar_test():\n",
    "    n1 = 2\n",
    "    if numeroPar(n1) == True:\n",
    "        print(\"ok\")\n",
    "    else:\n",
    "        print(\"fail\")\n",
    "        \n",
    "    n2 = 1\n",
    "    if numeroPar(n2) == False:\n",
    "        print(\"ok\")\n",
    "    else:\n",
    "        print(\"fail\")\n",
    "        \n",
    "    n3 = 0\n",
    "    if numeroPar(n3) == True:\n",
    "        print(\"ok\")\n",
    "    else:\n",
    "        print(\"fail\")\n",
    "        \n",
    "    n4 = -1\n",
    "    if numeroPar(n4) == False:\n",
    "        print(\"ok\")\n",
    "    else:\n",
    "        print(\"fail\")\n",
    "    \n",
    "        "
   ]
  },
  {
   "cell_type": "code",
   "execution_count": 37,
   "id": "85bea174",
   "metadata": {},
   "outputs": [
    {
     "name": "stdout",
     "output_type": "stream",
     "text": [
      "ok\n",
      "ok\n",
      "ok\n",
      "ok\n"
     ]
    }
   ],
   "source": [
    "numeroPar_test()"
   ]
  },
  {
   "cell_type": "code",
   "execution_count": 38,
   "id": "3e9ea36a",
   "metadata": {},
   "outputs": [],
   "source": [
    "# vamos a crear una funcion que convioerta los grados celsius a Fahrenheit\n",
    "def celsiusAfahrenheit(c):\n",
    "    return (c * 1.8) + 32"
   ]
  },
  {
   "cell_type": "code",
   "execution_count": 39,
   "id": "a5ef1c7c",
   "metadata": {},
   "outputs": [
    {
     "name": "stdout",
     "output_type": "stream",
     "text": [
      "68.0\n"
     ]
    }
   ],
   "source": [
    "GradosFa = celsiusAfahrenheit(20)\n",
    "print(GradosFa)"
   ]
  },
  {
   "cell_type": "code",
   "execution_count": 40,
   "id": "bd8a8ddc",
   "metadata": {},
   "outputs": [
    {
     "name": "stdout",
     "output_type": "stream",
     "text": [
      "50.0\n"
     ]
    }
   ],
   "source": [
    "GradosFa = celsiusAfahrenheit(10)\n",
    "print(GradosFa)"
   ]
  },
  {
   "cell_type": "code",
   "execution_count": 41,
   "id": "a6cc7036",
   "metadata": {},
   "outputs": [
    {
     "name": "stdout",
     "output_type": "stream",
     "text": [
      "104.0\n"
     ]
    }
   ],
   "source": [
    "GradosFa = celsiusAfahrenheit(40)\n",
    "print(GradosFa)"
   ]
  },
  {
   "cell_type": "code",
   "execution_count": 42,
   "id": "5f4792ca",
   "metadata": {},
   "outputs": [],
   "source": [
    "# creamos la funcion de test de celsius a fahrenheit\n",
    "def celsiusAfahrenheit_test():\n",
    "    n1 = 20\n",
    "    if celsiusAfahrenheit(n1) == 68.0:\n",
    "        print(\"ok\")\n",
    "    else:\n",
    "        print(\"fail\")\n",
    "        \n",
    "    n2 = 10\n",
    "    if celsiusAfahrenheit(n2) == 50.0:\n",
    "        print(\"ok\")\n",
    "    else:\n",
    "        print(\"fail\")\n",
    "        \n",
    "    n3 = 40\n",
    "    if celsiusAfahrenheit(n3) == 104.0:\n",
    "        print(\"ok\")\n",
    "    else:\n",
    "        print(\"fail\")"
   ]
  },
  {
   "cell_type": "code",
   "execution_count": 43,
   "id": "6d80c90d",
   "metadata": {},
   "outputs": [
    {
     "name": "stdout",
     "output_type": "stream",
     "text": [
      "ok\n",
      "ok\n",
      "ok\n"
     ]
    }
   ],
   "source": [
    "# llamamos la funcion para verificar si los datos son correctos\n",
    "celsiusAfahrenheit_test()"
   ]
  },
  {
   "cell_type": "code",
   "execution_count": 44,
   "id": "2707f077",
   "metadata": {},
   "outputs": [],
   "source": [
    "# vamos a crear una funcion que convioerta los grados Fahrenheit a celsius.\n",
    "def fahrenheitAcelsius(f):\n",
    "    return (f - 32) / 1.8"
   ]
  },
  {
   "cell_type": "code",
   "execution_count": 45,
   "id": "bd0e619c",
   "metadata": {},
   "outputs": [
    {
     "name": "stdout",
     "output_type": "stream",
     "text": [
      "-12.222222222222221\n"
     ]
    }
   ],
   "source": [
    "GradosCel = fahrenheitAcelsius(10)\n",
    "print(GradosCel)"
   ]
  },
  {
   "cell_type": "code",
   "execution_count": 46,
   "id": "05625ffc",
   "metadata": {},
   "outputs": [
    {
     "name": "stdout",
     "output_type": "stream",
     "text": [
      "26.666666666666664\n"
     ]
    }
   ],
   "source": [
    "GradosCel = fahrenheitAcelsius(80)\n",
    "print(GradosCel)"
   ]
  },
  {
   "cell_type": "code",
   "execution_count": 47,
   "id": "fcb70fc5",
   "metadata": {},
   "outputs": [
    {
     "name": "stdout",
     "output_type": "stream",
     "text": [
      "10.0\n"
     ]
    }
   ],
   "source": [
    "GradosCel = fahrenheitAcelsius(50)\n",
    "print(GradosCel)"
   ]
  },
  {
   "cell_type": "code",
   "execution_count": 48,
   "id": "8fa24bf1",
   "metadata": {},
   "outputs": [],
   "source": [
    "# creamos la funcion de test de celsius a fahrenheit\n",
    "def fahrenheitAcelsius_test():\n",
    "    n1 = 10\n",
    "    if fahrenheitAcelsius(n1) == -12.222222222222221:\n",
    "        print(\"ok\")\n",
    "    else:\n",
    "        print(\"fail\")\n",
    "        \n",
    "    n2 = 80\n",
    "    if fahrenheitAcelsius(n2) == 26.666666666666664:\n",
    "        print(\"ok\")\n",
    "    else:\n",
    "        print(\"fail\")\n",
    "        \n",
    "    n3 = 50\n",
    "    if fahrenheitAcelsius(n3) == 10.0:\n",
    "        print(\"ok\")\n",
    "    else:\n",
    "        print(\"fail\")"
   ]
  },
  {
   "cell_type": "code",
   "execution_count": 49,
   "id": "efb6f7a9",
   "metadata": {},
   "outputs": [
    {
     "name": "stdout",
     "output_type": "stream",
     "text": [
      "ok\n",
      "ok\n",
      "ok\n"
     ]
    }
   ],
   "source": [
    "# llamamos la funcion para verificar si los datos son correctos\n",
    "fahrenheitAcelsius_test()"
   ]
  },
  {
   "cell_type": "code",
   "execution_count": 50,
   "id": "1b38549e",
   "metadata": {},
   "outputs": [
    {
     "name": "stdout",
     "output_type": "stream",
     "text": [
      "Factorial de 8 es 40320\n"
     ]
    }
   ],
   "source": [
    "# creamos una funcion de factorial usando un ciclo WHILE\n",
    "def factorial(num): \n",
    "    if num < 0: \n",
    "        print(\"El número factorial es negativo\")\n",
    "\n",
    "    elif num == 0: \n",
    "        return 1\n",
    "        \n",
    "    else: \n",
    "        fact = 1\n",
    "        while(num > 1): \n",
    "            fact *= num \n",
    "            num -= 1\n",
    "        return fact \n",
    "\n",
    "num = 8; \n",
    "\n",
    "print(\"Factorial de\", num, \"es\", factorial(num))     "
   ]
  },
  {
   "cell_type": "code",
   "execution_count": 51,
   "id": "817db848",
   "metadata": {},
   "outputs": [],
   "source": [
    "# o la creamos la funcion de factorial con un ciclo FOR\n",
    "def facty(num):\n",
    "    resultado = 1\n",
    "    for i in range(1, num+1):\n",
    "        \n",
    "        resultado = i * resultado\n",
    "        \n",
    "    return(resultado) \n",
    "    "
   ]
  },
  {
   "cell_type": "code",
   "execution_count": 52,
   "id": "b1c51d75",
   "metadata": {},
   "outputs": [
    {
     "data": {
      "text/plain": [
       "40320"
      ]
     },
     "execution_count": 52,
     "metadata": {},
     "output_type": "execute_result"
    }
   ],
   "source": [
    "numero = facty(8)\n",
    "numero"
   ]
  },
  {
   "cell_type": "code",
   "execution_count": 53,
   "id": "e0c27b86",
   "metadata": {},
   "outputs": [
    {
     "data": {
      "text/plain": [
       "720"
      ]
     },
     "execution_count": 53,
     "metadata": {},
     "output_type": "execute_result"
    }
   ],
   "source": [
    "numero2 = facty(6)\n",
    "numero2"
   ]
  },
  {
   "cell_type": "code",
   "execution_count": 54,
   "id": "3d3c4743",
   "metadata": {},
   "outputs": [
    {
     "data": {
      "text/plain": [
       "120"
      ]
     },
     "execution_count": 54,
     "metadata": {},
     "output_type": "execute_result"
    }
   ],
   "source": [
    "numero3 = facty(5)\n",
    "numero3"
   ]
  },
  {
   "cell_type": "code",
   "execution_count": 55,
   "id": "cf31d573",
   "metadata": {},
   "outputs": [
    {
     "data": {
      "text/plain": [
       "24"
      ]
     },
     "execution_count": 55,
     "metadata": {},
     "output_type": "execute_result"
    }
   ],
   "source": [
    "numero4 = facty(4)\n",
    "numero4"
   ]
  },
  {
   "cell_type": "code",
   "execution_count": 56,
   "id": "045d35c0",
   "metadata": {},
   "outputs": [],
   "source": [
    "# creamos la funcion de test de factorial\n",
    "def facty_test():\n",
    "    numero = 8\n",
    "    if facty(numero) == 40320:\n",
    "        print(\"ok\")\n",
    "    else:\n",
    "        print(\"fail\")\n",
    "        \n",
    "    numero2 = 6\n",
    "    if facty(numero2) == 720:\n",
    "        print(\"ok\")\n",
    "    else:\n",
    "        print(\"fail\")\n",
    "        \n",
    "    numero3 = 5\n",
    "    if facty(numero3) == 120:\n",
    "        print(\"ok\")\n",
    "    else:\n",
    "        print(\"fail\")\n",
    "        \n",
    "    numero4 = 4\n",
    "    if facty(numero4) == 24:\n",
    "        print(\"ok\")\n",
    "    else:\n",
    "        print(\"fail\")"
   ]
  },
  {
   "cell_type": "code",
   "execution_count": 57,
   "id": "025c25b7",
   "metadata": {},
   "outputs": [
    {
     "name": "stdout",
     "output_type": "stream",
     "text": [
      "ok\n",
      "ok\n",
      "ok\n",
      "ok\n"
     ]
    }
   ],
   "source": [
    "# llamamos la funcion para verificar si los datos son correctos\n",
    "facty_test()"
   ]
  },
  {
   "cell_type": "code",
   "execution_count": 58,
   "id": "b3590395",
   "metadata": {},
   "outputs": [
    {
     "name": "stdout",
     "output_type": "stream",
     "text": [
      "     dado1  dado2  dado3  dado4  resultado  resultado2\n",
      "0        4      4      5      3         16         NaN\n",
      "1        3      4      3      1         11         NaN\n",
      "2        5      4      2      5         16         NaN\n",
      "3        5      5      4      1         15         NaN\n",
      "4        6      5      4      6         21         NaN\n",
      "..     ...    ...    ...    ...        ...         ...\n",
      "995      1      3      5      6         15         NaN\n",
      "996      6      3      6      6         21         NaN\n",
      "997      2      5      3      6         16         NaN\n",
      "998      5      2      4      2         13         NaN\n",
      "999      4      6      2      4         16         NaN\n",
      "\n",
      "[1000 rows x 6 columns]\n"
     ]
    }
   ],
   "source": [
    "#Funciones de distribución Distribución Gaussiana o Normal\n",
    "# Creamos dataframe con 1000 tiradas dobles de dado\n",
    "n = 5\n",
    "df = pd.DataFrame(np.random.randint(1, 7, size=(1000, 4)), columns=['dado1', 'dado2', \"dado3\", \"dado4\"])\n",
    "df['resultado'] = df.dado1 + df.dado2 + df.dado3 + df.dado4\n",
    "df[\"resultado2\"] = df.iloc[0] + df.iloc[1] + df.iloc[2] + df.iloc[3]\n",
    "print(df)"
   ]
  },
  {
   "cell_type": "code",
   "execution_count": 59,
   "id": "7bc79352",
   "metadata": {},
   "outputs": [
    {
     "data": {
      "text/plain": [
       "Text(0.5, 0, 'Resultado de los dos dados')"
      ]
     },
     "execution_count": 59,
     "metadata": {},
     "output_type": "execute_result"
    },
    {
     "data": {
      "image/png": "[encoded data removed]",
      "text/plain": [
       "<Figure size 432x288 with 1 Axes>"
      ]
     },
     "metadata": {
      "needs_background": "light"
     },
     "output_type": "display_data"
    }
   ],
   "source": [
    "plt.hist(df.resultado, bins=20, density=True)\n",
    "plt.ylabel('Probabilidad del evento')\n",
    "plt.xlabel('Resultado de los dos dados')"
   ]
  },
  {
   "cell_type": "code",
   "execution_count": 60,
   "id": "345445c7",
   "metadata": {},
   "outputs": [],
   "source": [
    "# Crear una función que genere (devuelva) un número aleatorio con media = 0 y desviación estándard = 1 \n",
    "mu, sigma = 0, 1\n",
    "noise1 = np.random.normal(mu, sigma, 1000)"
   ]
  },
  {
   "cell_type": "code",
   "execution_count": 61,
   "id": "e4dd6fcf",
   "metadata": {},
   "outputs": [],
   "source": [
    "def random01():\n",
    "    mu, sigma = 0, 1\n",
    "    r = np.random.normal(mu, sigma, 1)\n",
    "    return r[0]"
   ]
  },
  {
   "cell_type": "code",
   "execution_count": 62,
   "id": "93d8dc3f",
   "metadata": {},
   "outputs": [
    {
     "data": {
      "text/plain": [
       "-1.0131524505561393"
      ]
     },
     "execution_count": 62,
     "metadata": {},
     "output_type": "execute_result"
    }
   ],
   "source": [
    "random01()"
   ]
  },
  {
   "cell_type": "code",
   "execution_count": 63,
   "id": "a5e56670",
   "metadata": {},
   "outputs": [],
   "source": [
    "def randomIn():\n",
    "    r = random01()\n",
    "    print(r)\n",
    "    if r > -1 and r < 1:\n",
    "        return True\n",
    "    else:\n",
    "        return False"
   ]
  },
  {
   "cell_type": "code",
   "execution_count": 64,
   "id": "486391eb",
   "metadata": {},
   "outputs": [
    {
     "name": "stdout",
     "output_type": "stream",
     "text": [
      "-0.2775145494421692\n"
     ]
    },
    {
     "data": {
      "text/plain": [
       "True"
      ]
     },
     "execution_count": 64,
     "metadata": {},
     "output_type": "execute_result"
    }
   ],
   "source": [
    "randomIn()"
   ]
  },
  {
   "cell_type": "code",
   "execution_count": 65,
   "id": "19893a42",
   "metadata": {},
   "outputs": [
    {
     "name": "stdout",
     "output_type": "stream",
     "text": [
      "1.4070664104091117\n",
      "0.11994499266129297\n",
      "0.751290078664943\n",
      "0.380911621873884\n",
      "0.5305639126246366\n",
      "1.2902084754996068\n",
      "0.5043874103250775\n",
      "-0.5248397935682984\n",
      "-0.4791100690301187\n",
      "-0.27943596427771134\n",
      "-1.0332440462304617\n",
      "-0.3460888286764947\n",
      "-0.04628165873204882\n",
      "1.4687167476689649\n",
      "-0.4810785342167617\n",
      "-0.80583206848536\n",
      "1.7636827257016845\n",
      "-0.1298707620501497\n",
      "-0.8444349209648857\n",
      "-0.1400935767491879\n",
      "0.33379021138425996\n",
      "0.31627198053316313\n",
      "0.7787375027061668\n",
      "-0.8547378199580729\n",
      "-1.0318822508326162\n",
      "0.8617407024239638\n",
      "-1.0211212369793705\n",
      "-0.5757264020081035\n",
      "2.0701118738375044\n",
      "-1.3248739867235775\n",
      "-1.5506982784630097\n",
      "2.0447239161707738\n",
      "-0.5955613839329728\n",
      "0.6464489251173885\n",
      "0.887697152327242\n",
      "-0.5418914116407066\n",
      "-1.8913369974551093\n",
      "1.5968873571631172\n",
      "-0.029606056756602956\n",
      "-0.5891929495181738\n",
      "-0.21245277802662668\n",
      "0.5612296539127558\n",
      "-1.8899159512954535\n",
      "2.8315803217807445\n",
      "-0.6816183544638664\n",
      "0.23489335150531135\n",
      "-1.3975879956101298\n",
      "-0.15859475421285008\n",
      "0.07895871569988368\n",
      "-0.5298616295661306\n",
      "-0.840987434510791\n",
      "0.3979877966525485\n",
      "-0.09636148033532117\n",
      "0.29082151825443386\n",
      "-0.03793333391769323\n",
      "-0.14708347193586868\n",
      "0.7494732146507016\n",
      "0.9166038671067515\n",
      "-0.05527926914860148\n",
      "1.1498383608343155\n",
      "0.5892008812692532\n",
      "-0.4895454046938351\n",
      "-1.281231690282471\n",
      "1.013243813577846\n",
      "1.039097359079141\n",
      "2.0204844669154793\n",
      "-0.10882955233899573\n",
      "0.3058346312186949\n",
      "1.6070933741632807\n",
      "-1.352414324293168\n",
      "1.4405731287318575\n",
      "-1.4064539052839478\n",
      "-0.34720602194377675\n",
      "-1.1514726577953074\n",
      "-1.464404169996421\n",
      "-0.2934813285720994\n",
      "-1.1471813056230706\n",
      "0.18109334413285666\n",
      "0.20632182436311597\n",
      "1.0159860313907427\n",
      "-0.02253257290867375\n",
      "-0.7973007496564901\n",
      "1.8708882358572576\n",
      "-1.0512813685118634\n",
      "1.2805261889356634\n",
      "-0.22108982237756739\n",
      "1.7852187305062603\n",
      "-1.6180595067021701\n",
      "-0.4407885039875992\n",
      "-0.582220890519022\n",
      "-0.09181067836617648\n",
      "-0.728771763556506\n",
      "0.4331915714839158\n",
      "0.2681716206583894\n",
      "0.267315070697231\n",
      "0.4488948258383023\n",
      "-0.5597607176508412\n",
      "-2.236457954889299\n",
      "0.25817410135867874\n",
      "-2.1256921780307856\n",
      "0.12259725504550258\n",
      "-0.14239808618773533\n",
      "-1.176646885888403\n",
      "-1.0167013854771427\n",
      "-0.9182686758581977\n",
      "-0.0056293016089036954\n",
      "-0.5291053273444742\n",
      "-0.20008172649365605\n",
      "0.1851740991145671\n",
      "-0.2146296037235535\n",
      "-0.6552639756187997\n",
      "0.2599090092842172\n",
      "-0.3887189114412979\n",
      "1.2168543321208367\n",
      "-0.9510409333054087\n",
      "-1.003920726252178\n",
      "0.6838312879594265\n",
      "-0.8909276788787647\n",
      "1.392482298105447\n",
      "-0.7302736682422549\n",
      "0.7559364969218841\n",
      "-1.089269354303395\n",
      "-1.140499892431145\n",
      "1.5381789503695948\n",
      "0.8104854572850689\n",
      "-0.5583409532594502\n",
      "-0.7155443089392326\n",
      "-2.0013300968036596\n",
      "0.1921494341099904\n",
      "-1.3140889024763025\n",
      "0.54008795099849\n",
      "0.40626531634909246\n",
      "0.41446179629262675\n",
      "-0.029831721954232723\n",
      "0.19458509148931472\n",
      "-0.33722293028742656\n",
      "-0.5994254491841741\n",
      "-0.9330695576998692\n",
      "-0.36370861063227733\n",
      "0.29565804930871403\n",
      "-0.3347605858834696\n",
      "0.2689417767980784\n",
      "0.26763434432963995\n",
      "1.0500512449834292\n",
      "-0.5170798468355848\n",
      "-0.32025134888037365\n",
      "-0.8164141410404459\n",
      "0.6125778996561123\n",
      "-0.731484660804479\n",
      "0.5445662775596385\n",
      "1.2725180709345212\n",
      "-0.33914511782730267\n",
      "1.4776342679644185\n",
      "0.985172339347175\n",
      "1.1088201530780057\n",
      "0.713894043000399\n",
      "-0.8194019189358682\n",
      "0.4591210845874514\n",
      "1.0142385429766658\n",
      "-0.9733014031322317\n",
      "2.47672362655269\n",
      "-0.17108019794208426\n",
      "-0.5731782064641326\n",
      "-1.5651325082291803\n",
      "1.7243290070353214\n",
      "0.2541860479654538\n",
      "0.49098910157821213\n",
      "-0.16639051168591956\n",
      "0.9222567686793403\n",
      "0.0653826752769983\n",
      "0.5551775897692001\n",
      "0.7865961770554686\n",
      "0.4107016762563196\n",
      "0.7472244954557916\n",
      "-0.4771815530725831\n",
      "-1.0288133985627599\n",
      "0.16082224959512875\n",
      "-1.6575653907774086\n",
      "0.7031190078669759\n",
      "0.16183940256907045\n",
      "2.0937764173060183\n",
      "0.12523785156812764\n",
      "1.101744845448104\n",
      "-0.7369276604309727\n",
      "-1.1427668330296226\n",
      "1.008572898135431\n",
      "0.8658116159614342\n",
      "0.3082934535585891\n",
      "1.1485175380050543\n",
      "-0.4906266196452268\n",
      "-0.7635162146555725\n",
      "0.5904217191233011\n",
      "-0.890469803709199\n",
      "0.413455586764422\n",
      "-0.6468886428374659\n",
      "0.43471370693561906\n",
      "-0.8646606748057862\n",
      "1.01932780770628\n",
      "1.1668035958020673\n",
      "-0.5748383003053459\n",
      "0.05964975973615753\n",
      "-0.07388812637512551\n",
      "-0.3459461542735898\n",
      "-1.953671333207118\n",
      "0.9909559603371337\n",
      "0.6837524850002008\n",
      "-0.6589717444274393\n",
      "-0.02318404490776715\n",
      "1.310149574663547\n",
      "-0.33332943553851446\n",
      "0.35004923598325854\n",
      "-1.6943651204801846\n",
      "0.06578879376468263\n",
      "-0.16919632494320735\n",
      "1.6417610894759125\n",
      "1.8222626634889005\n",
      "1.5677297290331027\n",
      "-0.2790790615843874\n",
      "0.6682166622838315\n",
      "-0.9910263907486998\n",
      "0.9048351326820754\n",
      "-1.1681487240530586\n",
      "0.3788634016497648\n",
      "2.341532930576604\n",
      "-0.7591501803272569\n",
      "-0.6644608259294711\n",
      "-2.7811581540941592\n",
      "-0.23099215087822847\n",
      "-0.24543958490803588\n",
      "-0.4448220568138413\n",
      "-1.1557720479494766\n",
      "1.38864136497309\n",
      "0.5769839169008166\n",
      "-1.3441902474302478\n",
      "-0.12419542216600742\n",
      "0.6647651716577093\n",
      "1.8846638895993313\n",
      "-0.6483185239426323\n",
      "0.3872689237733041\n",
      "-0.8720654515032532\n",
      "1.289535699748107\n",
      "0.15776299145073136\n",
      "-0.7638666123064042\n",
      "-0.6760150158753959\n",
      "-0.31502675542723174\n",
      "-1.7316736613265291\n",
      "-0.7671876648758763\n",
      "1.2823984867080707\n",
      "-1.2903673328422038\n",
      "-0.3400905026361008\n",
      "-0.6367377849096658\n",
      "-1.1173286572394794\n",
      "-0.1938180624350413\n",
      "0.04893085488167507\n",
      "1.4274332548813604\n",
      "1.120389575993743\n",
      "-0.9756595364194408\n",
      "0.570477199761185\n",
      "1.7851608536586228\n",
      "-0.674671997974681\n",
      "0.7494462949210438\n",
      "-0.969580321522887\n",
      "-0.6547634301401412\n",
      "1.1453708886702465\n",
      "-0.35930837920617065\n",
      "0.17435129109687653\n",
      "2.258144771012672\n",
      "-1.3465651202500073\n",
      "1.958160607007263\n",
      "-0.11108887809621405\n",
      "0.9208151780420439\n",
      "1.4756178843199923\n",
      "-1.6828759353310663\n",
      "-0.7097899696275852\n",
      "-0.42537308314726685\n",
      "0.627190911738476\n",
      "-0.8349717193962655\n",
      "-0.6795328948474956\n",
      "1.2665643888387488\n",
      "-0.9873402658694936\n",
      "-1.186617803554604\n",
      "0.27362340006877217\n",
      "0.26312056249674015\n",
      "-0.635381713191319\n",
      "0.40396066294760913\n",
      "-1.2951265999103991\n",
      "-0.5119572505578623\n",
      "0.22948258985890896\n",
      "1.3316218404535707\n",
      "0.9337924447801467\n",
      "0.40743760429483417\n",
      "-0.6350486456603841\n",
      "0.7806762608453637\n",
      "2.237811317087977\n",
      "0.28497427769333267\n",
      "0.938896415038763\n",
      "-0.7930991957425173\n",
      "0.3664763896814639\n",
      "-0.498280494294775\n",
      "-0.13922252621274772\n",
      "-0.15897745482371142\n",
      "0.24451226411704588\n",
      "-0.2523065398775718\n",
      "-0.04015177450118928\n",
      "-0.37796793635412024\n",
      "-1.4859272107084165\n",
      "2.160752135061661\n",
      "0.7272204296190531\n",
      "0.7581847845807262\n",
      "0.01494855440528901\n",
      "2.4699239585629886\n",
      "-0.03217025668336341\n",
      "-0.20039529339777531\n",
      "-0.5350480722916147\n",
      "0.6640996383694125\n",
      "0.5940677699380437\n",
      "-0.07552933046634562\n",
      "1.4301291720747122\n",
      "-1.2512692334227957\n",
      "-1.9707871741826744\n",
      "1.8344816959012955\n",
      "0.20471912686512844\n",
      "0.040952813466495895\n",
      "-0.11878395268698011\n",
      "0.10848765360886115\n",
      "-0.12617834773969788\n",
      "1.4190387231867567\n",
      "-1.8994585113411575\n",
      "1.7949506783080156\n",
      "-0.4235633277820291\n",
      "0.8414060825309461\n",
      "0.7662197659996073\n",
      "-0.955538409416032\n",
      "0.12660366721922492\n",
      "0.655901474007616\n",
      "-0.017114219367709873\n",
      "1.2089643818508418\n",
      "0.280828583075163\n",
      "-1.1919613371554147\n",
      "-2.0116873395059187\n",
      "-0.7126223223554062\n",
      "0.5717034533620498\n",
      "-0.807234623271164\n",
      "1.2490191148689915\n",
      "1.2433805279847234\n",
      "0.15453780567229455\n",
      "1.3419521471752973\n",
      "-0.0747682072332542\n",
      "-2.1141045608475366\n",
      "0.065016381079269\n",
      "-1.316622132130672\n",
      "-0.7386408060027846\n",
      "1.2440279537259378\n",
      "1.6338386526929993\n",
      "-0.4006395581807361\n",
      "0.5212698869136103\n",
      "-0.42044222874848275\n",
      "0.1768463195503399\n",
      "0.8884188594361743\n",
      "0.31891716779342755\n",
      "-0.9352399071647122\n",
      "0.5669204580757096\n",
      "0.01131275464899647\n",
      "0.09608943941160362\n",
      "-0.9247075111124342\n",
      "1.1192614293098044\n",
      "-1.1505912674058527\n",
      "0.13033988997860121\n",
      "-0.09878166293164782\n",
      "-1.259943408803556\n",
      "-1.7852203318281894\n",
      "-0.37120301123961347\n",
      "0.679925933481762\n",
      "0.3889296801686339\n",
      "2.8688897639967363\n",
      "1.3619617412285776\n",
      "-2.935547502374719\n",
      "-0.12383621143688661\n",
      "-0.29280531068237686\n",
      "-0.4694904902532894\n",
      "-0.686044001615138\n",
      "1.6892519028888604\n",
      "-0.6980710334071242\n",
      "0.5047511618500791\n",
      "-0.615839362729644\n",
      "-0.1623027309495072\n",
      "-0.07118766052319982\n",
      "-0.6981711647226039\n",
      "-1.4411978395061942\n",
      "0.7844063513757831\n",
      "-0.39417300949753953\n",
      "1.960246628870843\n",
      "0.42450785537025176\n",
      "-1.3201345956031\n",
      "-0.7465944906645056\n",
      "0.8909763846108539\n",
      "-0.4288062945441755\n",
      "-0.04794193623992084\n",
      "-0.047647556631456256\n",
      "-0.7838686632841895\n",
      "1.1193408904967945\n",
      "-2.610562703068359\n",
      "-0.08738547881859783\n",
      "0.5485128936690485\n",
      "0.015262438653507023\n",
      "-0.8997719047250222\n",
      "-0.9061643680799975\n",
      "-1.2334181176115915\n",
      "1.6046984227393004\n",
      "0.2965315477561168\n",
      "-0.9077926203737039\n",
      "0.5468760572960712\n",
      "-0.07381670187645809\n",
      "1.025625410483083\n",
      "-0.7498318119561209\n",
      "-0.76882061991783\n",
      "-0.2262855233836133\n",
      "0.8931106099286426\n",
      "0.7540457124715795\n",
      "0.7911412144765998\n",
      "0.9072980241361975\n",
      "0.11981554532229875\n",
      "1.1312838011812691\n",
      "-1.5864760664229682\n",
      "-0.08107874437337902\n",
      "0.05653493604013369\n",
      "-0.5718568652859422\n",
      "-1.6746230285970185\n",
      "-0.34408311732786934\n",
      "0.5205108441796029\n",
      "-1.4708864906752785\n",
      "-0.004077720471128225\n",
      "0.5828241957317108\n",
      "0.08650896470360568\n",
      "-0.4484538434986358\n",
      "-2.5487398603668647\n",
      "0.9869419037215797\n",
      "-0.44362514496462213\n",
      "-0.8843830648535311\n",
      "-0.06131137648302232\n",
      "1.5815677212857953\n",
      "0.7685072538100891\n",
      "1.07687535667429\n",
      "0.930077445826394\n",
      "-1.2345508823924016\n",
      "0.7361751038521435\n",
      "0.7195990703212123\n",
      "-1.3768779055064089\n",
      "0.4167923157238529\n",
      "-0.5567522686982033\n",
      "-0.4270098237162037\n",
      "0.5411058021323893\n",
      "-0.991278136306244\n",
      "1.143838079130637\n",
      "-0.003988112158378993\n",
      "0.5503922052307233\n",
      "1.215035971073689\n",
      "0.4142215783723504\n",
      "0.11827239520561604\n",
      "0.96701520911286\n",
      "0.2592490172152535\n",
      "0.5276180114612776\n",
      "-0.2827245683021985\n",
      "-0.9619647274177355\n",
      "-0.7143925546182572\n",
      "-0.6958479149155716\n",
      "-1.1984495701019091\n",
      "0.8848614989827525\n",
      "0.9102842462452132\n",
      "0.9125285195245565\n",
      "0.5956686835827816\n",
      "0.22538438325628019\n",
      "2.061660150472638\n",
      "0.6168422525914306\n",
      "-0.788497877699737\n",
      "0.29132476562585186\n",
      "-0.10408547940218128\n",
      "0.7273677542064898\n",
      "0.7809869077587458\n",
      "-1.0449379762161697\n",
      "1.501376751028722\n",
      "-0.3057867280423776\n",
      "-2.019777598778105\n",
      "-0.276744391175461\n",
      "1.3344956731764515\n",
      "1.8818555327510018\n",
      "-0.16106390328437517\n",
      "-0.8581575325000886\n",
      "-0.7284374552807253\n",
      "-1.2397803316804152\n",
      "0.7992792630133151\n",
      "1.5772616856861061\n",
      "-1.2008154628278038\n",
      "1.3777011697418642\n",
      "-0.38669097434931626\n",
      "0.16628509475030587\n",
      "-1.441849669599326\n",
      "0.6775758506467523\n",
      "-0.5020396031286363\n",
      "-1.1107443149727774\n",
      "-0.6848115816731289\n",
      "2.2437562227944086\n",
      "0.8280033449892938\n",
      "-2.2052853398768555\n",
      "0.29539518307640783\n",
      "0.46152178343555383\n",
      "-0.1521366054129866\n",
      "0.04139027190746752\n",
      "-0.4048656993720983\n",
      "0.1857030852033294\n",
      "1.250428921074509\n",
      "-0.26690960109882056\n",
      "-0.9973143803053554\n",
      "-0.31223781746501955\n",
      "-0.4281144312882782\n",
      "0.9234146360118164\n",
      "-0.4586265274842353\n",
      "-0.8516588495673915\n",
      "-0.2189760203317025\n",
      "1.7940203166509443\n",
      "-0.07463584211654066\n",
      "0.6489451707315225\n",
      "1.1496821155623862\n",
      "-1.8407722589439428\n",
      "-1.1558097307111868\n",
      "-0.47991068987675917\n",
      "0.611932218829431\n",
      "0.13272844115930935\n",
      "-0.7934211342670163\n",
      "0.5643270591107244\n",
      "0.4239164417466647\n",
      "1.3069996597889193\n",
      "0.002993557699655907\n",
      "0.17172633992890154\n",
      "-1.4515019775144595\n",
      "0.7464249629532016\n",
      "-1.3303198101377764\n",
      "-0.4424484589142436\n",
      "-0.5048437894303598\n",
      "-0.6448252726575022\n",
      "0.40503821362414205\n",
      "1.2576859373477802\n",
      "-1.2378751705770765\n",
      "0.17790401242821038\n",
      "-0.13570537148333678\n",
      "-0.8795667471628834\n",
      "0.161899443925111\n",
      "-0.9742354507018732\n",
      "-1.3603898938278676\n",
      "0.3557826399116612\n",
      "-1.0556553861295708\n",
      "0.0031566830205562025\n",
      "-0.9774745444184874\n",
      "0.7190195532866858\n",
      "-1.7618366877140612\n",
      "0.6443575428781757\n",
      "0.3436674946380368\n",
      "-0.33618330341788705\n",
      "-0.3402608962053264\n",
      "0.07864191122970023\n",
      "-0.14146829494624388\n",
      "0.5012893561400745\n",
      "1.2842781341237042\n",
      "0.30856467021775197\n",
      "1.479284964692257\n",
      "1.1942129818087488\n",
      "-0.09446964014470745\n",
      "-0.21550073704311992\n",
      "-0.19587909063790926\n",
      "0.22919360460432384\n",
      "1.8112379153180147\n",
      "0.13689114294959184\n",
      "0.06315034433807025\n",
      "-0.7028559248880042\n",
      "0.5265676867468058\n",
      "-0.3264551100272155\n",
      "1.4854036543642484\n",
      "1.715634981935968\n",
      "3.3126485601528106\n",
      "-0.9585083475692183\n",
      "-0.6239551080559053\n",
      "2.0836911964267393\n",
      "-0.22233473053949332\n",
      "-0.7562611027110248\n",
      "0.4032699134782113\n",
      "-0.8584624651602271\n",
      "-0.8681826274608786\n",
      "-0.1874366852224206\n",
      "0.4365464483769152\n",
      "0.5173567684482138\n",
      "-0.3655097261394815\n",
      "-0.1711659159186334\n",
      "0.6485076726599146\n",
      "-1.5186081906452458\n",
      "0.7963420182205228\n",
      "0.6061948316163525\n",
      "0.585194403820606\n",
      "-1.4343591505358781\n",
      "0.0664457754967158\n",
      "0.023679334978501453\n",
      "0.017697932334917153\n",
      "-0.7754814859468286\n",
      "0.07495968880136093\n",
      "0.48160938031292555\n",
      "-0.851262143335295\n",
      "-0.38543440614117747\n",
      "-0.5022207231325029\n",
      "0.2809864036630234\n",
      "0.9902248475278286\n",
      "-0.10685554323322372\n",
      "2.157209796586071\n",
      "0.8600886322247953\n",
      "0.6776549821938347\n",
      "1.473582751063159\n",
      "0.4273903157290901\n",
      "0.3682251548413582\n",
      "2.0460556516176696\n",
      "-0.17726268543443258\n",
      "-0.09025404690352927\n",
      "-0.24159307743287908\n",
      "-0.16127258767083782\n",
      "-0.3459116997248397\n",
      "-2.6823339770964596\n",
      "0.5691639293439039\n",
      "-0.31531902839329423\n",
      "0.021539570236046728\n",
      "0.3780057405089466\n",
      "-0.6515649464900155\n",
      "-1.0868281360492682\n",
      "0.791511949175571\n",
      "-1.3746920591767366\n",
      "-2.1726360589801783\n",
      "-0.6380760213691054\n",
      "0.20673781565556185\n",
      "0.3063660474314784\n",
      "-0.43726548945276156\n",
      "-1.0767426108670823\n",
      "-0.19554270377161265\n",
      "-0.17368436705710735\n",
      "-0.32927552636736657\n",
      "0.7048802822065701\n",
      "-1.0657493717746884\n",
      "0.9396610360353175\n",
      "1.3042524822621144\n",
      "-0.6687691433429739\n",
      "-1.0750519947739878\n",
      "1.800456151504138\n",
      "0.19059449259469363\n",
      "-0.23434874208365286\n",
      "0.03805872584598529\n",
      "-0.16460831484932112\n",
      "-1.2192357853879052\n",
      "-0.820151377692377\n",
      "0.4729126872406184\n",
      "-2.558692077828397\n",
      "-0.4784085297675808\n",
      "0.019217683022295942\n",
      "0.11706950047399912\n",
      "1.7590415434279123\n",
      "-0.39007908777332295\n",
      "-1.2456677338329616\n",
      "-0.8914578889058083\n",
      "0.2855386423989908\n",
      "0.2902803942759224\n",
      "-0.8261485151737733\n",
      "-1.4281297475428236\n",
      "0.4232323719402242\n",
      "-0.614234183174187\n",
      "-0.5843935859037526\n",
      "1.7345960111316898\n",
      "-0.6042152717870343\n",
      "-0.73982346346373\n",
      "0.5720409499765657\n",
      "-0.3043189976568752\n",
      "0.7125863714271327\n",
      "1.3547443723871144\n",
      "-0.13852406124218952\n",
      "0.6284443784629158\n",
      "0.9005844080338266\n",
      "0.1350203435584558\n",
      "-0.942351470624638\n",
      "1.0207744680996678\n",
      "-0.7123759883581129\n",
      "-1.0885804175343412\n",
      "-0.6958285873725565\n",
      "0.10395616001840771\n",
      "0.48688494853443237\n",
      "-0.4592639266923035\n",
      "0.48310272837763457\n",
      "0.06637260620045422\n",
      "0.12310755198700009\n",
      "1.4084457503237313\n",
      "1.6806047537426305\n",
      "0.9303491092489191\n",
      "-0.6340620834080384\n",
      "0.6610126032160285\n",
      "0.6038734453978709\n",
      "-1.6040536713098223\n",
      "0.3755271233559664\n",
      "-0.2874980630007665\n",
      "0.2653922401723244\n",
      "-0.27282925456084994\n",
      "-2.2709243910578722\n",
      "0.32350736735969604\n",
      "0.9558411190248165\n",
      "-0.2152981505332925\n",
      "1.6856741381868516\n",
      "0.3253780868485087\n",
      "1.1807483962749497\n",
      "-0.5499123473822459\n",
      "0.22018076502294914\n",
      "-0.10652786372629412\n",
      "-0.21560932919678907\n",
      "1.535308882958734\n",
      "-0.020313902640996626\n",
      "0.6821746469587462\n",
      "-2.955761077454361\n",
      "0.3570321221160207\n",
      "1.8003020754405015\n",
      "-0.685438617309874\n",
      "-0.7870983717446398\n",
      "-1.8625298713445413\n",
      "0.6257787992960103\n",
      "-0.5677907497933757\n",
      "-0.4873020448027317\n",
      "0.7110658555867772\n",
      "-0.8123340698513901\n",
      "-0.6524550645096776\n",
      "0.07365554270203911\n",
      "-0.6232008830840802\n",
      "0.1642461118872816\n",
      "0.8465575845270752\n",
      "-0.5558139141939651\n",
      "0.31679938913580513\n",
      "-0.3766790037763021\n",
      "-0.9245952190785686\n",
      "-1.3030032175000292\n",
      "1.441670960107287\n",
      "1.8768861006965383\n",
      "1.4689379342976312\n",
      "1.5564433070535812\n",
      "-0.8354501754026762\n",
      "-2.0940095906120404\n",
      "0.5282287222100555\n",
      "-1.7240717162108354\n",
      "-1.0306499832764537\n",
      "0.6910739871252942\n",
      "-0.7630245095716521\n",
      "0.007957362101979898\n",
      "-0.3154947063580208\n",
      "0.29298975240367425\n",
      "-1.0644728294117352\n",
      "0.2722913618073238\n",
      "-0.23358269561945627\n",
      "-0.9349228601166508\n",
      "-1.3074559154985295\n",
      "0.31896203235813414\n",
      "0.2404104384882746\n",
      "-0.26854791888908935\n",
      "-1.7993134736945795\n",
      "0.5027609252616727\n",
      "-0.6433419734955462\n",
      "0.24257827354564468\n",
      "-0.007044394910743633\n",
      "-0.4770152573213211\n",
      "-1.6749869893721203\n",
      "-0.7580431660014698\n",
      "0.8030905489455457\n",
      "1.0576788215011346\n",
      "0.3513439739140621\n",
      "-0.0512238166037399\n",
      "-1.7444248521740249\n",
      "0.46595399332474047\n",
      "0.6508932563960427\n",
      "-1.1122781930031111\n",
      "-0.14232639585225704\n",
      "0.10345522346101017\n",
      "-0.856935857049983\n",
      "2.3388191427585383\n",
      "0.3258980437635362\n",
      "-0.6018637952769097\n",
      "0.46238590807084246\n",
      "-0.8670644400825421\n",
      "-0.7980468406694026\n",
      "-0.639144873422207\n",
      "-1.2096687484106914\n",
      "-1.2224278501205736\n",
      "-0.8535914709317076\n",
      "0.46387196557853216\n",
      "-0.457056292809833\n",
      "-1.5215782147519925\n",
      "0.005650890168303907\n",
      "-0.28298438477104104\n",
      "1.56233596888583\n",
      "0.9713974975891332\n",
      "0.4417707283143036\n",
      "-0.10354100336193765\n",
      "-0.06270138517228242\n",
      "-1.374099124162026\n",
      "1.1072918959135265\n",
      "0.2665981306583501\n",
      "1.3444545555696643\n",
      "0.9497730902245385\n",
      "-0.6277255041870967\n",
      "-0.21906049062125574\n",
      "0.30835725118188234\n",
      "-0.5983185275236634\n",
      "1.9635686432653752\n",
      "0.19248997812873528\n",
      "-0.6679305301800772\n",
      "-0.8911795508384007\n",
      "0.7418507131437267\n",
      "-1.4446963128630466\n",
      "-0.9774075116421229\n",
      "-0.9154800190974531\n",
      "-1.5607393365958784\n",
      "1.849790449947043\n",
      "-0.7514892902265237\n",
      "0.715505996584256\n",
      "-1.0942979706374154\n",
      "0.20497540171403178\n",
      "0.43301698139291944\n",
      "0.472209975400163\n",
      "1.4818626580675098\n",
      "1.2482884096610094\n",
      "0.11944978584846376\n",
      "-0.4303868027849838\n",
      "-2.487375558799222\n",
      "-0.13930356118910361\n",
      "0.327536552975858\n",
      "0.6637581845611787\n",
      "-1.6613883748958498\n",
      "-1.114568975946148\n",
      "-0.9353942938791142\n",
      "1.4759391526006294\n",
      "-0.583280525687684\n",
      "0.8418053945921384\n",
      "-0.012356790298953984\n",
      "0.29077313339974625\n",
      "-0.00595696366002763\n",
      "0.7695186117363023\n",
      "-1.437655552998484\n",
      "-0.6917055205953614\n",
      "0.23649927230992412\n",
      "1.5337822642154426\n",
      "0.35921761700301225\n",
      "0.6664512697368759\n",
      "1.818042822733001\n",
      "-0.17536337173970695\n",
      "-1.0262647387114503\n",
      "0.21236254573165542\n",
      "1.573131254017411\n",
      "0.14014713117644395\n",
      "-1.8016139700488176\n",
      "1.3844402477912134\n",
      "0.7260789221859991\n",
      "-0.142588018461497\n",
      "0.1571708502467191\n",
      "1.9355261904398462\n",
      "0.6261041632036914\n",
      "0.19065937663639282\n",
      "-1.5389887452693118\n",
      "-0.1644409415771604\n",
      "-0.06439418118659494\n",
      "-0.7900381317049167\n",
      "0.23992624252223574\n",
      "-0.32240222817522635\n",
      "2.708159776355983\n",
      "0.5427455558076109\n",
      "-1.082412028604529\n",
      "1.4783381589480025\n",
      "0.649850962250608\n",
      "0.18934706772039972\n",
      "-0.658944940460584\n",
      "0.1145954924718522\n",
      "0.31129632128348406\n",
      "-0.3084759281542723\n",
      "1.0172716388979504\n",
      "0.7966092661208336\n",
      "-1.2889397298521519\n",
      "1.085760793430329\n",
      "0.07304511581207764\n",
      "-0.7041363616361394\n",
      "-1.7124095023459844\n",
      "0.973147170659556\n",
      "-0.48268977751634273\n",
      "-1.0740808012539536\n",
      "-1.6753565315735222\n",
      "-0.3335659245273962\n",
      "-1.1676744795368337\n",
      "-1.6045555162748857\n",
      "0.7563605695846419\n",
      "-0.015677921970902595\n",
      "-1.2553025531366229\n",
      "-0.06244371699135055\n",
      "-1.0508054712926906\n",
      "-0.8141414238134596\n",
      "-1.5457966460024313\n",
      "0.21335474542581984\n",
      "-0.08695420700945643\n",
      "-1.0622062404409542\n",
      "-1.1772060440620684\n",
      "0.19484959451855827\n",
      "2.2097770676731177\n",
      "-0.4843845856983666\n",
      "1.8966807125530092\n",
      "0.4240507334692483\n",
      "1.230065621291113\n",
      "-0.9406956370026701\n",
      "0.5660600537333309\n",
      "1.5809639011025607\n",
      "-1.3741111308202778\n",
      "0.6440853481334856\n",
      "-1.866006514550597\n",
      "-2.565962752606173\n",
      "1.139270798138603\n",
      "0.019531791858817305\n",
      "1.7354763049833881\n",
      "-0.9833384973042409\n",
      "-0.3209021780997064\n",
      "-0.08016918811775378\n",
      "0.5296700233617978\n",
      "-0.6100858390030917\n",
      "-1.254795241522646\n",
      "-0.9563486964187966\n",
      "1.6725978025656063\n",
      "0.26619319698354027\n",
      "-0.8920078234764113\n",
      "0.6282723635747417\n",
      "-0.6069680377352702\n",
      "-1.1007051376303638\n",
      "0.38933455921491417\n",
      "2.2595394972584826\n",
      "-1.6072143166163417\n",
      "-0.13896952715410865\n",
      "0.5190427474750264\n",
      "-1.3490278220113332\n",
      "-0.14215971541841352\n",
      "0.11529633867082649\n",
      "1.3504727276726178\n",
      "-0.4897830973983757\n",
      "0.8172612038295864\n",
      "-1.7380785556636769\n",
      "0.22131413044536644\n",
      "0.5112974945588943\n",
      "-0.3327013231560911\n",
      "-0.7763497672167123\n",
      "1.3116152191082315\n",
      "0.018737650379071307\n",
      "0.3937400929690881\n",
      "0.12913955432456367\n",
      "-2.2759235596477847\n",
      "2.0393483029448656\n",
      "-0.9787563934800168\n",
      "0.34518198098768665\n",
      "-1.0191669418527163\n",
      "-0.38666143173218165\n",
      "2.562583179481153\n",
      "-0.9181810601940591\n",
      "-0.7688525917111346\n",
      "-0.8554689040053145\n",
      "0.7765530423807656\n",
      "0.6820120924793469\n",
      "-1.3878880768503286\n",
      "-0.04890410215921979\n",
      "0.37899430277748214\n",
      "0.4431474150006091\n",
      "0.5467708595417329\n",
      "0.3644037301497705\n",
      "-0.739030578063162\n",
      "-2.2800431838052626\n",
      "0.12116268058744789\n",
      "-0.35614226849977354\n",
      "-0.25361409720630773\n",
      "-0.2370763388502983\n",
      "0.12100398174688487\n",
      "-0.4106308906551836\n",
      "-0.3878733049457924\n",
      "1.4815154396761907\n",
      "-0.10725179217056527\n",
      "-0.8854071256755165\n",
      "-0.9859187219147119\n",
      "0.31079548132121465\n",
      "2.1635728481164542\n",
      "1.43613718417781\n",
      "1.0540303100081778\n",
      "1.2025097719904039\n",
      "0.9735311424160785\n",
      "1.789497333372182\n",
      "-0.0163924945024983\n",
      "1.8753697339415483\n",
      "1.1989825948309598\n",
      "1.19717215481789\n",
      "-0.6179340401939553\n",
      "0.38283184908289347\n",
      "0.6835367987882937\n",
      "0.12936681847209086\n",
      "-0.06936727480780165\n",
      "0.16918062540637596\n",
      "-0.11527975200433088\n",
      "697\n",
      "303\n"
     ]
    }
   ],
   "source": [
    "contadorTrue = 0\n",
    "contadorFalse = 0\n",
    "for i in range(0, 1000):\n",
    "    resultado = randomIn()\n",
    "    if resultado == True:\n",
    "        contadorTrue = contadorTrue + 1\n",
    "    else:\n",
    "        contadorFalse = contadorFalse + 1\n",
    "print(contadorTrue)\n",
    "print(contadorFalse)"
   ]
  },
  {
   "cell_type": "code",
   "execution_count": 66,
   "id": "3bd9365e",
   "metadata": {},
   "outputs": [
    {
     "name": "stdout",
     "output_type": "stream",
     "text": [
      "     dado1  dado2  dado3  dado4  resultado  resultado2\n",
      "0        2      4      3      1         10         NaN\n",
      "1        2      6      5      4         17         NaN\n",
      "2        2      4      2      6         14         NaN\n",
      "3        1      4      6      5         16         NaN\n",
      "4        2      2      2      4         10         NaN\n",
      "..     ...    ...    ...    ...        ...         ...\n",
      "995      5      2      2      6         15         NaN\n",
      "996      5      2      1      2         10         NaN\n",
      "997      6      1      1      2         10         NaN\n",
      "998      6      6      6      3         21         NaN\n",
      "999      5      1      5      5         16         NaN\n",
      "\n",
      "[1000 rows x 6 columns]\n"
     ]
    }
   ],
   "source": [
    "#Funciones de distribución Distribución Gaussiana o Normal\n",
    "# Creamos dataframe con 1000 tiradas dobles de dado\n",
    "n = 5\n",
    "df = pd.DataFrame(np.random.randint(1, 7, size=(1000, 4)), columns=['dado1', 'dado2', \"dado3\", \"dado4\"])\n",
    "df['resultado'] = df.dado1 + df.dado2 + df.dado3 + df.dado4\n",
    "df[\"resultado2\"] = df.iloc[0] + df.iloc[1] + df.iloc[2] + df.iloc[3]\n",
    "print(df)"
   ]
  },
  {
   "cell_type": "code",
   "execution_count": 67,
   "id": "38a8684f",
   "metadata": {},
   "outputs": [],
   "source": [
    "def dados(n):\n",
    "    df = pd.DataFrame(np.random.randint(1, 7, size=(100000, n)))\n",
    "    df['resultado'] = df.iloc[:, 0:n].sum(axis= 1) \n",
    "    return df\n",
    "    "
   ]
  },
  {
   "cell_type": "code",
   "execution_count": 68,
   "id": "ed8490d3",
   "metadata": {},
   "outputs": [
    {
     "data": {
      "text/html": [
       "<div>\n",
       "<style scoped>\n",
       "    .dataframe tbody tr th:only-of-type {\n",
       "        vertical-align: middle;\n",
       "    }\n",
       "\n",
       "    .dataframe tbody tr th {\n",
       "        vertical-align: top;\n",
       "    }\n",
       "\n",
       "    .dataframe thead th {\n",
       "        text-align: right;\n",
       "    }\n",
       "</style>\n",
       "<table border=\"1\" class=\"dataframe\">\n",
       "  <thead>\n",
       "    <tr style=\"text-align: right;\">\n",
       "      <th></th>\n",
       "      <th>0</th>\n",
       "      <th>resultado</th>\n",
       "    </tr>\n",
       "  </thead>\n",
       "  <tbody>\n",
       "    <tr>\n",
       "      <th>0</th>\n",
       "      <td>6</td>\n",
       "      <td>6</td>\n",
       "    </tr>\n",
       "    <tr>\n",
       "      <th>1</th>\n",
       "      <td>5</td>\n",
       "      <td>5</td>\n",
       "    </tr>\n",
       "    <tr>\n",
       "      <th>2</th>\n",
       "      <td>4</td>\n",
       "      <td>4</td>\n",
       "    </tr>\n",
       "    <tr>\n",
       "      <th>3</th>\n",
       "      <td>4</td>\n",
       "      <td>4</td>\n",
       "    </tr>\n",
       "    <tr>\n",
       "      <th>4</th>\n",
       "      <td>1</td>\n",
       "      <td>1</td>\n",
       "    </tr>\n",
       "    <tr>\n",
       "      <th>...</th>\n",
       "      <td>...</td>\n",
       "      <td>...</td>\n",
       "    </tr>\n",
       "    <tr>\n",
       "      <th>99995</th>\n",
       "      <td>1</td>\n",
       "      <td>1</td>\n",
       "    </tr>\n",
       "    <tr>\n",
       "      <th>99996</th>\n",
       "      <td>3</td>\n",
       "      <td>3</td>\n",
       "    </tr>\n",
       "    <tr>\n",
       "      <th>99997</th>\n",
       "      <td>3</td>\n",
       "      <td>3</td>\n",
       "    </tr>\n",
       "    <tr>\n",
       "      <th>99998</th>\n",
       "      <td>2</td>\n",
       "      <td>2</td>\n",
       "    </tr>\n",
       "    <tr>\n",
       "      <th>99999</th>\n",
       "      <td>4</td>\n",
       "      <td>4</td>\n",
       "    </tr>\n",
       "  </tbody>\n",
       "</table>\n",
       "<p>100000 rows × 2 columns</p>\n",
       "</div>"
      ],
      "text/plain": [
       "       0  resultado\n",
       "0      6          6\n",
       "1      5          5\n",
       "2      4          4\n",
       "3      4          4\n",
       "4      1          1\n",
       "...   ..        ...\n",
       "99995  1          1\n",
       "99996  3          3\n",
       "99997  3          3\n",
       "99998  2          2\n",
       "99999  4          4\n",
       "\n",
       "[100000 rows x 2 columns]"
      ]
     },
     "execution_count": 68,
     "metadata": {},
     "output_type": "execute_result"
    }
   ],
   "source": [
    "result = dados(1)\n",
    "result"
   ]
  },
  {
   "cell_type": "code",
   "execution_count": 69,
   "id": "36698dbe",
   "metadata": {},
   "outputs": [
    {
     "data": {
      "text/plain": [
       "Text(0.5, 0, 'Resultado de los dos dados')"
      ]
     },
     "execution_count": 69,
     "metadata": {},
     "output_type": "execute_result"
    },
    {
     "data": {
      "image/png": "[encoded data removed]",
      "text/plain": [
       "<Figure size 432x288 with 1 Axes>"
      ]
     },
     "metadata": {
      "needs_background": "light"
     },
     "output_type": "display_data"
    }
   ],
   "source": [
    "plt.hist(result.resultado, bins=27, density=True)\n",
    "plt.ylabel('Probabilidad del evento')\n",
    "plt.xlabel('Resultado de los dos dados')"
   ]
  },
  {
   "cell_type": "code",
   "execution_count": 70,
   "id": "1cc7a23d",
   "metadata": {},
   "outputs": [
    {
     "data": {
      "text/html": [
       "<div>\n",
       "<style scoped>\n",
       "    .dataframe tbody tr th:only-of-type {\n",
       "        vertical-align: middle;\n",
       "    }\n",
       "\n",
       "    .dataframe tbody tr th {\n",
       "        vertical-align: top;\n",
       "    }\n",
       "\n",
       "    .dataframe thead th {\n",
       "        text-align: right;\n",
       "    }\n",
       "</style>\n",
       "<table border=\"1\" class=\"dataframe\">\n",
       "  <thead>\n",
       "    <tr style=\"text-align: right;\">\n",
       "      <th></th>\n",
       "      <th>0</th>\n",
       "      <th>resultado</th>\n",
       "    </tr>\n",
       "  </thead>\n",
       "  <tbody>\n",
       "    <tr>\n",
       "      <th>count</th>\n",
       "      <td>100000.000000</td>\n",
       "      <td>100000.000000</td>\n",
       "    </tr>\n",
       "    <tr>\n",
       "      <th>mean</th>\n",
       "      <td>3.499630</td>\n",
       "      <td>3.499630</td>\n",
       "    </tr>\n",
       "    <tr>\n",
       "      <th>std</th>\n",
       "      <td>1.705206</td>\n",
       "      <td>1.705206</td>\n",
       "    </tr>\n",
       "    <tr>\n",
       "      <th>min</th>\n",
       "      <td>1.000000</td>\n",
       "      <td>1.000000</td>\n",
       "    </tr>\n",
       "    <tr>\n",
       "      <th>25%</th>\n",
       "      <td>2.000000</td>\n",
       "      <td>2.000000</td>\n",
       "    </tr>\n",
       "    <tr>\n",
       "      <th>50%</th>\n",
       "      <td>4.000000</td>\n",
       "      <td>4.000000</td>\n",
       "    </tr>\n",
       "    <tr>\n",
       "      <th>75%</th>\n",
       "      <td>5.000000</td>\n",
       "      <td>5.000000</td>\n",
       "    </tr>\n",
       "    <tr>\n",
       "      <th>max</th>\n",
       "      <td>6.000000</td>\n",
       "      <td>6.000000</td>\n",
       "    </tr>\n",
       "  </tbody>\n",
       "</table>\n",
       "</div>"
      ],
      "text/plain": [
       "                   0      resultado\n",
       "count  100000.000000  100000.000000\n",
       "mean        3.499630       3.499630\n",
       "std         1.705206       1.705206\n",
       "min         1.000000       1.000000\n",
       "25%         2.000000       2.000000\n",
       "50%         4.000000       4.000000\n",
       "75%         5.000000       5.000000\n",
       "max         6.000000       6.000000"
      ]
     },
     "execution_count": 70,
     "metadata": {},
     "output_type": "execute_result"
    }
   ],
   "source": [
    "result.describe()"
   ]
  },
  {
   "cell_type": "code",
   "execution_count": 71,
   "id": "a691b29a",
   "metadata": {},
   "outputs": [],
   "source": [
    "def esPar(n):\n",
    "    if n % 2 == 0:\n",
    "        return True\n",
    "    else:\n",
    "        return False     "
   ]
  },
  {
   "cell_type": "code",
   "execution_count": 72,
   "id": "d11987ee",
   "metadata": {},
   "outputs": [
    {
     "data": {
      "text/plain": [
       "True"
      ]
     },
     "execution_count": 72,
     "metadata": {},
     "output_type": "execute_result"
    }
   ],
   "source": [
    "paridad = esPar(12)\n",
    "paridad"
   ]
  },
  {
   "cell_type": "code",
   "execution_count": 73,
   "id": "b46e8778",
   "metadata": {},
   "outputs": [
    {
     "name": "stdout",
     "output_type": "stream",
     "text": [
      "       0  resultado  paridad\n",
      "0      6          6     True\n",
      "1      5          5    False\n",
      "2      4          4     True\n",
      "3      4          4     True\n",
      "4      1          1    False\n",
      "...   ..        ...      ...\n",
      "99995  1          1    False\n",
      "99996  3          3    False\n",
      "99997  3          3    False\n",
      "99998  2          2     True\n",
      "99999  4          4     True\n",
      "\n",
      "[100000 rows x 3 columns]\n"
     ]
    }
   ],
   "source": [
    "result[\"paridad\"] = result[0].map(lambda x: esPar(x))\n",
    "print(result)"
   ]
  },
  {
   "cell_type": "code",
   "execution_count": 74,
   "id": "e3d50dfd",
   "metadata": {},
   "outputs": [
    {
     "data": {
      "text/plain": [
       "0  resultado  paridad\n",
       "4  4          True       16809\n",
       "3  3          False      16736\n",
       "5  5          False      16703\n",
       "1  1          False      16672\n",
       "6  6          True       16543\n",
       "2  2          True       16537\n",
       "dtype: int64"
      ]
     },
     "execution_count": 74,
     "metadata": {},
     "output_type": "execute_result"
    }
   ],
   "source": [
    "result.value_counts()"
   ]
  },
  {
   "cell_type": "code",
   "execution_count": 75,
   "id": "7e79a9af",
   "metadata": {},
   "outputs": [],
   "source": [
    "# Ejercicio 2a: c\n",
    "\n",
    "# Ejercicio 2b: calcula cuál es la probabilidad de obtener un número\n",
    "# entero aleatorio entre 0 y 9 inclusives\n",
    "\n",
    "# Ejercicio 2c: calcula cuál es la probabilidad de obtener un número\n",
    "# entero aleatorio entre -1 y 8 inclusives\n",
    "\n",
    "# Ejercicio 2d: calcula cuál es la probabilidad de obtener un número\n",
    "# entero aleatorio entre -5 y 4 inclusives\n",
    "\n",
    "# Ejercicio 2e: calcula cuál es la probabilidad de que el módulo (abs)\n",
    "# de un número entero aleatorio entre -5 y 4 inclusives, sea 1"
   ]
  },
  {
   "cell_type": "code",
   "execution_count": 76,
   "id": "cc79dcac",
   "metadata": {},
   "outputs": [],
   "source": [
    "def numEntero(n):\n",
    "    df = pd.DataFrame(np.random.randint(-5, 5, size=(10000, n)))\n",
    "    df[\"abs\"] = df[0].map(lambda x: abs(x))\n",
    "    return df"
   ]
  },
  {
   "cell_type": "code",
   "execution_count": 77,
   "id": "48decfd0",
   "metadata": {},
   "outputs": [
    {
     "data": {
      "text/html": [
       "<div>\n",
       "<style scoped>\n",
       "    .dataframe tbody tr th:only-of-type {\n",
       "        vertical-align: middle;\n",
       "    }\n",
       "\n",
       "    .dataframe tbody tr th {\n",
       "        vertical-align: top;\n",
       "    }\n",
       "\n",
       "    .dataframe thead th {\n",
       "        text-align: right;\n",
       "    }\n",
       "</style>\n",
       "<table border=\"1\" class=\"dataframe\">\n",
       "  <thead>\n",
       "    <tr style=\"text-align: right;\">\n",
       "      <th></th>\n",
       "      <th>0</th>\n",
       "      <th>abs</th>\n",
       "    </tr>\n",
       "  </thead>\n",
       "  <tbody>\n",
       "    <tr>\n",
       "      <th>0</th>\n",
       "      <td>3</td>\n",
       "      <td>3</td>\n",
       "    </tr>\n",
       "    <tr>\n",
       "      <th>1</th>\n",
       "      <td>-5</td>\n",
       "      <td>5</td>\n",
       "    </tr>\n",
       "    <tr>\n",
       "      <th>2</th>\n",
       "      <td>3</td>\n",
       "      <td>3</td>\n",
       "    </tr>\n",
       "    <tr>\n",
       "      <th>3</th>\n",
       "      <td>-2</td>\n",
       "      <td>2</td>\n",
       "    </tr>\n",
       "    <tr>\n",
       "      <th>4</th>\n",
       "      <td>-1</td>\n",
       "      <td>1</td>\n",
       "    </tr>\n",
       "    <tr>\n",
       "      <th>...</th>\n",
       "      <td>...</td>\n",
       "      <td>...</td>\n",
       "    </tr>\n",
       "    <tr>\n",
       "      <th>9995</th>\n",
       "      <td>-1</td>\n",
       "      <td>1</td>\n",
       "    </tr>\n",
       "    <tr>\n",
       "      <th>9996</th>\n",
       "      <td>-5</td>\n",
       "      <td>5</td>\n",
       "    </tr>\n",
       "    <tr>\n",
       "      <th>9997</th>\n",
       "      <td>-2</td>\n",
       "      <td>2</td>\n",
       "    </tr>\n",
       "    <tr>\n",
       "      <th>9998</th>\n",
       "      <td>3</td>\n",
       "      <td>3</td>\n",
       "    </tr>\n",
       "    <tr>\n",
       "      <th>9999</th>\n",
       "      <td>0</td>\n",
       "      <td>0</td>\n",
       "    </tr>\n",
       "  </tbody>\n",
       "</table>\n",
       "<p>10000 rows × 2 columns</p>\n",
       "</div>"
      ],
      "text/plain": [
       "      0  abs\n",
       "0     3    3\n",
       "1    -5    5\n",
       "2     3    3\n",
       "3    -2    2\n",
       "4    -1    1\n",
       "...  ..  ...\n",
       "9995 -1    1\n",
       "9996 -5    5\n",
       "9997 -2    2\n",
       "9998  3    3\n",
       "9999  0    0\n",
       "\n",
       "[10000 rows x 2 columns]"
      ]
     },
     "execution_count": 77,
     "metadata": {},
     "output_type": "execute_result"
    }
   ],
   "source": [
    "ejercicio = numEntero(1)\n",
    "ejercicio"
   ]
  },
  {
   "cell_type": "code",
   "execution_count": 78,
   "id": "97a40bf5",
   "metadata": {},
   "outputs": [
    {
     "data": {
      "text/plain": [
       "1    1998\n",
       "3    1996\n",
       "2    1986\n",
       "4    1932\n",
       "5    1061\n",
       "0    1027\n",
       "Name: abs, dtype: int64"
      ]
     },
     "execution_count": 78,
     "metadata": {},
     "output_type": "execute_result"
    }
   ],
   "source": [
    "ejercicio[\"abs\"].value_counts()"
   ]
  },
  {
   "cell_type": "code",
   "execution_count": 79,
   "id": "d77aff17",
   "metadata": {},
   "outputs": [
    {
     "name": "stdout",
     "output_type": "stream",
     "text": [
      "Dados: probabilidad de sacar un 1 = 0.16666666666666666\n"
     ]
    }
   ],
   "source": [
    "# Calcular probabilidades es contar eventos y ver su proporción respecto al total\n",
    "# Ejemplo: Probabilidad de que un dado saque 1\n",
    "dadoEventos = [1, 2, 3, 4, 5, 6]\n",
    "probabilidadSacar1 = 1/len(dadoEventos)\n",
    "print(\"Dados: probabilidad de sacar un 1 =\", probabilidadSacar1)"
   ]
  },
  {
   "cell_type": "code",
   "execution_count": 80,
   "id": "234f7fa7",
   "metadata": {},
   "outputs": [
    {
     "name": "stdout",
     "output_type": "stream",
     "text": [
      "Dados: Porcentaje de probabilidad de sacar un 1 = 16.67 %\n"
     ]
    }
   ],
   "source": [
    "# Para calcular el porcentaje, se multiplica por 100\n",
    "p = round(probabilidadSacar1 * 100, 2)\n",
    "print(\"Dados: Porcentaje de probabilidad de sacar un 1 =\", p, \"%\")"
   ]
  },
  {
   "cell_type": "code",
   "execution_count": 81,
   "id": "b41dc22e",
   "metadata": {},
   "outputs": [
    {
     "name": "stdout",
     "output_type": "stream",
     "text": [
      "Dados: probabilidad de sacar un 2 = 0.16666666666666666\n"
     ]
    }
   ],
   "source": [
    "# Ejercicio: calcula cuál es la probabilidad de obtener un 2 con los dados\n",
    "dado2 = [1, 2, 3, 4, 5, 6]\n",
    "probabilidadSacar2 = 1/len(dado2)\n",
    "print(\"Dados: probabilidad de sacar un 2 =\", probabilidadSacar2)"
   ]
  },
  {
   "cell_type": "code",
   "execution_count": 93,
   "id": "c3fb21a2",
   "metadata": {},
   "outputs": [
    {
     "name": "stdout",
     "output_type": "stream",
     "text": [
      "Dados: probabilidad de sacar una vocal = 0.18518518518518517\n",
      "Dados: Porcentaje de probabilidad de sacar un 1 = 18.52 %\n"
     ]
    }
   ],
   "source": [
    "# Ejercicio: calcula cuál es la probabilidad de obtener una vocal de todas las letras del alfabeto\n",
    "listaEventos = [\"a\", \"b\", \"c\", \"d\", \"e\", \"f\", \"g\", \"h\", \"i\", \"j\", \"k\", \"l\", \"m\", \"n\", \"ñ\", \"o\", \"p\", \"q\", \"r\", \"s\", \"t\", \"u\", \"v\", \"w\", \"x\", \"y\", \"z\"]\n",
    "probabilidadSacarVocal = 5/len(listaEventos)\n",
    "print(\"Dados: probabilidad de sacar una vocal =\", probabilidadSacarVocal)\n",
    "p = round(probabilidadVocal * 100, 2)\n",
    "print(\"Dados: Porcentaje de probabilidad de sacar una vocal =\", p, \"%\")"
   ]
  },
  {
   "cell_type": "code",
   "execution_count": 98,
   "id": "a0f8c9b7",
   "metadata": {},
   "outputs": [
    {
     "name": "stdout",
     "output_type": "stream",
     "text": [
      "44 :numero de cartas de poker\n",
      "Dados: probabilidad de sacar un As = 0.09090909090909091\n",
      "Dados: Porcentaje de probabilidad de sacar un As = 9.09 %\n"
     ]
    }
   ],
   "source": [
    "# Ejercicio: calcula cuál es la probabilidad de obtener un as en la baraja americana\n",
    "listaCartas = [\"Das\", \"D2\", \"D3\", \"D4\", \"D5\", \"D6\", \"D7\", \"D9\", \"DJ\", \"DK\", \"DQ\",\"Cas\", \"C2\", \"C3\", \"C4\", \"C5\", \"C6\", \"C7\", \"C9\", \"CJ\", \"CK\", \"CQ\", \"Tas\", \"T2\", \"T3\", \"T4\", \"T5\", \"T6\", \"T7\", \"T9\", \"TJ\", \"TK\", \"TQ\", \"Pas\", \"P2\", \"P3\", \"P4\", \"P5\", \"P6\", \"P7\", \"P9\", \"PJ\", \"PK\", \"PQ\"]\n",
    "probabilidadSacarAs = 4/len(listaCartas)\n",
    "print(len(listaCartas),\":numero de cartas de poker\")\n",
    "print(\"Dados: probabilidad de sacar un As =\", probabilidadSacarAs)\n",
    "p = round(probabilidadSacarAs * 100, 2)\n",
    "print(\"Dados: Porcentaje de probabilidad de sacar un As =\", p, \"%\")\n"
   ]
  },
  {
   "cell_type": "code",
   "execution_count": 99,
   "id": "f4cd6e22",
   "metadata": {},
   "outputs": [
    {
     "name": "stdout",
     "output_type": "stream",
     "text": [
      "10 :numero de bolas en la bolsa\n",
      "Dados: probabilidad de sacar una vocal = 0.2\n",
      "Dados: Porcentaje de probabilidad de sacar una vocal = 20.0 %\n"
     ]
    }
   ],
   "source": [
    "# Ejercicio: calcula cuál es la probabilidad de obtener una bola blanca de una bolsa\n",
    "# que contiene 5 bolas rojas, 3 azules y 2 blancas \n",
    "listaBolas = [\"1bolaRoja\", \"2bolaRoja\", \"3bolaRoja\", \"4bolaRoja\", \"5bolaRoja\", \"1bolaAzul\", \"2bolaAzul\", \"3bolaAzul\", \"1bolaBlanca\", \"2bolaBlanca\"]\n",
    "probabilidadSacarBolaBlanca = 2/len(listaBolas)\n",
    "print(len(listaBolas),\":numero de bolas en la bolsa\")\n",
    "print(\"Dados: probabilidad de sacar una vocal =\", probabilidadSacarBolaBlanca)\n",
    "p = round(probabilidadSacarBolaBlanca * 100, 2)\n",
    "print(\"Dados: Porcentaje de probabilidad de sacar una vocal =\", p, \"%\")"
   ]
  },
  {
   "cell_type": "code",
   "execution_count": 108,
   "id": "7730f228",
   "metadata": {},
   "outputs": [
    {
     "name": "stdout",
     "output_type": "stream",
     "text": [
      "10 :numero de bolas en la  PRIMERA bolsa\n",
      "bolsa: probabilidad de sacar una vocal = 0.1\n",
      "bolsa: Porcentaje de probabilidad de sacar una bola blanca = 10.0 %\n",
      "9 :numero de bolas en la  SEGUNDA bolsa\n",
      "bolsa2: probabilidad de sacar una vocal = 0.1111111111111111\n",
      "bolsa2: Porcentaje de probabilidad de sacar una bola blanca = 11.11 %\n",
      "Porcentaje de probabilidad de sacar una bola blanca seguida de otra = 1.11 %\n"
     ]
    }
   ],
   "source": [
    "# Ejercicio: calcula cuál es la probabilidad de obtener dos bolas blancas seguidas\n",
    "# de una bolsa que contiene 5 bolas rojas, 3 azules y 2 blancas \n",
    "listaBolas = [\"1bolaRoja\", \"2bolaRoja\", \"3bolaRoja\", \"4bolaRoja\", \"5bolaRoja\", \"1bolaAzul\", \"2bolaAzul\", \"3bolaAzul\", \"1bolaBlanca\", \"2bolaBlanca\"]\n",
    "probabilidadSacarBolaBlanca = 1/len(listaBolas)\n",
    "print(len(listaBolas),\":numero de bolas en la  PRIMERA bolsa\")\n",
    "print(\"bolsa: probabilidad de sacar una vocal =\", probabilidadSacarBolaBlanca)\n",
    "p = round(probabilidadSacarBolaBlanca * 100, 2)\n",
    "print(\"bolsa: Porcentaje de probabilidad de sacar una bola blanca =\", p, \"%\")\n",
    "\n",
    "# Hacemos lo mismo pero con una bola blanca menos, porque ya la sacamos de la bolsa\n",
    "listaBolas2 = [\"1bolaRoja\", \"2bolaRoja\", \"3bolaRoja\", \"4bolaRoja\", \"5bolaRoja\", \"1bolaAzul\", \"2bolaAzul\", \"3bolaAzul\", \"1bolaBlanca\",]\n",
    "probabilidadSacarBolaBlanca2 = 1/len(listaBolas2)\n",
    "print(len(listaBolas2),\":numero de bolas en la  SEGUNDA bolsa\")\n",
    "print(\"bolsa2: probabilidad de sacar una vocal =\", probabilidadSacarBolaBlanca2)\n",
    "p = round(probabilidadSacarBolaBlanca2 * 100, 2)\n",
    "print(\"bolsa2: Porcentaje de probabilidad de sacar una bola blanca =\", p, \"%\")\n",
    "\n",
    "formula = probabilidadSacarBolaBlanca * probabilidadSacarBolaBlanca2\n",
    "p = round(formula * 100, 2)\n",
    "print(\"Porcentaje de probabilidad de sacar una bola blanca seguida de otra =\", p, \"%\")"
   ]
  },
  {
   "cell_type": "code",
   "execution_count": null,
   "id": "6f081832",
   "metadata": {},
   "outputs": [],
   "source": []
  }
 ],
 "metadata": {
  "kernelspec": {
   "display_name": "Python 3 (ipykernel)",
   "language": "python",
   "name": "python3"
  },
  "language_info": {
   "codemirror_mode": {
    "name": "ipython",
    "version": 3
   },
   "file_extension": ".py",
   "mimetype": "text/x-python",
   "name": "python",
   "nbconvert_exporter": "python",
   "pygments_lexer": "ipython3",
   "version": "3.9.12"
  }
 },
 "nbformat": 4,
 "nbformat_minor": 5
}
